{
  "nbformat": 4,
  "nbformat_minor": 0,
  "metadata": {
    "colab": {
      "private_outputs": true,
      "provenance": [],
      "include_colab_link": true
    },
    "kernelspec": {
      "name": "ir",
      "display_name": "R"
    },
    "language_info": {
      "name": "R"
    }
  },
  "cells": [
    {
      "cell_type": "markdown",
      "metadata": {
        "id": "view-in-github",
        "colab_type": "text"
      },
      "source": [
        "<a href=\"https://colab.research.google.com/github/bonillahermes/Data_Science_Projects/blob/main/EDA10.ipynb\" target=\"_parent\"><img src=\"https://colab.research.google.com/assets/colab-badge.svg\" alt=\"Open In Colab\"/></a>"
      ]
    },
    {
      "cell_type": "markdown",
      "source": [
        "# Análisis de Gomas"
      ],
      "metadata": {
        "id": "2j_dgUFqDNJq"
      }
    },
    {
      "cell_type": "markdown",
      "source": [
        "## Librerías Necesarias"
      ],
      "metadata": {
        "id": "D5kbYmeUEGGY"
      }
    },
    {
      "cell_type": "code",
      "source": [
        "# install.packages(\"readr\")\n",
        "# install.packages(\"readxl\")\n",
        "# install.packages(\"ggplot2\")\n",
        "# install.packages(\"dplyr\")\n",
        "install.packages(\"nortest\")\n",
        "install.packages(\"Rcpp\")\n",
        "install.packages(\"mvtnorm\")\n",
        "install.packages(\"multcompView\")\n",
        "install.packages(\"SuppDists\")\n",
        "install.packages(\"kSamples\")\n",
        "install.packages(\"BWStest\")\n",
        "install.packages(\"corrplot\")\n",
        "install.packages(\"psych\")"
      ],
      "metadata": {
        "id": "LUszsnHtttm6"
      },
      "execution_count": null,
      "outputs": []
    },
    {
      "cell_type": "code",
      "source": [
        "#library(readr)\n",
        "library(corrplot)\n",
        "library(readxl)\n",
        "library(ggplot2)\n",
        "library(tidyverse)\n",
        "library(nortest)\n",
        "library(psych)"
      ],
      "metadata": {
        "id": "Tle7POoLEJtF"
      },
      "execution_count": null,
      "outputs": []
    },
    {
      "cell_type": "markdown",
      "source": [
        "## Cargar base de datos"
      ],
      "metadata": {
        "id": "5RnJFk-FHDLP"
      }
    },
    {
      "cell_type": "code",
      "execution_count": null,
      "metadata": {
        "id": "nwsPEKSl8uuw"
      },
      "outputs": [],
      "source": [
        "# Especifica la ruta del archivo xlsx, reemplaza \"ruta/del/archivo/Base.xlsx\" con la ubicación real de tu archivo\n",
        "ruta_archivo <- \"Base.xlsx\"\n",
        "\n",
        "# Lee el archivo xlsx y almacena los datos en un objeto llamado \"datos\"\n",
        "datos <- read_excel(ruta_archivo)\n",
        "\n",
        "# Muestra las primeras filas del conjunto de datos para verificar la importación\n",
        "head(datos)"
      ]
    },
    {
      "cell_type": "code",
      "source": [
        "# Convertir variables a factor\n",
        "datos$`Formulación` <- as.factor(datos$`Formulación`)\n",
        "datos$Carga <- as.factor(datos$Carga)\n"
      ],
      "metadata": {
        "id": "xwqx6E1zMx_b"
      },
      "execution_count": null,
      "outputs": []
    },
    {
      "cell_type": "markdown",
      "source": [
        "## Estadísticas Descriptivas Global"
      ],
      "metadata": {
        "id": "oc5tuF2gHGLu"
      }
    },
    {
      "cell_type": "markdown",
      "source": [
        "En cuanto a la fuerza (Force), los datos muestran una variabilidad considerable, con valores oscilando desde -0.028 hasta 32.616, con una media de 10.585. La distancia (Distance) varía entre 0 y 1, destacando una mediana de 0.5. La deformación (Deformacion) presenta valores comprendidos entre 0 y 0.16667, con una mediana de 0.08333. La tensión (Tension) se caracteriza por su variabilidad, con valores desde -3.084e-05 hasta 3.592e-02, y una mediana de 1.001e-02"
      ],
      "metadata": {
        "id": "ShaZM1VaqPgN"
      }
    },
    {
      "cell_type": "code",
      "source": [
        "# Selecciona las VARIABLES de interés\n",
        "columnas_interes <- datos[, c(\"Force\", \"Distance\", \"Deformacion\", \"Tension\")]\n",
        "\n",
        "# Calcula estadísticas descriptivas\n",
        "estadisticas_descriptivas <- summary(columnas_interes)\n",
        "\n",
        "# Muestra las estadísticas descriptivas\n",
        "print(estadisticas_descriptivas)"
      ],
      "metadata": {
        "id": "VuSig3mKFf3M"
      },
      "execution_count": null,
      "outputs": []
    },
    {
      "cell_type": "markdown",
      "source": [
        "Para la fuerza (Force), se observa un coeficiente de variación del 64.60%, indicando una alta dispersión en comparación con la media. La distancia (Distance) y la deformación (Deformacion) exhiben coeficientes de variación del 57.79%, reflejando niveles similares de variabilidad relativa. La tensión (Tension) presenta un coeficiente de variación del 65.06%, indicando una dispersión considerable en relación con la media."
      ],
      "metadata": {
        "id": "7c35Uoh6s8ll"
      }
    },
    {
      "cell_type": "code",
      "source": [
        "# Calcula el coeficiente de variación para cada columna\n",
        "coeficiente_variacion <- sapply(columnas_interes, function(x) sd(x) / mean(x))\n",
        "\n",
        "# Muestra los resultados\n",
        "print(coeficiente_variacion)\n"
      ],
      "metadata": {
        "id": "cn7afr6DG1mY"
      },
      "execution_count": null,
      "outputs": []
    },
    {
      "cell_type": "markdown",
      "source": [
        "Todas las variables, excepto fuerza (Force) presentan una distribución uniforme.m"
      ],
      "metadata": {
        "id": "CM7urdlKtZ3s"
      }
    },
    {
      "cell_type": "code",
      "source": [
        "# Ajusta el tamaño del gráfico\n",
        "options(repr.plot.width = 10, repr.plot.height = 8)\n",
        "\n",
        "# Crea un layout de gráficos con 2 filas y 2 columnas\n",
        "par(mfrow = c(2, 2))\n",
        "\n",
        "# Histogramas con ggplot2\n",
        "ggplot(datos, aes(x = Force, fill = \"lightblue\")) +\n",
        "  geom_histogram(binwidth = 5, color = \"black\", alpha = 0.7) +\n",
        "  labs(title = \"Histograma de Force\", x = \"Force\", y = \"Frecuencia\") +\n",
        "  theme_minimal() +\n",
        "  theme(axis.text = element_text(size = 12), axis.title = element_text(size = 14))\n",
        "\n",
        "ggplot(datos, aes(x = Distance, fill = \"lightgreen\")) +\n",
        "  geom_histogram(binwidth = 5, color = \"black\", alpha = 0.7) +\n",
        "  labs(title = \"Histograma de Distance\", x = \"Distance\", y = \"Frecuencia\") +\n",
        "  theme_minimal() +\n",
        "  theme(axis.text = element_text(size = 12), axis.title = element_text(size = 14))\n",
        "\n",
        "ggplot(datos, aes(x = Deformacion, fill = \"lightcoral\")) +\n",
        "  geom_histogram(binwidth = 5, color = \"black\", alpha = 0.7) +\n",
        "  labs(title = \"Histograma de Deformacion\", x = \"Deformacion\", y = \"Frecuencia\") +\n",
        "  theme_minimal() +\n",
        "  theme(axis.text = element_text(size = 12), axis.title = element_text(size = 14))\n",
        "\n",
        "ggplot(datos, aes(x = Tension, fill = \"lightsalmon\")) +\n",
        "  geom_histogram(binwidth = 5, color = \"black\", alpha = 0.7) +\n",
        "  labs(title = \"Histograma de Tension\", x = \"Tension\", y = \"Frecuencia\") +\n",
        "  theme_minimal() +\n",
        "  theme(axis.text = element_text(size = 12), axis.title = element_text(size = 14))"
      ],
      "metadata": {
        "id": "V09W3FL2Hs8O"
      },
      "execution_count": null,
      "outputs": []
    },
    {
      "cell_type": "markdown",
      "source": [
        "La fuerza y la tensión presentan algunos datos atípicos."
      ],
      "metadata": {
        "id": "MFdnrtH-tmvF"
      }
    },
    {
      "cell_type": "code",
      "source": [
        "# Boxplots con ggplot2\n",
        "ggplot(datos, aes(x = \"Force\", y = Force, fill = \"lightblue\")) +\n",
        "  geom_boxplot() +\n",
        "  labs(title = \"Boxplot de Force\", x = \"\", y = \"Force\") +\n",
        "  theme_minimal() +\n",
        "  theme(axis.text = element_text(size = 12), axis.title = element_text(size = 14))\n",
        "\n",
        "ggplot(datos, aes(x = \"Distance\", y = Distance, fill = \"lightgreen\")) +\n",
        "  geom_boxplot() +\n",
        "  labs(title = \"Boxplot de Distance\", x = \"\", y = \"Distance\") +\n",
        "  theme_minimal() +\n",
        "  theme(axis.text = element_text(size = 12), axis.title = element_text(size = 14))\n",
        "\n",
        "ggplot(datos, aes(x = \"Deformacion\", y = Deformacion, fill = \"lightcoral\")) +\n",
        "  geom_boxplot() +\n",
        "  labs(title = \"Boxplot de Deformacion\", x = \"\", y = \"Deformacion\") +\n",
        "  theme_minimal() +\n",
        "  theme(axis.text = element_text(size = 12), axis.title = element_text(size = 14))\n",
        "\n",
        "ggplot(datos, aes(x = \"Tension\", y = Tension, fill = \"lightsalmon\")) +\n",
        "  geom_boxplot() +\n",
        "  labs(title = \"Boxplot de Tension\", x = \"\", y = \"Tension\") +\n",
        "  theme_minimal() +\n",
        "  theme(axis.text = element_text(size = 12), axis.title = element_text(size = 14))"
      ],
      "metadata": {
        "id": "ZuXakm4YIke_"
      },
      "execution_count": null,
      "outputs": []
    },
    {
      "cell_type": "markdown",
      "source": [
        "## Pruebas de Normalidad"
      ],
      "metadata": {
        "id": "ujGb8hXFoF79"
      }
    },
    {
      "cell_type": "markdown",
      "source": [
        "\n",
        "La prueba de Anderson-Darling es una prueba estadística no paramétrica que evalúa la hipótesis nula de que una muestra proviene de una población con una distribución específica (en este caso, se asume que la distribución es normal). El estadístico Anderson-Darling (Anderson_Darling_Stat) cuantifica la discrepancia entre la distribución observada y la distribución teórica (en este caso, la distribución normal). Cuanto mayor sea el estadístico, mayor será la discrepancia. El p-valor asociado (Anderson_Darling_P_Value) indica la probabilidad de obtener un estadístico Anderson-Darling tan extremo como el observado, asumiendo que la distribución es normal. En este contexto, los p-valores extremadamente bajos (3.7e-24) para todas las variables (Force, Distance, Deformacion y Tension) sugieren evidencia significativa para rechazar la hipótesis nula de normalidad. Por lo tanto, se concluye que las variables no siguen una distribución normal,"
      ],
      "metadata": {
        "id": "ycaXIXZOueiL"
      }
    },
    {
      "cell_type": "code",
      "source": [
        "# Pruebas de normalidad para Force\n",
        "ad_test_force <- ad.test(datos$Force)\n",
        "\n",
        "# Pruebas de normalidad para Distance\n",
        "ad_test_distance <- ad.test(datos$Distance)\n",
        "\n",
        "# Pruebas de normalidad para Deformacion\n",
        "ad_test_deformacion <- ad.test(datos$Deformacion)\n",
        "\n",
        "# Pruebas de normalidad para Tension\n",
        "ad_test_tension <- ad.test(datos$Tension)\n",
        "\n",
        "# Muestra los resultados\n",
        "resultados_normalidad <- data.frame(\n",
        "  Variable = c(\"Force\", \"Distance\", \"Deformacion\", \"Tension\"),\n",
        "  Anderson_Darling_Stat = c(ad_test_force$statistic, ad_test_distance$statistic, ad_test_deformacion$statistic, ad_test_tension$statistic),\n",
        "  Anderson_Darling_P_Value = c(ad_test_force$p.value, ad_test_distance$p.value, ad_test_deformacion$p.value, ad_test_tension$p.value)\n",
        ")\n",
        "\n",
        "print(resultados_normalidad)"
      ],
      "metadata": {
        "id": "8utvJfF6oI-a"
      },
      "execution_count": null,
      "outputs": []
    },
    {
      "cell_type": "markdown",
      "source": [
        "## Fuerza según Carga y Formulacion\n",
        "\n"
      ],
      "metadata": {
        "id": "Bk3cbfIIMIAF"
      }
    },
    {
      "cell_type": "markdown",
      "source": [
        "Se filtra los datos, aquellos sin carga quedarán en la base `datos_carga_0` y los cargados en `datos_carga_1`."
      ],
      "metadata": {
        "id": "3k-knV4uujY5"
      }
    },
    {
      "cell_type": "code",
      "source": [
        "# Filtra los datos para incluir solo aquellos con carga 0\n",
        "datos_carga_0 <- datos[datos$Carga == 0, ]\n",
        "\n",
        "# Filtra los datos para incluir solo aquellos con carga 1\n",
        "datos_carga_1 <- datos[datos$Carga == 1, ]"
      ],
      "metadata": {
        "id": "TpyxYh0s6GoP"
      },
      "execution_count": null,
      "outputs": []
    },
    {
      "cell_type": "markdown",
      "source": [
        "### Agrupamiento por Carga"
      ],
      "metadata": {
        "id": "dT2l_JuI6H6C"
      }
    },
    {
      "cell_type": "markdown",
      "source": [
        "El análisis de la variable de Fuerza según la carga (0 sin carga y 1 con carga) revela patrones distintivos en ambas condiciones. Para los casos sin carga, la fuerza varía desde -0.027 hasta 32.616, con una mediana de 8.253 y una media de 10.308. El rango intercuartílico (IQR) se extiende desde 4.231 hasta 15.325, resaltando una variabilidad moderada en los datos. En comparación, los casos con carga exhiben una fuerza que oscila desde -0.028 hasta 30.878, con una mediana de 10.396 y una media de 10.930. El IQR va desde 5.440 hasta 15.778, indicando una distribución de fuerza similar a los casos sin carga, aunque con valores ligeramente más altos. En general, estos resultados sugieren que, aunque hay similitudes en la distribución de la fuerza entre las dos condiciones, la presencia de carga podría asociarse con valores ligeramente superiores."
      ],
      "metadata": {
        "id": "Gj0LmHKgvYhW"
      }
    },
    {
      "cell_type": "code",
      "source": [
        "# Resumen estadístico por grupo\n",
        "summary_by_carga <- tapply(datos$Force, datos$Carga, summary)\n",
        "\n",
        "# Mostrar el resumen\n",
        "print(summary_by_carga)"
      ],
      "metadata": {
        "id": "zUFCYuLIM2Jl"
      },
      "execution_count": null,
      "outputs": []
    },
    {
      "cell_type": "markdown",
      "source": [
        "### Test de Diferencias en las medianas"
      ],
      "metadata": {
        "id": "hycMR1epuqt-"
      }
    },
    {
      "cell_type": "markdown",
      "source": [
        "La prueba de Wilcoxon rank sum test, también conocida como prueba U de Mann-Whitney, se realizó para comparar las medianas de la variable Force entre los dos grupos definidos por la variable Carga (0 sin carga y 1 con carga). Los resultados indican un estadístico W de 39153745 y un p-valor extremadamente bajo (< 2.2e-16), lo que lleva a rechazar la hipótesis nula de que no hay diferencia en la ubicación (mediana) entre los dos grupos. En otras palabras, hay evidencia significativa para afirmar que hay un cambio en la mediana de la variable Force entre los casos con carga y sin carga. Gráficamente se puede concluir que la fuerza empleada es mayor en las gomas cargadas."
      ],
      "metadata": {
        "id": "cdjKh6Kcvxee"
      }
    },
    {
      "cell_type": "code",
      "source": [
        "# Boxplot de Force según la variable Carga\n",
        "ggplot(datos, aes(x = Carga, y = Force, fill = Carga)) +\n",
        "  geom_boxplot() +\n",
        "  labs(title = \"Boxplot de Force según la Carga\", x = \"Carga\", y = \"Force\") +\n",
        "  theme_minimal() +\n",
        "  theme(axis.text = element_text(size = 12), axis.title = element_text(size = 14))"
      ],
      "metadata": {
        "id": "uZUQI745N4Pf"
      },
      "execution_count": null,
      "outputs": []
    },
    {
      "cell_type": "code",
      "source": [
        "# Realiza la prueba de Wilcoxon-Mann-Whitney\n",
        "wilcox.test(Force ~ Carga, data = datos)"
      ],
      "metadata": {
        "id": "yviOUoR6uFnN"
      },
      "execution_count": null,
      "outputs": []
    },
    {
      "cell_type": "markdown",
      "source": [
        "### Agrupamiento por Formulación"
      ],
      "metadata": {
        "id": "dzwe_56RvU5J"
      }
    },
    {
      "cell_type": "markdown",
      "source": [
        "El análisis de la fuerza según el tipo de formulación (identificado por los códigos numéricos 11, 12, 13, 21, 22, 23, 31, 32, 33) revela variabilidad en las distribuciones de fuerza entre las diferentes formulaciones. Para la formulación 11, la fuerza varía desde -0.028 hasta 29.654, con una mediana de 11.384 y una media de 11.963. En comparación, la formulación 12 exhibe una fuerza que oscila entre -0.013 y 32.616, con una mediana de 9.253 y una media de 10.386. Similar variabilidad se observa en las otras formulaciones, destacando diferentes medianas y promedios."
      ],
      "metadata": {
        "id": "2rIdVx2-wcjw"
      }
    },
    {
      "cell_type": "code",
      "source": [
        "# Resumen estadístico por grupo\n",
        "summary_by_formulacion <- tapply(datos$Force, datos$`Formulación`, summary)\n",
        "\n",
        "# Mostrar el resumen\n",
        "print(summary_by_formulacion)"
      ],
      "metadata": {
        "id": "I9JGBFayNXTR"
      },
      "execution_count": null,
      "outputs": []
    },
    {
      "cell_type": "code",
      "source": [
        "# Boxplot de Force según la variable Formulacion\n",
        "ggplot(datos, aes(x = Formulación, y = Force, fill = Formulación)) +\n",
        "  geom_boxplot() +\n",
        "  labs(title = \"Boxplot de Force según la Formulación\", x = \"Formulación\", y = \"Force\") +\n",
        "  theme_minimal() +\n",
        "  theme(axis.text = element_text(size = 12), axis.title = element_text(size = 14))"
      ],
      "metadata": {
        "id": "FZinYe5nOBN1"
      },
      "execution_count": null,
      "outputs": []
    },
    {
      "cell_type": "markdown",
      "source": [
        "### Test de diferencias de medianas"
      ],
      "metadata": {
        "id": "XU-8a4lcv6pY"
      }
    },
    {
      "cell_type": "markdown",
      "source": [
        "\n",
        "La prueba de Kruskal-Wallis fue realizada para comparar las medianas de la variable Force entre las diferentes formulaciones (identificadas por los códigos numéricos 11, 12, 13, 21, 22, 23, 31, 32, 33). El estadístico de chi-cuadrado de Kruskal-Wallis resultó en 908.1 con 8 grados de libertad, y el p-valor asociado es extremadamente bajo (< 2.2e-16). Este resultado lleva a rechazar la hipótesis nula de que las medianas son iguales en todos los grupos, indicando que al menos una de las formulaciones difiere significativamente en términos de la fuerza. En consecuencia, se concluye que hay diferencias significativas en la fuerza entre las distintas formulaciones."
      ],
      "metadata": {
        "id": "7K2b26wdwtH7"
      }
    },
    {
      "cell_type": "code",
      "source": [
        "# Realiza la prueba de Kruskal-Wallis\n",
        "kruskal.test(Force ~ Formulación, data = datos)"
      ],
      "metadata": {
        "id": "1fvfX5CIvhZ_"
      },
      "execution_count": null,
      "outputs": []
    },
    {
      "cell_type": "markdown",
      "source": [
        "### Pruebas Post hoc"
      ],
      "metadata": {
        "id": "GomJI0Mazstu"
      }
    },
    {
      "cell_type": "markdown",
      "source": [
        "Las comparaciones pareadas utilizando la prueba de Wilcoxon rank sum test con corrección de continuidad indican diferencias significativas en la fuerza entre diferentes formulaciones. Cada celda de la tabla proporciona el p-valor correspondiente a la comparación entre las formulaciones, un p-valor menor a 0.05 indica que las diferencias entre las medianas son significativas, por ejemplo:\n",
        "- La comparación entre las formulaciones 11 y 12 muestra un p-valor de 4.9e-07, indicando una diferencia significativa en la fuerza entre estas formulaciones.\n",
        "- El p-valor de 1.0000 en la celda (11, 23) indica que no hay diferencia significativa entre la formulación 11 y 23 (lo mismo para las diagonales)."
      ],
      "metadata": {
        "id": "ahphgxAhw-89"
      }
    },
    {
      "cell_type": "code",
      "source": [
        "# Realiza pruebas post hoc de Wilcoxon con ajuste de p-valores\n",
        "pruebas_post_hoc <- pairwise.wilcox.test(datos$Force, datos$`Formulación`, p.adj = \"bonferroni\")\n",
        "\n",
        "# Muestra las pruebas post hoc\n",
        "print(pruebas_post_hoc)\n"
      ],
      "metadata": {
        "id": "fWmdxoXlyxSL"
      },
      "execution_count": null,
      "outputs": []
    },
    {
      "cell_type": "markdown",
      "source": [
        "### Fuerza por formulación agrunpando por carga 0"
      ],
      "metadata": {
        "id": "RxKzTKlO1Zvb"
      }
    },
    {
      "cell_type": "markdown",
      "source": [
        "La interpretación de los siguientes resultados se realizan de manera similar a los anteriores casos.\n",
        "Se puede observar que los datos sin carga, la fuerza es mayor en la formulación 12 aunque es muy dispersa. La formulación 33 presenta la menor fuerza y esta es más concentrada."
      ],
      "metadata": {
        "id": "Jzki3lk1x5HZ"
      }
    },
    {
      "cell_type": "code",
      "source": [
        "# Boxplot de Force según la variable Formulación solo para carga 0\n",
        "ggplot(datos_carga_0, aes(x = Formulación, y = Force, fill = Formulación)) +\n",
        "  geom_boxplot() +\n",
        "  labs(title = \"Boxplot de Force según la Formulación (Carga 0)\", x = \"Formulación\", y = \"Force\") +\n",
        "  theme_minimal() +\n",
        "  theme(axis.text = element_text(size = 12), axis.title = element_text(size = 14))\n"
      ],
      "metadata": {
        "id": "lmu4wgh7zwCx"
      },
      "execution_count": null,
      "outputs": []
    },
    {
      "cell_type": "markdown",
      "source": [
        "La prueba de Kruskal-Wallis fue realizada para comparar las medianas de la variable Force entre las diferentes formulaciones sin carga. El estadístico de chi-cuadrado de Kruskal-Wallis resultó en 2447.6 con 8 grados de libertad, y el p-valor asociado es extremadamente bajo (< 2.2e-16). Este resultado lleva a rechazar la hipótesis nula de que las medianas son iguales en todos los grupos, indicando que al menos una de las formulaciones difiere significativamente en términos de la fuerza. En consecuencia, se concluye que hay diferencias significativas en la fuerza entre las distintas formulaciones."
      ],
      "metadata": {
        "id": "UuQuTCwQyqNX"
      }
    },
    {
      "cell_type": "code",
      "source": [
        "# Realiza la prueba de Kruskal-Wallis\n",
        "kruskal.test(Force ~ Formulación, data = datos_carga_0)"
      ],
      "metadata": {
        "id": "9AEn8UVJ01JL"
      },
      "execution_count": null,
      "outputs": []
    },
    {
      "cell_type": "code",
      "source": [
        "# Realiza pruebas post hoc de Wilcoxon con ajuste de p-valores\n",
        "pruebas_post_hoc0 <- pairwise.wilcox.test(datos$Force, datos_carga_0$`Formulación`, p.adj = \"bonferroni\")\n",
        "\n",
        "# Muestra las pruebas post hoc\n",
        "print(pruebas_post_hoc0)"
      ],
      "metadata": {
        "id": "sIfZuDbh1JSz"
      },
      "execution_count": null,
      "outputs": []
    },
    {
      "cell_type": "markdown",
      "source": [
        "### Fuerza por formulación agrunpando por carga 1"
      ],
      "metadata": {
        "id": "d-GL8KHs1ntD"
      }
    },
    {
      "cell_type": "markdown",
      "source": [
        "Ajustando la carga, se pueden notar algunas diferencias. La formulación 33 con carga ahora presenta el mayor valor mediano en fuerza y la formulación 12 ahora presenta el menor valor."
      ],
      "metadata": {
        "id": "ayG7lDMfzFji"
      }
    },
    {
      "cell_type": "code",
      "source": [
        "# Boxplot de Force según la variable Formulación solo para carga 1\n",
        "ggplot(datos_carga_1, aes(x = Formulación, y = Force, fill = Formulación)) +\n",
        "  geom_boxplot() +\n",
        "  labs(title = \"Boxplot de Force según la Formulación (Carga 1)\", x = \"Formulación\", y = \"Force\") +\n",
        "  theme_minimal() +\n",
        "  theme(axis.text = element_text(size = 12), axis.title = element_text(size = 14))\n"
      ],
      "metadata": {
        "id": "6dzdKzumz2xe"
      },
      "execution_count": null,
      "outputs": []
    },
    {
      "cell_type": "markdown",
      "source": [
        "El estadístico de chi-cuadrado de Kruskal-Wallis resultó en 785.86 con 8 grados de libertad, y el p-valor asociado es extremadamente bajo (< 2.2e-16). Este resultado lleva a rechazar la hipótesis nula de que las medianas son iguales en todos los grupos, indicando que al menos una de las formulaciones difiere significativamente en términos de la fuerza. En consecuencia, se concluye que hay diferencias significativas en la fuerza entre las distintas formulaciones."
      ],
      "metadata": {
        "id": "rRE0kMtZzk3s"
      }
    },
    {
      "cell_type": "code",
      "source": [
        "# Realiza la prueba de Kruskal-Wallis\n",
        "kruskal.test(Force ~ Formulación, data = datos_carga_1)"
      ],
      "metadata": {
        "id": "sli3JYMV0y63"
      },
      "execution_count": null,
      "outputs": []
    },
    {
      "cell_type": "code",
      "source": [
        "# Realiza pruebas post hoc de Wilcoxon con ajuste de p-valores\n",
        "pruebas_post_hoc1 <- pairwise.wilcox.test(datos$Force, datos_carga_1$`Formulación`, p.adj = \"bonferroni\")\n",
        "\n",
        "# Muestra las pruebas post hoc\n",
        "print(pruebas_post_hoc1)"
      ],
      "metadata": {
        "id": "TEasKAys1vsL"
      },
      "execution_count": null,
      "outputs": []
    },
    {
      "cell_type": "markdown",
      "source": [
        "## Distancia según carga y formulación\n",
        "\n",
        "### Agrupamiento por Carga\n"
      ],
      "metadata": {
        "id": "VzBkBDpe2bf9"
      }
    },
    {
      "cell_type": "markdown",
      "source": [
        "Los resultados para la variable Distance, analizados según la presencia o ausencia de carga (Carga 0 y Carga 1), revelan similitudes notables en la distribución de distancias entre ambos grupos. En ambos casos, la variable presenta una mediana de 0.5, sugiriendo que al menos el 50% de las observaciones tienen una distancia de 0.5 o menos. Los valores mínimos, cuartiles, mediana, media, tercer cuartil y máximo son prácticamente idénticos en ambos grupos, lo que indica una consistencia en las características centrales y de dispersión de la variable Distance, independientemente de la presencia de carga."
      ],
      "metadata": {
        "id": "pBILOP7M0SGN"
      }
    },
    {
      "cell_type": "code",
      "source": [
        "# Resumen estadístico por grupo\n",
        "summary_by_carga <- tapply(datos$Distance, datos$Carga, summary)\n",
        "\n",
        "# Mostrar el resumen\n",
        "print(summary_by_carga)"
      ],
      "metadata": {
        "id": "WcuHRg9A24C6"
      },
      "execution_count": null,
      "outputs": []
    },
    {
      "cell_type": "code",
      "source": [
        "# Boxplot de Distance según la variable Carga\n",
        "ggplot(datos, aes(x = Carga, y = Distance, fill = Carga)) +\n",
        "  geom_boxplot() +\n",
        "  labs(title = \"Boxplot de Distance según la Carga\", x = \"Carga\", y = \"Distance\") +\n",
        "  theme_minimal() +\n",
        "  theme(axis.text = element_text(size = 12), axis.title = element_text(size = 14))"
      ],
      "metadata": {
        "id": "xsrP0Ifo3f3_"
      },
      "execution_count": null,
      "outputs": []
    },
    {
      "cell_type": "markdown",
      "source": [
        "La prueba de Wilcoxon rank sum test, realizada para comparar las medianas de la variable Distance entre los dos grupos definidos por la variable Carga (0 sin carga y 1 con carga), indica un estadístico W de 42672146 y un p-valor de 0.9735. Este alto p-valor sugiere que no hay evidencia significativa para rechazar la hipótesis nula de que no hay un cambio en la ubicación (mediana) entre los dos grupos. En otras palabras, no se encuentran diferencias significativas en la mediana de la variable Distance entre los casos con carga y sin carga, según los resultados de esta prueba."
      ],
      "metadata": {
        "id": "EJMKuBmE0hj0"
      }
    },
    {
      "cell_type": "code",
      "source": [
        "# Realiza la prueba de Wilcoxon-Mann-Whitney\n",
        "wilcox.test(Distance ~ Carga, data = datos)"
      ],
      "metadata": {
        "id": "Ilv04WJ93rOF"
      },
      "execution_count": null,
      "outputs": []
    },
    {
      "cell_type": "markdown",
      "source": [
        "### Agrupamiento por Formulario"
      ],
      "metadata": {
        "id": "ot9dsjLF4xPI"
      }
    },
    {
      "cell_type": "markdown",
      "source": [
        "Debido a la uniformidad de la variable Distance, es evidente las similitudes en la distribución de distancias entre las formulaciones."
      ],
      "metadata": {
        "id": "poU1FnHq0pK4"
      }
    },
    {
      "cell_type": "code",
      "source": [
        "# Resumen estadístico por grupo\n",
        "summary_by_formulacion <- tapply(datos$Distance, datos$`Formulación`, summary)\n",
        "\n",
        "# Mostrar el resumen\n",
        "print(summary_by_formulacion)"
      ],
      "metadata": {
        "id": "QHKNJVWR4T6N"
      },
      "execution_count": null,
      "outputs": []
    },
    {
      "cell_type": "code",
      "source": [
        "# Boxplot de Force según la variable Formulacion\n",
        "ggplot(datos, aes(x = Formulación, y = Distance, fill = Formulación)) +\n",
        "  geom_boxplot() +\n",
        "  labs(title = \"Boxplot de Distance según la Formulación\", x = \"Formulación\", y = \"Distance\") +\n",
        "  theme_minimal() +\n",
        "  theme(axis.text = element_text(size = 12), axis.title = element_text(size = 14))"
      ],
      "metadata": {
        "id": "3prA_Cwi47ls"
      },
      "execution_count": null,
      "outputs": []
    },
    {
      "cell_type": "markdown",
      "source": [
        "Tanto la prueba de Kruskal-Wallis y las pruebas post hoc, muestran que no existen diferencias significativas entre los valores medianos entre los grupos y por cada pareja de formulación."
      ],
      "metadata": {
        "id": "5VtzO54F1KWU"
      }
    },
    {
      "cell_type": "code",
      "source": [
        "# Realiza la prueba de Kruskal-Wallis\n",
        "kruskal.test(Distance ~ Formulación, data = datos)"
      ],
      "metadata": {
        "id": "1l9sKqvp5btx"
      },
      "execution_count": null,
      "outputs": []
    },
    {
      "cell_type": "code",
      "source": [
        "# Realiza pruebas post hoc de Wilcoxon con ajuste de p-valores\n",
        "pruebas_post_hoc <- pairwise.wilcox.test(datos$Distance, datos$`Formulación`, p.adj = \"bonferroni\")\n",
        "\n",
        "# Muestra las pruebas post hoc\n",
        "print(pruebas_post_hoc)"
      ],
      "metadata": {
        "id": "g7kp2AqLAwJH"
      },
      "execution_count": null,
      "outputs": []
    },
    {
      "cell_type": "markdown",
      "source": [
        "### Distancia por formulación agrunpando por carga 0"
      ],
      "metadata": {
        "id": "HGePsk4G1eEP"
      }
    },
    {
      "cell_type": "code",
      "source": [
        "# Boxplot de Distance según la variable Formulación solo para carga 0\n",
        "ggplot(datos_carga_0, aes(x = Formulación, y = Distance, fill = Formulación)) +\n",
        "  geom_boxplot() +\n",
        "  labs(title = \"Boxplot de Distance según la Formulación (Carga 0)\", x = \"Formulación\", y = \"Distance\") +\n",
        "  theme_minimal() +\n",
        "  theme(axis.text = element_text(size = 12), axis.title = element_text(size = 14))"
      ],
      "metadata": {
        "id": "V10eqrDp64UT"
      },
      "execution_count": null,
      "outputs": []
    },
    {
      "cell_type": "markdown",
      "source": [
        "La prueba de Kruskall-wallis revela que no existe diferencias significativas entre los valores medianos en la distancia sin carga con estadístico de prueba de 0.00271 y un p-valor muyr cercano a 1."
      ],
      "metadata": {
        "id": "C1yhOZAh2gBi"
      }
    },
    {
      "cell_type": "code",
      "source": [
        "# Realiza la prueba de Kruskal-Wallis\n",
        "kruskal.test(Distance ~ Formulación, data = datos_carga_0)"
      ],
      "metadata": {
        "id": "kW3voScy7Rnh"
      },
      "execution_count": null,
      "outputs": []
    },
    {
      "cell_type": "markdown",
      "source": [
        "### Distancia por formulación agrunpando por carga 1"
      ],
      "metadata": {
        "id": "sKy1D2Ru1xsR"
      }
    },
    {
      "cell_type": "code",
      "source": [
        "# Boxplot de Distance según la variable Formulación solo para carga 1\n",
        "ggplot(datos_carga_1, aes(x = Formulación, y = Distance, fill = Formulación)) +\n",
        "  geom_boxplot() +\n",
        "  labs(title = \"Boxplot de Distance según la Formulación (Carga 1)\", x = \"Formulación\", y = \"Distance\") +\n",
        "  theme_minimal() +\n",
        "  theme(axis.text = element_text(size = 12), axis.title = element_text(size = 14))"
      ],
      "metadata": {
        "id": "r3L86UC757f_"
      },
      "execution_count": null,
      "outputs": []
    },
    {
      "cell_type": "markdown",
      "source": [
        "La prueba de Kruskall-wallis revela que no existe diferencias significativas entre los valores medianos en la distancia con carga con estadístico de prueba de 0.015913 y un p-valor muyr cercano a 1."
      ],
      "metadata": {
        "id": "2K097cg-2EEv"
      }
    },
    {
      "cell_type": "code",
      "source": [
        "# Realiza la prueba de Kruskal-Wallis\n",
        "kruskal.test(Distance ~ Formulación, data = datos_carga_1)"
      ],
      "metadata": {
        "id": "smPFoPNl8J-m"
      },
      "execution_count": null,
      "outputs": []
    },
    {
      "cell_type": "markdown",
      "source": [
        "## Deformación"
      ],
      "metadata": {
        "id": "NnktHLzq8kPj"
      }
    },
    {
      "cell_type": "markdown",
      "source": [
        "### Agrupamiento por Carga"
      ],
      "metadata": {
        "id": "_EMMwHL_-Kdz"
      }
    },
    {
      "cell_type": "markdown",
      "source": [
        "Los resultados para la variable Deformacion, analizados en función de la presencia o ausencia de carga (Carga 0 y Carga 1), indican similitudes sustanciales en la distribución de la deformación entre ambos grupos. Para el grupo sin carga (Carga 0), la deformación muestra una mediana y media de 0.08333, denotando que el 50% de las observaciones tienen una deformación de 0.08333 o menos, y el promedio de todas las deformaciones es 0.08330. Los valores mínimo y máximo son 0 y 0.16667, respectivamente. En el grupo con carga (Carga 1), los valores estadísticos son prácticamente idénticos, indicando coherencia en las características centrales y de dispersión de la variable Deformacion entre los dos grupos."
      ],
      "metadata": {
        "id": "s42LIwI93F08"
      }
    },
    {
      "cell_type": "code",
      "source": [
        "# Resumen estadístico por grupo\n",
        "summary_by_carga <- tapply(datos$Deformacion, datos$Carga, summary)\n",
        "\n",
        "# Mostrar el resumen\n",
        "print(summary_by_carga)"
      ],
      "metadata": {
        "id": "-qnRaVJd9T1B"
      },
      "execution_count": null,
      "outputs": []
    },
    {
      "cell_type": "code",
      "source": [
        "# Boxplot de Distance según la variable Carga\n",
        "ggplot(datos, aes(x = Carga, y = Deformacion, fill = Carga)) +\n",
        "  geom_boxplot() +\n",
        "  labs(title = \"Boxplot de Deformacion según la Carga\", x = \"Carga\", y = \"Deformacion\") +\n",
        "  theme_minimal() +\n",
        "  theme(axis.text = element_text(size = 12), axis.title = element_text(size = 14))"
      ],
      "metadata": {
        "id": "MCgR_mQS2pOf"
      },
      "execution_count": null,
      "outputs": []
    },
    {
      "cell_type": "markdown",
      "source": [
        "La prueba de Wilcoxon rank sum test para comparar las medianas de la variable Deformacion entre los dos grupos definidos por la variable Carga (0 sin carga y 1 con carga) revela un estadístico W de 42672150 y un p-valor de 0.9736. Este p-valor alto sugiere que no hay evidencia significativa para rechazar la hipótesis nula de que no hay un cambio en la ubicación (mediana) entre los dos grupos. En otras palabras, no se encuentran diferencias significativas en la mediana de la variable Deformacion entre los casos con carga y sin carga, según los resultados de esta prueba. Esto respalda la observación anterior de similitudes sustanciales en la distribución de la deformación entre ambos grupos."
      ],
      "metadata": {
        "id": "LxGIb3s43WNM"
      }
    },
    {
      "cell_type": "code",
      "source": [
        "# Realiza la prueba de Wilcoxon-Mann-Whitney\n",
        "wilcox.test(Deformacion ~ Carga, data = datos)"
      ],
      "metadata": {
        "id": "_wlW2GSW2uOc"
      },
      "execution_count": null,
      "outputs": []
    },
    {
      "cell_type": "markdown",
      "source": [
        "### Agrupamiento por Formulación"
      ],
      "metadata": {
        "id": "j-boiIaE-N9j"
      }
    },
    {
      "cell_type": "markdown",
      "source": [
        "Los resultados para la variable Deformacion, desglosados por los diferentes tipos de formulación identificados por los códigos numéricos (11, 12, 13, 21, 22, 23, 31, 32, 33), muestran consistencias notables en las características centrales de la deformación para cada tipo de formulación. En general, la mediana y media de la deformación son de 0.08333, indicando que el 50% de las observaciones tienen una deformación de 0.08333 o menos, y el promedio de todas las deformaciones es muy cercano a este valor. Los valores mínimo y máximo son 0 y 0.16667, respectivamente, en todos los casos, denotando que la variable Deformacion se encuentra en un rango específico en todas las formulaciones."
      ],
      "metadata": {
        "id": "UmU9VjWZ48_3"
      }
    },
    {
      "cell_type": "code",
      "source": [
        "# Resumen estadístico por grupo\n",
        "summary_by_formulacion <- tapply(datos$Deformacion, datos$`Formulación`, summary)\n",
        "\n",
        "# Mostrar el resumen\n",
        "print(summary_by_formulacion)"
      ],
      "metadata": {
        "id": "ZDwF_66x-bvQ"
      },
      "execution_count": null,
      "outputs": []
    },
    {
      "cell_type": "code",
      "source": [
        "# Boxplot de Deformacion según la variable Formulacion\n",
        "ggplot(datos, aes(x = Formulación, y = Deformacion, fill = Formulación)) +\n",
        "  geom_boxplot() +\n",
        "  labs(title = \"Boxplot de Deformacion según la Formulación\", x = \"Formulación\", y = \"Deformacion\") +\n",
        "  theme_minimal() +\n",
        "  theme(axis.text = element_text(size = 12), axis.title = element_text(size = 14))"
      ],
      "metadata": {
        "id": "IigvNHkn3gp2"
      },
      "execution_count": null,
      "outputs": []
    },
    {
      "cell_type": "markdown",
      "source": [
        "La prueba de Kruskal-Wallis para comparar las medianas de la variable Deformacion entre las diferentes formulaciones (códigos numéricos 11, 12, 13, 21, 22, 23, 31, 32, 33) muestra un estadístico de chi-cuadrado de 0.0087417 con 8 grados de libertad y un p-valor de 1. Este alto p-valor sugiere que no hay evidencia significativa para rechazar la hipótesis nula de que las medianas son iguales en todos los grupos. En otras palabras, no se encuentran diferencias significativas en la mediana de la variable Deformacion entre las diferentes formulaciones, según los resultados de esta prueba. Estos hallazgos respaldan la observación anterior de consistencias notables en las características centrales de la deformación entre los diferentes tipos de formulación."
      ],
      "metadata": {
        "id": "_tuuTSIV5Dbl"
      }
    },
    {
      "cell_type": "code",
      "source": [
        "# Realiza la prueba de Kruskal-Wallis\n",
        "kruskal.test(Deformacion ~ Formulación, data = datos)"
      ],
      "metadata": {
        "id": "CXsdlRyi3k9u"
      },
      "execution_count": null,
      "outputs": []
    },
    {
      "cell_type": "markdown",
      "source": [
        "### Deformación por formulación agrunpando por carga 0"
      ],
      "metadata": {
        "id": "3RjiJvD14F67"
      }
    },
    {
      "cell_type": "markdown",
      "source": [
        "Los gráficos para la deformación con o sin carga, muestran comportamientos muy similares. La prueba de Kruskal-Wallis confirma lo anterior, pues dado que el p-valor en ambas grupos es muy cercano 1 muestra que sin importar la carga, no hay diferencias significativas entre los tipos de formulaciones."
      ],
      "metadata": {
        "id": "j6CHo0xf6vMM"
      }
    },
    {
      "cell_type": "code",
      "source": [
        "# Boxplot de Deformacion según la variable Formulación solo para carga 0\n",
        "ggplot(datos_carga_0, aes(x = Formulación, y = Deformacion, fill = Formulación)) +\n",
        "  geom_boxplot() +\n",
        "  labs(title = \"Boxplot de Deformacion según la Formulación (Carga 0)\", x = \"Formulación\", y = \"Deformacion\") +\n",
        "  theme_minimal() +\n",
        "  theme(axis.text = element_text(size = 12), axis.title = element_text(size = 14))"
      ],
      "metadata": {
        "id": "MLsSMaR63s-n"
      },
      "execution_count": null,
      "outputs": []
    },
    {
      "cell_type": "code",
      "source": [
        "# Realiza la prueba de Kruskal-Wallis\n",
        "kruskal.test(Deformacion ~ Formulación, data = datos_carga_0)"
      ],
      "metadata": {
        "id": "bHv3CX_Y3wgd"
      },
      "execution_count": null,
      "outputs": []
    },
    {
      "cell_type": "markdown",
      "source": [
        "### Deformación por formulación agrunpando por carga 1"
      ],
      "metadata": {
        "id": "sZ-Y6pCl4H_l"
      }
    },
    {
      "cell_type": "code",
      "source": [
        "# Boxplot de Force según la variable Formulación solo para carga 1\n",
        "ggplot(datos_carga_1, aes(x = Formulación, y = Deformacion, fill = Formulación)) +\n",
        "  geom_boxplot() +\n",
        "  labs(title = \"Boxplot de Deformacion según la Formulación (Carga 1)\", x = \"Formulación\", y = \"Deformacion\") +\n",
        "  theme_minimal() +\n",
        "  theme(axis.text = element_text(size = 12), axis.title = element_text(size = 14))"
      ],
      "metadata": {
        "id": "8A7Npv8P33lZ"
      },
      "execution_count": null,
      "outputs": []
    },
    {
      "cell_type": "code",
      "source": [
        "# Realiza la prueba de Kruskal-Wallis\n",
        "kruskal.test(Deformacion ~ Formulación, data = datos_carga_1)"
      ],
      "metadata": {
        "id": "Hf9JBIY34AkS"
      },
      "execution_count": null,
      "outputs": []
    },
    {
      "cell_type": "markdown",
      "source": [
        "## Tensión"
      ],
      "metadata": {
        "id": "uxCQmSLsC9tX"
      }
    },
    {
      "cell_type": "markdown",
      "source": [
        "### Agrupamiento por carga"
      ],
      "metadata": {
        "id": "XV0FCoZEDRw5"
      }
    },
    {
      "cell_type": "markdown",
      "source": [
        "Los resultados para la variable Tension, evaluados en función de la presencia o ausencia de carga (Carga 0 y Carga 1), revelan semejanzas notables en la distribución de la tensión entre ambos grupos. Tanto para los casos con carga como para aquellos sin carga, la tensión exhibe patrones similares, con mínimos, cuartiles, mediana, media, tercer cuartil y máximo prácticamente idénticos. La tensión oscila desde valores negativos cercanos a cero hasta valores positivos, siendo la media alrededor de 1.122e-02 y 1.204e-02 para los grupos sin carga y con carga, respectivamente."
      ],
      "metadata": {
        "id": "qdEo9V3P8Flg"
      }
    },
    {
      "cell_type": "code",
      "source": [
        "# Resumen estadístico por grupo\n",
        "summary_by_carga <- tapply(datos$Tension, datos$Carga, summary)\n",
        "\n",
        "# Mostrar el resumen\n",
        "print(summary_by_carga)"
      ],
      "metadata": {
        "id": "SsMr05dLDLAg"
      },
      "execution_count": null,
      "outputs": []
    },
    {
      "cell_type": "code",
      "source": [
        "# Boxplot de Distance según la variable Carga\n",
        "ggplot(datos, aes(x = Carga, y = Tension, fill = Carga)) +\n",
        "  geom_boxplot() +\n",
        "  labs(title = \"Boxplot de Tension según la Carga\", x = \"Carga\", y = \"Tension\") +\n",
        "  theme_minimal() +\n",
        "  theme(axis.text = element_text(size = 12), axis.title = element_text(size = 14))"
      ],
      "metadata": {
        "id": "wRKmOAPQ6oA5"
      },
      "execution_count": null,
      "outputs": []
    },
    {
      "cell_type": "markdown",
      "source": [
        "La prueba de Wilcoxon rank sum test para comparar las medianas de la variable Tension entre los dos grupos definidos por la variable Carga (0 sin carga y 1 con carga) muestra un estadístico W de 38645356 y un p-valor extremadamente bajo (< 2.2e-16). Este resultado lleva a rechazar la hipótesis nula de que no hay cambio en la ubicación (mediana) entre los dos grupos, indicando que hay diferencias significativas en la mediana de la variable Tension entre los casos con carga y sin carga. En otras palabras, la presencia de carga influye de manera significativa en la distribución de la tensión, según los resultados de esta prueba no paramétrica."
      ],
      "metadata": {
        "id": "ovcM23BO8W4P"
      }
    },
    {
      "cell_type": "code",
      "source": [
        "# Realiza la prueba de Wilcoxon-Mann-Whitney\n",
        "wilcox.test(Tension ~ Carga, data = datos)"
      ],
      "metadata": {
        "id": "t0T7c0q06rDt"
      },
      "execution_count": null,
      "outputs": []
    },
    {
      "cell_type": "markdown",
      "source": [
        "### Agrupamiento por formulario"
      ],
      "metadata": {
        "id": "wK1jFYxODsnU"
      }
    },
    {
      "cell_type": "markdown",
      "source": [
        "Los resultados para la variable Tension, desglosados por los diferentes tipos de formulación identificados por los códigos numéricos (11, 12, 13, 21, 22, 23, 31, 32, 33), reflejan variaciones en las características centrales de la tensión para cada tipo de formulación. En términos generales, para todas las formulaciones, la tensión oscila desde valores negativos cercanos a cero hasta valores positivos. La mediana y la media de la tensión tienden a incrementarse de 11 a 33. Por ejemplo, la formulación 11 presenta una mediana y media de 1.254e-02 y 1.318e-02, respectivamente, mientras que la formulación 33 tiene valores de 6.716e-03 y 9.919e-03. Los cuartiles y valores máximos también varían entre las formulaciones."
      ],
      "metadata": {
        "id": "vZq8zKZe8smn"
      }
    },
    {
      "cell_type": "code",
      "source": [
        "# Resumen estadístico por grupo\n",
        "summary_by_formulacion <- tapply(datos$Tension, datos$`Formulación`, summary)\n",
        "\n",
        "# Mostrar el resumen\n",
        "print(summary_by_formulacion)"
      ],
      "metadata": {
        "id": "sC-tuoUuDyuK"
      },
      "execution_count": null,
      "outputs": []
    },
    {
      "cell_type": "code",
      "source": [
        "# Boxplot de Tension según la variable Formulacion\n",
        "ggplot(datos, aes(x = Formulación, y = Tension, fill = Formulación)) +\n",
        "  geom_boxplot() +\n",
        "  labs(title = \"Boxplot de Tension según la Formulación\", x = \"Formulación\", y = \"Tension\") +\n",
        "  theme_minimal() +\n",
        "  theme(axis.text = element_text(size = 12), axis.title = element_text(size = 14))"
      ],
      "metadata": {
        "id": "o8kF335M5xr9"
      },
      "execution_count": null,
      "outputs": []
    },
    {
      "cell_type": "markdown",
      "source": [
        "La prueba de Kruskal-Wallis para comparar las medianas de la variable Tension entre las diferentes formulaciones (códigos numéricos 11, 12, 13, 21, 22, 23, 31, 32, 33) muestra un estadístico de chi-cuadrado de 1004 con 8 grados de libertad y un p-valor extremadamente bajo (< 2.2e-16). Este resultado sugiere que hay diferencias significativas en las medianas de la variable Tension entre al menos dos de los grupos de formulaciones. En otras palabras, la formulación influye de manera significativa en la distribución de la tensión, y los resultados de esta prueba respaldan la observación anterior de variaciones notables en las características centrales de la tensión entre los diferentes tipos de formulación."
      ],
      "metadata": {
        "id": "Q53cfGcx8xnQ"
      }
    },
    {
      "cell_type": "code",
      "source": [
        "# Realiza la prueba de Kruskal-Wallis\n",
        "kruskal.test(Tension ~ Formulación, data = datos)"
      ],
      "metadata": {
        "id": "xqU-bvQI5xcz"
      },
      "execution_count": null,
      "outputs": []
    },
    {
      "cell_type": "markdown",
      "source": [
        "### Revisar en la sesión"
      ],
      "metadata": {
        "id": "tKr3JA3R9TjM"
      }
    },
    {
      "cell_type": "code",
      "source": [
        "# Realiza pruebas post hoc de Wilcoxon con ajuste de p-valores\n",
        "pruebas_post_hoc <- pairwise.wilcox.test(datos$Tension, datos$`Formulación`, p.adj = \"bonferroni\")\n",
        "\n",
        "# Muestra las pruebas post hoc\n",
        "print(pruebas_post_hoc)"
      ],
      "metadata": {
        "id": "rUajCKF45xMX"
      },
      "execution_count": null,
      "outputs": []
    },
    {
      "cell_type": "markdown",
      "source": [
        "### Tensión por formulación agrunpando por carga 0"
      ],
      "metadata": {
        "id": "efJyo8LO6Iur"
      }
    },
    {
      "cell_type": "markdown",
      "source": [
        "Para los datos en ausencia de carga, se puede observar que la formulación 33 presenta la menor tensión mediana. Mientras que la formulación 12 es quien presenta mayor tensión mediana."
      ],
      "metadata": {
        "id": "cIiEOCTT9gga"
      }
    },
    {
      "cell_type": "code",
      "source": [
        "# Boxplot de Tension según la variable Formulación solo para carga 0\n",
        "ggplot(datos_carga_0, aes(x = Formulación, y = Tension, fill = Formulación)) +\n",
        "  geom_boxplot() +\n",
        "  labs(title = \"Boxplot de Tension según la Formulación (Carga 0)\", x = \"Formulación\", y = \"Tension\") +\n",
        "  theme_minimal() +\n",
        "  theme(axis.text = element_text(size = 12), axis.title = element_text(size = 14))"
      ],
      "metadata": {
        "id": "aEL1H7JT54gN"
      },
      "execution_count": null,
      "outputs": []
    },
    {
      "cell_type": "markdown",
      "source": [
        "La prueba de Kruskal-Wallis realizada para los datos sin carga, segmentados por las diferentes formulaciones (códigos numéricos 11, 12, 13, 21, 22, 23, 31, 32, 33), muestra un estadístico de chi-cuadrado de 2546.2 con 8 grados de libertad y un p-valor extremadamente bajo (< 2.2e-16). Este resultado indica que hay diferencias significativas en las medianas de la variable Tension entre al menos dos de los grupos de formulaciones para los casos sin carga. En resumen, la formulación sigue teniendo un impacto significativo en la distribución de la tensión incluso cuando no hay carga, según los resultados de esta prueba no paramétrica."
      ],
      "metadata": {
        "id": "0L442BJJ-F9O"
      }
    },
    {
      "cell_type": "code",
      "source": [
        "# Realiza la prueba de Kruskal-Wallis\n",
        "kruskal.test(Tension ~ Formulación, data = datos_carga_0)"
      ],
      "metadata": {
        "id": "X0sqw61Y54Tq"
      },
      "execution_count": null,
      "outputs": []
    },
    {
      "cell_type": "markdown",
      "source": [
        "### Revisar en la sesión"
      ],
      "metadata": {
        "id": "LREQI2gq-I9l"
      }
    },
    {
      "cell_type": "code",
      "source": [
        "# Realiza pruebas post hoc de Wilcoxon con ajuste de p-valores\n",
        "pruebas_post_hoc0 <- pairwise.wilcox.test(datos$Tension, datos_carga_0$`Formulación`, p.adj = \"bonferroni\")\n",
        "\n",
        "# Muestra las pruebas post hoc\n",
        "print(pruebas_post_hoc0)"
      ],
      "metadata": {
        "id": "Emwjcss65w40"
      },
      "execution_count": null,
      "outputs": []
    },
    {
      "cell_type": "markdown",
      "source": [
        "### Tensión por formulación agrunpando por carga 1"
      ],
      "metadata": {
        "id": "Ix42CDis59i4"
      }
    },
    {
      "cell_type": "code",
      "source": [
        "# Boxplot de Tension según la variable Formulación solo para carga 1\n",
        "ggplot(datos_carga_1, aes(x = Formulación, y = Tension, fill = Formulación)) +\n",
        "  geom_boxplot() +\n",
        "  labs(title = \"Boxplot de Tension según la Formulación (Carga 1)\", x = \"Formulación\", y = \"Tension\") +\n",
        "  theme_minimal() +\n",
        "  theme(axis.text = element_text(size = 12), axis.title = element_text(size = 14))"
      ],
      "metadata": {
        "id": "qTjds99a50-t"
      },
      "execution_count": null,
      "outputs": []
    },
    {
      "cell_type": "markdown",
      "source": [
        "\n",
        "La prueba de Kruskal-Wallis realizada para los datos con carga, desglosados por las diferentes formulaciones (códigos numéricos 11, 12, 13, 21, 22, 23, 31, 32, 33), revela un estadístico de chi-cuadrado de 785.86 con 8 grados de libertad y un p-valor extremadamente bajo (< 2.2e-16). Estos resultados indican que hay diferencias significativas en las medianas de la variable Tension entre al menos dos de los grupos de formulaciones para los casos con carga. En otras palabras, la formulación sigue teniendo un impacto significativo en la distribución de la tensión incluso cuando hay carga, según los resultados de esta prueba no paramétrica."
      ],
      "metadata": {
        "id": "W9lFm_yB-jRA"
      }
    },
    {
      "cell_type": "code",
      "source": [
        "# Realiza la prueba de Kruskal-Wallis\n",
        "kruskal.test(Tension ~ Formulación, data = datos_carga_1)"
      ],
      "metadata": {
        "id": "BNd9o-Cm50xR"
      },
      "execution_count": null,
      "outputs": []
    },
    {
      "cell_type": "code",
      "source": [
        "# Realiza pruebas post hoc de Wilcoxon con ajuste de p-valores\n",
        "pruebas_post_hoc1 <- pairwise.wilcox.test(datos$Tension, datos_carga_1$`Formulación`, p.adj = \"bonferroni\")\n",
        "\n",
        "# Muestra las pruebas post hoc\n",
        "print(pruebas_post_hoc1)"
      ],
      "metadata": {
        "id": "tJt00hKD50iH"
      },
      "execution_count": null,
      "outputs": []
    },
    {
      "cell_type": "markdown",
      "source": [
        "## Estadísticas Bivariadas"
      ],
      "metadata": {
        "id": "GaS8Oxhu-q27"
      }
    },
    {
      "cell_type": "markdown",
      "source": [
        "1. **Force y Distance:**\n",
        "   - Correlación: 0.8516\n",
        "   - Interpretación: Hay una correlación positiva fuerte (0.8516) entre las variables Force y Distance. Esto sugiere que a medida que una de las variables aumenta, la otra tiende a aumentar también.\n",
        "\n",
        "2. **Force y Deformacion:**\n",
        "   - Correlación: 0.8516\n",
        "   - Interpretación: Existe una correlación positiva fuerte (0.8516) entre Force y Deformacion, indicando que ambas variables están positivamente relacionadas linealmente.\n",
        "\n",
        "3. **Force y Tension:**\n",
        "   - Correlación: 0.9989\n",
        "   - Interpretación: Hay una correlación extremadamente fuerte (0.9989) entre Force y Tension. Esto sugiere una relación casi perfectamente positiva lineal entre estas dos variables.\n",
        "\n",
        "4. **Distance y Deformacion:**\n",
        "   - Correlación: 1.0000\n",
        "   - Interpretación: Existe una correlación positiva perfecta (1.0000) entre Distance y Deformacion. Esto indica una relación lineal perfecta positiva entre estas dos variables.\n",
        "\n",
        "5. **Distance y Tension:**\n",
        "   - Correlación: 0.8436\n",
        "   - Interpretación: Hay una correlación positiva fuerte (0.8436) entre Distance y Tension. A medida que una de las variables aumenta, la otra tiende a aumentar también.\n",
        "\n",
        "6. **Deformacion y Tension:**\n",
        "   - Correlación: 0.8436\n",
        "   - Interpretación: Existe una correlación positiva fuerte (0.8436) entre Deformacion y Tension, indicando que ambas variables están positivamente relacionadas linealmente.\n"
      ],
      "metadata": {
        "id": "lsvutRvuCmqK"
      }
    },
    {
      "cell_type": "code",
      "source": [
        "# Instalar y cargar el paquete Hmisc\n",
        "install.packages(\"Hmisc\")\n",
        "library(Hmisc)\n"
      ],
      "metadata": {
        "id": "40GS58_6_aMo"
      },
      "execution_count": null,
      "outputs": []
    },
    {
      "cell_type": "code",
      "source": [
        "# Convertir todas las columnas a tipo numérico\n",
        "columnas_interes <- as.data.frame(sapply(columnas_interes, as.numeric))\n",
        "\n",
        "# Tratar valores faltantes\n",
        "columnas_interes <- na.omit(columnas_interes)\n",
        "\n",
        "# Calcular la matriz de correlación y p-valores\n",
        "cor_test_result <- rcorr(as.matrix(columnas_interes))\n",
        "\n",
        "# Obtener la matriz de correlación\n",
        "correlacion_matrix <- cor_test_result$r\n",
        "\n",
        "# Obtener la matriz de p-valores\n",
        "p_values <- cor_test_result$P\n",
        "\n",
        "# Imprimir la matriz de correlación\n",
        "cat(\"Matriz de correlación:\\n\")\n",
        "print(correlacion_matrix)\n",
        "\n",
        "# Imprimir la matriz de p-valores\n",
        "cat(\"\\nP-valores:\\n\")\n",
        "print(p_values)"
      ],
      "metadata": {
        "id": "J5Eu6f_REBeE"
      },
      "execution_count": null,
      "outputs": []
    },
    {
      "cell_type": "code",
      "source": [
        "# Calcular la matriz de correlación\n",
        "correlacion_matrix <- cor(columnas_interes)\n",
        "\n",
        "# Calcular los p-valores\n",
        "p_values <- psych::corr.test(columnas_interes)$p\n",
        "\n",
        "# Gráfico de matriz de correlación con p-valores\n",
        "corrplot(correlacion_matrix, method = \"circle\", p.mat = p_values, sig.level = 0.05)"
      ],
      "metadata": {
        "id": "1HFDdWsL_ge-"
      },
      "execution_count": null,
      "outputs": []
    },
    {
      "cell_type": "code",
      "source": [
        "# Gráfico de dispersión con líneas de tendencia usando pairs()\n",
        "pairs(columnas_interes, pch = 1, main = \"Gráficos de Dispersión\",\n",
        "      col = \"darkblue\", cex.labels = 1.5, cex.axis = 1.5, cex.main = 2)\n"
      ],
      "metadata": {
        "id": "74l10_7MAzmJ"
      },
      "execution_count": null,
      "outputs": []
    }
  ]
}