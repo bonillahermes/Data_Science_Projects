{
  "nbformat": 4,
  "nbformat_minor": 0,
  "metadata": {
    "colab": {
      "private_outputs": true,
      "provenance": [],
      "cell_execution_strategy": "setup",
      "include_colab_link": true
    },
    "kernelspec": {
      "name": "python3",
      "display_name": "Python 3"
    },
    "language_info": {
      "name": "python"
    }
  },
  "cells": [
    {
      "cell_type": "markdown",
      "metadata": {
        "id": "view-in-github",
        "colab_type": "text"
      },
      "source": [
        "<a href=\"https://colab.research.google.com/github/bonillahermes/Data_Science_Projects/blob/main/EDA10.ipynb\" target=\"_parent\"><img src=\"https://colab.research.google.com/assets/colab-badge.svg\" alt=\"Open In Colab\"/></a>"
      ]
    },
    {
      "cell_type": "markdown",
      "source": [
        "# Hermes Yate Bonilla\n",
        "**Data Scientist**\n",
        "---\n",
        "\n",
        "**Contact:**\n",
        "- **Email:** [bonillahermes@gmail.com](mailto:bonillahermes@gmail.com)\n",
        "- **LinkedIn:** [linkedin.com/in/bonillahermes](https://www.linkedin.com/in/bonillahermes/)\n",
        "- **GitHub:** [github.com/bonillahermes](https://github.com/bonillahermes)\n",
        "- **Webpage:** [bonillahermes.com](https://bonillahermes.com/)\n",
        "---"
      ],
      "metadata": {
        "id": "-eWp0QnDR60P"
      }
    },
    {
      "cell_type": "markdown",
      "source": [
        "# **Análisis de Equidad de Género en el Mercado Laboral Colombiano**"
      ],
      "metadata": {
        "id": "BanvAzzIRzTO"
      }
    },
    {
      "cell_type": "markdown",
      "source": [
        "# Abstract\n",
        "\n",
        "Este estudio analiza la equidad de género en el mercado laboral colombiano utilizando datos de la Gran Encuesta Integrada de Hogares (GEIH) de octubre de 2022. Se examinaron variables como ingresos laborales, tiempo laborado, género y tipo de contrato. Los resultados indican una gran variabilidad en los ingresos y el tiempo laborado entre jóvenes adultos de 18 a 28 años en Colombia. A pesar de la dispersión en los datos, no se encontraron pruebas estadísticas suficientes para afirmar que el ingreso promedio de estos jóvenes es menor al salario mínimo. Además, se observó que los hombres tienen una mayor representación en el mercado laboral formal en comparación con las mujeres. Sin embargo, en términos de ingresos y tiempo laborado, no se encontraron diferencias significativas entre géneros. Estos hallazgos sugieren la existencia de desafíos en la equidad de género en el acceso a oportunidades laborales, pero no necesariamente en la remuneración.\n"
      ],
      "metadata": {
        "id": "xLEnYCD89UNe"
      }
    },
    {
      "cell_type": "markdown",
      "source": [
        "# Introducción\n",
        "\n",
        "En Colombia, como en muchas partes del mundo, la equidad de género en el ámbito laboral es un tema de relevante interés social y económico. Diferencias en los ingresos entre hombres y mujeres pueden ser indicativas de disparidades subyacentes en oportunidades, acceso a la educación y discriminación en el lugar de trabajo. Este proyecto busca examinar la posible existencia de brechas salariales entre géneros en el mercado laboral colombiano, utilizando datos recientes de la Gran Encuesta Integrada de Hogares (GEIH) administrada por el DANE en octubre de 2022.\n",
        "\n",
        "# Objetivos\n",
        "\n",
        "## Objetivo General:\n",
        "\n",
        "Analizar los datos de la GEIH para identificar evidencias significativas de diferencias en los ingresos laborales entre hombres y mujeres en Colombia.\n",
        "\n",
        "## Objetivos Específicos:\n",
        "\n",
        "1. Describir las características demográficas y socioeconómicas de la muestra laboral.\n",
        "2. Estimar la diferencia media de ingresos entre hombres y mujeres.\n",
        "3. Determinar la significancia estadística de las diferencias observadas.\n",
        "4. Interpretar los resultados en el contexto de la literatura económica y social existente.\n",
        "\n",
        "# Metodología\n",
        "\n",
        "Para el desarrollo de este estudio se empleará un enfoque cuantitativo descriptivo y analítico. Se utilizarán técnicas estadísticas para comparar los ingresos medios y medianos entre hombres y mujeres y se realizarán pruebas de hipótesis para evaluar la significancia de las diferencias encontradas. El procesamiento y análisis de datos se llevarán a cabo mediante la plataforma Google Colab, utilizando Python y sus bibliotecas de análisis de datos como Pandas, NumPy y SciPy.\n",
        "\n",
        "# Descripción de la Base de Datos\n",
        "\n",
        "La base de datos proviene de la Gran Encuesta Integrada de Hogares del DANE, específicamente del mes de octubre de 2022. La muestra final, después de la limpieza de datos, cuenta con 27631 personas adultas jóvenes (entre los 18 y 28 años), con ingresos menor al salario de un congresista (33 SMLV) y con un tiempo laboral menor a 90 meses. Las variables son:\n",
        "\n",
        "- ID: Identificador único para cada encuestado.\n",
        "- DPTO: Código del departamento.\n",
        "- SEXO: Género del encuestado, donde 1 representa masculino y 2 femenino.\n",
        "- EDAD: Edad del encuestado en años.\n",
        "- NIV_EDUC: Nivel educativo del encuestado, con una escala donde 1 puede indicar educación primaria y los números más altos representan niveles superiores de educación.\n",
        "- CONTRATO: Si la persona tiene (1) o no (2) un contrato formal\n",
        "- TIEMPO_LAB: Tiempo en el último empleo medido en meses.\n",
        "- INGLABO: Ingresos laborales del encuestado en pesos colombianos.\n",
        "\n",
        "Cada registro en la base de datos corresponde a un individuo encuestado y su información respectiva en las variables mencionadas."
      ],
      "metadata": {
        "id": "vNY5V3_Y8okF"
      }
    },
    {
      "cell_type": "markdown",
      "source": [
        "# Preliminares"
      ],
      "metadata": {
        "id": "LqcqjnT56eyK"
      }
    },
    {
      "cell_type": "markdown",
      "source": [
        "## Carga de Base de Datos e Importación de Librerías Necesarias"
      ],
      "metadata": {
        "id": "MhaLZe06CzKJ"
      }
    },
    {
      "cell_type": "code",
      "source": [
        "from google.colab import drive\n",
        "\n",
        "# Monta tu Google Drive\n",
        "drive.mount('/content/drive')"
      ],
      "metadata": {
        "id": "3r1YipOr7DnO"
      },
      "execution_count": null,
      "outputs": []
    },
    {
      "cell_type": "code",
      "execution_count": null,
      "metadata": {
        "id": "uSDt5IvO5wqP"
      },
      "outputs": [],
      "source": [
        "import pandas as pd\n",
        "import numpy as np\n",
        "import seaborn as sns\n",
        "import scipy.stats as stats\n",
        "import matplotlib.pyplot as plt\n",
        "import plotly.express as px\n",
        "from scipy.stats import shapiro\n",
        "from scipy.stats import norm"
      ]
    },
    {
      "cell_type": "code",
      "source": [
        "# Ruta del archivo Excel en tu Google Drive\n",
        "ruta_archivo = '/content/drive/MyDrive/Bases/BaseHermes.csv'\n",
        "\n",
        "# Cargar el archivo Excel en un DataFrame de Pandas\n",
        "data = pd.read_csv(ruta_archivo, sep=';')\n",
        "\n",
        "# Mostrar las primeras filas para entender la estructura\n",
        "data.head()"
      ],
      "metadata": {
        "id": "UQNEW5Iz7EfR"
      },
      "execution_count": null,
      "outputs": []
    },
    {
      "cell_type": "code",
      "source": [
        "# Información general sobre el DataFrame\n",
        "info = data.info()"
      ],
      "metadata": {
        "id": "-UxYEl3n71RW"
      },
      "execution_count": null,
      "outputs": []
    },
    {
      "cell_type": "code",
      "source": [
        "# Valores nulos\n",
        "valores_nulos = data.isnull().sum()\n",
        "valores_nulos"
      ],
      "metadata": {
        "id": "nkMYL1798Cjf"
      },
      "execution_count": null,
      "outputs": []
    },
    {
      "cell_type": "markdown",
      "source": [
        "# Estadísticas Descriptivas Globales"
      ],
      "metadata": {
        "id": "wpPVkKDS79i7"
      }
    },
    {
      "cell_type": "markdown",
      "source": [
        "En promedio, los jóvenes adultos entre 18 y 28 años han trabajado 18.29 meses, con una desviación estándar de 19.44 meses, evidenciando una gran variabilidad en la experiencia laboral. La mayoría ha trabajado un año o menos, como lo indica la mediana de 12 meses, pero algunos han acumulado hasta 7 años y medio de trabajo, lo que podría reflejar tanto precocidad en la incorporación al mercado laboral como la posibilidad de trabajos concurrentes o sucesivos durante este periodo de vida.\n",
        "\n",
        "Los ingresos laborales de estos jóvenes adultos tienen un promedio de 1,057,697.83 COP, pero con una dispersión casi tan alta como el promedio (1,037,946.50 COP), lo que muestra una diferencia significativa en los ingresos entre individuos. La mediana de 1,000,000 COP sugiere que la mitad de los jóvenes percibe hasta este monto, mientras que un máximo reportado de 30,000,000 COP indica la presencia de jóvenes con ingresos laborales excepcionales en el grupo.\n",
        "\n",
        "En promedio, los jóvenes adultos en la encuesta tienen alrededor de 24 años, con una dispersión baja de apenas 3 años.\n"
      ],
      "metadata": {
        "id": "qU69QWqDUp4-"
      }
    },
    {
      "cell_type": "code",
      "source": [
        "data = data[(data['EDAD'] >= 18) & (data['EDAD'] <= 26) & (data['TIEMPO_LAB'] <= 140) & (data['INGLABO'] <= 30000000)]\n",
        "print(data.shape)\n",
        "\n",
        "# Calculando el coeficiente de variación para cada columna\n",
        "def coeficiente_variacion(df, column):\n",
        "    media = df[column].mean()\n",
        "    desv_std = df[column].std()\n",
        "    cv = (desv_std / media) * 100\n",
        "    return cv\n",
        "\n",
        "cv_tiempo_lab = coeficiente_variacion(data, 'TIEMPO_LAB')\n",
        "cv_inglabo = coeficiente_variacion(data, 'INGLABO')\n",
        "cv_edad = coeficiente_variacion(data, 'EDAD')\n",
        "\n",
        "# Imprimir los coeficientes de variación\n",
        "print(f\"Coeficiente de Variación de TIEMPO_LAB: {cv_tiempo_lab}%\")\n",
        "print(f\"Coeficiente de Variación de INGLABO: {cv_inglabo}%\")\n",
        "print(f\"Coeficiente de Variación de EDAD: {cv_edad}%\")"
      ],
      "metadata": {
        "id": "aJ51JN1G9x8K"
      },
      "execution_count": null,
      "outputs": []
    },
    {
      "cell_type": "markdown",
      "source": [
        "La tabla presenta las estadísticas descriptivas para tres variables cuantitativas de interés: edad, tiempo laboral y ingresos laborales. Con un total de 4971 observaciones, la edad media de la muestra es de 23 años, con una desviación estándar relativamente baja de 2 años, lo que indica una concentración de edades alrededor de la media. El coeficiente de variación del 11% refleja una homogeneidad en la distribución de edades dentro de la muestra.\n",
        "\n",
        "En cuanto al tiempo laboral, la media es de 18 meses, pero con una desviación estándar de 21 meses, se observa una alta variabilidad en el tiempo de empleo de los encuestados. Esta variabilidad se enfatiza con un coeficiente de variación del 117%, lo que sugiere una dispersión considerable en la experiencia laboral de la población estudiada.\n",
        "\n",
        "Respecto a los ingresos laborales, el promedio se sitúa en 975,813 pesos colombianos, aunque la desviación estándar es casi igual a la media, indicando una amplia gama de ingresos entre los encuestados. Esto se ve reflejado en el coeficiente de variación del 94%, lo cual implica una heterogeneidad significativa en los ingresos. El rango de ingresos es amplio, desde personas sin ingresos laborales hasta individuos que ganan 30,000,000 pesos, lo que puede reflejar diferencias en el tipo de empleo, la industria, o la educación."
      ],
      "metadata": {
        "id": "IZchNqk1VbSg"
      }
    },
    {
      "cell_type": "code",
      "source": [
        "variables_cuantitativas = ['EDAD', 'TIEMPO_LAB', 'INGLABO']\n",
        "\n",
        "# Obtener estadísticas descriptivas\n",
        "estadisticas_descriptivas = data[variables_cuantitativas].describe()\n",
        "\n",
        "# Calcular el coeficiente de variación para cada variable cuantitativa y añadirlo al DataFrame de estadísticas descriptivas\n",
        "coef_var = data[variables_cuantitativas].std() / data[variables_cuantitativas].mean()\n",
        "estadisticas_descriptivas.loc['coef_var'] = coef_var * 100  # Multiplicar por 100 para obtener el porcentaje\n",
        "\n",
        "# Imprimir la tabla actualizada con el coeficiente de variación\n",
        "print(round(estadisticas_descriptivas))\n",
        "\n"
      ],
      "metadata": {
        "id": "CJA0Zkf2St9K"
      },
      "execution_count": null,
      "outputs": []
    },
    {
      "cell_type": "code",
      "source": [
        "import pandas as pd\n",
        "import seaborn as sns\n",
        "import matplotlib.pyplot as plt\n",
        "\n",
        "\n",
        "# Calculamos la matriz de correlación para las variables seleccionadas.\n",
        "matriz_correlacion = data[variables_cuantitativas].corr()\n",
        "\n",
        "# Configuramos el estilo visual de seaborn para los gráficos.\n",
        "sns.set(style=\"white\")\n",
        "\n",
        "# Creamos la figura de matplotlib.\n",
        "plt.figure(figsize=(10, 8))\n",
        "\n",
        "# Dibujamos el mapa de calor con la matriz de correlación.\n",
        "# 'annot=True' añade las etiquetas de los valores de correlación en cada celda del mapa de calor.\n",
        "# 'fmt=\".2f\"' formatea los números flotantes a 2 decimales.\n",
        "# 'cmap' define el mapa de colores a utilizar.\n",
        "sns.heatmap(matriz_correlacion, annot=True, fmt=\".2f\", cmap='coolwarm')\n",
        "\n",
        "# Añadimos un título al gráfico.\n",
        "plt.title('Diagrama de Correlación entre Variables Cuantitativas')\n",
        "\n",
        "# Mostramos el gráfico.\n",
        "plt.show()\n"
      ],
      "metadata": {
        "id": "KjiNrq1yaxMR"
      },
      "execution_count": null,
      "outputs": []
    },
    {
      "cell_type": "markdown",
      "source": [
        "Estadísticamente se puede observar en el gráfico que la mayoría de las personas en esta población joven tienen un tiempo laborado de pocos meses, con una tendencia hacia tiempos laborados más cortos. Sin embargo, hay individuos que son excepciones con tiempos laborados significativamente más altos. El hecho de que los datos sean multimodales y sesgados positivamente puede sugerir que hay diferentes patrones o factores que influyen en el tiempo laborado."
      ],
      "metadata": {
        "id": "k2YFyY8uVPql"
      }
    },
    {
      "cell_type": "code",
      "source": [
        "plt.figure(figsize=(20, 6))\n",
        "\n",
        "# Crea una grilla de 1 fila y 2 columnas\n",
        "fig, (ax1, ax2) = plt.subplots(1, 2, figsize=(20, 6))\n",
        "\n",
        "# Histograma de INGLABO en el primer eje\n",
        "sns.histplot(data['TIEMPO_LAB'], bins=30, kde=True, ax=ax1)\n",
        "ax1.set_title('Distribución de Tiempo Laborado')\n",
        "ax1.set_xlabel('Tiempo en Meses')\n",
        "ax1.set_ylabel('Frecuencia')\n",
        "\n",
        "# Diagrama de caja de INGLABO en el segundo eje\n",
        "sns.boxplot(x=data['TIEMPO_LAB'], ax=ax2)\n",
        "ax2.set_title('Tiempo Laborado')\n",
        "ax2.set_xlabel('Tiempo en Meses')\n",
        "\n",
        "# Muestra la figura con ambos gráficos\n",
        "plt.tight_layout()\n",
        "plt.show()\n",
        "\n"
      ],
      "metadata": {
        "id": "_2LNZbv-VQaT"
      },
      "execution_count": null,
      "outputs": []
    },
    {
      "cell_type": "markdown",
      "source": [
        "Los siguientes gráficos indican que la población estudiada tiene una gran mayoría con ingresos bajos, con una dispersión muy pequeña para la mitad central de la población. Sin embargo, hay unos pocos casos con ingresos extremadamente altos, lo que produce una gran asimetría en la distribución total de ingresos. Esto puede indicar una gran desigualdad en la distribución de ingresos dentro de la muestra analizada."
      ],
      "metadata": {
        "id": "0zzfdQSRVUHN"
      }
    },
    {
      "cell_type": "code",
      "source": [
        "plt.figure(figsize=(20, 6))\n",
        "\n",
        "# Crea una grilla de 1 fila y 2 columnas\n",
        "fig, (ax1, ax2) = plt.subplots(1, 2, figsize=(20, 6))\n",
        "\n",
        "# Histograma de INGLABO en el primer eje\n",
        "sns.histplot(data['INGLABO'], bins=50, kde=True, ax=ax1)\n",
        "ax1.set_title('Distribución de Ingresos Laborales')\n",
        "ax1.set_xlabel('Ingresos Laborales en COP')\n",
        "ax1.set_ylabel('Frecuencia')\n",
        "\n",
        "# Diagrama de caja de INGLABO en el segundo eje\n",
        "sns.boxplot(x=data['INGLABO'], ax=ax2)\n",
        "ax2.set_title('Ingresos Laborales')\n",
        "ax2.set_xlabel('Ingresos Laborales en COP')\n",
        "\n",
        "# Muestra la figura con ambos gráficos\n",
        "plt.tight_layout()\n",
        "plt.show()"
      ],
      "metadata": {
        "id": "YoECHZswVTZ6"
      },
      "execution_count": null,
      "outputs": []
    },
    {
      "cell_type": "markdown",
      "source": [
        "Respecto a la edad, existe una asimetría negativa, sugiriendo que las edades de la muestra analizada se concentran ligeramente en los valores más altos de la distribución. Recordemos que, por objetivos del estudio, se acotó la edad entre 18 y 28 años."
      ],
      "metadata": {
        "id": "geZ4XL0yhlof"
      }
    },
    {
      "cell_type": "code",
      "source": [
        "plt.figure(figsize=(20, 6))\n",
        "\n",
        "# Crea una grilla de 1 fila y 2 columnas\n",
        "fig, (ax1, ax2) = plt.subplots(1, 2, figsize=(20, 6))\n",
        "\n",
        "# Histograma de INGLABO en el primer eje\n",
        "sns.histplot(data['EDAD'], bins=50, kde=True, ax=ax1)\n",
        "ax1.set_title('Distribución de la Edad')\n",
        "ax1.set_xlabel('Edad en Años')\n",
        "ax1.set_ylabel('Frecuencia')\n",
        "\n",
        "# Diagrama de caja de INGLABO en el segundo eje\n",
        "sns.boxplot(x=data['EDAD'], ax=ax2)\n",
        "ax2.set_title('Edad')\n",
        "ax2.set_xlabel('Edad en Años')\n",
        "\n",
        "# Muestra la figura con ambos gráficos\n",
        "plt.tight_layout()\n",
        "plt.show()"
      ],
      "metadata": {
        "id": "ArnUZVPthmX-"
      },
      "execution_count": null,
      "outputs": []
    },
    {
      "cell_type": "markdown",
      "source": [
        "La edad, el tiempo laborado y los ingresos, no están correlacionadas fuertemente, por lo menos no linealmente como lo indica la matriz."
      ],
      "metadata": {
        "id": "shN_d6Gvj21b"
      }
    },
    {
      "cell_type": "code",
      "source": [
        "correlation_matrix = data[['EDAD', 'TIEMPO_LAB', 'INGLABO']].corr()\n",
        "\n",
        "# Mostrar la matriz de correlación\n",
        "print(correlation_matrix)"
      ],
      "metadata": {
        "id": "bVWLWRjchKKM"
      },
      "execution_count": null,
      "outputs": []
    },
    {
      "cell_type": "markdown",
      "source": [
        "El gráfico de pastel muestra la distribución por sexo de los encuestados en la muestra laboral de Colombia, con un 57.1% de participantes masculinos y un 42.9% de participantes femeninos. Esta distribución indica que hay una mayor representación masculina en la fuerza laboral dentro de la población estudiada. Este desbalance en la participación por género puede ser relevante al analizar las diferencias en los ingresos laborales entre hombres y mujeres y podría reflejar dinámicas subyacentes en el mercado laboral colombiano que afectan la equidad de género en términos de oportunidades de empleo y condiciones laborales."
      ],
      "metadata": {
        "id": "5sKAloR0ncc5"
      }
    },
    {
      "cell_type": "code",
      "source": [
        "# Diagrama de torta para Sexo\n",
        "sex_counts = data['SEXO'].value_counts()\n",
        "plt.figure(figsize=(8, 8))\n",
        "plt.pie(sex_counts, labels=['Masculino', 'Femenino'], autopct='%1.1f%%', startangle=140)\n",
        "plt.title('Distribución por Sexo')\n",
        "plt.show()"
      ],
      "metadata": {
        "id": "GYSg5INinbMU"
      },
      "execution_count": null,
      "outputs": []
    },
    {
      "cell_type": "markdown",
      "source": [
        "El gráfico de pastel muestra la distribución del tipo de contrato de los encuestados en la muestra laboral de Colombia, con un 70.4% de los individuos teniendo un contrato formal y un 29.6% trabajando sin contrato. Este dato es relevante en el análisis de la equidad de género en el ámbito laboral, ya que la existencia de un contrato formal puede influir en la estabilidad laboral y, por ende, en los ingresos. La brecha entre aquellos con y sin contrato sugiere que casi un tercio de la muestra podría estar en empleos más precarios o informales, lo cual podría afectar de manera desproporcionada a uno de los géneros y ser un factor importante en la existencia de disparidades salariales."
      ],
      "metadata": {
        "id": "nw_4BW4susLW"
      }
    },
    {
      "cell_type": "code",
      "source": [
        "# Diagrama de torta para Contrato\n",
        "contract_counts = data['CONTRTATO'].value_counts()\n",
        "plt.figure(figsize=(8, 8))\n",
        "plt.pie(contract_counts, labels=['Con contrato', 'Sin contrato'], autopct='%1.1f%%', startangle=140)\n",
        "plt.title('Distribución por Tipo de Contrato')\n",
        "plt.show()"
      ],
      "metadata": {
        "id": "lO6F28ebtEuA"
      },
      "execution_count": null,
      "outputs": []
    },
    {
      "cell_type": "markdown",
      "source": [
        "La tabla cruzada en porcentajes muestra que, en la muestra estudiada, un mayor porcentaje de hombres (37.9%) tiene contrato laboral en comparación con las mujeres (32.48%), y esta tendencia se mantiene entre quienes no tienen contrato, siendo los hombres sin contrato (19.19%) más que las mujeres en la misma situación (10.43%). En total, los hombres representan el 57.09% de la muestra, mientras que las mujeres constituyen el 42.91%. Esto sugiere que, dentro de esta población joven adulta colombiana, los hombres tienen una mayor presencia en el mercado laboral formal. A la vez, más de dos tercios de la muestra total (70.38%) tienen contratos de trabajo, lo que refleja una inclinación hacia la formalidad laboral en esta cohorte."
      ],
      "metadata": {
        "id": "iFsYxi6rwRyr"
      }
    },
    {
      "cell_type": "code",
      "source": [
        "tabla_cruzada = pd.crosstab(data['SEXO'], data['CONTRTATO'])\n",
        "\n",
        "# Calculamos los porcentajes respecto al total general\n",
        "tabla_porcentaje = (tabla_cruzada / tabla_cruzada.sum().sum()) * 100\n",
        "\n",
        "# Opcionalmente, si queremos agregar los porcentajes marginales (por filas y columnas)\n",
        "# Podemos hacerlo de la siguiente manera:\n",
        "tabla_porcentaje_marginal = pd.crosstab(data['SEXO'], data['CONTRTATO'], normalize='all') * 100\n",
        "tabla_porcentaje_marginal['Total'] = tabla_porcentaje_marginal.sum(axis=1)\n",
        "tabla_porcentaje_marginal.loc['Total'] = tabla_porcentaje_marginal.sum()\n",
        "\n",
        "# Renombrar las filas y columnas para mayor claridad\n",
        "tabla_porcentaje_marginal.index = ['Masculino', 'Femenino', 'Total']\n",
        "tabla_porcentaje_marginal.columns = ['Con contrato', 'Sin contrato', 'Total']\n",
        "\n",
        "# Imprimir la tabla cruzada con porcentajes\n",
        "tabla_porcentaje_marginal\n"
      ],
      "metadata": {
        "id": "yrYegw3rvvrl"
      },
      "execution_count": null,
      "outputs": []
    },
    {
      "cell_type": "markdown",
      "source": [
        "El gráfico de barras y la tabla, muestran la distribución del nivel educativo en una muestra de la población, destacándose que la mayoría de los encuestados ha alcanzado la educación media académica (Bachillerato clásico) con un 41%, seguido por un relevante 19.9% que ha completado la educación universitaria. Los niveles de maestría y doctorado tienen una representación mínima, con solo el 0.3% y el 0% respectivamente, indicando una baja proporción de individuos con estudios de posgrado en la muestra. Esto sugiere que, en esta muestra específica, la educación superior no universitaria (técnica, tecnológica) y la educación media son los niveles educativos más comunes."
      ],
      "metadata": {
        "id": "apZMHT_3txVc"
      }
    },
    {
      "cell_type": "code",
      "source": [
        "educ_counts = data['NIV_EDUC'].value_counts().sort_index()\n",
        "\n",
        "# Creamos el DataFrame con la descripción de las categorías\n",
        "categorias_descripcion = pd.DataFrame({\n",
        "    'Categoría': [\n",
        "        1, 2, 3, 4, 5, 6, 7, 8, 9, 10, 11, 12, 13, 99\n",
        "    ],\n",
        "    'Descripción': [\n",
        "        'Ninguno',\n",
        "        'Preescolar',\n",
        "        'Básica primaria (1o - 5o)',\n",
        "        'Básica secundaria (6o - 9o)',\n",
        "        'Media académica (Bachillerato clásico)',\n",
        "        'Media técnica (Bachillerato técnico)',\n",
        "        'Normalista',\n",
        "        'Técnica profesional',\n",
        "        'Tecnológica',\n",
        "        'Universitaria',\n",
        "        'Especialización',\n",
        "        'Maestría',\n",
        "        'Doctorado',\n",
        "        'No sabe, no informa'\n",
        "    ]\n",
        "})\n",
        "\n",
        "# Calculamos el porcentaje de cada categoría\n",
        "total = educ_counts.sum()\n",
        "categorias_descripcion['Frecuencia'] = categorias_descripcion['Categoría'].map(educ_counts)  # Mapeamos las frecuencias\n",
        "categorias_descripcion['Porcentaje'] = (categorias_descripcion['Frecuencia'] / total) * 100\n",
        "\n",
        "# Eliminamos la fila donde la categoría es 'No sabe, no informa' si no deseas incluirlo\n",
        "categorias_descripcion = categorias_descripcion[categorias_descripcion['Categoría'] != 99]\n",
        "\n",
        "# Ordenamos el DataFrame por categoría si es necesario\n",
        "categorias_descripcion = categorias_descripcion.sort_values(by='Categoría')\n",
        "\n",
        "# Mostramos la tabla\n",
        "print(categorias_descripcion)\n"
      ],
      "metadata": {
        "id": "ExL9klwYsWM4"
      },
      "execution_count": null,
      "outputs": []
    },
    {
      "cell_type": "code",
      "source": [
        "# Configuramos el tamaño del gráfico\n",
        "plt.figure(figsize=(10,8))\n",
        "\n",
        "# Creamos el gráfico de barras\n",
        "plt.bar(categorias_descripcion['Descripción'], categorias_descripcion['Porcentaje'])\n",
        "\n",
        "# Añadir título y etiquetas a los ejes\n",
        "plt.title('Porcentaje de Nivel Educativo')\n",
        "plt.xlabel('Nivel Educativo')\n",
        "plt.ylabel('Porcentaje (%)')\n",
        "\n",
        "# Mejora la visualización girando las etiquetas del eje x\n",
        "plt.xticks(rotation=90)\n",
        "\n",
        "# Mostrar valores en las barras\n",
        "for i, v in enumerate(categorias_descripcion['Porcentaje']):\n",
        "    plt.text(i, v + 0.5, \"{:.1f}%\".format(v), ha='center')\n",
        "\n",
        "# Ajusta subtramas para que las etiquetas no se corten\n",
        "plt.tight_layout()\n",
        "\n",
        "# Mostrar gráfico\n",
        "plt.show()\n"
      ],
      "metadata": {
        "id": "3aPd-Vw1s3bg"
      },
      "execution_count": null,
      "outputs": []
    },
    {
      "cell_type": "markdown",
      "source": [
        "## Tamaño de Muestra Etapa I"
      ],
      "metadata": {
        "id": "CRqoKU_k3A3S"
      }
    },
    {
      "cell_type": "code",
      "source": [
        "# Estableciendo los valores dados\n",
        "S_squared = 128\n",
        "N = data.shape[0]\n",
        "print(N)\n",
        "\n",
        "# El valor Z para un nivel de confianza del 95%\n",
        "Z = norm.ppf(0.975)\n",
        "\n",
        "# Margen de error para un año\n",
        "EM = 1  # Un año de margen de error\n",
        "\n",
        "# Calculando el tamaño de muestra necesario para un margen de error de un año\n",
        "n_1 = (Z**2 * S_squared ) / (EM**2 + (Z**2 * S_squared ) / N)\n",
        "\n",
        "# Mostrar el tamaño\n",
        "print(f\"El tamaño de muestra necesario para un margen de error de 1 año es: {n_1:.2f}\")\n"
      ],
      "metadata": {
        "id": "8E-bCJok3EWe"
      },
      "execution_count": null,
      "outputs": []
    },
    {
      "cell_type": "markdown",
      "source": [
        "## Tamaño de Muestra Etapa II"
      ],
      "metadata": {
        "id": "clHL0HBO6zDa"
      }
    },
    {
      "cell_type": "code",
      "source": [
        "# Estableciendo los valores dados\n",
        "S_squared = 128\n",
        "N = 448\n",
        "\n",
        "# El valor Z para un nivel de confianza del 95%\n",
        "Z = norm.ppf(0.975)\n",
        "\n",
        "# Margen de error para un año\n",
        "EM = 1  # Un año de margen de error\n",
        "\n",
        "# Calculando el tamaño de muestra necesario para un margen de error de un año\n",
        "n_1 = (Z**2 * S_squared ) / (EM**2 + (Z**2 * S_squared ) / N)\n",
        "\n",
        "# Mostrar el tamaño\n",
        "print(f\"El tamaño de muestra necesario para un margen de error de 1 año es: {n_1:.2f}\")"
      ],
      "metadata": {
        "id": "thsiLIjGG9Up"
      },
      "execution_count": null,
      "outputs": []
    },
    {
      "cell_type": "markdown",
      "source": [
        "## Obtención de muestra"
      ],
      "metadata": {
        "id": "n3S2Wvs-j6D6"
      }
    },
    {
      "cell_type": "code",
      "source": [
        "# Definir la semilla para la replicabilidad\n",
        "random_state = 1\n",
        "\n",
        "# Definir el número de submuestras que quieres crear\n",
        "numero_de_submuestras = 11  # Ajusta este número según sea necesario\n",
        "\n",
        "# Crear un DataFrame vacío para almacenar todas las submuestras\n",
        "todas_las_submuestras = pd.DataFrame()\n",
        "\n",
        "# Generar las submuestras y almacenarlas\n",
        "for i in range(numero_de_submuestras):\n",
        "    submuestra = data.sample(n=448, replace=False, random_state=random_state+i)\n",
        "    todas_las_submuestras = todas_las_submuestras.append(submuestra)\n",
        "\n",
        "# Eliminar duplicados en caso de que un individuo aparezca en más de una submuestra\n",
        "todas_las_submuestras = todas_las_submuestras.drop_duplicates()\n",
        "\n",
        "# Asegurarse de que hay suficientes individuos únicos para la muestra final\n",
        "if todas_las_submuestras.shape[0] < 235:\n",
        "    raise ValueError(\"No hay suficientes individuos únicos para la muestra final.\")\n",
        "\n",
        "# Tomar una muestra final de 235 individuos de la unión de todas las submuestras\n",
        "muestra_final = todas_las_submuestras.sample(n=235, replace=False, random_state=random_state)\n",
        "\n",
        "# Mostrar las primeras filas de la muestra final para verificar\n",
        "print(muestra_final.head())\n",
        "\n",
        "# Opcional: Guardar la muestra final en un archivo CSV\n",
        "# muestra_final.to_csv('muestra_final_235.csv', index=False)\n"
      ],
      "metadata": {
        "id": "jUOe6KTBjxp9"
      },
      "execution_count": null,
      "outputs": []
    },
    {
      "cell_type": "code",
      "source": [
        "muestra_final.shape[0]\n",
        "# Mostrar las primeras filas para entender la estructura\n",
        "muestra_final.head()"
      ],
      "metadata": {
        "id": "-AkBDH9Mn83i"
      },
      "execution_count": null,
      "outputs": []
    },
    {
      "cell_type": "code",
      "source": [
        "variables_cuanti = ['EDAD', 'TIEMPO_LAB', 'INGLABO']\n",
        "\n",
        "# Obtener estadísticas descriptivas\n",
        "estadisticas_descriptivas = muestra_final[variables_cuanti].describe()\n",
        "\n",
        "# Calcular el coeficiente de variación para cada variable cuantitativa y añadirlo al DataFrame de estadísticas descriptivas\n",
        "coef_var = muestra_final[variables_cuanti].std() / muestra_final[variables_cuanti].mean()\n",
        "estadisticas_descriptivas.loc['coef_var'] = coef_var * 100  # Multiplicar por 100 para obtener el porcentaje\n",
        "\n",
        "# Imprimir la tabla actualizada con el coeficiente de variación\n",
        "print(round(estadisticas_descriptivas))"
      ],
      "metadata": {
        "id": "0rn71kGgmUM7"
      },
      "execution_count": null,
      "outputs": []
    },
    {
      "cell_type": "code",
      "source": [
        "# Calcula la proporción de cada sexo en el DataFrame y multiplica por 100 para obtener porcentajes\n",
        "proporciones_sexo = data['SEXO'].value_counts(normalize=True) * 100\n",
        "\n",
        "# Convierte las proporciones a DataFrame para una mejor presentación y agrega una columna de nombres\n",
        "tabla_proporciones_sexo = pd.DataFrame(proporciones_sexo).reset_index()\n",
        "tabla_proporciones_sexo.columns = ['Sexo', 'Proporción (%)']\n",
        "\n",
        "# Imprime la tabla de proporciones\n",
        "print(tabla_proporciones_sexo)\n",
        "\n",
        "# Si deseas guardar esta tabla en un archivo CSV, descomenta la siguiente línea:\n",
        "# tabla_proporciones_sexo.to_csv('proporciones_sexo.csv', index=False)\n"
      ],
      "metadata": {
        "id": "0DH2yY2uqxOI"
      },
      "execution_count": null,
      "outputs": []
    },
    {
      "cell_type": "code",
      "source": [
        "# Calcula la proporción de cada sexo en el DataFrame y multiplica por 100 para obtener porcentajes\n",
        "proporciones_sexo = muestra_final['SEXO'].value_counts(normalize=True) * 100\n",
        "\n",
        "# Convierte las proporciones a DataFrame para una mejor presentación y agrega una columna de nombres\n",
        "tabla_proporciones_sexo = pd.DataFrame(proporciones_sexo).reset_index()\n",
        "tabla_proporciones_sexo.columns = ['Sexo', 'Proporción (%)']\n",
        "\n",
        "# Imprime la tabla de proporciones\n",
        "print(tabla_proporciones_sexo)\n",
        "\n",
        "# Si deseas guardar esta tabla en un archivo CSV, descomenta la siguiente línea:\n",
        "# tabla_proporciones_sexo.to_csv('proporciones_sexo.csv', index=False)"
      ],
      "metadata": {
        "id": "0yBroMXbt-7f"
      },
      "execution_count": null,
      "outputs": []
    },
    {
      "cell_type": "code",
      "source": [
        "import pandas as pd\n",
        "import scipy.stats as stats\n",
        "\n",
        "\n",
        "# Calcula la media y el error estándar de la media (SEM) para la variable 'EDAD'\n",
        "edad_mean = muestra_final['EDAD'].mean()\n",
        "edad_sem = stats.sem(muestra_final['EDAD'])\n",
        "\n",
        "# Calcula el intervalo de confianza del 95% para la media de 'EDAD'\n",
        "ci_edad = stats.t.interval(0.95, df=len(muestra_final['EDAD'])-1, loc=edad_mean, scale=edad_sem)\n",
        "\n",
        "# Calcula la media y el error estándar de la media (SEM) para la variable 'INGLABO'\n",
        "inglabo_mean = muestra_final['INGLABO'].mean()\n",
        "inglabo_sem = stats.sem(muestra_final['INGLABO'])\n",
        "\n",
        "# Calcula el intervalo de confianza del 95% para la media de 'INGLABO'\n",
        "ci_inglabo = stats.t.interval(0.95, df=len(muestra_final['INGLABO'])-1, loc=inglabo_mean, scale=inglabo_sem)\n",
        "\n",
        "# Calcula la proporción de mujeres (suponiendo que '2' representa femenino) y su intervalo de confianza\n",
        "prop_mujeres = muestra_final[muestra_final['SEXO'] == 2].shape[0] / muestra_final.shape[0]\n",
        "# El error estándar para la proporción\n",
        "se_prop_mujeres = np.sqrt(prop_mujeres * (1 - prop_mujeres) / muestra_final.shape[0])\n",
        "# Calcula el intervalo de confianza del 95% para la proporción de mujeres\n",
        "ci_prop_mujeres = stats.norm.interval(0.95, loc=prop_mujeres, scale=se_prop_mujeres)\n",
        "\n",
        "(ci_edad, ci_inglabo, ci_prop_mujeres)\n"
      ],
      "metadata": {
        "id": "8UQartKR2I4T"
      },
      "execution_count": null,
      "outputs": []
    },
    {
      "cell_type": "code",
      "source": [
        "# Separar los datos por sexo\n",
        "data_hombres = muestra_final[muestra_final['SEXO'] == 1]['INGLABO']\n",
        "data_mujeres = muestra_final[muestra_final['SEXO'] == 2]['INGLABO']\n",
        "\n",
        "# Calcular las medias y los errores estándar para cada grupo\n",
        "media_hombres = data_hombres.mean()\n",
        "media_mujeres = data_mujeres.mean()\n",
        "std_hombres = data_hombres.std()\n",
        "std_mujeres = data_mujeres.std()\n",
        "n_hombres = len(data_hombres)\n",
        "n_mujeres = len(data_mujeres)\n",
        "\n",
        "# Calcular el error estándar de la diferencia de medias\n",
        "std_error_diff = np.sqrt(std_hombres**2 / n_hombres + std_mujeres**2 / n_mujeres)\n",
        "\n",
        "# Calcular el intervalo de confianza para la diferencia de medias\n",
        "confianza = 0.95\n",
        "z_score = stats.norm.ppf(1 - (1 - confianza) / 2)\n",
        "ci_diff = z_score * std_error_diff\n",
        "\n",
        "# Intervalo de confianza para la diferencia de medias\n",
        "ci_lower = (media_hombres - media_mujeres) - ci_diff\n",
        "ci_upper = (media_hombres - media_mujeres) + ci_diff\n",
        "\n",
        "(ci_lower, ci_upper)\n"
      ],
      "metadata": {
        "id": "iiifYEGk944e"
      },
      "execution_count": null,
      "outputs": []
    }
  ]
}