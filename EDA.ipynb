{
  "nbformat": 4,
  "nbformat_minor": 0,
  "metadata": {
    "colab": {
      "private_outputs": true,
      "provenance": [],
      "cell_execution_strategy": "setup",
      "include_colab_link": true
    },
    "kernelspec": {
      "name": "python3",
      "display_name": "Python 3"
    },
    "language_info": {
      "name": "python"
    }
  },
  "cells": [
    {
      "cell_type": "markdown",
      "metadata": {
        "id": "view-in-github",
        "colab_type": "text"
      },
      "source": [
        "<a href=\"https://colab.research.google.com/github/bonillahermes/Data_Science_Projects/blob/main/EDA.ipynb\" target=\"_parent\"><img src=\"https://colab.research.google.com/assets/colab-badge.svg\" alt=\"Open In Colab\"/></a>"
      ]
    },
    {
      "cell_type": "markdown",
      "source": [
        "# Hermes Yate Bonilla\n",
        "**Data Scientist**\n",
        "---\n",
        "\n",
        "**Contact:**\n",
        "- **Email:** [bonillahermes@gmail.com](mailto:bonillahermes@gmail.com)\n",
        "- **LinkedIn:** [linkedin.com/in/bonillahermes](https://www.linkedin.com/in/bonillahermes/)\n",
        "- **GitHub:** [github.com/bonillahermes](https://github.com/bonillahermes)\n",
        "- **Webpage:** [bonillahermes.com](https://bonillahermes.com/)\n",
        "---"
      ],
      "metadata": {
        "id": "3s1CgAkp9RT2"
      }
    },
    {
      "cell_type": "markdown",
      "source": [
        "# **Análisis de Equidad de Género en el Mercado Laboral Colombiano**"
      ],
      "metadata": {
        "id": "BanvAzzIRzTO"
      }
    },
    {
      "cell_type": "markdown",
      "source": [
        "# Abstract\n",
        "\n",
        "Este estudio analiza la equidad de género en el mercado laboral colombiano utilizando datos de la Gran Encuesta Integrada de Hogares (GEIH) de octubre de 2022. Se examinaron variables como ingresos laborales, tiempo laborado, género y tipo de contrato. Los resultados indican una gran variabilidad en los ingresos y el tiempo laborado entre jóvenes adultos de 18 a 28 años en Colombia. A pesar de la dispersión en los datos, no se encontraron pruebas estadísticas suficientes para afirmar que el ingreso promedio de estos jóvenes es menor al salario mínimo. Además, se observó que los hombres tienen una mayor representación en el mercado laboral formal en comparación con las mujeres. Sin embargo, en términos de ingresos y tiempo laborado, no se encontraron diferencias significativas entre géneros. Estos hallazgos sugieren la existencia de desafíos en la equidad de género en el acceso a oportunidades laborales, pero no necesariamente en la remuneración.\n"
      ],
      "metadata": {
        "id": "xLEnYCD89UNe"
      }
    },
    {
      "cell_type": "markdown",
      "source": [
        "# Introducción\n",
        "\n",
        "En Colombia, como en muchas partes del mundo, la equidad de género en el ámbito laboral es un tema de relevante interés social y económico. Diferencias en los ingresos entre hombres y mujeres pueden ser indicativas de disparidades subyacentes en oportunidades, acceso a la educación y discriminación en el lugar de trabajo. Este proyecto busca examinar la posible existencia de brechas salariales entre géneros en el mercado laboral colombiano, utilizando datos recientes de la Gran Encuesta Integrada de Hogares (GEIH) administrada por el DANE en octubre de 2022.\n",
        "\n",
        "# Objetivos\n",
        "\n",
        "## Objetivo General:\n",
        "\n",
        "Analizar los datos de la GEIH para identificar evidencias significativas de diferencias en los ingresos laborales entre hombres y mujeres en Colombia.\n",
        "\n",
        "## Objetivos Específicos:\n",
        "\n",
        "1. Describir las características demográficas y socioeconómicas de la muestra laboral.\n",
        "2. Estimar la diferencia media de ingresos entre hombres y mujeres.\n",
        "3. Determinar la significancia estadística de las diferencias observadas.\n",
        "4. Interpretar los resultados en el contexto de la literatura económica y social existente.\n",
        "\n",
        "# Metodología\n",
        "\n",
        "Para el desarrollo de este estudio se empleará un enfoque cuantitativo descriptivo y analítico. Se utilizarán técnicas estadísticas para comparar los ingresos medios y medianos entre hombres y mujeres y se realizarán pruebas de hipótesis para evaluar la significancia de las diferencias encontradas. El procesamiento y análisis de datos se llevarán a cabo mediante la plataforma Google Colab, utilizando Python y sus bibliotecas de análisis de datos como Pandas, NumPy y SciPy.\n",
        "\n",
        "# Descripción de la Base de Datos\n",
        "\n",
        "La base de datos proviene de la Gran Encuesta Integrada de Hogares del DANE, específicamente del mes de octubre de 2022. La muestra final, después de la limpieza de datos, cuenta con 27631 personas adultas jóvenes (entre los 18 y 28 años), con ingresos menor al salario de un congresista (33 SMLV) y con un tiempo laboral menor a 90 meses. Las variables son:\n",
        "\n",
        "- ID: Identificador único para cada encuestado.\n",
        "- DPTO: Código del departamento.\n",
        "- SEXO: Género del encuestado, donde 1 representa masculino y 2 femenino.\n",
        "- EDAD: Edad del encuestado en años.\n",
        "- NIV_EDUC: Nivel educativo del encuestado, con una escala donde 1 puede indicar educación primaria y los números más altos representan niveles superiores de educación.\n",
        "- CONTRATO: Si la persona tiene (1) o no (2) un contrato formal\n",
        "- TIEMPO_LAB: Tiempo en el último empleo medido en meses.\n",
        "- INGLABO: Ingresos laborales del encuestado en pesos colombianos.\n",
        "\n",
        "Cada registro en la base de datos corresponde a un individuo encuestado y su información respectiva en las variables mencionadas."
      ],
      "metadata": {
        "id": "vNY5V3_Y8okF"
      }
    },
    {
      "cell_type": "markdown",
      "source": [
        "# Preliminares"
      ],
      "metadata": {
        "id": "LqcqjnT56eyK"
      }
    },
    {
      "cell_type": "markdown",
      "source": [
        "## Carga de Base de Datos e Importación de Librerías Necesarias"
      ],
      "metadata": {
        "id": "MhaLZe06CzKJ"
      }
    },
    {
      "cell_type": "code",
      "source": [
        "from google.colab import drive\n",
        "\n",
        "# Monta tu Google Drive\n",
        "drive.mount('/content/drive')"
      ],
      "metadata": {
        "id": "3r1YipOr7DnO"
      },
      "execution_count": null,
      "outputs": []
    },
    {
      "cell_type": "code",
      "execution_count": null,
      "metadata": {
        "id": "uSDt5IvO5wqP"
      },
      "outputs": [],
      "source": [
        "import pandas as pd\n",
        "import numpy as np\n",
        "import seaborn as sns\n",
        "import scipy.stats as stats\n",
        "import matplotlib.pyplot as plt\n",
        "import plotly.express as px\n",
        "from scipy.stats import shapiro"
      ]
    },
    {
      "cell_type": "code",
      "source": [
        "# Ruta del archivo Excel en tu Google Drive\n",
        "ruta_archivo = '/content/drive/MyDrive/Bases/BaseAlejandra.csv'\n",
        "\n",
        "# Cargar el archivo Excel en un DataFrame de Pandas\n",
        "data = pd.read_csv(ruta_archivo)\n",
        "\n",
        "# Mostrar las primeras filas para entender la estructura\n",
        "data.head()"
      ],
      "metadata": {
        "id": "UQNEW5Iz7EfR"
      },
      "execution_count": null,
      "outputs": []
    },
    {
      "cell_type": "code",
      "source": [
        "# Información general sobre el DataFrame\n",
        "info = data.info()"
      ],
      "metadata": {
        "id": "-UxYEl3n71RW"
      },
      "execution_count": null,
      "outputs": []
    },
    {
      "cell_type": "code",
      "source": [
        "# Valores nulos\n",
        "valores_nulos = data.isnull().sum()\n",
        "valores_nulos"
      ],
      "metadata": {
        "id": "nkMYL1798Cjf"
      },
      "execution_count": null,
      "outputs": []
    },
    {
      "cell_type": "markdown",
      "source": [
        "# Estadísticas Descriptivas Globales"
      ],
      "metadata": {
        "id": "wpPVkKDS79i7"
      }
    },
    {
      "cell_type": "markdown",
      "source": [
        "En promedio, los jóvenes adultos entre 18 y 28 años han trabajado 18.29 meses, con una desviación estándar de 19.44 meses, evidenciando una gran variabilidad en la experiencia laboral. La mayoría ha trabajado un año o menos, como lo indica la mediana de 12 meses, pero algunos han acumulado hasta 7 años y medio de trabajo, lo que podría reflejar tanto precocidad en la incorporación al mercado laboral como la posibilidad de trabajos concurrentes o sucesivos durante este periodo de vida.\n",
        "\n",
        "Los ingresos laborales de estos jóvenes adultos tienen un promedio de 1,057,697.83 COP, pero con una dispersión casi tan alta como el promedio (1,037,946.50 COP), lo que muestra una diferencia significativa en los ingresos entre individuos. La mediana de 1,000,000 COP sugiere que la mitad de los jóvenes percibe hasta este monto, mientras que un máximo reportado de 30,000,000 COP indica la presencia de jóvenes con ingresos laborales excepcionales en el grupo.\n",
        "\n",
        "En promedio, los jóvenes adultos en la encuesta tienen alrededor de 24 años, con una dispersión baja de apenas 3 años.\n"
      ],
      "metadata": {
        "id": "qU69QWqDUp4-"
      }
    },
    {
      "cell_type": "code",
      "source": [
        "# Suponiendo que 'data' es tu DataFrame y 'EDAD' es la columna con la información de la edad.\n",
        "data = data[(data['EDAD'] >= 18) & (data['EDAD'] <= 28) & (data['TIEMPO_LAB'] <=90) & (data['INGLABO']<=33000000)]\n",
        "\n",
        "# Estadísticas descriptivas para 'TIEMPO_LAB' y 'INGLABO'\n",
        "estadisticas_descriptivas = data[['TIEMPO_LAB', 'INGLABO', 'EDAD']].describe()\n",
        "estadisticas_descriptivas\n"
      ],
      "metadata": {
        "id": "aJ51JN1G9x8K"
      },
      "execution_count": null,
      "outputs": []
    },
    {
      "cell_type": "markdown",
      "source": [
        "Estadísticamente se puede observar en el gráfico que la mayoría de las personas en esta población joven tienen un tiempo laborado de pocos meses, con una tendencia hacia tiempos laborados más cortos. Sin embargo, hay individuos que son excepciones con tiempos laborados significativamente más altos. El hecho de que los datos sean multimodales y sesgados positivamente puede sugerir que hay diferentes patrones o factores que influyen en el tiempo laborado."
      ],
      "metadata": {
        "id": "k2YFyY8uVPql"
      }
    },
    {
      "cell_type": "code",
      "source": [
        "plt.figure(figsize=(20, 6))\n",
        "\n",
        "# Crea una grilla de 1 fila y 2 columnas\n",
        "fig, (ax1, ax2) = plt.subplots(1, 2, figsize=(20, 6))\n",
        "\n",
        "# Histograma de INGLABO en el primer eje\n",
        "sns.histplot(data['TIEMPO_LAB'], bins=30, kde=True, ax=ax1)\n",
        "ax1.set_title('Distribución de Tiempo Laborado')\n",
        "ax1.set_xlabel('Tiempo en Meses')\n",
        "ax1.set_ylabel('Frecuencia')\n",
        "\n",
        "# Diagrama de caja de INGLABO en el segundo eje\n",
        "sns.boxplot(x=data['TIEMPO_LAB'], ax=ax2)\n",
        "ax2.set_title('Tiempo Laborado')\n",
        "ax2.set_xlabel('Tiempo en Meses')\n",
        "\n",
        "# Muestra la figura con ambos gráficos\n",
        "plt.tight_layout()\n",
        "plt.show()\n",
        "\n"
      ],
      "metadata": {
        "id": "_2LNZbv-VQaT"
      },
      "execution_count": null,
      "outputs": []
    },
    {
      "cell_type": "markdown",
      "source": [
        "Los siguientes gráficos indican que la población estudiada tiene una gran mayoría con ingresos bajos, con una dispersión muy pequeña para la mitad central de la población. Sin embargo, hay unos pocos casos con ingresos extremadamente altos, lo que produce una gran asimetría en la distribución total de ingresos. Esto puede indicar una gran desigualdad en la distribución de ingresos dentro de la muestra analizada."
      ],
      "metadata": {
        "id": "0zzfdQSRVUHN"
      }
    },
    {
      "cell_type": "code",
      "source": [
        "plt.figure(figsize=(20, 6))\n",
        "\n",
        "# Crea una grilla de 1 fila y 2 columnas\n",
        "fig, (ax1, ax2) = plt.subplots(1, 2, figsize=(20, 6))\n",
        "\n",
        "# Histograma de INGLABO en el primer eje\n",
        "sns.histplot(data['INGLABO'], bins=50, kde=True, ax=ax1)\n",
        "ax1.set_title('Distribución de Ingresos Laborales')\n",
        "ax1.set_xlabel('Ingresos Laborales en COP')\n",
        "ax1.set_ylabel('Frecuencia')\n",
        "\n",
        "# Diagrama de caja de INGLABO en el segundo eje\n",
        "sns.boxplot(x=data['INGLABO'], ax=ax2)\n",
        "ax2.set_title('Ingresos Laborales')\n",
        "ax2.set_xlabel('Ingresos Laborales en COP')\n",
        "\n",
        "# Muestra la figura con ambos gráficos\n",
        "plt.tight_layout()\n",
        "plt.show()"
      ],
      "metadata": {
        "id": "YoECHZswVTZ6"
      },
      "execution_count": null,
      "outputs": []
    },
    {
      "cell_type": "markdown",
      "source": [
        "Respecto a la edad, existe una asimetría negativa, sugiriendo que las edades de la muestra analizada se concentran ligeramente en los valores más altos de la distribución. Recordemos que, por objetivos del estudio, se acotó la edad entre 18 y 28 años."
      ],
      "metadata": {
        "id": "geZ4XL0yhlof"
      }
    },
    {
      "cell_type": "code",
      "source": [
        "plt.figure(figsize=(20, 6))\n",
        "\n",
        "# Crea una grilla de 1 fila y 2 columnas\n",
        "fig, (ax1, ax2) = plt.subplots(1, 2, figsize=(20, 6))\n",
        "\n",
        "# Histograma de INGLABO en el primer eje\n",
        "sns.histplot(data['EDAD'], bins=50, kde=True, ax=ax1)\n",
        "ax1.set_title('Distribución de la Edad')\n",
        "ax1.set_xlabel('Edad en Años')\n",
        "ax1.set_ylabel('Frecuencia')\n",
        "\n",
        "# Diagrama de caja de INGLABO en el segundo eje\n",
        "sns.boxplot(x=data['EDAD'], ax=ax2)\n",
        "ax2.set_title('Edad')\n",
        "ax2.set_xlabel('Edad en Años')\n",
        "\n",
        "# Muestra la figura con ambos gráficos\n",
        "plt.tight_layout()\n",
        "plt.show()"
      ],
      "metadata": {
        "id": "ArnUZVPthmX-"
      },
      "execution_count": null,
      "outputs": []
    },
    {
      "cell_type": "markdown",
      "source": [
        "La edad, el tiempo laborado y los ingresos, no están correlacionadas fuertemente, por lo menos no linealmente como lo indica la matriz."
      ],
      "metadata": {
        "id": "shN_d6Gvj21b"
      }
    },
    {
      "cell_type": "code",
      "source": [
        "correlation_matrix = data[['EDAD', 'TIEMPO_LAB', 'INGLABO']].corr()\n",
        "\n",
        "# Mostrar la matriz de correlación\n",
        "print(correlation_matrix)"
      ],
      "metadata": {
        "id": "bVWLWRjchKKM"
      },
      "execution_count": null,
      "outputs": []
    },
    {
      "cell_type": "markdown",
      "source": [
        "El gráfico de pastel muestra la distribución por sexo de los encuestados en la muestra laboral de Colombia, con un 57.1% de participantes masculinos y un 42.9% de participantes femeninos. Esta distribución indica que hay una mayor representación masculina en la fuerza laboral dentro de la población estudiada. Este desbalance en la participación por género puede ser relevante al analizar las diferencias en los ingresos laborales entre hombres y mujeres y podría reflejar dinámicas subyacentes en el mercado laboral colombiano que afectan la equidad de género en términos de oportunidades de empleo y condiciones laborales."
      ],
      "metadata": {
        "id": "5sKAloR0ncc5"
      }
    },
    {
      "cell_type": "code",
      "source": [
        "# Diagrama de torta para Sexo\n",
        "sex_counts = data['SEXO'].value_counts()\n",
        "plt.figure(figsize=(8, 8))\n",
        "plt.pie(sex_counts, labels=['Masculino', 'Femenino'], autopct='%1.1f%%', startangle=140)\n",
        "plt.title('Distribución por Sexo')\n",
        "plt.show()"
      ],
      "metadata": {
        "id": "GYSg5INinbMU"
      },
      "execution_count": null,
      "outputs": []
    },
    {
      "cell_type": "markdown",
      "source": [
        "El gráfico de pastel muestra la distribución del tipo de contrato de los encuestados en la muestra laboral de Colombia, con un 70.4% de los individuos teniendo un contrato formal y un 29.6% trabajando sin contrato. Este dato es relevante en el análisis de la equidad de género en el ámbito laboral, ya que la existencia de un contrato formal puede influir en la estabilidad laboral y, por ende, en los ingresos. La brecha entre aquellos con y sin contrato sugiere que casi un tercio de la muestra podría estar en empleos más precarios o informales, lo cual podría afectar de manera desproporcionada a uno de los géneros y ser un factor importante en la existencia de disparidades salariales."
      ],
      "metadata": {
        "id": "nw_4BW4susLW"
      }
    },
    {
      "cell_type": "code",
      "source": [
        "# Diagrama de torta para Contrato\n",
        "contract_counts = data['CONTRTATO'].value_counts()\n",
        "plt.figure(figsize=(8, 8))\n",
        "plt.pie(contract_counts, labels=['Con contrato', 'Sin contrato'], autopct='%1.1f%%', startangle=140)\n",
        "plt.title('Distribución por Tipo de Contrato')\n",
        "plt.show()"
      ],
      "metadata": {
        "id": "lO6F28ebtEuA"
      },
      "execution_count": null,
      "outputs": []
    },
    {
      "cell_type": "markdown",
      "source": [
        "La tabla cruzada en porcentajes muestra que, en la muestra estudiada, un mayor porcentaje de hombres (37.9%) tiene contrato laboral en comparación con las mujeres (32.48%), y esta tendencia se mantiene entre quienes no tienen contrato, siendo los hombres sin contrato (19.19%) más que las mujeres en la misma situación (10.43%). En total, los hombres representan el 57.09% de la muestra, mientras que las mujeres constituyen el 42.91%. Esto sugiere que, dentro de esta población joven adulta colombiana, los hombres tienen una mayor presencia en el mercado laboral formal. A la vez, más de dos tercios de la muestra total (70.38%) tienen contratos de trabajo, lo que refleja una inclinación hacia la formalidad laboral en esta cohorte."
      ],
      "metadata": {
        "id": "iFsYxi6rwRyr"
      }
    },
    {
      "cell_type": "code",
      "source": [
        "tabla_cruzada = pd.crosstab(data['SEXO'], data['CONTRTATO'])\n",
        "\n",
        "# Calculamos los porcentajes respecto al total general\n",
        "tabla_porcentaje = (tabla_cruzada / tabla_cruzada.sum().sum()) * 100\n",
        "\n",
        "# Opcionalmente, si queremos agregar los porcentajes marginales (por filas y columnas)\n",
        "# Podemos hacerlo de la siguiente manera:\n",
        "tabla_porcentaje_marginal = pd.crosstab(data['SEXO'], data['CONTRTATO'], normalize='all') * 100\n",
        "tabla_porcentaje_marginal['Total'] = tabla_porcentaje_marginal.sum(axis=1)\n",
        "tabla_porcentaje_marginal.loc['Total'] = tabla_porcentaje_marginal.sum()\n",
        "\n",
        "# Renombrar las filas y columnas para mayor claridad\n",
        "tabla_porcentaje_marginal.index = ['Masculino', 'Femenino', 'Total']\n",
        "tabla_porcentaje_marginal.columns = ['Con contrato', 'Sin contrato', 'Total']\n",
        "\n",
        "# Imprimir la tabla cruzada con porcentajes\n",
        "tabla_porcentaje_marginal\n"
      ],
      "metadata": {
        "id": "yrYegw3rvvrl"
      },
      "execution_count": null,
      "outputs": []
    },
    {
      "cell_type": "markdown",
      "source": [
        "El gráfico de barras y la tabla, muestran la distribución del nivel educativo en una muestra de la población, destacándose que la mayoría de los encuestados ha alcanzado la educación media académica (Bachillerato clásico) con un 41%, seguido por un relevante 19.9% que ha completado la educación universitaria. Los niveles de maestría y doctorado tienen una representación mínima, con solo el 0.3% y el 0% respectivamente, indicando una baja proporción de individuos con estudios de posgrado en la muestra. Esto sugiere que, en esta muestra específica, la educación superior no universitaria (técnica, tecnológica) y la educación media son los niveles educativos más comunes."
      ],
      "metadata": {
        "id": "apZMHT_3txVc"
      }
    },
    {
      "cell_type": "code",
      "source": [
        "educ_counts = data['NIV_EDUC'].value_counts().sort_index()\n",
        "\n",
        "# Creamos el DataFrame con la descripción de las categorías\n",
        "categorias_descripcion = pd.DataFrame({\n",
        "    'Categoría': [\n",
        "        1, 2, 3, 4, 5, 6, 7, 8, 9, 10, 11, 12, 13, 99\n",
        "    ],\n",
        "    'Descripción': [\n",
        "        'Ninguno',\n",
        "        'Preescolar',\n",
        "        'Básica primaria (1o - 5o)',\n",
        "        'Básica secundaria (6o - 9o)',\n",
        "        'Media académica (Bachillerato clásico)',\n",
        "        'Media técnica (Bachillerato técnico)',\n",
        "        'Normalista',\n",
        "        'Técnica profesional',\n",
        "        'Tecnológica',\n",
        "        'Universitaria',\n",
        "        'Especialización',\n",
        "        'Maestría',\n",
        "        'Doctorado',\n",
        "        'No sabe, no informa'\n",
        "    ]\n",
        "})\n",
        "\n",
        "# Calculamos el porcentaje de cada categoría\n",
        "total = educ_counts.sum()\n",
        "categorias_descripcion['Frecuencia'] = categorias_descripcion['Categoría'].map(educ_counts)  # Mapeamos las frecuencias\n",
        "categorias_descripcion['Porcentaje'] = (categorias_descripcion['Frecuencia'] / total) * 100\n",
        "\n",
        "# Eliminamos la fila donde la categoría es 'No sabe, no informa' si no deseas incluirlo\n",
        "categorias_descripcion = categorias_descripcion[categorias_descripcion['Categoría'] != 99]\n",
        "\n",
        "# Ordenamos el DataFrame por categoría si es necesario\n",
        "categorias_descripcion = categorias_descripcion.sort_values(by='Categoría')\n",
        "\n",
        "# Mostramos la tabla\n",
        "print(categorias_descripcion)\n"
      ],
      "metadata": {
        "id": "ExL9klwYsWM4"
      },
      "execution_count": null,
      "outputs": []
    },
    {
      "cell_type": "code",
      "source": [
        "# Configuramos el tamaño del gráfico\n",
        "plt.figure(figsize=(10,8))\n",
        "\n",
        "# Creamos el gráfico de barras\n",
        "plt.bar(categorias_descripcion['Descripción'], categorias_descripcion['Porcentaje'])\n",
        "\n",
        "# Añadir título y etiquetas a los ejes\n",
        "plt.title('Porcentaje de Nivel Educativo')\n",
        "plt.xlabel('Nivel Educativo')\n",
        "plt.ylabel('Porcentaje (%)')\n",
        "\n",
        "# Mejora la visualización girando las etiquetas del eje x\n",
        "plt.xticks(rotation=90)\n",
        "\n",
        "# Mostrar valores en las barras\n",
        "for i, v in enumerate(categorias_descripcion['Porcentaje']):\n",
        "    plt.text(i, v + 0.5, \"{:.1f}%\".format(v), ha='center')\n",
        "\n",
        "# Ajusta subtramas para que las etiquetas no se corten\n",
        "plt.tight_layout()\n",
        "\n",
        "# Mostrar gráfico\n",
        "plt.show()\n"
      ],
      "metadata": {
        "id": "3aPd-Vw1s3bg"
      },
      "execution_count": null,
      "outputs": []
    },
    {
      "cell_type": "markdown",
      "source": [
        "# Inferencia"
      ],
      "metadata": {
        "id": "0TNaejhjxCp7"
      }
    },
    {
      "cell_type": "markdown",
      "source": [
        "## Normalidad de las variables"
      ],
      "metadata": {
        "id": "TefU5zEQ4Ulu"
      }
    },
    {
      "cell_type": "markdown",
      "source": [
        "Los resultados de la prueba de Shapiro-Wilk para los ingresos laborales indican lo siguiente:\n",
        "\n",
        "- Estadístico de Prueba: 0.5771\n",
        "- Valor p: 0.0000\n",
        "\n",
        "Dado que el valor p (0.0000) es significativamente menor que el nivel de significancia alpha (generalmente establecido en 0.05), podemos concluir que los ingresos laborales no siguen una distribución normal."
      ],
      "metadata": {
        "id": "46dQnNM45xBK"
      }
    },
    {
      "cell_type": "code",
      "source": [
        "# Prueba de normalidad para ingresos laborales\n",
        "ingresos_laborales = data['INGLABO']\n",
        "stat_ingresos, p_ingresos = shapiro(ingresos_laborales)\n",
        "\n",
        "print(\"Prueba de Shapiro-Wilk para Ingresos Laborales:\")\n",
        "print(f\"Estadístico de Prueba: {stat_ingresos:.4f}\")\n",
        "print(f\"Valor p: {p_ingresos:.4f}\")\n"
      ],
      "metadata": {
        "id": "nx4vUEB75DD2"
      },
      "execution_count": null,
      "outputs": []
    },
    {
      "cell_type": "markdown",
      "source": [
        "Los resultados de la prueba de Shapiro-Wilk para el tiempo laborado indican lo siguiente:\n",
        "\n",
        "- Estadístico de Prueba: 0.8142\n",
        "- Valor p: 0.0000\n",
        "\n",
        "Dado que el valor p (0.0000) es significativamente menor que el nivel de significancia alpha (generalmente establecido en 0.05), podemos concluir que el tiempo laborado tampoco sigue una distribución normal."
      ],
      "metadata": {
        "id": "VqNvzPiw6kBo"
      }
    },
    {
      "cell_type": "code",
      "source": [
        "# Prueba de normalidad para tiempo laborado\n",
        "tiempo_laborado = data['TIEMPO_LAB']\n",
        "stat_tiempo, p_tiempo = shapiro(tiempo_laborado)\n",
        "\n",
        "print(\"\\nPrueba de Shapiro-Wilk para Tiempo Laborado:\")\n",
        "print(f\"Estadístico de Prueba: {stat_tiempo:.4f}\")\n",
        "print(f\"Valor p: {p_tiempo:.4f}\")\n"
      ],
      "metadata": {
        "id": "9qD28arB5V-e"
      },
      "execution_count": null,
      "outputs": []
    },
    {
      "cell_type": "markdown",
      "source": [
        "**Nota**:\n",
        "\n",
        "Aunque ambas variables no sigan una distribución normal, por el teorema central del límite podemos asumir normalidad para los promedios, ya que sobre ellos es que realizaremos inferencia."
      ],
      "metadata": {
        "id": "r9VzHkZB6raA"
      }
    },
    {
      "cell_type": "markdown",
      "source": [
        "## Intervalos de Confianza y Pruebas de Hipótesis\n",
        "\n",
        "En este caso, no conocemos la varianza poblacional. Por lo tanto, usaremos la distribución $T$. Todas las pruebas se harán con una significancia del $5\\%$.\n",
        "\n"
      ],
      "metadata": {
        "id": "oB9vyW9u7ej3"
      }
    },
    {
      "cell_type": "markdown",
      "source": [
        "## Intervalo de Confianza para el Ingreso Laboral Medio en Jóvenes Adultos\n",
        "\n",
        "Con un nivel de confianza del 95%, podemos decir que la media de ingresos laborales en la población de jóvenes adultos se estima entre $1,032,337.85$ y $1,083,057.80$ pesos colombianos."
      ],
      "metadata": {
        "id": "b6x7iFFEKM0X"
      }
    },
    {
      "cell_type": "code",
      "source": [
        "# Extraer los datos de ingresos laborales\n",
        "ingresos = data['INGLABO']\n",
        "\n",
        "# Calcular las estadísticas descriptivas de la variable completa\n",
        "media_ingresos = ingresos.mean()\n",
        "std_ingresos = ingresos.std()\n",
        "n_ingresos = len(ingresos)\n",
        "\n",
        "# Nivel de confianza\n",
        "confianza = 0.95\n",
        "\n",
        "# Calcular el error estándar de la media\n",
        "std_error_media = std_ingresos / (n_ingresos ** 0.5)\n",
        "\n",
        "# Calcular el valor crítico de Z\n",
        "z_critico = stats.norm.ppf(1 - (1 - confianza) / 2)\n",
        "\n",
        "# Calcular el intervalo de confianza para la media de ingresos laborales\n",
        "intervalo_confianza = (media_ingresos - z_critico * std_error_media, media_ingresos + z_critico * std_error_media)\n",
        "\n",
        "# Crear una tabla con los resultados\n",
        "resultados_ingresos = pd.DataFrame({\n",
        "    'Media de Ingresos Laborales': [media_ingresos],\n",
        "    'Error Estándar de la Media': [std_error_media],\n",
        "    'Valor Z Alpha/2': [z_critico],\n",
        "    'Intervalo de Confianza': [intervalo_confianza]\n",
        "})\n",
        "\n",
        "# Mostrar la tabla\n",
        "print(resultados_ingresos)\n"
      ],
      "metadata": {
        "id": "lctWb5VWKU0B"
      },
      "execution_count": null,
      "outputs": []
    },
    {
      "cell_type": "markdown",
      "source": [
        "### Prueba de Hipotesis Para El Ingreso Promedio\n",
        "\n",
        "Es de especial interés determinar, ya que para el año 2022 el salario mínimo se estableció en $1'000000$, si el ingreso promedio de los jóvenes es menor a 1 SMLV.\n",
        "\n",
        "Al realizar la prueba, se puede apreciar que no existe suficiente evidencia estadística para determinar que el ingreso promedio de los jóvenes está por debajo del salario mínimo.\n",
        "\n",
        "Se debe aclarar que la distribución es asimétrica positiva ya que presenta valores atípicos muy grandes."
      ],
      "metadata": {
        "id": "IgxYEdwPL33o"
      }
    },
    {
      "cell_type": "code",
      "source": [
        "# Valor de referencia\n",
        "valor_referencia = 1000000  # Valor de referencia (1,000,000 pesos colombianos)\n",
        "\n",
        "# Extraer los datos de ingresos laborales\n",
        "ingresos = data['INGLABO']\n",
        "\n",
        "# Realizar la prueba de hipótesis\n",
        "resultado_prueba = stats.ttest_1samp(ingresos, valor_referencia, alternative='less')\n",
        "\n",
        "# Extraer el estadístico de prueba y el valor p\n",
        "estadistico_prueba = resultado_prueba.statistic\n",
        "valor_p = resultado_prueba.pvalue\n",
        "\n",
        "# Nivel de confianza\n",
        "confianza = 0.95\n",
        "\n",
        "# Comprobar si rechazamos la hipótesis nula\n",
        "if valor_p < (1 - confianza):\n",
        "    print(\"Rechazamos la hipótesis nula.\")\n",
        "else:\n",
        "    print(\"No podemos rechazar la hipótesis nula.\")\n",
        "\n",
        "# Mostrar el estadístico de prueba y el valor p\n",
        "print(f\"Estadístico de Prueba: {estadistico_prueba}\")\n",
        "print(f\"Valor p: {valor_p}\")\n"
      ],
      "metadata": {
        "id": "JtxOF00YMara"
      },
      "execution_count": null,
      "outputs": []
    },
    {
      "cell_type": "markdown",
      "source": [
        "### Intervalo de Confianza para el Tiempo Laboral Medio en Jóvenes Adultos\n",
        "\n",
        "Con un nivel de confianza del $95\\%$, podemos decir que la media de tiempo laboral en la población se estima entre 17.820 y 18.770 meses. Esto significa que podemos estar 95% seguros de que la verdadera media de tiempo laboral en la población está dentro de este intervalo.\n"
      ],
      "metadata": {
        "id": "obgD8nVhJGbA"
      }
    },
    {
      "cell_type": "code",
      "source": [
        "# Extraer los datos de tiempo laboral\n",
        "tiempo_lab = data['TIEMPO_LAB']\n",
        "\n",
        "# Calcular las estadísticas descriptivas de la variable completa\n",
        "media_tiempo_lab = tiempo_lab.mean()\n",
        "std_tiempo_lab = tiempo_lab.std()\n",
        "n_tiempo_lab = len(tiempo_lab)\n",
        "\n",
        "# Nivel de confianza\n",
        "confianza = 0.95\n",
        "\n",
        "# Calcular el error estándar de la media\n",
        "std_error_media = std_tiempo_lab / (n_tiempo_lab ** 0.5)\n",
        "\n",
        "# Calcular el valor crítico de Z\n",
        "z_critico = stats.norm.ppf(1 - (1 - confianza) / 2)\n",
        "\n",
        "# Calcular el intervalo de confianza para la diferencia de medias\n",
        "intervalo_confianza = (media_tiempo_lab - z_critico * std_error_media, media_tiempo_lab + z_critico * std_error_media)\n",
        "\n",
        "# Crear una tabla con los resultados\n",
        "resultados_tiempo_lab = pd.DataFrame({\n",
        "    'Media de Tiempo Laboral': [media_tiempo_lab],\n",
        "    'Error Estándar de la Media': [std_error_media],\n",
        "    'Valor Z Alpha/2': [z_critico],\n",
        "    'Intervalo de Confianza': [intervalo_confianza]\n",
        "})\n",
        "\n",
        "# Mostrar la tabla\n",
        "print(resultados_tiempo_lab)\n"
      ],
      "metadata": {
        "id": "2J-v5y2NJgwp"
      },
      "execution_count": null,
      "outputs": []
    },
    {
      "cell_type": "markdown",
      "source": [
        "### Intervalo para Diferencia de Medias para Ingreso Laboral por Género\n",
        "\n",
        "En el gráfico se omitieron los datos atípicos para tener un mejor panorama de la distribución. Aunque el comportamiento de la distribución de las mujeres es un poco más disperso respecto a los hombres, parece no existir diferencias."
      ],
      "metadata": {
        "id": "QsXCwxrGIuXu"
      }
    },
    {
      "cell_type": "code",
      "source": [
        "plt.figure(figsize=(8, 6))\n",
        "sns.boxplot(x='SEXO', y='INGLABO', data=data, showfliers=False)\n",
        "plt.xlabel('Sexo')\n",
        "plt.ylabel('Ingresos Laborales')\n",
        "plt.title('Ingresos Laborales por Sexo (Sin Valores Atípicos)')\n",
        "plt.xticks([0, 1], ['Hombres', 'Mujeres'])  # Etiquetas en el eje x\n",
        "\n",
        "# Mostrar el boxplot\n",
        "plt.show()"
      ],
      "metadata": {
        "id": "pNoHz6g09oFZ"
      },
      "execution_count": null,
      "outputs": []
    },
    {
      "cell_type": "markdown",
      "source": [],
      "metadata": {
        "id": "3ceX4uHGE1py"
      }
    },
    {
      "cell_type": "markdown",
      "source": [
        "Se puede observar que el intervalo contiene el $0$, es decir, no hay suficiente evidencia estadística para indicar que los ingresos promedios entre hombres y mujeres, entre 18 y 28 años, son diferente con una confianza del $95\\%$."
      ],
      "metadata": {
        "id": "niYOK-ZqDCMN"
      }
    },
    {
      "cell_type": "code",
      "source": [
        "# Dividir los datos en dos grupos: hombres y mujeres\n",
        "ingresos_hombres = data[data['SEXO'] == 1]['INGLABO']\n",
        "ingresos_mujeres = data[data['SEXO'] == 2]['INGLABO']\n",
        "\n",
        "# Calcular las estadísticas descriptivas de cada grupo\n",
        "media_hombres = ingresos_hombres.mean()\n",
        "media_mujeres = ingresos_mujeres.mean()\n",
        "std_hombres = ingresos_hombres.std()\n",
        "std_mujeres = ingresos_mujeres.std()\n",
        "n_hombres = len(ingresos_hombres)\n",
        "n_mujeres = len(ingresos_mujeres)\n",
        "\n",
        "# Calcular la diferencia de medias\n",
        "diferencia_medias = media_hombres - media_mujeres\n",
        "\n",
        "# Calcular el error estándar de la diferencia de medias\n",
        "std_error_diferencia = ((std_hombres ** 2) / n_hombres + (std_mujeres ** 2) / n_mujeres) ** 0.5\n",
        "\n",
        "# Calcular el estadístico t y los grados de libertad\n",
        "grados_libertad = n_hombres + n_mujeres - 2  # Grados de libertad\n",
        "t_stat = diferencia_medias / std_error_diferencia\n",
        "\n",
        "# Nivel de confianza\n",
        "confianza = 0.95\n",
        "\n",
        "# Calcular el intervalo de confianza para la diferencia de medias\n",
        "intervalo_confianza = stats.t.interval(confianza, loc=diferencia_medias, scale=std_error_diferencia, df=grados_libertad)\n",
        "\n",
        "# Crear una tabla con los resultados\n",
        "resultados = pd.DataFrame({\n",
        "    'Diferencia de Medias': [diferencia_medias],\n",
        "    'Error Estándar': [std_error_diferencia],\n",
        "    'Límite Inferior': [intervalo_confianza[0]],\n",
        "    'Límite Superior': [intervalo_confianza[1]]\n",
        "})\n",
        "\n",
        "# Mostrar la tabla\n",
        "print(resultados)\n"
      ],
      "metadata": {
        "id": "rQ_xz28f_jqv"
      },
      "execution_count": null,
      "outputs": []
    },
    {
      "cell_type": "markdown",
      "source": [
        "### Prueba de Hipótesis Para Diferencia de Medias Para Ingresos Según el Género\n",
        "\n",
        "Se puede observar que el valor del estadístico de prueba es menor al $Z$ crítico, por lo tanto, se concluye que no hay suficiente evidencia estadística para determinar que los ingresos promedios entre hombres y mujeres difieren significativamente."
      ],
      "metadata": {
        "id": "qdM4rJu1Dxsd"
      }
    },
    {
      "cell_type": "code",
      "source": [
        "# Realizar la prueba de hipótesis (prueba t para muestras independientes)\n",
        "t_stat, p_valor = stats.ttest_ind(ingresos_hombres, ingresos_mujeres, equal_var=False)\n",
        "\n",
        "# Definir el nivel de significancia\n",
        "nivel_significancia = 0.05\n",
        "\n",
        "# Calcular el valor crítico de Z (para una prueba bilateral)\n",
        "z_critico = stats.norm.ppf(1 - nivel_significancia / 2)\n",
        "\n",
        "# Calcular la diferencia de medias\n",
        "diferencia_medias = ingresos_hombres.mean() - ingresos_mujeres.mean()\n",
        "\n",
        "# Crear una tabla con los resultados\n",
        "resultados_hipotesis = pd.DataFrame({\n",
        "    'Diferencia de Medias': [diferencia_medias],\n",
        "    'Estadístico de Prueba (t)': [t_stat],\n",
        "    'Valor Crítico de Z': [z_critico],\n",
        "    'Valor p': [p_valor]\n",
        "})\n",
        "\n",
        "# Mostrar la tabla\n",
        "print(resultados_hipotesis)\n"
      ],
      "metadata": {
        "id": "QPB33noKCZqh"
      },
      "execution_count": null,
      "outputs": []
    },
    {
      "cell_type": "markdown",
      "source": [
        "### Intervalo para Diferencia de Medias para Tiempo Laboral por Género\n",
        "\n",
        "Gráficamente, a diferencia del ingreso, podemos ver que en el tiempo laboral en los hombres es mayor ligeramente al tiempo promedio de las mujeres."
      ],
      "metadata": {
        "id": "jK5VEgrxE8IG"
      }
    },
    {
      "cell_type": "code",
      "source": [
        "plt.figure(figsize=(8, 6))\n",
        "sns.boxplot(x='SEXO', y='TIEMPO_LAB', data=data, showfliers=False)\n",
        "plt.xlabel('Sexo')\n",
        "plt.ylabel('Ingresos Laborales')\n",
        "plt.title('Ingresos Laborales por Sexo (Sin Valores Atípicos)')\n",
        "plt.xticks([0, 1], ['Hombres', 'Mujeres'])  # Etiquetas en el eje x\n",
        "\n",
        "# Mostrar el boxplot\n",
        "plt.show()"
      ],
      "metadata": {
        "id": "xAwVaGgQE_VL"
      },
      "execution_count": null,
      "outputs": []
    },
    {
      "cell_type": "markdown",
      "source": [
        "Ahora bien, el intervalo es estrictamente positivo, lo que nos indica que el tiempo promedio de los hombres es mayor al de las mujeres con una confianza del $95\\%$ de confianza."
      ],
      "metadata": {
        "id": "TwFMWPtZFsKO"
      }
    },
    {
      "cell_type": "code",
      "source": [
        "# Dividir los datos en dos grupos: hombres y mujeres\n",
        "tiempo_hombres = data[data['SEXO'] == 1]['TIEMPO_LAB']\n",
        "tiempo_mujeres = data[data['SEXO'] == 2]['TIEMPO_LAB']\n",
        "\n",
        "# Calcular las estadísticas descriptivas de cada grupo\n",
        "media_hombres = tiempo_hombres.mean()\n",
        "media_mujeres = tiempo_mujeres.mean()\n",
        "std_hombres = tiempo_hombres.std()\n",
        "std_mujeres = tiempo_mujeres.std()\n",
        "n_hombres = len(tiempo_hombres)\n",
        "n_mujeres = len(tiempo_mujeres)\n",
        "\n",
        "# Calcular la diferencia de medias\n",
        "diferencia_medias = media_hombres - media_mujeres\n",
        "\n",
        "# Calcular el error estándar de la diferencia de medias\n",
        "std_error_diferencia = ((std_hombres ** 2) / n_hombres + (std_mujeres ** 2) / n_mujeres) ** 0.5\n",
        "\n",
        "# Calcular el estadístico t y los grados de libertad\n",
        "grados_libertad = n_hombres + n_mujeres - 2  # Grados de libertad\n",
        "t_stat = diferencia_medias / std_error_diferencia\n",
        "\n",
        "# Nivel de confianza\n",
        "confianza = 0.95\n",
        "\n",
        "# Calcular el intervalo de confianza para la diferencia de medias\n",
        "intervalo_confianza = stats.t.interval(confianza, loc=diferencia_medias, scale=std_error_diferencia, df=grados_libertad)\n",
        "\n",
        "# Crear una tabla con los resultados\n",
        "resultados_tiempo_lab = pd.DataFrame({\n",
        "    'Diferencia de Medias': [diferencia_medias],\n",
        "    'Error Estándar': [std_error_diferencia],\n",
        "    'Límite Inferior': [intervalo_confianza[0]],\n",
        "    'Límite Superior': [intervalo_confianza[1]]\n",
        "})\n",
        "\n",
        "# Mostrar la tabla\n",
        "print(resultados_tiempo_lab)"
      ],
      "metadata": {
        "id": "mOSOwuA4EROf"
      },
      "execution_count": null,
      "outputs": []
    },
    {
      "cell_type": "markdown",
      "source": [
        "### Prueba de Hipótesis Para Diferencia de Medias Para Tiempo Laboral Según el Género\n",
        "\n",
        "Dado que el p-valor es menor que la significancia, se puede concluir bajo un 5% de significancia, que existen diferencias significativas en el tiempo promedio entre hombres y mujeres entre los 18 y 28 años."
      ],
      "metadata": {
        "id": "fjx1Yx6EGAFc"
      }
    },
    {
      "cell_type": "code",
      "source": [
        "# Realizar la prueba de hipótesis (prueba t para muestras independientes)\n",
        "t_stat, p_valor = stats.ttest_ind(tiempo_hombres, tiempo_mujeres, equal_var=False)\n",
        "\n",
        "# Definir el nivel de significancia\n",
        "nivel_significancia = 0.05\n",
        "\n",
        "# Calcular el valor crítico de Z (para una prueba bilateral)\n",
        "z_critico = stats.norm.ppf(1 - nivel_significancia / 2)\n",
        "\n",
        "# Calcular la diferencia de medias\n",
        "diferencia_medias = ingresos_hombres.mean() - ingresos_mujeres.mean()\n",
        "\n",
        "# Crear una tabla con los resultados\n",
        "resultados_hipotesis = pd.DataFrame({\n",
        "    'Diferencia de Medias': [diferencia_medias],\n",
        "    'Estadístico de Prueba (t)': [t_stat],\n",
        "    'Valor Crítico de Z': [z_critico],\n",
        "    'Valor p': [p_valor]\n",
        "})\n",
        "\n",
        "# Mostrar la tabla\n",
        "print(resultados_hipotesis)"
      ],
      "metadata": {
        "id": "NwZQ46RfF_WC"
      },
      "execution_count": null,
      "outputs": []
    },
    {
      "cell_type": "markdown",
      "source": [
        "# Conclusiones\n",
        "\n",
        "1. Existe una amplia variabilidad en los ingresos laborales y el tiempo laborado entre jóvenes adultos en Colombia, lo que refleja diferentes trayectorias y condiciones en el mercado laboral.\n",
        "\n",
        "2. A pesar de la dispersión en los ingresos, no se encontraron pruebas estadísticas suficientes para concluir que el ingreso promedio de estos jóvenes está por debajo del salario mínimo, lo que sugiere que la mayoría de ellos perciben ingresos superiores a este umbral.\n",
        "\n",
        "3. Se observa una representación desigual de género en el mercado laboral, con una mayor proporción de hombres que tienen contratos formales en comparación con las mujeres, lo que podría indicar desafíos en la equidad de género en términos de acceso a empleos estables.\n",
        "\n",
        "4. A pesar de las diferencias en la representación de género en el mercado laboral, no se encontraron diferencias significativas en los ingresos laborales y el tiempo laborado entre hombres y mujeres, lo que sugiere que las disparidades pueden estar relacionadas con otros factores más allá del género."
      ],
      "metadata": {
        "id": "NUSZD1qhNTFv"
      }
    }
  ]
}