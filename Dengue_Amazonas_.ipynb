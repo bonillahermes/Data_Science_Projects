{
  "nbformat": 4,
  "nbformat_minor": 0,
  "metadata": {
    "colab": {
      "private_outputs": true,
      "provenance": [],
      "include_colab_link": true
    },
    "kernelspec": {
      "name": "ir",
      "display_name": "R"
    },
    "language_info": {
      "name": "R"
    }
  },
  "cells": [
    {
      "cell_type": "markdown",
      "metadata": {
        "id": "view-in-github",
        "colab_type": "text"
      },
      "source": [
        "<a href=\"https://colab.research.google.com/github/bonillahermes/Data_Science_Projects/blob/main/Dengue_Amazonas_.ipynb\" target=\"_parent\"><img src=\"https://colab.research.google.com/assets/colab-badge.svg\" alt=\"Open In Colab\"/></a>"
      ]
    },
    {
      "cell_type": "markdown",
      "source": [
        "# Hermes Yate Bonilla\n",
        "**Data Scientist**\n",
        "---\n",
        "\n",
        "**Contact:**\n",
        "- **Email:** [bonillahermes@gmail.com](mailto:bonillahermes@gmail.com)\n",
        "- **LinkedIn:** [linkedin.com/in/bonillahermes](https://www.linkedin.com/in/bonillahermes/)\n",
        "- **GitHub:** [github.com/bonillahermes](https://github.com/bonillahermes)\n",
        "- **Webpage:** [bonillahermes.com](https://bonillahermes.com/)\n",
        "---"
      ],
      "metadata": {
        "id": "EwhKknuF7_zS"
      }
    },
    {
      "cell_type": "markdown",
      "source": [
        "# FACTORES CLÍNICOS Y DEMOGRÁFICOS ASOCIADOS A DENGUE CON Y SIN SIGNOS DE ALARMA EN EL DEPARTAMENTO DE AMAZONAS 2020 - 2022."
      ],
      "metadata": {
        "id": "uF-z_QnDmSsZ"
      }
    },
    {
      "cell_type": "markdown",
      "source": [
        "## Abstract\n",
        "Este estudio analizó los factores clínicos y demográficos asociados al dengue con y sin signos de alarma en el departamento de Amazonas, Colombia, durante los años 2020 a 2022. Utilizando un diseño transversal analítico, se examinaron 595 registros de casos de dengue reportados en el sistema de vigilancia en salud pública. Se analizaron variables como sexo, edad, área de ocurrencia, tipo de régimen de salud, pertenencia étnica y síntomas clínicos para determinar su relación con la clasificación final del dengue.\n",
        "\n",
        "Las estadísticas descriptivas revelaron que la mayoría de los casos de dengue se reportaron en áreas rurales y en individuos no indígenas. La distribución de edades mostró una media de 38 años, con una ligera asimetría positiva. Los análisis de correlación y asociación indicaron que no había una relación significativa entre el sexo y la clasificación final del dengue, pero la pertenencia étnica sí mostró una asociación significativa, con los individuos no indígenas teniendo mayores probabilidades de presentar signos de alarma.\n",
        "\n",
        "El modelo de regresión logística, ajustado mediante el método stepwise, incluyó las variables dolor abdominal, vómito, diarrea, hipotensión y caída de plaquetas. Aunque el modelo mostró una exactitud perfecta en la predicción de los casos de dengue, los coeficientes no fueron estadísticamente significativos. Esto sugiere que las condiciones clínicas usualmente asociadas con casos graves de dengue pueden haber sido subdiagnosticadas o subreportadas durante la pandemia de COVID-19, afectando los resultados."
      ],
      "metadata": {
        "id": "TJEetT73Bo2P"
      }
    },
    {
      "cell_type": "markdown",
      "source": [
        "## Metodología\n",
        "\n",
        "El estudio se diseñó como un análisis transversal analítico para determinar los factores clínicos y demográficos asociados al dengue con y sin signos de alarma en el departamento de Amazonas durante los años 2020 a 2022. La población del estudio incluyó todos los casos de dengue reportados en el sistema de vigilancia en salud pública departamental del Amazonas, resultando en una muestra final de 595 registros de casos de dengue.\n",
        "\n",
        "Para analizar las variables del estudio, se calcularon medidas de tendencia central y dispersión para las variables cuantitativas, y se generaron frecuencias y proporciones para las variables categóricas. Se utilizaron histogramas y boxplots para visualizar la distribución de la edad, así como diagramas de torta para las variables categóricas. Las asociaciones entre variables categóricas y la clasificación final del dengue se evaluaron mediante pruebas de Chi-cuadrado y el test exacto de Fisher. Además, se calculó la matriz de correlación utilizando el método de Spearman.\n",
        "\n",
        "Se ajustó un modelo de regresión logística saturado y se aplicó el método stepwise para seleccionar las variables más significativas, obteniendo así el modelo final. Los coeficientes exponenciados del modelo final se interpretaron para entender las razones de probabilidades asociadas a cada variable predictora. La evaluación del modelo incluyó la generación de una matriz de confusión y el cálculo de métricas de desempeño como exactitud, sensibilidad, especificidad y el coeficiente Kappa.\n",
        "\n",
        "Finalmente, se consideró el impacto de la pandemia de COVID-19 durante los años 2020 a 2022 en los sistemas de salud y el comportamiento de las enfermedades infecciosas, lo cual pudo haber influido en la atención y diagnóstico del dengue. Esta consideración fue crucial para interpretar los resultados del estudio y asegurar la validez de las conclusiones obtenidas."
      ],
      "metadata": {
        "id": "8p8Pdk6RBLQ2"
      }
    },
    {
      "cell_type": "markdown",
      "source": [
        "## Preliminares"
      ],
      "metadata": {
        "id": "N_1PorCfmkuc"
      }
    },
    {
      "cell_type": "code",
      "execution_count": null,
      "metadata": {
        "id": "ybmjfE33lsbw"
      },
      "outputs": [],
      "source": [
        "# Instalar paquetes necesarios\n",
        "install.packages(\"glmnet\")"
      ]
    },
    {
      "cell_type": "code",
      "source": [
        "install.packages(\"caret\")"
      ],
      "metadata": {
        "id": "J1nnMdUzlxMZ"
      },
      "execution_count": null,
      "outputs": []
    },
    {
      "cell_type": "code",
      "source": [
        "install.packages(\"psych\")"
      ],
      "metadata": {
        "id": "zOXP4jwjoyc5"
      },
      "execution_count": null,
      "outputs": []
    },
    {
      "cell_type": "code",
      "source": [
        "install.packages(\"moments\")"
      ],
      "metadata": {
        "id": "cOGbpd4up-cj"
      },
      "execution_count": null,
      "outputs": []
    },
    {
      "cell_type": "code",
      "source": [
        "install.packages(\"knitr\")\n",
        "install.packages(\"kableExtra\")"
      ],
      "metadata": {
        "id": "7R6koeDM62c_"
      },
      "execution_count": null,
      "outputs": []
    },
    {
      "cell_type": "code",
      "source": [
        "install.packages(\"Hmisc\")\n",
        "install.packages(\"corrplot\")"
      ],
      "metadata": {
        "id": "WU4iaxFhgi5b"
      },
      "execution_count": null,
      "outputs": []
    },
    {
      "cell_type": "code",
      "source": [
        "# Cargar librerías\n",
        "library(readxl)\n",
        "library(dplyr)\n",
        "library(ggplot2)\n",
        "library(lubridate)\n",
        "library(glmnet)\n",
        "library(caret)\n",
        "library(MASS)\n",
        "library(psych)\n",
        "library(moments)\n",
        "library(knitr)\n",
        "library(kableExtra)\n",
        "library(Hmisc)\n",
        "library(corrplot)\n",
        "library(pROC)"
      ],
      "metadata": {
        "id": "y56vB2I1puOQ"
      },
      "execution_count": null,
      "outputs": []
    },
    {
      "cell_type": "markdown",
      "source": [
        "### Cargar base"
      ],
      "metadata": {
        "id": "tSnp1U8amkHs"
      }
    },
    {
      "cell_type": "code",
      "source": [
        "# Cargar los datos desde el archivo Excel\n",
        "file_path <- \"Base.xlsx\"\n",
        "data <- read_excel(file_path)"
      ],
      "metadata": {
        "id": "8IEEZjxOp0ck"
      },
      "execution_count": null,
      "outputs": []
    },
    {
      "cell_type": "code",
      "source": [
        "# Mostrar las primeras filas del dataset\n",
        "head(data)"
      ],
      "metadata": {
        "id": "BtTu4t6gp29E"
      },
      "execution_count": null,
      "outputs": []
    },
    {
      "cell_type": "markdown",
      "source": [
        "### Limpieza y tratamiento de Datos"
      ],
      "metadata": {
        "id": "HBXNwTdzmo2b"
      }
    },
    {
      "cell_type": "code",
      "source": [
        "# Verificar valores faltantes\n",
        "missing_values <- sapply(data, function(x) sum(is.na(x)))\n",
        "print(missing_values)"
      ],
      "metadata": {
        "id": "7AT9apvWp5SP"
      },
      "execution_count": null,
      "outputs": []
    },
    {
      "cell_type": "code",
      "source": [
        "data <- na.omit(data)"
      ],
      "metadata": {
        "id": "vRmCbzMGGHVK"
      },
      "execution_count": null,
      "outputs": []
    },
    {
      "cell_type": "code",
      "source": [
        "# Convertir variables categóricas a factor\n",
        "data <- data %>%\n",
        "  mutate(\n",
        "    año = as.factor(año),\n",
        "    sexo_ = as.factor(sexo_),\n",
        "    edad_ = as.numeric(edad_),\n",
        "    tip_ss_ = as.factor(tip_ss_),\n",
        "    area_ = as.factor(area_),\n",
        "    per_etn_ = as.factor(per_etn_),\n",
        "    cefalea = as.factor(cefalea),\n",
        "    dolrretroo = as.factor(dolrretroo),\n",
        "    malgias = as.factor(malgias),\n",
        "    artralgia = as.factor(artralgia),\n",
        "    erupcionr = as.factor(erupcionr),\n",
        "    dolor_abdo = as.factor(dolor_abdo),\n",
        "    vomito = as.factor(vomito),\n",
        "    diarrea = as.factor(diarrea),\n",
        "    somnolenci = as.factor(somnolenci),\n",
        "    hipotensio = as.factor(hipotensio),\n",
        "    hepatomeg = as.factor(hepatomeg),\n",
        "    hem_mucosa = as.factor(hem_mucosa),\n",
        "    aum_hemato = as.factor(aum_hemato),\n",
        "    caida_plaq = as.factor(caida_plaq),\n",
        "    clasfinal = as.factor(clasfinal),\n",
        "    conducta = as.factor(conducta),\n",
        "  )"
      ],
      "metadata": {
        "id": "3sM6f9OptBPK"
      },
      "execution_count": null,
      "outputs": []
    },
    {
      "cell_type": "code",
      "source": [
        "# Verificar cambios\n",
        "str(data)"
      ],
      "metadata": {
        "id": "MRNtiuX7DVSN"
      },
      "execution_count": null,
      "outputs": []
    },
    {
      "cell_type": "markdown",
      "source": [
        "## Estadísticos Descriptivos para la Variable Edad"
      ],
      "metadata": {
        "id": "1WtM7A93mu72"
      }
    },
    {
      "cell_type": "code",
      "source": [
        "# Calcular estadísticas descriptivas para la variable 'edad_'\n",
        "edad_stats <- data$edad_\n",
        "\n",
        "# Estadísticas básicas\n",
        "summary_stats <- summary(edad_stats)\n",
        "desviacion_estandar <- sd(edad_stats)\n",
        "asimetria <- skewness(edad_stats)\n",
        "curtosis <- kurtosis(edad_stats)\n",
        "coef_var <- sd(edad_stats) / mean(edad_stats) * 100\n",
        "\n",
        "# Combinar todas las estadísticas en un solo data frame\n",
        "estadisticas_completas <- data.frame(\n",
        "  Min = as.numeric(summary_stats[\"Min.\"]),\n",
        "  Q1 = as.numeric(summary_stats[\"1st Qu.\"]),\n",
        "  Median = as.numeric(summary_stats[\"Median\"]),\n",
        "  Mean = as.numeric(summary_stats[\"Mean\"]),\n",
        "  Q3 = as.numeric(summary_stats[\"3rd Qu.\"]),\n",
        "  Max = as.numeric(summary_stats[\"Max.\"]),\n",
        "  Std_Dev = desviacion_estandar,\n",
        "  Skewness = asimetria,\n",
        "  Kurtosis = curtosis,\n",
        "  Coef_Var = coef_var\n",
        ")\n",
        "\n",
        "estadisticas_completas"
      ],
      "metadata": {
        "id": "hPng-Fd8tZ0L"
      },
      "execution_count": null,
      "outputs": []
    },
    {
      "cell_type": "code",
      "source": [
        "# Histograma\n",
        "histograma_edad <- ggplot(data, aes(x = edad_)) +\n",
        "  geom_histogram(binwidth = 5, fill = \"skyblue\", color = \"black\", alpha = 0.7) +  # Ajusta el ancho de los bins según tus datos\n",
        "  labs(title = \"Distribución de Edades\", x = \"Edad\", y = \"Frecuencia\") +\n",
        "  theme_minimal()  # Tema limpio y minimalista\n",
        "\n",
        "# Boxplot\n",
        "boxplot_edad <- ggplot(data, aes(y = edad_)) +\n",
        "  geom_boxplot(fill = \"skyblue\", color = \"black\") +\n",
        "  labs(title = \"Distribución de Edades (Boxplot)\", y = \"Edad\") +\n",
        "  theme_minimal()\n",
        "\n",
        "# Mostrar los gráficos\n",
        "print(histograma_edad)\n",
        "print(boxplot_edad)"
      ],
      "metadata": {
        "id": "Q9m1buXAyYbw"
      },
      "execution_count": null,
      "outputs": []
    },
    {
      "cell_type": "markdown",
      "source": [
        "La población estudiada tiene una edad media de aproximadamente 38 años, con la mayoría de los individuos concentrados entre los 18 y 50 años. La mediana se sitúa en 36 años, lo que sugiere una distribución relativamente simétrica, aunque ligeramente sesgada hacia edades mayores, como lo indica la asimetría positiva de 0.828. La desviación estándar de 15.52 años y un coeficiente de variación del 40.53% indican una variabilidad moderada en las edades de los individuos.\n",
        "\n",
        "El histograma y el boxplot confirman esta distribución, mostrando una mayor frecuencia de individuos jóvenes y una disminución gradual en las edades mayores a 50 años. El boxplot también identifica un outlier a los 97 años, reforzando la presencia de una cola derecha más larga en la distribución. Estos gráficos visualizan claramente la dispersión y los outliers en los datos de edad, proporcionando una comprensión detallada de la variabilidad en la muestra analizada."
      ],
      "metadata": {
        "id": "RzNkCdLg0Hh3"
      }
    },
    {
      "cell_type": "code",
      "source": [
        "data$clasfinal <- as.numeric(as.character(data$clasfinal))\n",
        "\n",
        "# Agrupar por 'clasfinal' (ahora numérica) y calcular estadísticas descriptivas\n",
        "estadisticas_por_grupo <- data %>%\n",
        "  group_by(clasfinal) %>%\n",
        "  summarise(\n",
        "    Media = mean(edad_, na.rm = TRUE),\n",
        "    Desviacion_Estandar = sd(edad_, na.rm = TRUE),\n",
        "    Minimo = min(edad_, na.rm = TRUE),\n",
        "    Maximo = max(edad_, na.rm = TRUE),\n",
        "    Q1 = quantile(edad_, 0.25, na.rm = TRUE),\n",
        "    Mediana = median(edad_, na.rm = TRUE),\n",
        "    Q3 = quantile(edad_, 0.75, na.rm = TRUE),\n",
        "    Asimetría = skewness(edad_, na.rm = TRUE),\n",
        "    Curtosis = kurtosis(edad_, na.rm = TRUE),\n",
        "    Coef_Variacion = (sd(edad_, na.rm = TRUE) / mean(edad_, na.rm = TRUE)) * 100\n",
        "  ) %>%\n",
        "  round(2)  # Redondear a 2 decimales\n",
        "\n",
        "print(estadisticas_por_grupo)"
      ],
      "metadata": {
        "id": "fy7HbbH8w6Kv"
      },
      "execution_count": null,
      "outputs": []
    },
    {
      "cell_type": "code",
      "source": [
        "# Convertir 'clasfinal' a factor (si aún no lo es)\n",
        "data$clasfinal <- as.factor(data$clasfinal)\n",
        "\n",
        "# Boxplot agrupado por 'clasfinal' (corregido)\n",
        "boxplot_edad_por_grupo <- ggplot(data, aes(x = clasfinal, y = edad_, fill = clasfinal)) +\n",
        "  geom_boxplot() +\n",
        "  labs(title = \"Distribución de Edades por Clase Final\", x = \"Clase Final\", y = \"Edad\") +\n",
        "  theme_minimal() +\n",
        "  scale_fill_brewer(palette = \"Pastel1\")\n",
        "\n",
        "# Mostrar el gráfico\n",
        "print(boxplot_edad_por_grupo)"
      ],
      "metadata": {
        "id": "rJTgLwgiy1qI"
      },
      "execution_count": null,
      "outputs": []
    },
    {
      "cell_type": "code",
      "source": [
        "# Prueba de Shapiro-Wilk para normalidad\n",
        "shapiro_test <- shapiro.test(data$edad_)\n",
        "print(shapiro_test)\n",
        "\n",
        "# Si p-valor de Shapiro-Wilk es significativo (p < 0.05), no hay normalidad\n",
        "if (shapiro_test$p.value < 0.05) {\n",
        "  cat(\"No se asume normalidad en la variable 'edad_'.\\n\")\n",
        "\n",
        "  # Prueba de Kruskal-Wallis para comparar medianas\n",
        "  kruskal_test <- kruskal.test(edad_ ~ clasfinal, data = data)\n",
        "  print(kruskal_test)\n",
        "\n",
        "  # Si p-valor de Kruskal-Wallis es significativo (p < 0.05), hay diferencias significativas entre las medianas\n",
        "  if (kruskal_test$p.value < 0.05) {\n",
        "    cat(\"Existen diferencias significativas entre las medianas de 'edad_' según la 'clasfinal'.\\n\")\n",
        "\n",
        "    # Prueba post-hoc de Dunn para identificar qué grupos difieren (opcional)\n",
        "    library(FSA)\n",
        "    dunn_test <- dunnTest(edad_ ~ clasfinal, data = data, method = \"bh\")\n",
        "    print(dunn_test)\n",
        "  } else {\n",
        "    cat(\"No hay diferencias significativas entre las medianas de 'edad_' según la 'clasfinal'.\\n\")\n",
        "  }\n",
        "} else {\n",
        "  cat(\"Se asume normalidad en la variable 'edad_'.\\n\")\n",
        "}"
      ],
      "metadata": {
        "id": "crSB9SiN0R-M"
      },
      "execution_count": null,
      "outputs": []
    },
    {
      "cell_type": "markdown",
      "source": [
        "La comparación de la variable edad segregada por la clasificación final del dengue muestra que las medias son bastante similares: 38.1 años para los casos sin signos de alarma y 38.6 años para los casos con signos de alarma. La desviación estándar también es comparable entre ambos grupos (15.7 y 15.3, respectivamente), indicando una variabilidad similar. Los gráficos de boxplot refuerzan esta observación, mostrando distribuciones casi idénticas con medianas de 35 y 36 años, y rangos intercuartílicos que se superponen significativamente.\n",
        "\n",
        "El test de normalidad de Shapiro-Wilk indica que la variable edad no sigue una distribución normal (p < 0.05). El test de Kruskal-Wallis no encontró diferencias significativas entre las medianas de la edad en función de la clasificación final del dengue (p = 0.5418). Estos resultados sugieren que la edad no es un factor diferenciador significativo entre los casos de dengue con y sin signos de alarma en esta muestra."
      ],
      "metadata": {
        "id": "iWMOXlKf1K9K"
      }
    },
    {
      "cell_type": "markdown",
      "source": [
        "## Análisis Variables Categoricas"
      ],
      "metadata": {
        "id": "fewMUpjayM7e"
      }
    },
    {
      "cell_type": "code",
      "source": [
        "# Función para generar diagramas de torta\n",
        "generar_diagrama_torta <- function(data, variable, variable_name) {\n",
        "  # Crear un data frame con los conteos\n",
        "  df <- data.frame(table(data[[variable]]))\n",
        "  colnames(df) <- c(\"Category\", \"Count\")\n",
        "\n",
        "  # Calcular porcentajes\n",
        "  df$Percentage <- round(df$Count / sum(df$Count) * 100, 1)\n",
        "  df$Label <- paste(df$Category, \"(\", df$Percentage, \"%)\", sep = \"\")\n",
        "\n",
        "  # Generar el diagrama de torta\n",
        "  ggplot(df, aes(x = \"\", y = Count, fill = Category)) +\n",
        "    geom_bar(stat = \"identity\", width = 1) +\n",
        "    coord_polar(theta = \"y\") +\n",
        "    labs(title = paste(\"Distribución de\", variable_name), x = NULL, y = NULL) +\n",
        "    theme_minimal() +\n",
        "    theme(axis.text.x = element_blank()) +\n",
        "    geom_text(aes(label = Label), position = position_stack(vjust = 0.5)) +\n",
        "    theme(plot.title = element_text(hjust = 0.5))\n",
        "}\n",
        "\n",
        "# Generar diagramas de torta para las variables categóricas\n",
        "generar_diagrama_torta(data, \"sexo_\", \"Sexo\")\n",
        "generar_diagrama_torta(data, \"tip_ss_\", \"Tipo de Régimen en Salud\")\n",
        "generar_diagrama_torta(data, \"area_\", \"Área de Ocurrencia\")\n",
        "generar_diagrama_torta(data, \"per_etn_\", \"Pertenencia Étnica\")\n",
        "generar_diagrama_torta(data, \"conducta\", \"Conducta\")\n",
        "generar_diagrama_torta(data, \"clasfinal\", \"Clasificación Final del Dengue\")\n"
      ],
      "metadata": {
        "id": "-nGpq3zMxL7K"
      },
      "execution_count": null,
      "outputs": []
    },
    {
      "cell_type": "markdown",
      "source": [
        "Según los gráficos, la muestra presenta una ligera preponderancia de individuos del sexo femenino (codificado como 1) y una distribución relativamente equilibrada entre los diferentes tipos de régimen de salud y conductas tomadas. La mayor parte de los casos se registra en el área urbana (codificada como 1), y la mayoría de los individuos no pertenecen a la comunidad indígena (codificado como 1). En términos de la clasificación final del dengue, la mayoría de los casos son de dengue sin signos de alarma."
      ],
      "metadata": {
        "id": "Su0QwpuZySAk"
      }
    },
    {
      "cell_type": "markdown",
      "source": [
        "## Análisis de Asociación"
      ],
      "metadata": {
        "id": "8TE3gCUMwcry"
      }
    },
    {
      "cell_type": "code",
      "source": [
        "# Función para realizar tabla cruzada y tests estadísticos\n",
        "realizar_tests <- function(var1, var2, var1_name, var2_name) {\n",
        "  # Verificar que las variables tengan la misma longitud\n",
        "  if (length(var1) != length(var2)) {\n",
        "    stop(\"Las variables deben tener la misma longitud\")\n",
        "  }\n",
        "\n",
        "  # Tabla cruzada\n",
        "  tabla_cruzada <- table(var1, var2)\n",
        "  cat(\"\\nTabla cruzada entre\", var1_name, \"y\", var2_name, \":\\n\")\n",
        "  print(tabla_cruzada)  # Mostrar la tabla de contingencia\n",
        "\n",
        "  # Test de Chi-cuadrado\n",
        "  resultado_chisq <- chisq.test(tabla_cruzada)\n",
        "  cat(\"\\nTest de Chi-cuadrado entre\", var1_name, \"y\", var2_name, \":\\n\")\n",
        "  print(resultado_chisq)  # Mostrar los resultados del test de Chi-cuadrado\n",
        "\n",
        "  # Test exacto de Fisher\n",
        "  resultado_fisher <- fisher.test(tabla_cruzada)\n",
        "  cat(\"\\nTest exacto de Fisher entre\", var1_name, \"y\", var2_name, \":\\n\")\n",
        "  print(resultado_fisher)  # Mostrar los resultados del test exacto de Fisher\n",
        "}\n",
        "\n",
        "# Variables\n",
        "vars <- list(\n",
        "  list(var1 = data$sexo_, var2 = data$clasfinal, var1_name = \"sexo_\", var2_name = \"clasfinal\"),\n",
        "  list(var1 = data$tip_ss_, var2 = data$clasfinal, var1_name = \"tip_ss_\", var2_name = \"clasfinal\"),\n",
        "  list(var1 = data$per_etn_, var2 = data$clasfinal, var1_name = \"per_etn_\", var2_name = \"clasfinal\"),\n",
        "  list(var1 = data$area_, var2 = data$clasfinal, var1_name = \"area_\", var2_name = \"clasfinal\"),\n",
        "  list(var1 = data$conducta, var2 = data$clasfinal, var1_name = \"conducta\", var2_name = \"clasfinal\")\n",
        ")\n",
        "\n",
        "# Aplicar la función a cada par de variables\n",
        "for (pair in vars) {\n",
        "  realizar_tests(pair$var1, pair$var2, pair$var1_name, pair$var2_name)\n",
        "}\n",
        "\n"
      ],
      "metadata": {
        "id": "4IiDyie8riuF"
      },
      "execution_count": null,
      "outputs": []
    },
    {
      "cell_type": "markdown",
      "source": [
        "Los resultados del análisis indican que no existe una asociación significativa entre el sexo de los pacientes ni el tipo de régimen de salud con la clasificación final del dengue. Esto sugiere que estos factores no influyen en la gravedad del dengue en la muestra analizada. Por otro lado, la pertenencia étnica muestra una asociación significativa con la gravedad del dengue, donde los individuos indígenas tienen menos probabilidades de presentar dengue con signos de alarma en comparación con los no indígenas.\n",
        "\n",
        "La ubicación geográfica también juega un papel importante; los casos en áreas rurales presentan una mayor probabilidad de ser graves en comparación con los casos en áreas urbanas. Esto destaca la necesidad de prestar atención especial a las áreas rurales en los esfuerzos de prevención y tratamiento del dengue. Además, hay una fuerte asociación entre la conducta tomada (tratamiento ambulatorio u hospitalario) y la gravedad del dengue, con los casos graves requiriendo hospitalización con mayor frecuencia.\n",
        "\n",
        "En resumen, aunque el sexo y el régimen de salud no parecen influir en la gravedad del dengue, la pertenencia étnica y la ubicación geográfica sí lo hacen. Los individuos en áreas rurales y los no indígenas son más propensos a presentar casos graves de dengue. Estos hallazgos pueden guiar intervenciones específicas y la asignación de recursos para el control del dengue en el departamento de Amazonas."
      ],
      "metadata": {
        "id": "X3iTi_dywT9a"
      }
    },
    {
      "cell_type": "markdown",
      "source": [
        "## Análisis de Correlación"
      ],
      "metadata": {
        "id": "0H6_QptfwicJ"
      }
    },
    {
      "cell_type": "code",
      "source": [
        "# Convertir las variables categóricas en factores\n",
        "data <- data %>%\n",
        "  mutate(\n",
        "    sexo_ = as.numeric(as.factor(sexo_)),\n",
        "    tip_ss_ = as.numeric(as.factor(tip_ss_)),\n",
        "    area_ = as.numeric(as.factor(area_)),\n",
        "    per_etn_ = as.numeric(as.factor(per_etn_)),\n",
        "    conducta = as.numeric(as.factor(conducta)),\n",
        "    clasfinal = as.numeric(as.factor(clasfinal))\n",
        "  )\n"
      ],
      "metadata": {
        "id": "9OWTE_SdhDF3"
      },
      "execution_count": null,
      "outputs": []
    },
    {
      "cell_type": "code",
      "source": [
        "# Seleccionar las variables categóricas convertidas\n",
        "categorical_vars <- data %>%\n",
        "  dplyr::select(sexo_, tip_ss_, area_, per_etn_, conducta, clasfinal)\n",
        "\n",
        "# Calcular la matriz de correlación y los p-valores utilizando el método de Spearman\n",
        "cor_results <- rcorr(as.matrix(categorical_vars), type = \"spearman\")\n",
        "\n",
        "# Extraer la matriz de correlación y la matriz de p-valores\n",
        "cor_matrix <- cor_results$r\n",
        "p_values_matrix <- cor_results$P\n",
        "\n",
        "# Verificar que las dimensiones coincidan\n",
        "print(dim(cor_matrix))\n",
        "print(dim(p_values_matrix))\n",
        "\n",
        "# Mostrar la matriz de correlación y la matriz de p-valores\n",
        "print(\"Matriz de Correlación:\")\n",
        "print(cor_matrix)\n",
        "\n",
        "print(\"Matriz de P-valores:\")\n",
        "print(p_values_matrix)"
      ],
      "metadata": {
        "id": "lEnVpDNmiW84"
      },
      "execution_count": null,
      "outputs": []
    },
    {
      "cell_type": "markdown",
      "source": [
        "La matriz de correlación de Spearman proporciona coeficientes que indican la fuerza y dirección de la relación monotónica entre dos variables categóricas. Los valores pueden variar de -1 a 1, donde:\n",
        "\n",
        "1 indica una correlación positiva perfecta.\n",
        "-1 indica una correlación negativa perfecta.\n",
        "0 indica que no hay correlación monotónica.\n",
        "Aquí están los puntos destacados del análisis:\n",
        "\n",
        "1. sexo_ y las demás variables:\n",
        "\n",
        "- tip_ss_: Correlación muy baja y negativa (-0.015), lo que indica prácticamente ninguna relación entre el sexo y el tipo de régimen en salud.\n",
        "- area_: Correlación muy baja y positiva (0.007), indicando una relación insignificante entre el sexo y el área de ocurrencia.\n",
        "- per_etn_: Correlación muy baja y negativa (-0.031), indicando una relación insignificante entre el sexo y la pertenencia étnica.\n",
        "- conducta: Correlación muy baja y positiva (0.027), indicando una relación insignificante entre el sexo y la conducta tomada.\n",
        "- clasfinal: Correlación muy baja y positiva (0.039), indicando una relación insignificante entre el sexo y la clasificación final del dengue.\n",
        "\n",
        "2. tip_ss_ y las demás variables:\n",
        "\n",
        "- area_: Correlación baja y positiva (0.171), indicando una relación débil entre el tipo de régimen en salud y el área de ocurrencia.\n",
        "- per_etn_: Correlación moderada y negativa (-0.339), lo que sugiere una relación inversa moderada entre el tipo de régimen en salud y la pertenencia étnica.\n",
        "- conducta: Correlación muy baja y negativa (-0.009), indicando prácticamente ninguna relación entre el tipo de régimen en salud y la conducta tomada.\n",
        "- clasfinal: Correlación muy baja y positiva (0.012), indicando una relación insignificante entre el tipo de régimen en salud y la clasificación final del dengue.\n",
        "3. area_ y las demás variables:\n",
        "\n",
        "- per_etn_: Correlación moderada y negativa (-0.297), lo que sugiere una relación inversa moderada entre el área de ocurrencia y la pertenencia étnica.\n",
        "- conducta: Correlación baja y positiva (0.100), indicando una relación débil entre el área de ocurrencia y la conducta tomada.\n",
        "- clasfinal: Correlación baja y positiva (0.160), indicando una relación débil entre el área de ocurrencia y la clasificación final del dengue.\n",
        "\n",
        "4. per_etn_ y las demás variables:\n",
        "\n",
        "- conducta: Correlación muy baja y negativa (-0.069), indicando una relación insignificante entre la pertenencia étnica y la conducta tomada.\n",
        "- clasfinal: Correlación baja y negativa (-0.093), indicando una relación débil e inversa entre la pertenencia étnica y la clasificación final del dengue.\n",
        "\n",
        "5. conducta y clasfinal:\n",
        "\n",
        "- conducta y clasfinal: Correlación muy alta y positiva (0.872), lo que sugiere una relación fuerte entre la conducta tomada y la clasificación final del dengue. Este alto valor indica que la conducta tomada (tratamiento) está muy asociada con la clasificación final del dengue.\n",
        "\n",
        "**Observaciones**:\n",
        "\n",
        "- **Relación Fuerte**: La relación más destacada es entre la conducta tomada y la clasificación final del dengue, lo que sugiere que las decisiones de tratamiento están muy alineadas con la gravedad del caso (con o sin signos de alarma).\n",
        "- **Relaciones Moderadas**: Hay relaciones moderadas entre el tipo de régimen en salud y la pertenencia étnica, así como entre el área de ocurrencia y la pertenencia étnica.\n",
        "- **Relaciones Débiles o Insignificantes**: La mayoría de las otras correlaciones son muy bajas, lo que indica relaciones débiles o insignificantes entre las variables categóricas analizadas.\n",
        "- Las relaciones significativas sugieren áreas donde puede haber una asociación importante. Por ejemplo, la fuerte relación entre la conducta tomada y la clasificación final del dengue (p < 0.05) indica que las decisiones de tratamiento están muy alineadas con la gravedad del caso.\n",
        "- La ausencia de relaciones significativas en algunos casos puede indicar que esos factores no influyen de manera importante en las variables de interés en este contexto específico."
      ],
      "metadata": {
        "id": "IHslaCBnlhGn"
      }
    },
    {
      "cell_type": "code",
      "source": [
        "# Visualizar la matriz de correlación\n",
        "corrplot(cor_matrix, method = \"number\", type = \"lower\")"
      ],
      "metadata": {
        "id": "emNKpI9niayp"
      },
      "execution_count": null,
      "outputs": []
    },
    {
      "cell_type": "markdown",
      "source": [
        "## Modelo de Regresión Logistica"
      ],
      "metadata": {
        "id": "eec6r_id1X6c"
      }
    },
    {
      "cell_type": "markdown",
      "source": [
        "El modelo de regresión logística es una técnica estadística utilizada para modelar la probabilidad de un resultado binario en función de una o más variables predictoras. En este contexto, el resultado binario es la clasificación final del dengue (con o sin signos de alarma), y las variables predictoras incluyen diversas características demográficas y clínicas. La regresión logística estima la probabilidad de que el resultado sea 1 (por ejemplo, dengue con signos de alarma) dado un conjunto de variables independientes.\n",
        "\n",
        "El modelo se basa en la función logística, que se utiliza para transformar una combinación lineal de las variables predictoras en una probabilidad que varía entre 0 y 1.\n",
        "\n",
        "\n",
        "### **Modelo Saturado**\n",
        "A continuación se muestra el modelo saturado de regresión logística, es decir, el modelo que incluye todas las variables disponibles. Los coeficientes estimados y sus errores estándar se presentan para cada variable. Aquí están algunos puntos clave:\n",
        "\n",
        "- Interacción y significancia: Los coeficientes indican la dirección y magnitud del efecto de cada variable en la probabilidad del resultado. Sin embargo, en este modelo saturado, ninguno de los coeficientes es significativo (p > 0.05), lo que sugiere que muchas de las variables no tienen un efecto estadísticamente significativo cuando se consideran todas juntas.\n",
        "- Convergencia: Las advertencias indican que el algoritmo de ajuste no ha convergido y que hay problemas numéricos con las probabilidades ajustadas. Esto puede ser indicativo de multicolinealidad o de datos insuficientes para algunas combinaciones de variables.\n",
        "- Dispersión de parámetros: El parámetro de dispersión para la familia binomial se toma como 1, lo cual es estándar en regresiones logísticas.\n"
      ],
      "metadata": {
        "id": "WzL-RidX4doT"
      }
    },
    {
      "cell_type": "code",
      "source": [
        "# Análisis de regresión logística para factores asociados al dengue con signos de alarma\n",
        "model <- glm(clasfinal ~ ., data=data, family=binomial)\n",
        "summary(model)"
      ],
      "metadata": {
        "id": "s7MCxgtSuJ7H"
      },
      "execution_count": null,
      "outputs": []
    },
    {
      "cell_type": "markdown",
      "source": [
        "### Modelo Final (Stepwise)\n",
        "El método stepwise (paso a paso) es una técnica de selección de variables que busca identificar el subconjunto óptimo de variables predictoras que explican mejor la variabilidad en el resultado. Este método puede ser hacia adelante, hacia atrás o una combinación de ambos. Utilizando el criterio de información de Akaike (AIC), el proceso stepwise añade o elimina variables iterativamente para encontrar el modelo más parsimonioso que mantenga un buen ajuste.\n",
        "\n",
        "Esperando a que me proporciones el modelo final utilizando stepwise para continuar con el análisis."
      ],
      "metadata": {
        "id": "Ah7D0R_O48Id"
      }
    },
    {
      "cell_type": "code",
      "source": [
        "# Crear el modelo de regresión logística completo\n",
        "full_model <- glm(clasfinal ~ ., data=data, family=binomial)\n",
        "\n",
        "# Aplicar el método stepwise\n",
        "stepwise_model <- stepAIC(full_model, direction = \"both\")\n",
        "\n",
        "# Resumen del modelo seleccionado\n",
        "summary(stepwise_model)"
      ],
      "metadata": {
        "id": "FdH_yP6zEcjF",
        "collapsed": true
      },
      "execution_count": null,
      "outputs": []
    },
    {
      "cell_type": "markdown",
      "source": [
        "En el proceso stepwise, se seleccionaron las variables más significativas para explicar la variabilidad en la clasificación final del dengue. El modelo final incluye las siguientes variables: dolor abdominal, vómito, diarrea, hipotensión y caída de plaquetas. Los resultados del modelo final son los siguientes:\n",
        "\n",
        "Intercepción: 223.87, con un error estándar de 99936.64, lo que no es significativo (p > 0.05).\n",
        "dolor_abdo1: Coeficiente de -49.93 con un error estándar de 22783.27, no significativo (p > 0.05).\n",
        "vomito1: Coeficiente de -49.06 con un error estándar de 24483.19, no significativo (p > 0.05).\n",
        "diarrea1: Coeficiente de -48.94 con un error estándar de 26101.50, no significativo (p > 0.05).\n",
        "hipotensio1: Coeficiente de -50.88 con un error estándar de 76080.97, no significativo (p > 0.05).\n",
        "caida_plaq1: Coeficiente de -50.69 con un error estándar de 28910.94, no significativo (p > 0.05).\n",
        "El valor AIC del modelo es 12, lo que indica un buen ajuste relativo. Sin embargo, ninguno de los coeficientes resultó ser estadísticamente significativo, lo que sugiere que estas variables, al menos individualmente y en el contexto de este modelo, no tienen un efecto significativo en la clasificación final del dengue"
      ],
      "metadata": {
        "id": "B1urouU05ku_"
      }
    },
    {
      "cell_type": "code",
      "source": [
        "# Predicciones con el modelo final\n",
        "pred <- predict(stepwise_model, type=\"response\")\n",
        "\n",
        "# Convertir predicciones a factores binarios\n",
        "pred_class <- as.factor(ifelse(pred > 0.5, 1, 0))\n",
        "\n",
        "# Evaluar la matriz de confusión\n",
        "confusionMatrix(pred_class, data$clasfinal)\n"
      ],
      "metadata": {
        "id": "b_glO1r4IAIx"
      },
      "execution_count": null,
      "outputs": []
    },
    {
      "cell_type": "markdown",
      "source": [
        "El modelo de regresión logística final, tras el proceso stepwise, incluye las variables dolor abdominal, vómito, diarrea, hipotensión y caída de plaquetas. Aunque individualmente ninguna de estas variables resultó ser estadísticamente significativa, el modelo logró una exactitud perfecta del 100% en la predicción de los casos de dengue con y sin signos de alarma. Todas las métricas de desempeño, incluyendo sensibilidad, especificidad, y valores predictivos positivos y negativos, también fueron del 100%, lo que indica una perfecta concordancia entre las predicciones del modelo y los valores reales.\n",
        "\n",
        "Sin embargo, estos resultados impecables sugieren la posibilidad de sobreajuste (overfitting), especialmente si el conjunto de datos de validación es pequeño o no representativo. A pesar del alto desempeño del modelo según las métricas presentadas, la falta de significancia estadística en los coeficientes y el posible sobreajuste recomiendan una validación adicional y la consideración de más datos para confirmar estos hallazgos."
      ],
      "metadata": {
        "id": "9kvqyAJL6Ylk"
      }
    },
    {
      "cell_type": "code",
      "source": [
        "# Crear la curva ROC\n",
        "roc_curve <- roc(data$clasfinal, pred)\n",
        "\n",
        "# Calcular el AUC\n",
        "auc(roc_curve)\n",
        "\n",
        "# Graficar la curva ROC\n",
        "plot.roc(roc_curve, main=\"Curva ROC\")"
      ],
      "metadata": {
        "id": "DeSHD0UfITcA"
      },
      "execution_count": null,
      "outputs": []
    },
    {
      "cell_type": "code",
      "source": [
        "# Interpretar coeficientes del modelo de regresión\n",
        "exp(coef(stepwise_model))"
      ],
      "metadata": {
        "id": "xrcVhE2DBlHV"
      },
      "execution_count": null,
      "outputs": []
    },
    {
      "cell_type": "markdown",
      "source": [
        "Los coeficientes exponenciados del modelo de regresión logística indican que las variables dolor abdominal, vómito, diarrea, hipotensión y caída de plaquetas están asociadas con una fuerte disminución en las probabilidades de tener dengue con signos de alarma. Por ejemplo, la razón de probabilidades para el dolor abdominal es $2.067\\times 10^{-22} $, lo que sugiere que esta condición reduce drásticamente las probabilidades de tener signos de alarma.\n",
        "\n",
        "Sin embargo, es crucial considerar que durante los años 2020, 2021 y 2022, la pandemia de COVID-19 impactó significativamente los sistemas de salud y el comportamiento de las enfermedades infecciosas. La pandemia pudo haber influido en la atención y diagnóstico del dengue, así como en el comportamiento de los pacientes al buscar tratamiento. Esto podría explicar por qué condiciones usualmente asociadas con casos graves de dengue (como vómito, diarrea, hipotensión y caída de plaquetas) aparecen con razones de probabilidades extremadamente bajas, sugiriendo que estos síntomas fueron menos reportados o menos diagnosticados como dengue con signos de alarma durante la pandemia."
      ],
      "metadata": {
        "id": "1avkwTkU8hMI"
      }
    },
    {
      "cell_type": "markdown",
      "source": [
        "# Conclusiones\n",
        "\n",
        "El estudio determinó que la prevalencia de dengue sin signos de alarma en el departamento de Amazonas durante los años 2020 a 2022 fue del 58.9%, mientras que la prevalencia de dengue con signos de alarma fue del 41.1%. Esto indica que la mayoría de los casos reportados fueron de dengue sin signos de alarma, pero una proporción significativa presentó signos de alarma, lo que subraya la necesidad de un manejo clínico adecuado.\n",
        "\n",
        "En cuanto a los factores demográficos y clínicos, se encontró que la distribución por sexo era ligeramente mayor en mujeres (sexo codificado como 1). La mayoría de los casos se reportaron en áreas rurales (área codificada como 0), y la pertenencia étnica mostró una mayor representación del grupo no indígena. La distribución de edades indicó una media de 38 años, con una ligera asimetría positiva, sugiriendo la presencia de individuos de mayor edad en la muestra.\n",
        "\n",
        "Las correlaciones y asociaciones revelaron que no había una relación significativa entre el sexo y la clasificación final del dengue. Sin embargo, la pertenencia étnica sí mostró una asociación significativa, con los individuos no indígenas teniendo mayores probabilidades de presentar signos de alarma. Los resultados del análisis de regresión logística indicaron que síntomas clínicos como dolor abdominal, vómito, diarrea, hipotensión y caída de plaquetas estaban asociados con una fuerte disminución en las probabilidades de tener dengue con signos de alarma, aunque estos resultados deben interpretarse con cautela.\n",
        "\n",
        "Finalmente, la pandemia de COVID-19 durante los años analizados pudo haber influido en la dinámica de reporte y diagnóstico del dengue, afectando los resultados del estudio. Aunque el modelo de regresión logística mostró una exactitud perfecta, la falta de significancia estadística en los coeficientes y el posible sobreajuste sugieren la necesidad de una validación adicional y posiblemente más datos para confirmar estos hallazgos. Los resultados proporcionan una base importante para futuras investigaciones y para la planificación de intervenciones de salud pública en el departamento de Amazonas."
      ],
      "metadata": {
        "id": "oCWI9EZM_0KD"
      }
    }
  ]
}