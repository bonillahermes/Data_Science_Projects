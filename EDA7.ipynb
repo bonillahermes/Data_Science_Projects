{
  "nbformat": 4,
  "nbformat_minor": 0,
  "metadata": {
    "colab": {
      "private_outputs": true,
      "provenance": [],
      "include_colab_link": true
    },
    "kernelspec": {
      "name": "python3",
      "display_name": "Python 3"
    },
    "language_info": {
      "name": "python"
    }
  },
  "cells": [
    {
      "cell_type": "markdown",
      "metadata": {
        "id": "view-in-github",
        "colab_type": "text"
      },
      "source": [
        "<a href=\"https://colab.research.google.com/github/bonillahermes/Data_Science_Projects/blob/main/EDA7.ipynb\" target=\"_parent\"><img src=\"https://colab.research.google.com/assets/colab-badge.svg\" alt=\"Open In Colab\"/></a>"
      ]
    },
    {
      "cell_type": "markdown",
      "source": [
        "# Hermes Yate Bonilla\n",
        "**Data Scientist**\n",
        "---\n",
        "\n",
        "**Contact:**\n",
        "- **Email:** [bonillahermes@gmail.com](mailto:bonillahermes@gmail.com)\n",
        "- **LinkedIn:** [linkedin.com/in/bonillahermes](https://www.linkedin.com/in/bonillahermes/)\n",
        "- **GitHub:** [github.com/bonillahermes](https://github.com/bonillahermes)\n",
        "- **Webpage:** [bonillahermes.com](https://bonillahermes.com/)\n",
        "---"
      ],
      "metadata": {
        "id": "QZ-XrwnUOpVx"
      }
    },
    {
      "cell_type": "markdown",
      "source": [
        "# Relación de la baja de aranceles con las desigualdades sociales en Brasil durante los años 2019 - 2023 en la presidencia de Jair Bolsonaro."
      ],
      "metadata": {
        "id": "AVfhg_UpOysC"
      }
    },
    {
      "cell_type": "markdown",
      "source": [
        "# **Introducción**\n",
        "\n",
        "La implementación de políticas neoliberales como la disminución de aranceles mixtos, durante el periodo de 2019 a 2023 que fue el mandato presidencial Jair Bolsonaro tuvo un efecto directo en el aumento de las desigualdades sociales en Brasil. La política de disminución de aranceles en diversos sectores económicos que condujo a una exposición de la maquinaria economía brasileña a un desplazamiento de la producción local en favor de bienes importados que se implementó bajo el gobierno de expresidente Jair Bolsonaro tuvo un impacto causal directo en la ampliación significativa de las desigualdades sociales en áreas como la disrupción de la fuerza laboral, conllevando a una exacerbación de disparidades de en factores como el empleo, los ingresos de los trabajadores y las oportunidades económicas  en Brasil.\n",
        "\n",
        "## **Pregunta de investigación**\n",
        "¿Cuál es el impacto que tuvo la baja de aranceles mixtos con las desigualdades sociales en Brasil durante el periodo presidencial de Jair Bolsonaro?\n",
        "¿Cuál es el impacto que tuvo las tasas de aranceles mixtos con las desigualdades sociales en Brasil durante los años 2019 -2021 en la presidencia de Jaír Bolsonaro?"
      ],
      "metadata": {
        "id": "NdF9lTJ53ipc"
      }
    },
    {
      "cell_type": "markdown",
      "source": [
        "# Consolidación y descripción de la base de datos\n",
        "\n"
      ],
      "metadata": {
        "id": "nMcJicGL4Mw0"
      }
    },
    {
      "cell_type": "markdown",
      "source": [
        "Para comprender el impacto de las tasas de aranceles mixtos en las desigualdades sociales en Brasil durante los años 2019-2021, es fundamental incluir las variables mencionadas en la base de datos. Cada una de estas variables proporciona información relevante que permite analizar diferentes aspectos económicos y sociales que están directamente relacionados con las desigualdades sociales y el comercio internacional. A continuación, se explican las razones por las cuales es importante incluir cada variable:\n",
        "\n",
        "0. **Año**: Año de medición.\n",
        "\n",
        "1. **Homicidios (por cada 100k hab.)**:\n",
        "   - Ayuda a comprender la seguridad y el entorno social en el que se desarrolla la economía. Altas tasas de homicidios pueden indicar un entorno inseguro y afectar la inversión y el desarrollo económico.\n",
        "\n",
        "2. **Tasa Prod. Primarios (%)**:\n",
        "   - Indica la dependencia de un país en la producción de bienes primarios. Esto puede influir en la economía y afectar la distribución de ingresos y, por lo tanto, la desigualdad.\n",
        "\n",
        "3. **Tasa Natalidad (por 1,000 hab.)**:\n",
        "   - La tasa de natalidad puede estar relacionada con la disponibilidad de empleo y recursos, lo cual influye en la desigualdad económica y social.\n",
        "\n",
        "4. **Prevalencia Desnutrición (%)**:\n",
        "   - La desnutrición está ligada a la pobreza y la falta de acceso a alimentos. Es un indicador importante de la desigualdad en el acceso a recursos básicos.\n",
        "\n",
        "5. **Tierras Cultivables (ha/persona)**:\n",
        "   - Proporciona información sobre la disponibilidad de recursos agrícolas por persona, lo cual puede influir en la distribución de ingresos y en la desigualdad económica.\n",
        "\n",
        "6. **Inscrip. Escolar, Nivel Sec. (%)**:\n",
        "   - La inscripción en la educación secundaria puede reflejar oportunidades educativas, lo cual es fundamental para abordar la desigualdad en el acceso a la educación.\n",
        "\n",
        "7. **Gasto Militar (% PIB)**:\n",
        "   - El gasto militar puede indicar prioridades económicas y políticas que afectan la inversión en sectores sociales. Un desequilibrio en el gasto puede agravar la desigualdad.\n",
        "\n",
        "8. **Suscrip. Teléfono Fijo (por 100 pers.)**:\n",
        "   - Indica el acceso a las comunicaciones, lo cual es importante para la inclusión social y económica.\n",
        "\n",
        "9. **Índice Precios Consumidor (2010 = 100)**:\n",
        "   - Ayuda a entender la inflación y su impacto en el poder adquisitivo de diferentes estratos sociales.\n",
        "\n",
        "10. **Trab. Familiares Contrib. (% Empleo)**:\n",
        "    - Refleja la contribución de los trabajadores familiares en el empleo total y su relación con la estructura laboral y la desigualdad.\n",
        "\n",
        "11. **Índice Gini**:\n",
        "    - Es un indicador crucial para medir la desigualdad de ingresos y proporciona una evaluación directa de la disparidad económica.\n",
        "\n",
        "12. **Índices Global Equity S&P (% cambio anual)**:\n",
        "    - Los cambios en los índices de equidad global pueden indicar tendencias en los mercados financieros, que pueden estar relacionadas con la desigualdad de riqueza y oportunidades.\n",
        "\n",
        "13. **Control Corrupción: Percentil**:\n",
        "    - La corrupción puede afectar la equidad en la distribución de recursos y oportunidades.\n",
        "\n",
        "14. **Participación Fuerza Laboral (%)**:\n",
        "    - La participación en la fuerza laboral es fundamental para comprender las oportunidades de empleo y la desigualdad en el mercado laboral.\n",
        "\n",
        "15. **Participación Ingreso 20% más Bajo (%)**:\n",
        "    - Refleja la desigualdad de ingresos al observar la participación de los estratos más bajos en la distribución de ingresos.\n",
        "\n",
        "16. **Participación Ingreso 20% más Alto (%)**:\n",
        "    - Proporciona información sobre la desigualdad en la distribución de ingresos al analizar la participación de los estratos más altos.\n",
        "\n",
        "17. **Aranceles Efectivos (%)**:\n",
        "    - Los aranceles pueden influir en el comercio y, por ende, en la economía y la desigualdad, ya que afectan la accesibilidad de bienes y servicios.\n",
        "\n",
        "18. **Rendimiento Domic. Per Cápita**:\n",
        "    - Indica el rendimiento económico promedio por persona, lo cual es esencial para entender la distribución de ingresos.\n",
        "\n",
        "19. **Rend. Domic. Per Cápita Hombres** y **Rend. Domic. Per Cápita Mujeres**:\n",
        "    - Estos indican la distribución de ingresos basada en género, lo cual es fundamental para abordar la desigualdad de género.\n",
        "\n",
        "Al incluir estas variables en la base de datos, se obtiene una representación completa y multidimensional de diversos aspectos económicos y sociales que son esenciales para analizar el impacto de las tasas de aranceles mixtos en las desigualdades sociales en Brasil durante los años 2019-2021.\n",
        "\n",
        "## Fuente de datos\n",
        "\n",
        "Las bases de datos fueron tomadas de las siguientes fuentes:\n",
        "\n",
        "\n",
        "1. **Instituto Brasileño de Geografía y Estadística (IBGE)**:\n",
        "   El IBGE es la principal fuente de datos oficiales en Brasil. Proporciona información sobre diversos aspectos socioeconómicos, incluyendo datos sobre ingresos, pobreza, desigualdad, empleo, entre otros.\n",
        "\n",
        "2. **Ministerio de Economía de Brasil**:\n",
        "   El Ministerio de Economía de Brasil ofrece datos relacionados con las tasas de aranceles, comercio exterior y políticas económicas durante el período de interés.\n",
        "\n",
        "3. **Banco Mundial**:\n",
        "   El Banco Mundial ofrece datos sobre diferentes aspectos económicos y sociales a nivel global, incluyendo indicadores de desigualdad y comercio.\n",
        "\n",
        "4. **Comisión Económica para América Latina y el Caribe (CEPAL)**:\n",
        "   CEPAL proporciona análisis y datos relacionados con la economía y la desigualdad en América Latina, incluyendo información específica sobre Brasil.\n",
        "\n",
        "**Nota**:\n",
        "Por año solo existe una observación que es el total que se mide en cada variable. Por lo tanto, las medidas estadísticas descriptivas se aplicarán en todo el intervalo de tiempo."
      ],
      "metadata": {
        "id": "EbA6eaYAQYZJ"
      }
    },
    {
      "cell_type": "markdown",
      "source": [
        "# Estudio Descriptivo"
      ],
      "metadata": {
        "id": "er_sdDjOTQeX"
      }
    },
    {
      "cell_type": "markdown",
      "source": [
        "## Preliminares"
      ],
      "metadata": {
        "id": "wNnoTWXcblLT"
      }
    },
    {
      "cell_type": "code",
      "source": [
        "import pandas as pd\n",
        "import numpy as np\n",
        "import seaborn as sns\n",
        "import matplotlib.pyplot as plt\n",
        "import plotly.express as px"
      ],
      "metadata": {
        "id": "JAbcyA6UeZlZ"
      },
      "execution_count": null,
      "outputs": []
    },
    {
      "cell_type": "code",
      "execution_count": null,
      "metadata": {
        "id": "CeRCk1N53ha5"
      },
      "outputs": [],
      "source": [
        "from google.colab import drive\n",
        "\n",
        "# Monta tu Google Drive\n",
        "drive.mount('/content/drive')\n"
      ]
    },
    {
      "cell_type": "markdown",
      "source": [
        "La base de datos consta de 22 variables y 5 observaciones."
      ],
      "metadata": {
        "id": "O6l7jzhlbvzF"
      }
    },
    {
      "cell_type": "code",
      "source": [
        "# Ruta del archivo Excel en tu Google Drive\n",
        "ruta_archivo = '/content/drive/MyDrive/Bases/Base Inv Cuant.xlsx'\n",
        "\n",
        "# Cargar el archivo Excel en un DataFrame de Pandas\n",
        "data = pd.read_excel(ruta_archivo)\n",
        "\n",
        "# Mostrar las primeras filas para entender la estructura\n",
        "data.head()\n"
      ],
      "metadata": {
        "id": "qwCeECtVUzoN"
      },
      "execution_count": null,
      "outputs": []
    },
    {
      "cell_type": "code",
      "source": [
        "# Tamaño del dataframe\n",
        "data.shape"
      ],
      "metadata": {
        "id": "Vz788euNY8QD"
      },
      "execution_count": null,
      "outputs": []
    },
    {
      "cell_type": "code",
      "source": [
        "# Información general sobre el DataFrame\n",
        "info = data.info()"
      ],
      "metadata": {
        "id": "CnTTz7SOVq1x"
      },
      "execution_count": null,
      "outputs": []
    },
    {
      "cell_type": "code",
      "source": [
        "# Estadísticas descriptivas\n",
        "estadisticas_descriptivas = data.describe()\n",
        "print(estadisticas_descriptivas)"
      ],
      "metadata": {
        "id": "OB9ML9qlZFYs"
      },
      "execution_count": null,
      "outputs": []
    },
    {
      "cell_type": "code",
      "source": [
        "# Valores nulos\n",
        "valores_nulos = data.isnull().sum()\n",
        "valores_nulos"
      ],
      "metadata": {
        "id": "Sw8O1urNbklp"
      },
      "execution_count": null,
      "outputs": []
    },
    {
      "cell_type": "markdown",
      "source": [
        "## Descriptivos Base Global"
      ],
      "metadata": {
        "id": "rDMoufpub81v"
      }
    },
    {
      "cell_type": "markdown",
      "source": [
        "**Homicidios (por cada 100k hab.)**:\n",
        "\n",
        "Con una media de aproximadamente 26 y una desviación estándar de alrededor de 4.3, los datos sugieren una tasa de homicidios relativamente alta y consistente, lo que puede reflejar problemas de seguridad pública y su posible impacto negativo en la estabilidad social y económica.\n",
        "\n",
        "**Tasa Prod. Primarios (%)**:\n",
        "\n",
        "La media está cerca del 33.9%, con una muy baja variabilidad (std cercana a 0.04), indicando que la economía mantiene una dependencia constante en la producción de bienes primarios durante el período analizado, lo cual podría estar relacionado con las desigualdades en la distribución del ingreso y en el acceso a oportunidades económicas.\n",
        "\n",
        "**Tasa Natalidad (por 1,000 hab.)**:\n",
        "\n",
        "Una tasa de natalidad media de aproximadamente 13.6 y una baja variabilidad sugiere que la tasa de natalidad se ha mantenido relativamente estable, lo cual puede influir en la planificación económica y social, incluyendo la inversión en servicios de salud y educación.\n",
        "\n",
        "**Prevalencia Desnutrición (%)**:\n",
        "\n",
        "Con una media de 2.8% y una baja desviación estándar, la prevalencia de desnutrición indica una problemática consistente que podría reflejar desigualdades en el acceso a alimentos y en la calidad de vida de la población más vulnerable.\n",
        "\n",
        "**Tierras Cultivables (ha/persona)**:\n",
        "\n",
        "Una media de alrededor de 0.268 ha/persona con poca variación indica una disponibilidad de tierra cultivable que no ha sufrido grandes cambios durante el período estudiado, lo cual es relevante para las políticas agrícolas y de desarrollo rural.\n",
        "\n",
        "**Inscrip. Escolar, Nivel Sec. (%)**:\n",
        "\n",
        "La media de aproximadamente 73% con una desviación estándar moderada señala una tasa de inscripción en secundaria que puede sugerir un nivel de acceso a la educación que, si bien es alto, puede presentar diferencias que deben explorarse para entender su impacto en la desigualdad social.\n",
        "\n",
        "**Gasto Militar (% PIB)**:\n",
        "\n",
        "Una media cercana al 1.35% del PIB, con baja variabilidad, indica un nivel de inversión militar que, dependiendo del contexto, podría interpretarse en términos de equilibrio o desequilibrio frente a las necesidades de inversión en sectores sociales.\n",
        "\n",
        "**SuscripTel (Suscripciones de teléfono fijo por 100 personas)**:\n",
        "\n",
        "Con una media de aproximadamente 16.95 y una desviación estándar de alrededor de 2.77, hay una cantidad moderada de suscripciones de teléfono fijo por cada 100 personas, lo que implica un nivel decente de acceso a comunicaciones fijas en la región analizada. La variabilidad no es muy alta, indicando que las suscripciones no fluctúan extremadamente entre las observaciones. El rango que va desde un mínimo de aproximadamente 13.48 hasta un máximo de 20.31 muestra que, en el mejor de los casos, hay más de 20 suscripciones por cada 100 personas, lo cual podría ser indicativo de una mejor infraestructura de telecomunicaciones en ciertas áreas o periodos.\n",
        "\n",
        "**IPC (Índice de Precios al Consumidor)**:\n",
        "\n",
        "La media del IPC es de aproximadamente 165.80, con una desviación estándar de 13.13, lo que sugiere que desde el año base, ha habido un aumento general en el nivel de precios de los bienes y servicios consumidos por los hogares. La variación en el IPC entre las diferentes observaciones es relativamente baja, lo que indica una inflación relativamente estable en el período de tiempo considerado. Los valores oscilan entre 150.48 y 187.11, lo que podría indicar períodos de inflación más alta o más baja, afectando potencialmente el poder adquisitivo de la población.\n",
        "\n",
        "**TrabFamContrib (Trabajadores familiares contribuyentes como porcentaje del empleo total)**:\n",
        "\n",
        "La media es de aproximadamente 2.30 con una desviación estándar muy baja de aproximadamente 0.05, lo que indica que la contribución de los trabajadores familiares al empleo total es bastante pequeña y muy consistente. Esto puede sugerir que la mayoría del empleo proviene de sectores formales o no familiares. El mínimo y el máximo no difieren mucho del promedio (variando de aproximadamente 2.23 a 2.38), lo que reafirma la consistencia de esta variable en el período analizado.\n",
        "\n",
        "**Índice Gini**:\n",
        "\n",
        "Con una media de aproximadamente 52.63 y una desviación estándar de alrededor de 1.86, el Índice Gini muestra una alta desigualdad en la distribución de ingresos, que ha variado poco, como lo indica la baja desviación estándar. Los valores van de 48.9 a 53.9, lo que implica que hubo un momento o área en la que la desigualdad de ingresos fue un poco menos pronunciada, pero en general, se mantiene alta.\n",
        "\n",
        "**Global Equity**:\n",
        "\n",
        "La media de aproximadamente 10.40, con una gran desviación estándar de aproximadamente 33.08, sugiere que ha habido un cambio promedio positivo en los índices de equidad global, aunque con una alta variabilidad. Esto podría reflejar inestabilidad o fluctuaciones significativas en los mercados financieros durante el período analizado. La presencia de un valor mínimo negativo de aproximadamente -25.33 y un valor máximo muy alto de alrededor de 62.57 señala que hubo años de decrecimiento y otros de crecimiento relevante.\n",
        "\n",
        "**Control Corrupción**:\n",
        "\n",
        "Con un promedio de aproximadamente 38.38 y una desviación estándar de 2.44, este indicador muestra un nivel relativamente consistente de percepción sobre el control de la corrupción en el contexto analizado. La baja variabilidad sugiere que no hubo cambios drásticos en la percepción de la corrupción durante el período estudiado.\n",
        "\n",
        "**Fuerza Laboral**:\n",
        "\n",
        "La participación en la fuerza laboral tiene una media de aproximadamente 72.06% con una desviación estándar mínima de 1.18, lo que indica una tasa de participación laboral relativamente estable y alta. Esto podría sugerir que la mayoría de la población en edad de trabajar está empleada o buscando trabajo.\n",
        "\n",
        "**PartIngr20bajo (Participación de Ingresos del 20% más bajo)**:\n",
        "\n",
        "Con una media de alrededor de 3.42 y una desviación estándar de 0.54, los datos indican que el porcentaje de ingresos del quintil más bajo de la población es bastante bajo y con poca variación, lo que podría señalar una desigualdad persistente en la distribución de ingresos.\n",
        "\n",
        "**PartIngr20Alto (Participación de Ingresos del 20% más alto)**:\n",
        "\n",
        "La media es aproximadamente 57.35 y la desviación estándar es 1.32, lo que demuestra que la proporción de ingresos del quintil superior es significativamente mayor y con una ligera variabilidad. Esto resalta la concentración de ingresos en el extremo superior de la distribución.\n",
        "\n",
        "**Aranceles Efectivos**:\n",
        "\n",
        "La media de aproximadamente 13.84 y una desviación estándar de 0.13 muestra que los aranceles efectivos se mantuvieron relativamente estables, con una ligera variación, lo que implica que la política arancelaria no ha tenido grandes cambios en el período observado.\n",
        "\n",
        "**RendDomicPerCap (Rendimiento Domiciliario Per Cápita)**:\n",
        "\n",
        "Con una media de 1451.57 y una desviación estándar de 57.75, el rendimiento económico per cápita muestra cierta variabilidad, lo que indica que ha habido fluctuaciones en la capacidad económica promedio de los individuos.\n",
        "\n",
        "**RendDomicPerCap Hombres (Rendimiento Domiciliario Per Cápita de Hombres)**:\n",
        "\n",
        "La media de alrededor de 1479.80 y una desviación estándar de 51.70 sugiere que los ingresos domiciliarios per cápita para los hombres han sido relativamente altos y con una variabilidad moderada, lo que podría reflejar diferencias en la distribución de ingresos por género.\n",
        "\n",
        "**RendDomicPerCap Mujeres (Rendimiento Domiciliario Per Cápita de Mujeres)**:\n",
        "\n",
        "Con una media cercana a 1424.54 y una desviación estándar de 63.83, se observa que el rendimiento económico per cápita para las mujeres es levemente menor que para los hombres, con una variación ligeramente más alta, lo que también apunta a la presencia de una brecha de género en términos de ingresos."
      ],
      "metadata": {
        "id": "l6CPQq5UzLPp"
      }
    },
    {
      "cell_type": "code",
      "source": [
        "# Calcular estadísticos descriptivos excluyendo la variable \"Año\"\n",
        "estadisticos_descriptivos = data.drop('Año', axis=1).describe()\n",
        "\n",
        "# Mostrar la tabla de estadísticos descriptivos\n",
        "estadisticos_descriptivos\n"
      ],
      "metadata": {
        "id": "GlUh95sOWaQX"
      },
      "execution_count": null,
      "outputs": []
    },
    {
      "cell_type": "markdown",
      "source": [
        "## Subconjunto de Datos\n",
        "\n",
        "Para determinar las variables más importantes en la base de datos con respecto a la pregunta de investigación sobre el impacto de las tasas de aranceles mixtos en las desigualdades sociales en Brasil durante los años 2019-2021, es fundamental considerar cuáles de ellas están directamente relacionadas con el tema de estudio y podrían influir en el resultado del análisis. Basándonos en la pregunta de investigación, las siguientes variables podrían considerarse como las más importantes:\n",
        "\n",
        "1. **Homicidios**:\n",
        "   - La tasa de homicidios puede proporcionar información sobre la seguridad y el entorno social en el que se desarrolla la economía. Una alta tasa de homicidios puede indicar un entorno inseguro, lo cual puede afectar el bienestar y la inversión, impactando así en las desigualdades sociales.\n",
        "\n",
        "2. **TProdPrim (Tasa de Productos Primarios)**:\n",
        "   - La dependencia de un país en la producción de bienes primarios puede influir en la economía y la distribución de ingresos, lo que, a su vez, puede afectar la desigualdad social.\n",
        "\n",
        "3. **GastoMilitar (Gasto Militar como porcentaje del PIB)**:\n",
        "   - El gasto militar como porcentaje del PIB puede reflejar las prioridades económicas del país. Un desequilibrio en el gasto, especialmente si se destina una parte significativa del PIB al gasto militar, puede tener implicaciones en la inversión en sectores sociales y, por ende, en la desigualdad.\n",
        "\n",
        "4. **Índice Gini**:\n",
        "   - El Índice Gini es un indicador clave para medir la desigualdad de ingresos en una población. Su inclusión es crucial para evaluar directamente la disparidad económica.\n",
        "\n",
        "5. **Aranceles Efectivos**:\n",
        "   - Los aranceles pueden influir en el comercio y, por ende, en la economía y la desigualdad. Analizar los aranceles efectivos puede ayudar a comprender cómo las políticas comerciales afectan la distribución de ingresos y las desigualdades sociales.\n",
        "\n",
        "Adicionalmente se agregó Fuerza laboral y Rendimiento Domiciliario Per Cápita."
      ],
      "metadata": {
        "id": "GRaBEq2FcEK9"
      }
    },
    {
      "cell_type": "code",
      "source": [
        "# Seleccionar las columnas deseadas para el subconjunto de datos\n",
        "subconjunto_datos = data[['Año', 'Homicidios', 'TProdPrim', 'GastoMilitar', 'Índice Gini', 'Aranceles Efectivos', 'Fuerza Laboral', 'RendDomicPerCap']]\n",
        "subconjunto_datos.head()\n"
      ],
      "metadata": {
        "id": "VEzSvemlXc93"
      },
      "execution_count": null,
      "outputs": []
    },
    {
      "cell_type": "code",
      "source": [
        "# Tamaño del dataframe\n",
        "subconjunto_datos.shape"
      ],
      "metadata": {
        "id": "ozDv4W2JdME1"
      },
      "execution_count": null,
      "outputs": []
    },
    {
      "cell_type": "code",
      "source": [
        "# Valores nulos\n",
        "valores_nulos = subconjunto_datos.isnull().sum()\n",
        "valores_nulos"
      ],
      "metadata": {
        "id": "J2ABrockddy-"
      },
      "execution_count": null,
      "outputs": []
    },
    {
      "cell_type": "markdown",
      "source": [
        "\n",
        "1. **Homicidios**:\n",
        "   - La tasa media de homicidios es aproximadamente 26.00 por cada 100,000 habitantes en este conjunto de datos.\n",
        "   - La variabilidad es relativamente baja, con un rango de aproximadamente 10.78 (mínimo a máximo).\n",
        "   - El rango intercuartílico (IQR) es de aproximadamente 7.21, indicando una dispersión moderada.\n",
        "\n",
        "2. **TProdPrim (Tasa de Productos Primarios)**:\n",
        "   - La media de la tasa de productos primarios es aproximadamente 33.94%.\n",
        "   - La desviación estándar es baja, indicando que los valores están cerca de la media.\n",
        "\n",
        "3. **GastoMilitar (Gasto Militar como porcentaje del PIB)**:\n",
        "   - El gasto militar representa, en promedio, alrededor del 1.35% del PIB.\n",
        "   - La variabilidad en este gasto es baja, con una desviación estándar de aproximadamente 0.10.\n",
        "\n",
        "4. **Índice Gini**:\n",
        "   - El Índice Gini promedio es aproximadamente 52.63, que indica un nivel de desigualdad moderado.\n",
        "   - La desviación estándar es relativamente baja, indicando que los valores están cerca de la media.\n",
        "\n",
        "5. **Aranceles Efectivos**:\n",
        "   - El arancel efectivo promedio es aproximadamente 13.41%.\n",
        "   - La variabilidad en los aranceles es relativamente baja, con una desviación estándar de aproximadamente 0.13.\n",
        "\n",
        "6. **Fuerza Laboral**:\n",
        "   - El promedio de participación en la fuerza laboral es aproximadamente 72.06%.\n",
        "   - La variabilidad en la fuerza laboral es baja, con una desviación estándar de aproximadamente 1.18.\n",
        "\n",
        "7. **RendDomicPerCap (Rendimiento Domiciliario Per Cápita)**:\n",
        "   - El rendimiento domiciliario per cápita promedio es aproximadamente 1451.57.\n",
        "   - La variabilidad en el rendimiento domiciliario per cápita es moderada, con una desviación estándar de aproximadamente 57.76.\n"
      ],
      "metadata": {
        "id": "aDcQwMqgYPi2"
      }
    },
    {
      "cell_type": "code",
      "source": [
        "# Calcular estadísticos descriptivos excluyendo la variable \"Año\"\n",
        "estadisticos_descriptivos_nuevo = subconjunto_datos.drop('Año', axis=1).describe()\n",
        "\n",
        "# Mostrar la tabla de estadísticos descriptivos\n",
        "estadisticos_descriptivos_nuevo\n"
      ],
      "metadata": {
        "id": "GGXvMiT7XxT_"
      },
      "execution_count": null,
      "outputs": []
    },
    {
      "cell_type": "code",
      "source": [
        "# Seleccionar las columnas deseadas para el subconjunto de datos\n",
        "subconjunto_datos = data[['Homicidios', 'TProdPrim', 'GastoMilitar', 'Índice Gini', 'Aranceles Efectivos', 'Fuerza Laboral', 'RendDomicPerCap']]\n",
        "\n",
        "# Mostrar las primeras filas del subconjunto de datos\n",
        "subconjunto_datos.head()\n",
        "\n",
        "# Crear subplots para cada variable (asegúrate de tener la cantidad correcta de subplots)\n",
        "fig, axes = plt.subplots(1, 7, figsize=(20, 5))  # Cambiado de 7 a 8 para coincidir con la cantidad de variables\n",
        "\n",
        "# Dibujar la distribución de cada variable\n",
        "for i, variable in enumerate(subconjunto_datos.columns):  # Asegurarse de iterar a través de los nombres de columna\n",
        "    sns.histplot(subconjunto_datos[variable], kde=True, ax=axes[i])\n",
        "    axes[i].set_title(f'Distribución de {variable}', fontsize=10)\n",
        "    axes[i].set_xlabel(variable, fontsize=8)\n",
        "    axes[i].set_ylabel('Frecuencia', fontsize=8)\n",
        "\n",
        "plt.tight_layout()\n",
        "plt.show()\n"
      ],
      "metadata": {
        "id": "1pJFF_mceEqm"
      },
      "execution_count": null,
      "outputs": []
    },
    {
      "cell_type": "code",
      "source": [
        "# Crear subplots para cada variable (8 subplots en total)\n",
        "fig, axes = plt.subplots(1, 7, figsize=(20, 5))  # Ajustado para 8 subplots\n",
        "\n",
        "# Dibujar el boxplot para cada variable\n",
        "for i, variable in enumerate(subconjunto_datos.columns):  # Asegurarse de iterar a través de los nombres de columna\n",
        "    sns.boxplot(y=subconjunto_datos[variable], ax=axes[i])\n",
        "    axes[i].set_title(f'Distribución de {variable}', fontsize=10)\n",
        "    axes[i].set_ylabel(variable, fontsize=8)\n",
        "\n",
        "# Ajustar el layout para evitar la superposición de títulos\n",
        "plt.tight_layout()\n",
        "plt.show()"
      ],
      "metadata": {
        "id": "ClOuUWPcoYHi"
      },
      "execution_count": null,
      "outputs": []
    },
    {
      "cell_type": "markdown",
      "source": [
        "## Gráficos Bivariados"
      ],
      "metadata": {
        "id": "ZPK29zMactmr"
      }
    },
    {
      "cell_type": "code",
      "source": [
        "# Crear una matriz de gráficos de dispersión\n",
        "scatter_matrix = pd.plotting.scatter_matrix(subconjunto_datos, figsize=(12, 12), diagonal='kde')\n",
        "\n",
        "# Ajustar el diseño\n",
        "plt.tight_layout()\n",
        "\n",
        "# Mostrar los gráficos\n",
        "plt.show()\n"
      ],
      "metadata": {
        "id": "ze3oLHT4Ype0"
      },
      "execution_count": null,
      "outputs": []
    },
    {
      "cell_type": "markdown",
      "source": [
        "## Correlaciones\n",
        "\n",
        "1. **Gasto Militar y Rendimiento Domiciliario Per Cápita (0.85)**:\n",
        "   - La fuerte correlación positiva de 0.85 entre el gasto militar y el rendimiento domiciliario per cápita sugiere que un mayor gasto militar como porcentaje del PIB está asociado con un mayor rendimiento per cápita en Brasil durante este período. Esto puede indicar que un aumento en el gasto militar puede estar relacionado con un mejor rendimiento económico a nivel individual.\n",
        "\n",
        "2. **Aranceles Efectivos y Rendimiento Domiciliario Per Cápita (0.75)**:\n",
        "   - La correlación positiva significativa de 0.75 entre los aranceles efectivos y el rendimiento domiciliario per cápita indica que a medida que los aranceles efectivos aumentan, también lo hace el rendimiento económico a nivel individual. Esto puede implicar que una política de aranceles efectivos más altos puede estar relacionada con un mejor rendimiento económico por persona.\n",
        "\n",
        "3. **Aranceles Efectivos y Gasto Militar (0.70)**:\n",
        "   - La correlación positiva de 0.70 entre los aranceles efectivos y el gasto militar sugiere que un aumento en los aranceles efectivos puede estar relacionado con un mayor gasto militar como porcentaje del PIB. Esto podría indicar una relación entre las políticas comerciales y el gasto militar en Brasil durante este período.\n",
        "\n",
        "4. **Homicidios y Rendimiento Domiciliario Per Cápita (-0.66)**:\n",
        "   - La fuerte correlación negativa de -0.66 entre la tasa de homicidios y el rendimiento domiciliario per cápita indica que a medida que el rendimiento per cápita aumenta, la tasa de homicidios tiende a disminuir. Esto sugiere que un mejor rendimiento económico puede estar relacionado con una menor tasa de homicidios en Brasil.\n",
        "\n",
        "5. **Índice Gini y Fuerza Laboral (-0.61)**:\n",
        "   - La correlación negativa de -0.61 entre el índice Gini y la fuerza laboral sugiere que a medida que la desigualdad disminuye (índice Gini menor), la fuerza laboral tiende a aumentar. Esto puede indicar que políticas que reducen la desigualdad pueden estar asociadas con una mayor participación en la fuerza laboral."
      ],
      "metadata": {
        "id": "BX1etFnKc0cM"
      }
    },
    {
      "cell_type": "code",
      "source": [
        "# Calcular la matriz de correlación\n",
        "matriz_correlacion = subconjunto_datos.drop('Año', axis=1).corr()\n",
        "\n",
        "# Crear una matriz de correlación gráfica\n",
        "plt.figure(figsize=(10, 8))\n",
        "sns.heatmap(matriz_correlacion, annot=True, cmap='coolwarm', fmt='.2f', linewidths=0.5)\n",
        "plt.title('Matriz de Correlación')\n",
        "plt.show()\n"
      ],
      "metadata": {
        "id": "FZfB4laaY73O"
      },
      "execution_count": null,
      "outputs": []
    },
    {
      "cell_type": "code",
      "source": [
        "# Calcular la matriz de correlación\n",
        "corr = subconjunto_datos.corr()\n",
        "corr"
      ],
      "metadata": {
        "id": "X2KG9Py4ufZB"
      },
      "execution_count": null,
      "outputs": []
    },
    {
      "cell_type": "markdown",
      "source": [
        "## Comportamiento de las variables con mayor correlación en el tiempo\n",
        "\n",
        "La pandemia tuvo un impacto significativo en la economía y en varios aspectos de la sociedad en todo el mundo, incluido Brasil. A continuación, se proporciona una explicación posible de cómo la pandemia podría haber afectado las variables en cuestión:\n",
        "\n",
        "1. **Gasto Militar**:\n",
        "   - Durante la pandemia, muchos países, incluido Brasil, redirigieron fondos y recursos para abordar la crisis sanitaria y sus consecuencias económicas. Es posible que parte de los recursos asignados previamente al gasto militar se hayan redistribuido para responder a las necesidades urgentes derivadas de la pandemia.\n",
        "\n",
        "2. **Rendimiento Domiciliario Per Cápita**:\n",
        "   - La pandemia afectó a la economía global, lo que llevó a una disminución en la actividad económica y, en algunos casos, a la pérdida de empleos y reducción de salarios. Esto puede haber tenido un impacto en el rendimiento económico per cápita, ya que los ingresos y la capacidad adquisitiva de las personas se vieron afectados.\n",
        "\n",
        "3. **Aranceles Efectivos**:\n",
        "   - En respuesta a la pandemia, muchos países implementaron medidas económicas para estimular sus economías, como reducción de aranceles y restricciones comerciales. Estos cambios en las políticas comerciales pueden haber influido en los aranceles efectivos y, por ende, en la variable en cuestión.\n",
        "\n"
      ],
      "metadata": {
        "id": "5awTdMrIkwMK"
      }
    },
    {
      "cell_type": "code",
      "source": [
        "# Variables con mayor correlación\n",
        "variables_mayor_correlacion = {\n",
        "    'GastoMilitar': 'Gasto Militar',\n",
        "    'RendDomicPerCap': 'Rendimiento Domiciliario Per Cápita',\n",
        "    'Aranceles Efectivos': 'Aranceles Efectivos'\n",
        "}\n",
        "\n",
        "# Crear gráficos de líneas individuales para cada variable\n",
        "for variable_key, variable_value in variables_mayor_correlacion.items():\n",
        "    plt.figure(figsize=(10, 6))\n",
        "    plt.plot(subconjunto_datos['Año'], subconjunto_datos[variable_key], marker='o', color='b')\n",
        "    plt.title(f'Gráfico de Líneas para {variable_value}')\n",
        "    plt.xlabel('Año')\n",
        "    plt.ylabel(variable_value)\n",
        "    plt.grid(True)\n",
        "    plt.show()\n",
        "\n",
        "\n",
        "\n",
        "\n"
      ],
      "metadata": {
        "id": "P4Hft4FOaUDq"
      },
      "execution_count": null,
      "outputs": []
    },
    {
      "cell_type": "markdown",
      "source": [
        "# Inferencia\n",
        "\n",
        "En nuestro estudio sobre la relación entre la política comercial y las desigualdades sociales en Brasil durante el periodo 2019-2023, hemos seleccionado dos variables principales: el Índice Gini y los aranceles efectivos. La elección de estas variables se fundamenta en su relevancia y pertinencia para los objetivos de nuestra investigación.\n",
        "\n",
        "### Índice Gini:\n",
        "\n",
        "- **Representación de la Desigualdad Social**: El Índice Gini es una medida estadística reconocida internacionalmente que cuantifica la desigualdad de ingresos dentro de una población. Un valor de 0 indica igualdad perfecta en la distribución de ingresos, mientras que un valor de 1 refleja la máxima desigualdad posible. Su uso en nuestro estudio proporciona un indicador claro y cuantificable de la desigualdad social en Brasil, lo cual es central para nuestro análisis.\n",
        "- **Aplicabilidad en el Contexto Brasileño**: Dada la diversidad socioeconómica de Brasil, el Índice Gini se convierte en una herramienta valiosa para capturar las variaciones y tendencias en la desigualdad de ingresos, permitiendo un análisis detallado y contextualizado.\n",
        "\n",
        "### Aranceles Efectivos:\n",
        "\n",
        "- **Medición de la Política Comercial**: Los aranceles efectivos son un indicador clave de la política comercial de un país. Representan el nivel de protección o apertura comercial, lo cual es esencial para evaluar el impacto de las políticas comerciales en la economía y sociedad.\n",
        "- **Hipótesis Económica sobre Desigualdad**: Existe una hipótesis relevante que sugiere que los cambios en los aranceles, especialmente su reducción, pueden tener efectos significativos en la distribución del ingreso y, por ende, en la desigualdad social. Al incluir los aranceles efectivos en nuestro análisis, buscamos explorar esta hipótesis en el contexto específico de Brasil, aportando así a la comprensión de cómo la política comercial puede influir en la estructura social y económica del país.\n",
        "\n",
        "**Observación**:\n",
        "\n",
        "Dado que se eligieron estas dos variables, decidimos aumentar los datos con bases de el Banco Mundial y la Organización Mundial de Comercio."
      ],
      "metadata": {
        "id": "3Sm2Ym2mhRQG"
      }
    },
    {
      "cell_type": "markdown",
      "source": [
        "# Pruebas de Hipótesis\n",
        "\n",
        "## Sistema de Hipótesis\n",
        "Hipótesis Nula $H_0$: No existe una relación significativa entre la baja de aranceles y las desigualdades sociales en Brasil durante el período 2019-2023.\n",
        "\n",
        "Hipótesis Alternativa $H_1$: Existe una relación significativa entre la baja de aranceles y las desigualdades sociales en Brasil durante el período 2019-2023.\n",
        "\n",
        "## Justificación de Métodos Estadísticos: Correlación y Regresión Lineal.\n",
        "\n",
        "### Correlación:\n",
        "\n",
        "- **Adecuación para Variables Cuantitativas**: Ambas variables de estudio, aranceles y Índice Gini, son cuantitativas, lo cual hace pertinente el uso de una prueba de correlación.\n",
        "- **Exploración Inicial**: La correlación es un método eficiente para identificar la existencia y la fuerza de una relación lineal entre las dos variables, proporcionando una base para análisis más complejos.\n",
        "\n",
        "### Regresión Lineal:\n",
        "\n",
        "- **Análisis Causal**: Permite investigar si los cambios en los aranceles pueden predecir variaciones en el Índice Gini, explorando la relación causa-efecto.\n",
        "- **Modelado y Predicciones**: La regresión lineal es útil para modelar cómo una variable dependiente responde a cambios en la variable independiente, facilitando la realización de predicciones.\n",
        "- **Control de Factores Confusos**: Ofrece la posibilidad de ajustar por otras variables que pueden influir en la relación estudiada, proporcionando un análisis más robusto y detallado."
      ],
      "metadata": {
        "id": "r2OY51FOVOf2"
      }
    },
    {
      "cell_type": "markdown",
      "source": [
        "## Resultados"
      ],
      "metadata": {
        "id": "gG04bydhuTk0"
      }
    },
    {
      "cell_type": "code",
      "source": [
        "# Ruta del archivo Excel en tu Google Drive\n",
        "ruta_archivo = '/content/drive/MyDrive/Bases/Base Cuant2.xlsx'\n",
        "\n",
        "# Cargar el archivo Excel en un DataFrame de Pandas\n",
        "data = pd.read_excel(ruta_archivo)\n",
        "\n",
        "# Mostrar las primeras filas para entender la estructura\n",
        "data.head()"
      ],
      "metadata": {
        "id": "N_4-YGi2pfyY"
      },
      "execution_count": null,
      "outputs": []
    },
    {
      "cell_type": "markdown",
      "source": [
        "## Correlación\n",
        "\n",
        "Los resultados indican una correlación positiva moderada (0.438) entre la reducción de aranceles y la disminución en la desigualdad social, medida por el Índice Gini, durante el período 1996-2021 en Brasil. El p-valor de 0.0323 refuerza la relevancia estadística de esta correlación, sugiriendo que la relación no es aleatoria y merece una consideración más detallada. Este hallazgo es un indicativo importante para políticas económicas y sociales, sugiriendo que las decisiones en materia de aranceles pueden tener un impacto directo en la estructura de desigualdad del país. Sin embargo, es crucial recordar que la correlación no implica causalidad, y otros factores también pueden estar influyendo en estas tendencias."
      ],
      "metadata": {
        "id": "iKylNMNeZR7H"
      }
    },
    {
      "cell_type": "code",
      "source": [
        "import pandas as pd\n",
        "import scipy.stats\n",
        "\n",
        "# Calculando la correlación de Pearson\n",
        "correlacion, p_valor = scipy.stats.pearsonr(data['Aranceles Efectivos'], data['Indice de Gini'])\n",
        "\n",
        "print(\"Coeficiente de Correlación de Pearson:\", correlacion)\n",
        "print(\"P-valor:\", p_valor)\n"
      ],
      "metadata": {
        "id": "S2IPuopyZUK9"
      },
      "execution_count": null,
      "outputs": []
    },
    {
      "cell_type": "markdown",
      "source": [
        "## Regresión Lineal\n",
        "\n",
        "La regresión lineal indica una relación estadísticamente significativa entre los aranceles efectivos y el Índice Gini en Brasil durante el período 1996-2021. El modelo sugiere que un incremento en los aranceles está asociado con un aumento en la desigualdad social. Sin embargo, el R-cuadrado de 0.192 señala que hay otros factores influyentes en la desigualdad social que no están capturados en este modelo. Estos resultados resaltan la importancia de los aranceles en la configuración de la desigualdad social, pero también subrayan la necesidad de explorar otros determinantes para obtener una comprensión más completa de las dinámicas de desigualdad en Brasil.\n",
        "\n",
        "El análisis de diagnóstico revela ciertas preocupaciones, particularmente en lo que respecta a la autocorrelación positiva significativa de los residuos, como lo indica el valor de Durbin-Watson. Aunque las pruebas de normalidad (Omnibus y Jarque-Bera) sugieren que los residuos están razonablemente bien distribuidos, la autocorrelación puede afectar la confiabilidad de los coeficientes estimados. Es recomendable considerar ajustes adicionales en el modelo o explorar otras variables que podrían estar influenciando la relación entre los aranceles y el Índice Gini."
      ],
      "metadata": {
        "id": "2Ib0n5oYba1K"
      }
    },
    {
      "cell_type": "code",
      "source": [
        "import statsmodels.api as sm\n",
        "\n",
        "# Añadir una constante al modelo\n",
        "X = sm.add_constant(data['Aranceles Efectivos']) # Variable independiente\n",
        "y = data['Indice de Gini'] # Variable dependiente\n",
        "\n",
        "# Ajustar el modelo de regresión lineal\n",
        "modelo = sm.OLS(y, X).fit()\n",
        "\n",
        "# Ver el resumen del modelo\n",
        "print(modelo.summary())\n"
      ],
      "metadata": {
        "id": "iivExF3ubePK"
      },
      "execution_count": null,
      "outputs": []
    },
    {
      "cell_type": "markdown",
      "source": [
        "## Validación del modelo\n",
        "\n",
        "Los siguientes gráficos son un método adicional a las pruebas ya antes mencionadas.\n",
        "\n",
        "### Normalidad en los residuos\n"
      ],
      "metadata": {
        "id": "YPRO5kKpsGfb"
      }
    },
    {
      "cell_type": "code",
      "source": [
        "import matplotlib.pyplot as plt\n",
        "import scipy.stats as stats\n",
        "\n",
        "# Histograma y Q-Q plot\n",
        "residuos = modelo.resid\n",
        "plt.figure(figsize=(12, 6))\n",
        "\n",
        "plt.subplot(1, 2, 1)\n",
        "plt.hist(residuos, bins=20, edgecolor='black', density=True)\n",
        "plt.title('Histograma de Residuos')\n",
        "\n",
        "plt.subplot(1, 2, 2)\n",
        "stats.probplot(residuos, dist=\"norm\", plot=plt)\n",
        "plt.title('Q-Q Plot de Residuos')\n",
        "\n",
        "plt.tight_layout()\n",
        "plt.show()\n"
      ],
      "metadata": {
        "id": "LzfjH5qzsJs6"
      },
      "execution_count": null,
      "outputs": []
    },
    {
      "cell_type": "markdown",
      "source": [
        "### Homocedasticidad"
      ],
      "metadata": {
        "id": "jNnaUvrXsVmn"
      }
    },
    {
      "cell_type": "code",
      "source": [
        "plt.scatter(modelo.fittedvalues, residuos)\n",
        "plt.xlabel('Valores Ajustados')\n",
        "plt.ylabel('Residuos')\n",
        "plt.title('Gráfico de Residuos vs. Valores Ajustados')\n",
        "plt.axhline(y=0, color='r', linestyle='-')\n",
        "plt.show()\n"
      ],
      "metadata": {
        "id": "bePdy7uUsie3"
      },
      "execution_count": null,
      "outputs": []
    },
    {
      "cell_type": "markdown",
      "source": [
        "### Autocorrelación"
      ],
      "metadata": {
        "id": "6HFEqvF5syZq"
      }
    },
    {
      "cell_type": "code",
      "source": [
        "from statsmodels.stats.outliers_influence import variance_inflation_factor\n",
        "\n",
        "# Calculando VIF para cada variable\n",
        "vif_data = pd.DataFrame()\n",
        "vif_data[\"feature\"] = X.columns\n",
        "vif_data[\"VIF\"] = [variance_inflation_factor(X.values, i) for i in range(X.shape[1])]\n",
        "\n",
        "print(vif_data)\n"
      ],
      "metadata": {
        "id": "bSGxb689s2FW"
      },
      "execution_count": null,
      "outputs": []
    },
    {
      "cell_type": "markdown",
      "source": [
        "# Conclusiones\n",
        "\n",
        "1. **Impacto de la Política de Disminución de Aranceles Mixtos y la Pandemia (Comportamiento de Gráficos)**:\n",
        "   - Desde el año de 2020, se observa una marcada disminución en varias variables socioeconómicas clave, coincidiendo con la implementación de la política de disminución de aranceles mixtos y el inicio de la pandemia de COVID-19 durante el mandato del presidente Jair Bolsonaro. Estos eventos pueden haber interactuado de manera compleja, exacerbando las desigualdades sociales al abrir la economía a bienes importados y simultáneamente enfrentar desafíos económicos y de empleo debido a la pandemia.\n",
        "\n",
        "2. **Relaciones Relevantes entre Variables y la Influencia de la Pandemia (Tabla de Correlaciones)**:\n",
        "   - Además de la correlación entre el Gasto Militar y el Rendimiento Domiciliario Per Cápita, la correlación negativa entre Homicidios y Rendimiento Domiciliario Per Cápita (-0.66) es digna de atención. Esto puede indicar que el impacto socioeconómico de la pandemia, reflejado en un mayor número de homicidios y un menor rendimiento económico, está estrechamente relacionado durante este período.\n",
        "\n",
        "3. **Dinámica Socioeconómica Durante la Presidencia de Jair Bolsonaro y la Pandemia (Estadísticos Descriptivos)**:\n",
        "   - Los estadísticos descriptivos revelan una variabilidad significativa en las variables clave durante la presidencia de Jair Bolsonaro (2019-2023), agravada por la pandemia. La interacción entre las políticas de disminución de aranceles y la pandemia se traduce en una amplia dispersión de datos, subrayando la complejidad del impacto socioeconómico.\n",
        "\n",
        "\n"
      ],
      "metadata": {
        "id": "W7qWQtj3mdx-"
      }
    },
    {
      "cell_type": "markdown",
      "source": [
        "### Referencias\n",
        "\n",
        "- **Instituto Brasileño de Geografía y Estadística (IBGE)**. (s.f.). [Sitio web del IBGE](https://www.ibge.gov.br/estatisticas/economicas/comercio/9075-pesquisa-anual-de-comercio.html)\n",
        "\n",
        "- **Ministerio de Economía de Brasil**. (s.f.). [Sitio web del Ministerio de Economía de Brasil](https://www.gov.br/economia/pt-br)\n",
        "\n",
        "- **Banco Mundial**. (s.f.). [Sitio web del Banco Mundial](https://datos.bancomundial.org/pais/brasil)\n",
        "\n",
        "- **Comisión Económica para América Latina y el Caribe (CEPAL)**. (s.f.). [Sitio web de la CEPAL](https://statistics.cepal.org/portal/cepalstat/index.html?lang=es)\n",
        "\n",
        "- **Organización Mundial de Comercio (OMC)**. (s.f.). [Sitio web de la OMC](https://www.wto.org/spanish/tratop_s/tariffs_s/tariff_data_s.htm)\n"
      ],
      "metadata": {
        "id": "Lp7d7DNnpxtC"
      }
    }
  ]
}