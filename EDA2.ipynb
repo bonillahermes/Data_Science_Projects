{
  "nbformat": 4,
  "nbformat_minor": 0,
  "metadata": {
    "colab": {
      "provenance": [],
      "include_colab_link": true
    },
    "kernelspec": {
      "name": "python3",
      "display_name": "Python 3"
    },
    "language_info": {
      "name": "python"
    }
  },
  "cells": [
    {
      "cell_type": "markdown",
      "metadata": {
        "id": "view-in-github",
        "colab_type": "text"
      },
      "source": [
        "<a href=\"https://colab.research.google.com/github/bonillahermes/Data_Science_Projects/blob/main/EDA2.ipynb\" target=\"_parent\"><img src=\"https://colab.research.google.com/assets/colab-badge.svg\" alt=\"Open In Colab\"/></a>"
      ]
    },
    {
      "cell_type": "markdown",
      "source": [
        "# Hermes Yate Bonilla\n",
        "**Data Scientist**\n",
        "---\n",
        "\n",
        "**Contact:**\n",
        "- **Email:** [bonillahermes@gmail.com](mailto:bonillahermes@gmail.com)\n",
        "- **LinkedIn:** [linkedin.com/in/bonillahermes](https://www.linkedin.com/in/bonillahermes/)\n",
        "- **GitHub:** [github.com/bonillahermes](https://github.com/bonillahermes)\n",
        "- **Webpage:** [bonillahermes.com](https://bonillahermes.com/)\n",
        "---"
      ],
      "metadata": {
        "id": "xCbeOZ9V-HCg"
      }
    },
    {
      "cell_type": "markdown",
      "source": [
        "<center><h1>Ánalisis e Interpretación de Datos</header1></center>\n",
        "<left><h1>Estadística descriptiva: información a partir del análisis crítico de datos</header1></left>"
      ],
      "metadata": {
        "id": "oJ6Sv_mFgIgb"
      }
    },
    {
      "cell_type": "markdown",
      "source": [
        "## Introducción\n",
        "\n",
        "Desde comienzos del 2020, el mundo ha enfrentado desafíos sin precedentes debido a la pandemia de COVID-19. Colombia, como muchos otros países, ha sido profundamente afectada por este fenómeno global. Según el Reporte de la Organización Panamericana de la Salud (OPS/OMS, 2023), el país ha experimentado variaciones significativas en la distribución y gravedad de los casos de COVID-19. Este informe busca analizar el impacto de la pandemia en diferentes regiones de Colombia, poniendo especial atención en cómo los factores socioeconómicos y demográficos han influido en la evolución y las consecuencias de la enfermedad."
      ],
      "metadata": {
        "id": "qY2oMdGmkvNV"
      }
    },
    {
      "cell_type": "markdown",
      "metadata": {
        "id": "2dEVKhDsaDlj"
      },
      "source": [
        "## Objetivo (Problema Estadístico):\n",
        "**\"Analizar el Impacto de COVID-19 en Diferentes Regiones de Colombia: Un Estudio de la Distribución de Casos y su Relación con Factores Socioeconómicos y Demográficos.\"**\n",
        "\n",
        "## Justificación del Problema:\n",
        "La pandemia de COVID-19 ha tenido un impacto significativo y multifacético en todo el mundo. En Colombia, como en muchos países, la distribución y severidad de los casos de COVID-19 han variado considerablemente entre regiones. Este análisis busca comprender cómo la pandemia ha afectado a diferentes áreas del país, con un enfoque particular en la relación entre la incidencia de la enfermedad y factores como el nivel socioeconómico y la demografía de cada región. Al analizar estos factores, podemos obtener insights críticos sobre:\n",
        "\n",
        "- La disparidad en la tasa de casos y mortalidad entre diferentes regiones.\n",
        "- Cómo factores socioeconómicos, como el PIB per cápita y el acceso a servicios de salud, pueden correlacionarse con la prevalencia y gravedad de la enfermedad.\n",
        "- El impacto demográfico, examinando cómo variables como la edad y el género influyen en las tasas de infección y mortalidad.\n",
        "\n",
        "Este estudio no solo ayudará a comprender mejor la dinámica actual de la pandemia en Colombia, sino que también proporcionará información valiosa para la toma de decisiones en políticas de salud pública, asignación de recursos y estrategias de mitigación para enfrentar no solo la crisis actual sino también desafíos futuros en la salud pública. Para tal propósito, se usó la base de datos del Ministerio de Salud y Protección Social, la base se puede encontrar en el siguiente [link](https://www.datos.gov.co/Salud-y-Protecci-n-Social/Casos-positivos-de-COVID-19-en-Colombia-/gt2j-8ykr/data)."
      ]
    },
    {
      "cell_type": "markdown",
      "source": [
        "## Modelos Estadísticos de Trabajo\n",
        "\n",
        "### Análisis Descriptivo General de Casos Fallecidos:\n",
        "Este modelo se enfocará en analizar los casos fallecidos por COVID-19 en Colombia, incluyendo:\n",
        "- **Número total de fallecidos.**\n",
        "- **Distribución de los fallecidos por edad y género.**\n",
        "- **Tiempo promedio por departamento y municipio.**\n",
        "- **Comparación de las tasas de mortalidad entre diferentes regiones.**\n",
        "- **Correlación de factores socioeconómicos y demográficos con las tasas de mortalidad.**\n",
        "\n",
        "\n"
      ],
      "metadata": {
        "id": "g68ZB9mznHKI"
      }
    },
    {
      "cell_type": "markdown",
      "source": [
        "## Descripción de la base de datos"
      ],
      "metadata": {
        "id": "upBAYd2Rn_sW"
      }
    },
    {
      "cell_type": "markdown",
      "source": [
        "### Diccionario de Datos de la Base de COVID-19\n",
        "\n",
        "- **ID**: Identificador único para cada caso registrado.\n",
        "- **Depto**: Departamento en Colombia donde se registró el caso.\n",
        "- **Municipio**: Municipio donde se registró el caso.\n",
        "- **Edad**: Edad de la persona afectada.\n",
        "- **Sexo**: Género de la persona afectada (Femenino/Masculino).\n",
        "- **Tipo de Contagio**: Categoría de contagio (Comunitaria, Relacionado, etc.).\n",
        "- **Fecha_sintomas**: Fecha en que la persona empezó a mostrar síntomas.\n",
        "- **Fecha_muerte**: Fecha de fallecimiento de la persona.\n",
        "- **Fecha_diagnostico**: Fecha en que se confirmó el diagnóstico de COVID-19.\n",
        "- **Tiempo**: Número de días entre la fecha de diagnóstico y la fecha de muerte.\n"
      ],
      "metadata": {
        "id": "xpOjy0kNrQAt"
      }
    },
    {
      "cell_type": "code",
      "source": [
        "from google.colab import drive\n",
        "\n",
        "# Monta tu Google Drive\n",
        "drive.mount('/content/drive')"
      ],
      "metadata": {
        "colab": {
          "base_uri": "https://localhost:8080/"
        },
        "id": "8kpU_18jonrc",
        "outputId": "9196a365-f5e0-47c5-bd01-8b1bffbf750e"
      },
      "execution_count": null,
      "outputs": [
        {
          "output_type": "stream",
          "name": "stdout",
          "text": [
            "Mounted at /content/drive\n"
          ]
        }
      ]
    },
    {
      "cell_type": "code",
      "source": [
        "import pandas as pd\n",
        "import numpy as np\n",
        "import seaborn as sns\n",
        "import scipy.stats as stats\n",
        "import matplotlib.pyplot as plt\n",
        "import plotly.express as px\n",
        "from scipy.stats import shapiro\n"
      ],
      "metadata": {
        "id": "XtfTJ3lAo-pY"
      },
      "execution_count": null,
      "outputs": []
    },
    {
      "cell_type": "code",
      "source": [
        "# Ruta del archivo Excel en Google Drive\n",
        "ruta_archivo = '/content/drive/MyDrive/Bases/BaseLia.xlsx'\n",
        "\n",
        "# Cargar el archivo Excel en un DataFrame de Pandas\n",
        "df = pd.read_excel(ruta_archivo)\n",
        "df2 = pd.read_excel(ruta_archivo, sheet_name='Hoja2')\n"
      ],
      "metadata": {
        "id": "uUSxULtIo_p6"
      },
      "execution_count": null,
      "outputs": []
    },
    {
      "cell_type": "code",
      "source": [
        "df.head()"
      ],
      "metadata": {
        "colab": {
          "base_uri": "https://localhost:8080/",
          "height": 206
        },
        "id": "VoXMQgMDGciE",
        "outputId": "41210e58-4f07-4997-931c-c3c485ad5d95"
      },
      "execution_count": null,
      "outputs": [
        {
          "output_type": "execute_result",
          "data": {
            "text/plain": [
              "        ID            Depto  Edad Sexo Tipo de contagio Fecha_sintomas  \\\n",
              "0  1556982  Valle del Cauca    74    F      Comunitaria     2020-12-17   \n",
              "1  1556986  Valle del Cauca    66    F      Comunitaria     2020-12-11   \n",
              "2  1137434           Bogota    81    F      Relacionado     2020-10-31   \n",
              "3  1137440          Quindio    85    F      Comunitaria     2020-10-31   \n",
              "4  1137443           Bogota    78    M      Comunitaria     2020-10-31   \n",
              "\n",
              "  Fecha_muerte Fecha_diagnostico  Tiempo  \n",
              "0   2020-12-30        2020-12-23       7  \n",
              "1   2020-12-26        2020-12-22       4  \n",
              "2   2020-11-11        2020-11-07       4  \n",
              "3   2020-11-12        2020-10-31      12  \n",
              "4   2020-11-16        2020-11-07       9  "
            ],
            "text/html": [
              "\n",
              "  <div id=\"df-f90451b1-43ef-40f6-b0df-e5b64314f486\" class=\"colab-df-container\">\n",
              "    <div>\n",
              "<style scoped>\n",
              "    .dataframe tbody tr th:only-of-type {\n",
              "        vertical-align: middle;\n",
              "    }\n",
              "\n",
              "    .dataframe tbody tr th {\n",
              "        vertical-align: top;\n",
              "    }\n",
              "\n",
              "    .dataframe thead th {\n",
              "        text-align: right;\n",
              "    }\n",
              "</style>\n",
              "<table border=\"1\" class=\"dataframe\">\n",
              "  <thead>\n",
              "    <tr style=\"text-align: right;\">\n",
              "      <th></th>\n",
              "      <th>ID</th>\n",
              "      <th>Depto</th>\n",
              "      <th>Edad</th>\n",
              "      <th>Sexo</th>\n",
              "      <th>Tipo de contagio</th>\n",
              "      <th>Fecha_sintomas</th>\n",
              "      <th>Fecha_muerte</th>\n",
              "      <th>Fecha_diagnostico</th>\n",
              "      <th>Tiempo</th>\n",
              "    </tr>\n",
              "  </thead>\n",
              "  <tbody>\n",
              "    <tr>\n",
              "      <th>0</th>\n",
              "      <td>1556982</td>\n",
              "      <td>Valle del Cauca</td>\n",
              "      <td>74</td>\n",
              "      <td>F</td>\n",
              "      <td>Comunitaria</td>\n",
              "      <td>2020-12-17</td>\n",
              "      <td>2020-12-30</td>\n",
              "      <td>2020-12-23</td>\n",
              "      <td>7</td>\n",
              "    </tr>\n",
              "    <tr>\n",
              "      <th>1</th>\n",
              "      <td>1556986</td>\n",
              "      <td>Valle del Cauca</td>\n",
              "      <td>66</td>\n",
              "      <td>F</td>\n",
              "      <td>Comunitaria</td>\n",
              "      <td>2020-12-11</td>\n",
              "      <td>2020-12-26</td>\n",
              "      <td>2020-12-22</td>\n",
              "      <td>4</td>\n",
              "    </tr>\n",
              "    <tr>\n",
              "      <th>2</th>\n",
              "      <td>1137434</td>\n",
              "      <td>Bogota</td>\n",
              "      <td>81</td>\n",
              "      <td>F</td>\n",
              "      <td>Relacionado</td>\n",
              "      <td>2020-10-31</td>\n",
              "      <td>2020-11-11</td>\n",
              "      <td>2020-11-07</td>\n",
              "      <td>4</td>\n",
              "    </tr>\n",
              "    <tr>\n",
              "      <th>3</th>\n",
              "      <td>1137440</td>\n",
              "      <td>Quindio</td>\n",
              "      <td>85</td>\n",
              "      <td>F</td>\n",
              "      <td>Comunitaria</td>\n",
              "      <td>2020-10-31</td>\n",
              "      <td>2020-11-12</td>\n",
              "      <td>2020-10-31</td>\n",
              "      <td>12</td>\n",
              "    </tr>\n",
              "    <tr>\n",
              "      <th>4</th>\n",
              "      <td>1137443</td>\n",
              "      <td>Bogota</td>\n",
              "      <td>78</td>\n",
              "      <td>M</td>\n",
              "      <td>Comunitaria</td>\n",
              "      <td>2020-10-31</td>\n",
              "      <td>2020-11-16</td>\n",
              "      <td>2020-11-07</td>\n",
              "      <td>9</td>\n",
              "    </tr>\n",
              "  </tbody>\n",
              "</table>\n",
              "</div>\n",
              "    <div class=\"colab-df-buttons\">\n",
              "\n",
              "  <div class=\"colab-df-container\">\n",
              "    <button class=\"colab-df-convert\" onclick=\"convertToInteractive('df-f90451b1-43ef-40f6-b0df-e5b64314f486')\"\n",
              "            title=\"Convert this dataframe to an interactive table.\"\n",
              "            style=\"display:none;\">\n",
              "\n",
              "  <svg xmlns=\"http://www.w3.org/2000/svg\" height=\"24px\" viewBox=\"0 -960 960 960\">\n",
              "    <path d=\"M120-120v-720h720v720H120Zm60-500h600v-160H180v160Zm220 220h160v-160H400v160Zm0 220h160v-160H400v160ZM180-400h160v-160H180v160Zm440 0h160v-160H620v160ZM180-180h160v-160H180v160Zm440 0h160v-160H620v160Z\"/>\n",
              "  </svg>\n",
              "    </button>\n",
              "\n",
              "  <style>\n",
              "    .colab-df-container {\n",
              "      display:flex;\n",
              "      gap: 12px;\n",
              "    }\n",
              "\n",
              "    .colab-df-convert {\n",
              "      background-color: #E8F0FE;\n",
              "      border: none;\n",
              "      border-radius: 50%;\n",
              "      cursor: pointer;\n",
              "      display: none;\n",
              "      fill: #1967D2;\n",
              "      height: 32px;\n",
              "      padding: 0 0 0 0;\n",
              "      width: 32px;\n",
              "    }\n",
              "\n",
              "    .colab-df-convert:hover {\n",
              "      background-color: #E2EBFA;\n",
              "      box-shadow: 0px 1px 2px rgba(60, 64, 67, 0.3), 0px 1px 3px 1px rgba(60, 64, 67, 0.15);\n",
              "      fill: #174EA6;\n",
              "    }\n",
              "\n",
              "    .colab-df-buttons div {\n",
              "      margin-bottom: 4px;\n",
              "    }\n",
              "\n",
              "    [theme=dark] .colab-df-convert {\n",
              "      background-color: #3B4455;\n",
              "      fill: #D2E3FC;\n",
              "    }\n",
              "\n",
              "    [theme=dark] .colab-df-convert:hover {\n",
              "      background-color: #434B5C;\n",
              "      box-shadow: 0px 1px 3px 1px rgba(0, 0, 0, 0.15);\n",
              "      filter: drop-shadow(0px 1px 2px rgba(0, 0, 0, 0.3));\n",
              "      fill: #FFFFFF;\n",
              "    }\n",
              "  </style>\n",
              "\n",
              "    <script>\n",
              "      const buttonEl =\n",
              "        document.querySelector('#df-f90451b1-43ef-40f6-b0df-e5b64314f486 button.colab-df-convert');\n",
              "      buttonEl.style.display =\n",
              "        google.colab.kernel.accessAllowed ? 'block' : 'none';\n",
              "\n",
              "      async function convertToInteractive(key) {\n",
              "        const element = document.querySelector('#df-f90451b1-43ef-40f6-b0df-e5b64314f486');\n",
              "        const dataTable =\n",
              "          await google.colab.kernel.invokeFunction('convertToInteractive',\n",
              "                                                    [key], {});\n",
              "        if (!dataTable) return;\n",
              "\n",
              "        const docLinkHtml = 'Like what you see? Visit the ' +\n",
              "          '<a target=\"_blank\" href=https://colab.research.google.com/notebooks/data_table.ipynb>data table notebook</a>'\n",
              "          + ' to learn more about interactive tables.';\n",
              "        element.innerHTML = '';\n",
              "        dataTable['output_type'] = 'display_data';\n",
              "        await google.colab.output.renderOutput(dataTable, element);\n",
              "        const docLink = document.createElement('div');\n",
              "        docLink.innerHTML = docLinkHtml;\n",
              "        element.appendChild(docLink);\n",
              "      }\n",
              "    </script>\n",
              "  </div>\n",
              "\n",
              "\n",
              "<div id=\"df-68adaa0d-968c-4b45-b251-d9d2d53dfcfd\">\n",
              "  <button class=\"colab-df-quickchart\" onclick=\"quickchart('df-68adaa0d-968c-4b45-b251-d9d2d53dfcfd')\"\n",
              "            title=\"Suggest charts\"\n",
              "            style=\"display:none;\">\n",
              "\n",
              "<svg xmlns=\"http://www.w3.org/2000/svg\" height=\"24px\"viewBox=\"0 0 24 24\"\n",
              "     width=\"24px\">\n",
              "    <g>\n",
              "        <path d=\"M19 3H5c-1.1 0-2 .9-2 2v14c0 1.1.9 2 2 2h14c1.1 0 2-.9 2-2V5c0-1.1-.9-2-2-2zM9 17H7v-7h2v7zm4 0h-2V7h2v10zm4 0h-2v-4h2v4z\"/>\n",
              "    </g>\n",
              "</svg>\n",
              "  </button>\n",
              "\n",
              "<style>\n",
              "  .colab-df-quickchart {\n",
              "      --bg-color: #E8F0FE;\n",
              "      --fill-color: #1967D2;\n",
              "      --hover-bg-color: #E2EBFA;\n",
              "      --hover-fill-color: #174EA6;\n",
              "      --disabled-fill-color: #AAA;\n",
              "      --disabled-bg-color: #DDD;\n",
              "  }\n",
              "\n",
              "  [theme=dark] .colab-df-quickchart {\n",
              "      --bg-color: #3B4455;\n",
              "      --fill-color: #D2E3FC;\n",
              "      --hover-bg-color: #434B5C;\n",
              "      --hover-fill-color: #FFFFFF;\n",
              "      --disabled-bg-color: #3B4455;\n",
              "      --disabled-fill-color: #666;\n",
              "  }\n",
              "\n",
              "  .colab-df-quickchart {\n",
              "    background-color: var(--bg-color);\n",
              "    border: none;\n",
              "    border-radius: 50%;\n",
              "    cursor: pointer;\n",
              "    display: none;\n",
              "    fill: var(--fill-color);\n",
              "    height: 32px;\n",
              "    padding: 0;\n",
              "    width: 32px;\n",
              "  }\n",
              "\n",
              "  .colab-df-quickchart:hover {\n",
              "    background-color: var(--hover-bg-color);\n",
              "    box-shadow: 0 1px 2px rgba(60, 64, 67, 0.3), 0 1px 3px 1px rgba(60, 64, 67, 0.15);\n",
              "    fill: var(--button-hover-fill-color);\n",
              "  }\n",
              "\n",
              "  .colab-df-quickchart-complete:disabled,\n",
              "  .colab-df-quickchart-complete:disabled:hover {\n",
              "    background-color: var(--disabled-bg-color);\n",
              "    fill: var(--disabled-fill-color);\n",
              "    box-shadow: none;\n",
              "  }\n",
              "\n",
              "  .colab-df-spinner {\n",
              "    border: 2px solid var(--fill-color);\n",
              "    border-color: transparent;\n",
              "    border-bottom-color: var(--fill-color);\n",
              "    animation:\n",
              "      spin 1s steps(1) infinite;\n",
              "  }\n",
              "\n",
              "  @keyframes spin {\n",
              "    0% {\n",
              "      border-color: transparent;\n",
              "      border-bottom-color: var(--fill-color);\n",
              "      border-left-color: var(--fill-color);\n",
              "    }\n",
              "    20% {\n",
              "      border-color: transparent;\n",
              "      border-left-color: var(--fill-color);\n",
              "      border-top-color: var(--fill-color);\n",
              "    }\n",
              "    30% {\n",
              "      border-color: transparent;\n",
              "      border-left-color: var(--fill-color);\n",
              "      border-top-color: var(--fill-color);\n",
              "      border-right-color: var(--fill-color);\n",
              "    }\n",
              "    40% {\n",
              "      border-color: transparent;\n",
              "      border-right-color: var(--fill-color);\n",
              "      border-top-color: var(--fill-color);\n",
              "    }\n",
              "    60% {\n",
              "      border-color: transparent;\n",
              "      border-right-color: var(--fill-color);\n",
              "    }\n",
              "    80% {\n",
              "      border-color: transparent;\n",
              "      border-right-color: var(--fill-color);\n",
              "      border-bottom-color: var(--fill-color);\n",
              "    }\n",
              "    90% {\n",
              "      border-color: transparent;\n",
              "      border-bottom-color: var(--fill-color);\n",
              "    }\n",
              "  }\n",
              "</style>\n",
              "\n",
              "  <script>\n",
              "    async function quickchart(key) {\n",
              "      const quickchartButtonEl =\n",
              "        document.querySelector('#' + key + ' button');\n",
              "      quickchartButtonEl.disabled = true;  // To prevent multiple clicks.\n",
              "      quickchartButtonEl.classList.add('colab-df-spinner');\n",
              "      try {\n",
              "        const charts = await google.colab.kernel.invokeFunction(\n",
              "            'suggestCharts', [key], {});\n",
              "      } catch (error) {\n",
              "        console.error('Error during call to suggestCharts:', error);\n",
              "      }\n",
              "      quickchartButtonEl.classList.remove('colab-df-spinner');\n",
              "      quickchartButtonEl.classList.add('colab-df-quickchart-complete');\n",
              "    }\n",
              "    (() => {\n",
              "      let quickchartButtonEl =\n",
              "        document.querySelector('#df-68adaa0d-968c-4b45-b251-d9d2d53dfcfd button');\n",
              "      quickchartButtonEl.style.display =\n",
              "        google.colab.kernel.accessAllowed ? 'block' : 'none';\n",
              "    })();\n",
              "  </script>\n",
              "</div>\n",
              "\n",
              "    </div>\n",
              "  </div>\n"
            ]
          },
          "metadata": {},
          "execution_count": 47
        }
      ]
    },
    {
      "cell_type": "code",
      "source": [
        "# Reemplazar los espacios en blanco y convertir la columna a entero\n",
        "df2['Población'] = df2['Población'].str.replace(' ', '').astype(int)\n",
        "\n",
        "df2.head()"
      ],
      "metadata": {
        "colab": {
          "base_uri": "https://localhost:8080/",
          "height": 317
        },
        "id": "lMNHues6GfgE",
        "outputId": "137f59a7-71ae-4faa-dfc6-5b00f87b3647"
      },
      "execution_count": null,
      "outputs": [
        {
          "output_type": "stream",
          "name": "stdout",
          "text": [
            "             Depto  Población\n",
            "0           Bogota    7907281\n",
            "1        Antioquia    6848360\n",
            "2  Valle del Cauca    4638029\n",
            "3     Cundinamarca    3445327\n",
            "4        Atlantico    2803565\n"
          ]
        },
        {
          "output_type": "execute_result",
          "data": {
            "text/plain": [
              "             Depto  Población\n",
              "0           Bogota    7907281\n",
              "1        Antioquia    6848360\n",
              "2  Valle del Cauca    4638029\n",
              "3     Cundinamarca    3445327\n",
              "4        Atlantico    2803565"
            ],
            "text/html": [
              "\n",
              "  <div id=\"df-d4036a3c-c1fb-4397-86b6-5cbd1afc9ca9\" class=\"colab-df-container\">\n",
              "    <div>\n",
              "<style scoped>\n",
              "    .dataframe tbody tr th:only-of-type {\n",
              "        vertical-align: middle;\n",
              "    }\n",
              "\n",
              "    .dataframe tbody tr th {\n",
              "        vertical-align: top;\n",
              "    }\n",
              "\n",
              "    .dataframe thead th {\n",
              "        text-align: right;\n",
              "    }\n",
              "</style>\n",
              "<table border=\"1\" class=\"dataframe\">\n",
              "  <thead>\n",
              "    <tr style=\"text-align: right;\">\n",
              "      <th></th>\n",
              "      <th>Depto</th>\n",
              "      <th>Población</th>\n",
              "    </tr>\n",
              "  </thead>\n",
              "  <tbody>\n",
              "    <tr>\n",
              "      <th>0</th>\n",
              "      <td>Bogota</td>\n",
              "      <td>7907281</td>\n",
              "    </tr>\n",
              "    <tr>\n",
              "      <th>1</th>\n",
              "      <td>Antioquia</td>\n",
              "      <td>6848360</td>\n",
              "    </tr>\n",
              "    <tr>\n",
              "      <th>2</th>\n",
              "      <td>Valle del Cauca</td>\n",
              "      <td>4638029</td>\n",
              "    </tr>\n",
              "    <tr>\n",
              "      <th>3</th>\n",
              "      <td>Cundinamarca</td>\n",
              "      <td>3445327</td>\n",
              "    </tr>\n",
              "    <tr>\n",
              "      <th>4</th>\n",
              "      <td>Atlantico</td>\n",
              "      <td>2803565</td>\n",
              "    </tr>\n",
              "  </tbody>\n",
              "</table>\n",
              "</div>\n",
              "    <div class=\"colab-df-buttons\">\n",
              "\n",
              "  <div class=\"colab-df-container\">\n",
              "    <button class=\"colab-df-convert\" onclick=\"convertToInteractive('df-d4036a3c-c1fb-4397-86b6-5cbd1afc9ca9')\"\n",
              "            title=\"Convert this dataframe to an interactive table.\"\n",
              "            style=\"display:none;\">\n",
              "\n",
              "  <svg xmlns=\"http://www.w3.org/2000/svg\" height=\"24px\" viewBox=\"0 -960 960 960\">\n",
              "    <path d=\"M120-120v-720h720v720H120Zm60-500h600v-160H180v160Zm220 220h160v-160H400v160Zm0 220h160v-160H400v160ZM180-400h160v-160H180v160Zm440 0h160v-160H620v160ZM180-180h160v-160H180v160Zm440 0h160v-160H620v160Z\"/>\n",
              "  </svg>\n",
              "    </button>\n",
              "\n",
              "  <style>\n",
              "    .colab-df-container {\n",
              "      display:flex;\n",
              "      gap: 12px;\n",
              "    }\n",
              "\n",
              "    .colab-df-convert {\n",
              "      background-color: #E8F0FE;\n",
              "      border: none;\n",
              "      border-radius: 50%;\n",
              "      cursor: pointer;\n",
              "      display: none;\n",
              "      fill: #1967D2;\n",
              "      height: 32px;\n",
              "      padding: 0 0 0 0;\n",
              "      width: 32px;\n",
              "    }\n",
              "\n",
              "    .colab-df-convert:hover {\n",
              "      background-color: #E2EBFA;\n",
              "      box-shadow: 0px 1px 2px rgba(60, 64, 67, 0.3), 0px 1px 3px 1px rgba(60, 64, 67, 0.15);\n",
              "      fill: #174EA6;\n",
              "    }\n",
              "\n",
              "    .colab-df-buttons div {\n",
              "      margin-bottom: 4px;\n",
              "    }\n",
              "\n",
              "    [theme=dark] .colab-df-convert {\n",
              "      background-color: #3B4455;\n",
              "      fill: #D2E3FC;\n",
              "    }\n",
              "\n",
              "    [theme=dark] .colab-df-convert:hover {\n",
              "      background-color: #434B5C;\n",
              "      box-shadow: 0px 1px 3px 1px rgba(0, 0, 0, 0.15);\n",
              "      filter: drop-shadow(0px 1px 2px rgba(0, 0, 0, 0.3));\n",
              "      fill: #FFFFFF;\n",
              "    }\n",
              "  </style>\n",
              "\n",
              "    <script>\n",
              "      const buttonEl =\n",
              "        document.querySelector('#df-d4036a3c-c1fb-4397-86b6-5cbd1afc9ca9 button.colab-df-convert');\n",
              "      buttonEl.style.display =\n",
              "        google.colab.kernel.accessAllowed ? 'block' : 'none';\n",
              "\n",
              "      async function convertToInteractive(key) {\n",
              "        const element = document.querySelector('#df-d4036a3c-c1fb-4397-86b6-5cbd1afc9ca9');\n",
              "        const dataTable =\n",
              "          await google.colab.kernel.invokeFunction('convertToInteractive',\n",
              "                                                    [key], {});\n",
              "        if (!dataTable) return;\n",
              "\n",
              "        const docLinkHtml = 'Like what you see? Visit the ' +\n",
              "          '<a target=\"_blank\" href=https://colab.research.google.com/notebooks/data_table.ipynb>data table notebook</a>'\n",
              "          + ' to learn more about interactive tables.';\n",
              "        element.innerHTML = '';\n",
              "        dataTable['output_type'] = 'display_data';\n",
              "        await google.colab.output.renderOutput(dataTable, element);\n",
              "        const docLink = document.createElement('div');\n",
              "        docLink.innerHTML = docLinkHtml;\n",
              "        element.appendChild(docLink);\n",
              "      }\n",
              "    </script>\n",
              "  </div>\n",
              "\n",
              "\n",
              "<div id=\"df-fa682f8a-e79e-4b78-8a8b-bfcdb4b0625a\">\n",
              "  <button class=\"colab-df-quickchart\" onclick=\"quickchart('df-fa682f8a-e79e-4b78-8a8b-bfcdb4b0625a')\"\n",
              "            title=\"Suggest charts\"\n",
              "            style=\"display:none;\">\n",
              "\n",
              "<svg xmlns=\"http://www.w3.org/2000/svg\" height=\"24px\"viewBox=\"0 0 24 24\"\n",
              "     width=\"24px\">\n",
              "    <g>\n",
              "        <path d=\"M19 3H5c-1.1 0-2 .9-2 2v14c0 1.1.9 2 2 2h14c1.1 0 2-.9 2-2V5c0-1.1-.9-2-2-2zM9 17H7v-7h2v7zm4 0h-2V7h2v10zm4 0h-2v-4h2v4z\"/>\n",
              "    </g>\n",
              "</svg>\n",
              "  </button>\n",
              "\n",
              "<style>\n",
              "  .colab-df-quickchart {\n",
              "      --bg-color: #E8F0FE;\n",
              "      --fill-color: #1967D2;\n",
              "      --hover-bg-color: #E2EBFA;\n",
              "      --hover-fill-color: #174EA6;\n",
              "      --disabled-fill-color: #AAA;\n",
              "      --disabled-bg-color: #DDD;\n",
              "  }\n",
              "\n",
              "  [theme=dark] .colab-df-quickchart {\n",
              "      --bg-color: #3B4455;\n",
              "      --fill-color: #D2E3FC;\n",
              "      --hover-bg-color: #434B5C;\n",
              "      --hover-fill-color: #FFFFFF;\n",
              "      --disabled-bg-color: #3B4455;\n",
              "      --disabled-fill-color: #666;\n",
              "  }\n",
              "\n",
              "  .colab-df-quickchart {\n",
              "    background-color: var(--bg-color);\n",
              "    border: none;\n",
              "    border-radius: 50%;\n",
              "    cursor: pointer;\n",
              "    display: none;\n",
              "    fill: var(--fill-color);\n",
              "    height: 32px;\n",
              "    padding: 0;\n",
              "    width: 32px;\n",
              "  }\n",
              "\n",
              "  .colab-df-quickchart:hover {\n",
              "    background-color: var(--hover-bg-color);\n",
              "    box-shadow: 0 1px 2px rgba(60, 64, 67, 0.3), 0 1px 3px 1px rgba(60, 64, 67, 0.15);\n",
              "    fill: var(--button-hover-fill-color);\n",
              "  }\n",
              "\n",
              "  .colab-df-quickchart-complete:disabled,\n",
              "  .colab-df-quickchart-complete:disabled:hover {\n",
              "    background-color: var(--disabled-bg-color);\n",
              "    fill: var(--disabled-fill-color);\n",
              "    box-shadow: none;\n",
              "  }\n",
              "\n",
              "  .colab-df-spinner {\n",
              "    border: 2px solid var(--fill-color);\n",
              "    border-color: transparent;\n",
              "    border-bottom-color: var(--fill-color);\n",
              "    animation:\n",
              "      spin 1s steps(1) infinite;\n",
              "  }\n",
              "\n",
              "  @keyframes spin {\n",
              "    0% {\n",
              "      border-color: transparent;\n",
              "      border-bottom-color: var(--fill-color);\n",
              "      border-left-color: var(--fill-color);\n",
              "    }\n",
              "    20% {\n",
              "      border-color: transparent;\n",
              "      border-left-color: var(--fill-color);\n",
              "      border-top-color: var(--fill-color);\n",
              "    }\n",
              "    30% {\n",
              "      border-color: transparent;\n",
              "      border-left-color: var(--fill-color);\n",
              "      border-top-color: var(--fill-color);\n",
              "      border-right-color: var(--fill-color);\n",
              "    }\n",
              "    40% {\n",
              "      border-color: transparent;\n",
              "      border-right-color: var(--fill-color);\n",
              "      border-top-color: var(--fill-color);\n",
              "    }\n",
              "    60% {\n",
              "      border-color: transparent;\n",
              "      border-right-color: var(--fill-color);\n",
              "    }\n",
              "    80% {\n",
              "      border-color: transparent;\n",
              "      border-right-color: var(--fill-color);\n",
              "      border-bottom-color: var(--fill-color);\n",
              "    }\n",
              "    90% {\n",
              "      border-color: transparent;\n",
              "      border-bottom-color: var(--fill-color);\n",
              "    }\n",
              "  }\n",
              "</style>\n",
              "\n",
              "  <script>\n",
              "    async function quickchart(key) {\n",
              "      const quickchartButtonEl =\n",
              "        document.querySelector('#' + key + ' button');\n",
              "      quickchartButtonEl.disabled = true;  // To prevent multiple clicks.\n",
              "      quickchartButtonEl.classList.add('colab-df-spinner');\n",
              "      try {\n",
              "        const charts = await google.colab.kernel.invokeFunction(\n",
              "            'suggestCharts', [key], {});\n",
              "      } catch (error) {\n",
              "        console.error('Error during call to suggestCharts:', error);\n",
              "      }\n",
              "      quickchartButtonEl.classList.remove('colab-df-spinner');\n",
              "      quickchartButtonEl.classList.add('colab-df-quickchart-complete');\n",
              "    }\n",
              "    (() => {\n",
              "      let quickchartButtonEl =\n",
              "        document.querySelector('#df-fa682f8a-e79e-4b78-8a8b-bfcdb4b0625a button');\n",
              "      quickchartButtonEl.style.display =\n",
              "        google.colab.kernel.accessAllowed ? 'block' : 'none';\n",
              "    })();\n",
              "  </script>\n",
              "</div>\n",
              "\n",
              "    </div>\n",
              "  </div>\n"
            ]
          },
          "metadata": {},
          "execution_count": 66
        }
      ]
    },
    {
      "cell_type": "code",
      "source": [
        "# Eliminar filas donde 'Tiempo' y 'Fecha_muerte' es NaN\n",
        "df = df.dropna(subset=['Tiempo'])\n",
        "df = df.dropna(subset=['Fecha_diagnostico'])\n",
        "\n",
        "# Eliminar filas donde el valor de 'Tiempo' es 0\n",
        "df = df[df['Tiempo'] != 0]\n",
        "\n",
        "# Función para categorizar la edad\n",
        "def categorizar_edad(edad):\n",
        "    if edad < 13:\n",
        "        return 'Niños'\n",
        "    elif 13 <= edad < 18:\n",
        "        return 'Adolescentes'\n",
        "    elif 18 <= edad < 30:\n",
        "        return 'Jóvenes'\n",
        "    elif 30 <= edad < 60:\n",
        "        return 'Adultos'\n",
        "    else:\n",
        "        return 'Adulto Mayor'\n",
        "\n",
        "# Aplicar la función al DataFrame\n",
        "df['Grupo_Edad'] = df['Edad'].apply(categorizar_edad)\n",
        "\n",
        "# Información general sobre el DataFrame\n",
        "info = df.info()\n",
        "\n",
        "# Valores nulos\n",
        "valores_nulos = df.isnull().sum()\n",
        "valores_nulos"
      ],
      "metadata": {
        "colab": {
          "base_uri": "https://localhost:8080/"
        },
        "id": "Xv7fvoxkyRBq",
        "outputId": "0c99d109-a9d9-4afa-95c2-43d3904f5678"
      },
      "execution_count": null,
      "outputs": [
        {
          "output_type": "stream",
          "name": "stdout",
          "text": [
            "<class 'pandas.core.frame.DataFrame'>\n",
            "Int64Index: 21558 entries, 0 to 22683\n",
            "Data columns (total 10 columns):\n",
            " #   Column             Non-Null Count  Dtype         \n",
            "---  ------             --------------  -----         \n",
            " 0   ID                 21558 non-null  int64         \n",
            " 1   Depto              21558 non-null  object        \n",
            " 2   Edad               21558 non-null  int64         \n",
            " 3   Sexo               21558 non-null  object        \n",
            " 4   Tipo de contagio   21558 non-null  object        \n",
            " 5   Fecha_sintomas     21558 non-null  datetime64[ns]\n",
            " 6   Fecha_muerte       21558 non-null  datetime64[ns]\n",
            " 7   Fecha_diagnostico  21558 non-null  datetime64[ns]\n",
            " 8   Tiempo             21558 non-null  int64         \n",
            " 9   Grupo_Edad         21558 non-null  object        \n",
            "dtypes: datetime64[ns](3), int64(3), object(4)\n",
            "memory usage: 1.8+ MB\n"
          ]
        },
        {
          "output_type": "execute_result",
          "data": {
            "text/plain": [
              "ID                   0\n",
              "Depto                0\n",
              "Edad                 0\n",
              "Sexo                 0\n",
              "Tipo de contagio     0\n",
              "Fecha_sintomas       0\n",
              "Fecha_muerte         0\n",
              "Fecha_diagnostico    0\n",
              "Tiempo               0\n",
              "Grupo_Edad           0\n",
              "dtype: int64"
            ]
          },
          "metadata": {},
          "execution_count": 70
        }
      ]
    },
    {
      "cell_type": "markdown",
      "source": [
        "# Análisis Descriptivo General de Casos Fallecidos:"
      ],
      "metadata": {
        "id": "WAatpfAfvWG5"
      }
    },
    {
      "cell_type": "code",
      "source": [
        "# Número total de fallecidos\n",
        "total_fallecidos = df.shape[0]\n",
        "print('El número total de fallecidos es:',total_fallecidos)\n"
      ],
      "metadata": {
        "colab": {
          "base_uri": "https://localhost:8080/"
        },
        "id": "NMcUM3WoxAzl",
        "outputId": "bfcb4af3-c7c1-475d-b2ed-9af11837daa5"
      },
      "execution_count": null,
      "outputs": [
        {
          "output_type": "stream",
          "name": "stdout",
          "text": [
            "El número total de fallecidos es: 21558\n"
          ]
        }
      ]
    },
    {
      "cell_type": "code",
      "source": [
        "# Función para añadir etiquetas de cantidad en las barras\n",
        "def add_labels(ax):\n",
        "    for bar in ax.patches:\n",
        "        ax.annotate(format(bar.get_height(), '.0f'),\n",
        "                    (bar.get_x() + bar.get_width() / 2,\n",
        "                     bar.get_height()), ha='center', va='center',\n",
        "                     size=10, xytext=(0, 8),\n",
        "                     textcoords='offset points')\n"
      ],
      "metadata": {
        "id": "1WA1ieGc3x_m"
      },
      "execution_count": null,
      "outputs": []
    },
    {
      "cell_type": "markdown",
      "source": [
        "# Cantidad de Fallecidos por Sexo\n",
        "\n",
        "El gráfico presenta una comparación visual entre la cantidad de fallecidos masculinos y femeninos a causa de COVID-19. Se observa que la cantidad de fallecidos masculinos (13,058) supera a la de las fallecidas femeninas (8,500), indicando una mayor incidencia de mortalidad por COVID-19 en hombres en el conjunto de datos analizado.\n",
        "\n",
        "Esta diferencia podría reflejar varios factores subyacentes, como diferencias biológicas, comportamentales o de exposición al virus entre hombres y mujeres. Estudios previos han sugerido que los hombres podrían ser más susceptibles a formas graves de COVID-19, lo cual se alinea con la tendencia observada en los datos. Adicionalmente, factores como la prevalencia de comorbilidades, ocupaciones con mayor exposición al virus, y diferencias en la búsqueda de atención médica, podrían contribuir a las disparidades observadas."
      ],
      "metadata": {
        "id": "t8aVG3LONjfB"
      }
    },
    {
      "cell_type": "code",
      "source": [
        "# Gráfico para mostrar la cantidad de fallecidos por Sexo\n",
        "plt.figure(figsize=(8, 6))\n",
        "ax = sns.countplot(data=df, x='Sexo')\n",
        "plt.title('Cantidad de Fallecidos por Sexo')\n",
        "plt.xlabel('Sexo')\n",
        "plt.ylabel('Cantidad de Fallecidos')\n",
        "add_labels(ax)\n",
        "plt.show()\n"
      ],
      "metadata": {
        "colab": {
          "base_uri": "https://localhost:8080/",
          "height": 564
        },
        "id": "z2VoKUFW5ZYq",
        "outputId": "c2aa6b0a-cb2b-497d-a8df-9790413da035"
      },
      "execution_count": null,
      "outputs": [
        {
          "output_type": "display_data",
          "data": {
            "text/plain": [
              "<Figure size 800x600 with 1 Axes>"
            ],
            "image/png": "[encoded data removed]"
          },
          "metadata": {}
        }
      ]
    },
    {
      "cell_type": "markdown",
      "source": [
        "# Cantidad de Fallecidos por Grupo de Edad\n",
        "\n",
        "El gráfico muestra la distribución de fallecimientos por COVID-19 entre diferentes grupos de edad. Es notable la mayor incidencia en el grupo de los adultos mayores, con 14,757 fallecidos, lo que subraya la vulnerabilidad de este segmento poblacional ante la enfermedad. Por otro lado, los grupos de niños y adolescentes presentan cifras considerablemente menores, con 25 y 16 fallecidos respectivamente, lo que podría reflejar una menor susceptibilidad o una menor exposición al virus en estas edades.\n",
        "\n",
        "El grupo de los jóvenes muestra 275 fallecimientos, lo cual, aunque superior a niños y adolescentes, sigue siendo significativamente menor en comparación con los adultos y ancianos. Por su parte, el grupo de adultos registra 6,485 fallecidos, situándose en un punto intermedio entre los jóvenes y los ancianos."
      ],
      "metadata": {
        "id": "4dejwwCcOqTU"
      }
    },
    {
      "cell_type": "code",
      "source": [
        "# Gráfico para mostrar la cantidad de fallecidos por Grupo de Edad\n",
        "plt.figure(figsize=(10, 6))\n",
        "ax = sns.countplot(data=df, x='Grupo_Edad', order=['Niños', 'Adolescentes', 'Jóvenes', 'Adultos', 'Adulto Mayor'])\n",
        "plt.title('Cantidad de Fallecidos por Grupo de Edad')\n",
        "plt.xlabel('Grupo de Edad')\n",
        "plt.ylabel('Cantidad de Fallecidos')\n",
        "add_labels(ax)\n",
        "plt.show()"
      ],
      "metadata": {
        "colab": {
          "base_uri": "https://localhost:8080/",
          "height": 565
        },
        "id": "qj3Loq2C5bjM",
        "outputId": "0a34bf45-52c2-4527-ffe6-41af049c52a4"
      },
      "execution_count": null,
      "outputs": [
        {
          "output_type": "display_data",
          "data": {
            "text/plain": [
              "<Figure size 1000x600 with 1 Axes>"
            ],
            "image/png": "[encoded data removed]"
          },
          "metadata": {}
        }
      ]
    },
    {
      "cell_type": "markdown",
      "source": [
        "# Distribución de Edad por Departamento\n",
        "\n",
        "El diagrama de cajas ilustra la distribución de la edad de los fallecidos por COVID-19 en los cinco departamentos con la mayor cantidad de muertes. La mediana, representada por la línea que divide cada caja, indica la edad media de los fallecidos en cada departamento. Los valores atípicos, indicados por los puntos fuera de las \"bigotes\" del diagrama de cajas, sugieren la presencia de fallecidos que son notablemente más jóvenes o mayores que la mayoría de los casos en su departamento respectivo.\n",
        "\n",
        "De una observación inicial, se puede apreciar que la mediana de la edad de los fallecidos es mayor en departamentos como Cundinamarca, lo que sugiere una población de fallecidos con una edad promedio más elevada en comparación con otros departamentos como Valle del Cauca. Los \"bigotes\" que se extienden hacia abajo en cada caja indican que hay una cantidad significativa de fallecidos más jóvenes en todos los departamentos, pero es particularmente notable en Bogotá y Valle del Cauca.\n"
      ],
      "metadata": {
        "id": "aQBWtlysPm58"
      }
    },
    {
      "cell_type": "code",
      "source": [
        "# Encontrar los 5 departamentos con más fallecidos\n",
        "top_5_departamentos = df['Depto'].value_counts().head(5).index\n",
        "\n",
        "# Filtrar el DataFrame para incluir solo los datos de estos departamentos\n",
        "df_top_5_departamentos = df[df['Depto'].isin(top_5_departamentos)]\n",
        "\n",
        "# Crear un diagrama de cajas para estos departamentos\n",
        "plt.figure(figsize=(12, 6))\n",
        "sns.boxplot(x='Depto', y='Edad', data=df_top_5_departamentos)\n",
        "plt.title('Distribución de Edad en los 5 Departamentos con Más Fallecidos por COVID-19')\n",
        "plt.xlabel('Departamento')\n",
        "plt.ylabel('Edad')\n",
        "plt.show()\n"
      ],
      "metadata": {
        "colab": {
          "base_uri": "https://localhost:8080/",
          "height": 565
        },
        "id": "nR64_zGp7c-7",
        "outputId": "7b88607a-1fa6-48fd-8a5f-ca89551bfaa3"
      },
      "execution_count": null,
      "outputs": [
        {
          "output_type": "display_data",
          "data": {
            "text/plain": [
              "<Figure size 1200x600 with 1 Axes>"
            ],
            "image/png": "[encoded data removed]"
          },
          "metadata": {}
        }
      ]
    },
    {
      "cell_type": "markdown",
      "source": [
        "## Matriz de Correlación de Variables Cuantitativas\n",
        "\n",
        "La matriz de correlación visualizada en el gráfico proporciona una representación de las relaciones lineales entre las variables cuantitativas de la base de datos. Los valores de correlación varían entre -1 y 1, donde 1 indica una correlación positiva perfecta, -1 indica una correlación negativa perfecta, y 0 indica ninguna correlación lineal. Los puntos clave de esta matriz incluyen:\n",
        "\n",
        "- **Edad** y **Tiempo**  muestran una correlación cercana a cero, lo que indica que no hay una relación lineal clara entre la edad de los individuos y el tiempo transcurrido desde el diagnóstico hasta el fallecimiento.\n",
        "\n",
        "\n"
      ],
      "metadata": {
        "id": "96ZER0YRVxRK"
      }
    },
    {
      "cell_type": "code",
      "source": [
        "# Calcula la matriz de correlación\n",
        "corr_matrix = df.corr()\n",
        "\n",
        "# Crea un mapa de calor para visualizar la matriz de correlación\n",
        "plt.figure(figsize=(10, 8))\n",
        "sns.heatmap(corr_matrix, annot=True, fmt=\".2f\", cmap='coolwarm', cbar=True, square=True)\n",
        "\n",
        "# Mostrar el gráfico\n",
        "plt.title('Matriz de Correlación de Variables Cuantitativas')\n",
        "plt.show()"
      ],
      "metadata": {
        "colab": {
          "base_uri": "https://localhost:8080/",
          "height": 736
        },
        "id": "bwXyqUfVVyGk",
        "outputId": "40d8ad77-657c-4237-fcab-e04f955753fa"
      },
      "execution_count": null,
      "outputs": [
        {
          "output_type": "stream",
          "name": "stderr",
          "text": [
            "<ipython-input-73-3ad5bd689c2d>:2: FutureWarning: The default value of numeric_only in DataFrame.corr is deprecated. In a future version, it will default to False. Select only valid columns or specify the value of numeric_only to silence this warning.\n",
            "  corr_matrix = df.corr()\n"
          ]
        },
        {
          "output_type": "display_data",
          "data": {
            "text/plain": [
              "<Figure size 1000x800 with 2 Axes>"
            ],
            "image/png": "[encoded data removed]"
          },
          "metadata": {}
        }
      ]
    },
    {
      "cell_type": "markdown",
      "source": [
        "# Tiempo Promedio hasta Fallecimiento por COVID-19 por Departamento\n",
        "\n",
        "La tabla a continuación muestra el tiempo promedio, en días, desde el diagnóstico de COVID-19 hasta el fallecimiento de los pacientes por departamento en Colombia. Los datos revelan variaciones significativas que podrían estar influenciadas por múltiples factores, como la capacidad de respuesta del sistema de salud, las prácticas de registro de casos, y la gravedad de la pandemia en cada región.\n",
        "\n",
        "- **Caqueta**, **Huila**, y **Risaralda** destacan con los tiempos promedio más elevados, superando los 100 días. Estos largos períodos podrían indicar casos con extendidas hospitalizaciones o retrasos en la notificación de fallecimientos.\n",
        "- **Atlántico** y **Norte de Santander** presentan tiempos promedio superiores a la mayoría de los departamentos, sugiriendo potencialmente una progresión más lenta de la enfermedad o una capacidad de ofrecer tratamientos prolongados.\n",
        "- **Vaupes** y **Vichada** tienen los tiempos promedio más cortos, reflejando posiblemente una rápida progresión del virus o diferencias en los procesos de reporte.\n",
        "- Departamentos con grandes centros urbanos como **Bogotá** y **Valle del Cauca** muestran tiempos promedio que superan los 30 días, lo que podría ser indicativo de una combinación compleja de factores, incluyendo la carga en los sistemas de salud y la variabilidad en el acceso a cuidados médicos.\n",
        "\n",
        "Estos resultados subrayan la necesidad de considerar el contexto local y las características específicas de los sistemas de salud al interpretar el tiempo promedio hasta el fallecimiento y destacan la importancia de estrategias de salud pública adaptadas a cada región para abordar la pandemia de manera efectiva.\n"
      ],
      "metadata": {
        "id": "O8aWcdo-QvSc"
      }
    },
    {
      "cell_type": "code",
      "source": [
        "# Calcular el tiempo promedio de fallecimiento por departamento\n",
        "tiempo_promedio_por_depto = df.groupby('Depto')['Tiempo'].mean().reset_index()\n",
        "\n",
        "# Renombrar las columnas para mayor claridad\n",
        "tiempo_promedio_por_depto.columns = ['Depto', 'Tiempo_Promedio']\n",
        "\n",
        "# Mostrar los resultados\n",
        "print(tiempo_promedio_por_depto)\n",
        "\n"
      ],
      "metadata": {
        "colab": {
          "base_uri": "https://localhost:8080/"
        },
        "id": "UXiFE5qAGBqy",
        "outputId": "e6abbd9c-bbd9-450e-8cd4-b0de86cd265f"
      },
      "execution_count": null,
      "outputs": [
        {
          "output_type": "stream",
          "name": "stdout",
          "text": [
            "                       Depto  Tiempo_Promedio\n",
            "0                   Amazonas        13.076923\n",
            "1                 Antioquia         26.287535\n",
            "2                     Arauca        13.732394\n",
            "3                  Atlantico        63.757377\n",
            "4                     Bogota        32.143970\n",
            "5                    Bolivar        15.468208\n",
            "6                     Boyaca        14.824834\n",
            "7                     Caldas        13.708245\n",
            "8                    Caqueta       354.907692\n",
            "9                   Casanare        14.345178\n",
            "10                     Cauca        14.634146\n",
            "11                     Cesar        14.798148\n",
            "12                     Choco        17.840000\n",
            "13                   Cordoba        14.649502\n",
            "14              Cundinamarca        46.333811\n",
            "15                   Guainia        12.750000\n",
            "16                   Guajira        13.967532\n",
            "17                  Guaviare        14.958333\n",
            "18                     Huila       125.344388\n",
            "19                 Magdalena        12.563433\n",
            "20                      Meta       128.698953\n",
            "21                    Nariño        13.809434\n",
            "22        Norte de Santander        84.756672\n",
            "23                  Putumayo        12.975410\n",
            "24                   Quindio        14.510373\n",
            "25                 Risaralda       128.856771\n",
            "26  San Andrés y Providencia        13.303030\n",
            "27                 Santander        14.459623\n",
            "28                     Sucre        15.489726\n",
            "29                    Tolima        13.687500\n",
            "30           Valle del Cauca        34.924510\n",
            "31                    Vaupes         8.000000\n",
            "32                   Vichada         9.333333\n"
          ]
        }
      ]
    },
    {
      "cell_type": "markdown",
      "source": [
        "# Tasa de Mortalidad por COVID-19 por Departamento\n",
        "\n",
        "La siguiente tabla muestra la tasa de mortalidad por cada 100,000 habitantes en distintos departamentos de Colombia. Esta métrica es crucial para comprender el impacto relativo de la pandemia en cada región, ajustando por la población total de cada departamento:\n",
        "\n",
        "- **Bogotá** encabeza la lista con la tasa de mortalidad más alta, 64.91, lo que refleja un impacto significativo de COVID-19 en la capital del país.\n",
        "- **Valle del Cauca**, **Cundinamarca**, y **Santander** también muestran tasas de mortalidad elevadas, superando los 40.0, destacando la severidad de la pandemia en estas regiones.\n",
        "- **Atlántico** y **Norte de Santander** presentan tasas por encima de 30.0, sugiriendo desafíos importantes en la gestión de la crisis sanitaria.\n",
        "- Departamentos como **Cesar**, **Nariño**, **Tolima**, y **Risaralda** mantienen tasas en el rango de 30.0 a 40.0, indicando una presencia notable del virus.\n",
        "- Notablemente, **Bolivar**, **Caqueta**, **Putumayo**, **Choco**, **Arauca**, **Amazonas**, **Guaviare**, **Vichada**, y **Vaupes** presentan las tasas más bajas, algunas por debajo de 15.0, lo que podría reflejar una menor incidencia de la enfermedad o, potencialmente, diferencias en la detección y reporte de casos.\n",
        "\n",
        "Es importante reconocer que la tasa de mortalidad es una medida que depende de la precisión en la notificación de fallecimientos y la calidad de los datos demográficos.\n"
      ],
      "metadata": {
        "id": "rKjf0D1uRben"
      }
    },
    {
      "cell_type": "code",
      "source": [
        "# Número total de fallecidos por departamento\n",
        "fallecidos_por_depto = df['Depto'].value_counts().reset_index()\n",
        "fallecidos_por_depto.columns = ['Depto', 'Fallecidos']\n",
        "\n",
        "# Asegúrate de que las columnas 'Depto' en ambos DataFrames estén en el mismo formato\n",
        "df_merged = pd.merge(fallecidos_por_depto, df2, on='Depto')\n",
        "\n",
        "# Tasa de mortalidad: (Número de fallecidos / Población) * 100,000\n",
        "df_merged['Tasa_Mortalidad'] = (df_merged['Fallecidos'] / df_merged['Población']) * 100000\n",
        "\n",
        "# Mostrar las tasas de mortalidad por departamento\n",
        "print(df_merged[['Depto', 'Tasa_Mortalidad']])\n"
      ],
      "metadata": {
        "colab": {
          "base_uri": "https://localhost:8080/"
        },
        "id": "ZytQYpnDLDj-",
        "outputId": "2cffd64e-fe1e-438b-b78a-9cf1b74c0eb5"
      },
      "execution_count": null,
      "outputs": [
        {
          "output_type": "stream",
          "name": "stdout",
          "text": [
            "                 Depto  Tasa_Mortalidad\n",
            "0               Bogota        64.914855\n",
            "1      Valle del Cauca        45.126928\n",
            "2         Cundinamarca        40.518650\n",
            "3            Santander        56.212499\n",
            "4            Atlantico        32.637018\n",
            "5   Norte de Santander        37.542582\n",
            "6              Cordoba        31.702381\n",
            "7                Cesar        39.313299\n",
            "8               Nariño        31.184358\n",
            "9               Tolima        37.253053\n",
            "10              Caldas        45.468353\n",
            "11              Boyaca        34.724361\n",
            "12               Huila        33.263949\n",
            "13           Risaralda        39.493821\n",
            "14                Meta        33.802767\n",
            "15               Sucre        29.374484\n",
            "16           Magdalena        17.912487\n",
            "17             Quindio        42.800617\n",
            "18               Cauca        13.157515\n",
            "19            Casanare        42.114264\n",
            "20             Bolivar         7.698185\n",
            "21             Caqueta        30.584421\n",
            "22            Putumayo        31.850293\n",
            "23               Choco        12.602119\n",
            "24              Arauca        22.676678\n",
            "25            Amazonas        30.568096\n",
            "26            Guaviare        24.586133\n",
            "27             Guainia        14.777870\n",
            "28             Vichada         4.866022\n",
            "29              Vaupes         8.314280\n"
          ]
        }
      ]
    },
    {
      "cell_type": "markdown",
      "source": [
        "# Estadísticas Descriptivas de los Departamentos con Mayor Mortalidad por COVID-19\n",
        "\n",
        "La tabla resume las estadísticas descriptivas para los cinco departamentos en Colombia con el mayor número de fallecimientos debido a COVID-19. Los datos incluyen el conteo de casos, edad promedio, y tiempo promedio desde el diagnóstico hasta el fallecimiento, entre otras métricas.\n",
        "\n",
        "### Antioquia\n",
        "- **Casos Registrados**: 3610\n",
        "- **Edad Promedio de Fallecidos**: 66.7 años\n",
        "- **Tiempo Promedio hasta el Fallecimiento**: 26 días\n",
        "- **Variabilidad**: Extremadamente alta con una desviación estándar de 732 días, indicando variaciones significativas en los tiempos reportados.\n",
        "\n",
        "### Bogotá\n",
        "- **Casos Registrados**: 5133\n",
        "- **Edad Promedio de Fallecidos**: 65.7 años\n",
        "- **Tiempo Promedio hasta el Fallecimiento**: 32 días\n",
        "- **Variabilidad**: Muy alta con una desviación estándar de 871 días, sugiriendo posibles anomalías en los datos.\n",
        "\n",
        "### Cundinamarca\n",
        "- **Casos Registrados**: 1396\n",
        "- **Edad Promedio de Fallecidos**: 64.7 años\n",
        "- **Tiempo Promedio hasta el Fallecimiento**: 46 días\n",
        "- **Variabilidad**: La más alta con una desviación estándar de 1176 días, lo que podría reflejar inconsistencias en la recopilación o reporte de datos.\n",
        "\n",
        "### Santander\n",
        "- **Casos Registrados**: 1325\n",
        "- **Edad Promedio de Fallecidos**: 64 años\n",
        "- **Tiempo Promedio hasta el Fallecimiento**: 14 días\n",
        "- **Variabilidad**: Relativamente baja con una desviación estándar de 15 días, mostrando menos variación en el tiempo hasta el fallecimiento.\n",
        "\n",
        "### Valle del Cauca\n",
        "- **Casos Registrados**: 2093\n",
        "- **Edad Promedio de Fallecidos**: 67.6 años\n",
        "- **Tiempo Promedio hasta el Fallecimiento**: 34 días\n",
        "- **Variabilidad**: Alta con una desviación estándar de 963 días, indicando la presencia de valores atípicos.\n",
        "\n",
        "Estas cifras ilustran la complejidad y diversidad de la pandemia en Colombia.\n"
      ],
      "metadata": {
        "id": "GyeVDC2fIkk0"
      }
    },
    {
      "cell_type": "code",
      "source": [
        "# Calcular estadísticos descriptivos para estos departamentos\n",
        "estadisticos_descriptivos = df_top_5_departamentos.groupby('Depto').describe()\n",
        "\n",
        "# Mostrar los resultados\n",
        "print(estadisticos_descriptivos)\n"
      ],
      "metadata": {
        "colab": {
          "base_uri": "https://localhost:8080/"
        },
        "id": "8o4CEbHlJ0BZ",
        "outputId": "0c2b7849-bfa4-48d4-afee-b4ce9c7c0aec"
      },
      "execution_count": null,
      "outputs": [
        {
          "output_type": "stream",
          "name": "stdout",
          "text": [
            "                     ID                                                  \\\n",
            "                  count          mean           std      min        25%   \n",
            "Depto                                                                     \n",
            "Antioquia        3610.0  2.530190e+06  8.764218e+05  11992.0  2500197.0   \n",
            "Bogota           5133.0  2.489663e+06  1.151255e+06    415.0  1677388.0   \n",
            "Cundinamarca     1396.0  2.657102e+06  1.033693e+06  13485.0  2550412.5   \n",
            "Santander        1325.0  2.646883e+06  1.095574e+06  38291.0  1830857.0   \n",
            "Valle del Cauca  2093.0  2.392700e+06  1.130666e+06  11825.0  1408701.0   \n",
            "\n",
            "                                                     Edad             ...  \\\n",
            "                       50%         75%        max   count       mean  ...   \n",
            "Depto                                                                 ...   \n",
            "Antioquia        2646899.5  2886840.75  4905796.0  3610.0  66.690859  ...   \n",
            "Bogota           2837248.0  3380154.00  4388007.0  5133.0  65.739723  ...   \n",
            "Cundinamarca     2883828.0  3406326.00  4785827.0  1396.0  64.675501  ...   \n",
            "Santander        3186154.0  3422823.00  4683777.0  1325.0  64.064906  ...   \n",
            "Valle del Cauca  2744397.0  3303264.00  3876116.0  2093.0  67.555662  ...   \n",
            "\n",
            "                              Tiempo                                          \\\n",
            "                  75%    max   count       mean          std  min  25%   50%   \n",
            "Depto                                                                          \n",
            "Antioquia        77.0  107.0  3610.0  26.287535   732.169623  1.0  6.0  11.0   \n",
            "Bogota           76.0  110.0  5133.0  32.143970   871.534663  1.0  6.0  11.0   \n",
            "Cundinamarca     75.0  108.0  1396.0  46.333811  1176.787562  1.0  6.0  12.0   \n",
            "Santander        75.0   99.0  1325.0  14.459623    15.002545  1.0  6.0  11.0   \n",
            "Valle del Cauca  79.0  107.0  2093.0  34.924510   963.067379  1.0  5.0  11.0   \n",
            "\n",
            "                                \n",
            "                  75%      max  \n",
            "Depto                           \n",
            "Antioquia        18.0  43998.0  \n",
            "Bogota           19.0  44308.0  \n",
            "Cundinamarca     19.0  43979.0  \n",
            "Santander        18.0    270.0  \n",
            "Valle del Cauca  18.0  44069.0  \n",
            "\n",
            "[5 rows x 24 columns]\n"
          ]
        }
      ]
    },
    {
      "cell_type": "markdown",
      "source": [
        "## Distribución de Fallecimientos por COVID-19 por Género en Departamentos Colombianos\n",
        "\n",
        "La tabla muestra el desglose de fallecimientos por COVID-19 entre géneros femenino (F) y masculino (M) en varios departamentos de Colombia. Se observa una tendencia general de mayor número de fallecimientos en hombres en comparación con mujeres en la mayoría de los departamentos. Por ejemplo:\n",
        "\n",
        "- En **Antioquia**, el número de fallecidos masculinos (2108) supera al de femeninos (1502), sugiriendo una mayor incidencia de mortalidad entre la población masculina.\n",
        "- **Bogotá** muestra una diferencia aún más marcada con 3205 fallecimientos masculinos frente a 1928 femeninos.\n",
        "- Departamentos como **Cundinamarca** y **Valle del Cauca** también reflejan esta tendencia con 837 y 1260 fallecimientos masculinos respectivamente, en contraste con 559 y 833 fallecimientos femeninos.\n",
        "- En regiones con menores poblaciones como **Amazonas**, **Guainia**, y **Vaupes**, las cifras son menores, pero se mantiene la tendencia de mayor mortalidad masculina.\n",
        "\n",
        "Estos patrones son consistentes con las tendencias observadas a nivel global, donde se ha reportado una mayor tasa de mortalidad por COVID-19 en hombres que en mujeres. Factores como diferencias biológicas, comorbilidades prevalentes, y comportamientos de riesgo pueden influir en esta discrepancia."
      ],
      "metadata": {
        "id": "_6U-u9YiTTzc"
      }
    },
    {
      "cell_type": "code",
      "source": [
        "# Calcular la cantidad de fallecidos por departamento y sexo\n",
        "fallecidos_por_depto_sexo = df.groupby(['Depto', 'Sexo']).size().unstack(fill_value=0)\n",
        "\n",
        "# Mostrar la tabla\n",
        "print(fallecidos_por_depto_sexo)\n"
      ],
      "metadata": {
        "colab": {
          "base_uri": "https://localhost:8080/"
        },
        "id": "d8hA89CMKPNS",
        "outputId": "c7bdce2f-e33e-434f-cd56-af7aff844826"
      },
      "execution_count": null,
      "outputs": [
        {
          "output_type": "stream",
          "name": "stdout",
          "text": [
            "Sexo                         F     M\n",
            "Depto                               \n",
            "Amazonas                     9    17\n",
            "Antioquia                 1502  2108\n",
            "Arauca                      32    39\n",
            "Atlantico                  384   531\n",
            "Bogota                    1928  3205\n",
            "Bolivar                     72   101\n",
            "Boyaca                     172   279\n",
            "Caldas                     170   303\n",
            "Caqueta                     41    89\n",
            "Casanare                    78   119\n",
            "Cauca                       85   120\n",
            "Cesar                      207   333\n",
            "Choco                       37    38\n",
            "Cordoba                    244   358\n",
            "Cundinamarca               559   837\n",
            "Guainia                      2     6\n",
            "Guajira                    134   174\n",
            "Guaviare                     8    16\n",
            "Huila                      159   233\n",
            "Magdalena                  102   166\n",
            "Meta                       142   240\n",
            "Nariño                     216   314\n",
            "Norte de Santander         257   380\n",
            "Putumayo                    50    72\n",
            "Quindio                     92   149\n",
            "Risaralda                  140   244\n",
            "San Andrés y Providencia    16    17\n",
            "Santander                  512   813\n",
            "Sucre                      104   188\n",
            "Tolima                     208   304\n",
            "Valle del Cauca            833  1260\n",
            "Vaupes                       1     3\n",
            "Vichada                      4     2\n"
          ]
        }
      ]
    },
    {
      "cell_type": "markdown",
      "source": [
        "# Conclusiones\n",
        "\n",
        "A partir del análisis detallado de los datos de COVID-19 en Colombia, podemos extraer varias conclusiones significativas que pueden ayudar a orientar las políticas de salud pública y las estrategias de intervención futuras:\n",
        "\n",
        "### Mayor Vulnerabilidad en Poblaciones Mayores\n",
        "Los datos revelan que los ancianos son el grupo de edad más afectado por la mortalidad de COVID-19, lo que refleja una clara vulnerabilidad relacionada con la edad. Estrategias como la priorización de vacunación y cuidados intensivos para las poblaciones mayores podrían ser medidas efectivas para reducir la tasa de mortalidad en esta demografía.\n",
        "\n",
        "### Disparidad de Mortalidad por Género\n",
        "Se ha observado una tendencia generalizada de una mayor tasa de mortalidad en hombres en comparación con mujeres. Este hallazgo está en consonancia con las tendencias globales y subraya la necesidad de investigar más profundamente las causas de dicha disparidad para desarrollar respuestas adaptadas a las necesidades específicas de género.\n",
        "\n",
        "### Variabilidad Regional en la Tasa de Mortalidad\n",
        "Existe una notable variabilidad en las tasas de mortalidad y el tiempo promedio hasta el fallecimiento entre los diferentes departamentos. Mientras algunos departamentos presentan tasas y tiempos promedio relativamente bajos, otros muestran cifras significativamente más altas. Estas diferencias pueden ser indicativas de variaciones en la calidad del sistema de salud, las respuestas de política pública y las prácticas culturales, lo que requiere una respuesta diferenciada y contextualizada a nivel departamental.\n",
        "\n",
        "Estas conclusiones proporcionan una visión esencial sobre el impacto de la pandemia y pueden servir como base para el fortalecimiento de las medidas preventivas y terapéuticas, así como para mejorar los sistemas de seguimiento y reporte de datos sobre COVID-19 en Colombia.\n"
      ],
      "metadata": {
        "id": "eisw6fpTT80P"
      }
    },
    {
      "cell_type": "markdown",
      "source": [
        "# Referencias\n",
        "- Organización Panamericana de la Salud. (2023). Reporte de situación COVID-19 Colombia No. 292 - 26 de enero 2023. Recuperado de https://www.paho.org/es/documentos/reporte-situacion-covid-19-colombia-no-292-26-enero-2023."
      ],
      "metadata": {
        "id": "9KTM00LLjohh"
      }
    }
  ]
}