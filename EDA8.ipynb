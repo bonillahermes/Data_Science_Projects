{
  "nbformat": 4,
  "nbformat_minor": 0,
  "metadata": {
    "colab": {
      "private_outputs": true,
      "provenance": [],
      "include_colab_link": true
    },
    "kernelspec": {
      "name": "ir",
      "display_name": "R"
    },
    "language_info": {
      "name": "R"
    }
  },
  "cells": [
    {
      "cell_type": "markdown",
      "metadata": {
        "id": "view-in-github",
        "colab_type": "text"
      },
      "source": [
        "<a href=\"https://colab.research.google.com/github/bonillahermes/Data_Science_Projects/blob/main/EDA8.ipynb\" target=\"_parent\"><img src=\"https://colab.research.google.com/assets/colab-badge.svg\" alt=\"Open In Colab\"/></a>"
      ]
    },
    {
      "cell_type": "markdown",
      "source": [
        "# Hermes Yate Bonilla\n",
        "**Data Scientist**\n",
        "---\n",
        "\n",
        "**Contact:**\n",
        "- **Email:** [bonillahermes@gmail.com](mailto:bonillahermes@gmail.com)\n",
        "- **LinkedIn:** [linkedin.com/in/bonillahermes](https://www.linkedin.com/in/bonillahermes/)\n",
        "- **GitHub:** [github.com/bonillahermes](https://github.com/bonillahermes)\n",
        "- **Webpage:** [bonillahermes.com](https://bonillahermes.com/)\n",
        "---"
      ],
      "metadata": {
        "id": "tklc6V4hON3M"
      }
    },
    {
      "cell_type": "markdown",
      "source": [
        "# Informe de Análisis Estadístico sobre Billonarios Mundiales\n",
        "\n",
        "## Introducción\n",
        "\n",
        "El presente informe busca explorar diversas facetas de la riqueza global a través del análisis de datos de billonarios de todo el mundo. Utilizando la base de datos \"Billionaires Statistics Dataset\" creada por MIT y publicada en la plataforma Kaggle, este estudio se enfoca en comprender las diferencias en el valor neto según el origen de la riqueza, la representación de género en sectores industriales clave, y la edad en la que los individuos alcanzan el estatus de billonario.\n",
        "\n",
        "## Objetivos\n",
        "\n",
        "1. Investigar si existe una diferencia significativa en el valor neto entre billonarios autodidactas y herederos.\n",
        "2. Analizar la representación de género en la industria tecnológica en comparación con otras industrias.\n",
        "3. Determinar si la edad promedio de los billonarios difiere de una edad hipotética de 45 años.\n",
        "\n",
        "## Estudios a Realizar y Elección de la Base de Datos\n",
        "\n",
        "Utilizaremos la \"Billionaires Statistics Dataset\" para abordar los siguientes estudios:\n",
        "\n",
        "### 1. Diferencia en el Valor Neto entre Autodidactas y Herederos\n",
        "\n",
        "Exploraremos la influencia de la autogeneración de riqueza versus la herencia en el valor neto final de los billonarios.\n",
        "\n",
        "### 2. Comparación de Género en la Industria Tecnológica\n",
        "\n",
        "Investigaremos las dinámicas de género dentro de la industria tecnológica frente a otras industrias, con un enfoque en la representación femenina.\n",
        "\n",
        "### 3. Edad Promedio de los Billonarios\n",
        "\n",
        "Examinaremos cómo la edad promedio de los billonarios se compara con una edad hipotética de 45 años, buscando entender en qué etapa de la vida se suele alcanzar este nivel de éxito financiero.\n",
        "\n",
        "La base de datos ha sido seleccionada por su cobertura comprensiva de información relevante a nuestros estudios, incluyendo datos personales, financieros, y demográficos de billonarios a nivel mundial."
      ],
      "metadata": {
        "id": "39suNn9FJHhd"
      }
    },
    {
      "cell_type": "markdown",
      "source": [
        "# Estadísticos Descriptivos"
      ],
      "metadata": {
        "id": "lTdyz6A0nqdx"
      }
    },
    {
      "cell_type": "markdown",
      "source": [
        "### Librerías Necesarias"
      ],
      "metadata": {
        "id": "Of4QdfAPMrTz"
      }
    },
    {
      "cell_type": "code",
      "execution_count": null,
      "metadata": {
        "id": "d1kwM1-euy8_"
      },
      "outputs": [],
      "source": [
        "# Instalar paquetes necesarios\n",
        "# if (!require(\"tidyverse\")) install.packages(\"tidyverse\")\n",
        "# if (!require(\"ggplot2\")) install.packages(\"ggplot2\")\n",
        "# if (!require(dplyr)) install.packages(\"dplyr\")\n",
        "if (!require(plotly)) install.packages(\"plotly\")\n",
        "if (!require(e1071)) install.packages(\"e1071\")"
      ]
    },
    {
      "cell_type": "code",
      "source": [
        "library(ggplot2)\n",
        "library(tidyverse)\n",
        "library(plotly)\n",
        "library(dplyr)\n",
        "library(e1071)"
      ],
      "metadata": {
        "id": "oxADXuSoMhb9"
      },
      "execution_count": null,
      "outputs": []
    },
    {
      "cell_type": "markdown",
      "source": [
        "### Descripción de la Base de Datos: Billionaires Statistics Dataset\n",
        "\n",
        "La base de datos \"Billionaires Statistics Dataset\" ofrece una visión comprensiva de la riqueza y los datos demográficos a nivel mundial, incluyendo información detallada sobre individuos, sus fortunas, categorías de riqueza, orígenes, y varios indicadores económicos y demográficos por país. Esta base de datos fue publicada por el MIT el 8 de febrero del 2024 y es de uso público y se puede consultar en el siguiente link: https://www.kaggle.com/datasets/endofnight17j03/billionaires-statistics-dataset?select=Billionaires+Statistics+Dataset.csv\n",
        "\n",
        "### Columnas Clave:\n",
        "- `Rank`: Clasificación numérica de la persona.\n",
        "- `finalWorth`: Valor neto final o riqueza neta en valor monetario.\n",
        "- `category`: Categoría o clasificación del individuo, como \"emprendedor\", \"inversor\", \"celebridad\", etc.\n",
        "- `age`: Edad de la persona.\n",
        "- `country`, `city`: País y ciudad de residencia u origen.\n",
        "- `source`: Fuente de la riqueza o fama.\n",
        "- `industries`: Industrias o sectores asociados.\n",
        "- `selfMade`: Indica si la riqueza es autogenerada o heredada.\n",
        "- `gender`: Género del individuo.\n",
        "- `cpi_country`, `gdp_country`, `life_expectancy_country`: Indicadores económicos y demográficos específicos del país.\n"
      ],
      "metadata": {
        "id": "GhwgUF2q3BcH"
      }
    },
    {
      "cell_type": "code",
      "source": [
        "# Cargar el dataset\n",
        "df <- read.csv(\"data.csv\")\n",
        "\n",
        "# Ver las primeras filas del dataframe\n",
        "head(df)"
      ],
      "metadata": {
        "id": "WewmR1w844Jc"
      },
      "execution_count": null,
      "outputs": []
    },
    {
      "cell_type": "code",
      "source": [
        "# Verificar la estructura del dataframe\n",
        "str(df)"
      ],
      "metadata": {
        "id": "4efFEiEP6L3s"
      },
      "execution_count": null,
      "outputs": []
    },
    {
      "cell_type": "code",
      "source": [
        "df<- df %>%\n",
        "  drop_na(age, finalWorth)"
      ],
      "metadata": {
        "id": "4ziU4Rxgp71u"
      },
      "execution_count": null,
      "outputs": []
    },
    {
      "cell_type": "code",
      "source": [
        "# Convertir 'Industries' a factor\n",
        "df$industries <- as.factor(df$industries)\n",
        "# Convertir 'gender' a factor\n",
        "df$gender <- as.factor(df$gender)\n",
        "# Convertir selfMade a factor con etiquetas más descriptivas\n",
        "df$selfMade <- as.factor(ifelse(df$selfMade == TRUE, \"Autodidacta\", \"Heredero\"))"
      ],
      "metadata": {
        "id": "QjEoWj0x2cey"
      },
      "execution_count": null,
      "outputs": []
    },
    {
      "cell_type": "markdown",
      "source": [
        "## Estadísticos descriptivos generales para age y finalWorth"
      ],
      "metadata": {
        "id": "9aJtXhQb5va5"
      }
    },
    {
      "cell_type": "markdown",
      "source": [
        "Los estadísticos descriptivos revelan que la edad media de los billonarios es de 65 años con una desviación estándar de aproximadamente 13 años, indicando una distribución relativamente equilibrada en torno a la mediana de 65 años, como lo sugiere la leve asimetría negativa y una curtosis ligeramente menor que la de una distribución normal. En contraste, el valor neto promedio es de aproximadamente 4,679 millones de dólares, con una mediana significativamente más baja de 2,400 millones de dólares, lo cual, junto con una desviación estándar considerable de aproximadamente 9,942 millones de dólares, un mínimo de 1,000 millones y un máximo de 211,000 millones de dólares, refleja una distribución muy sesgada con una asimetría positiva y una curtosis extremadamente alta, indicando la presencia de valores atípicos que distorsionan el promedio hacia cifras más altas y una concentración de la riqueza en un pequeño grupo de individuos con un valor neto excepcionalmente alto."
      ],
      "metadata": {
        "id": "lwEauNYUupFQ"
      }
    },
    {
      "cell_type": "code",
      "source": [
        "# Estadísticos descriptivos generales para age y finalWorth\n",
        "df %>%\n",
        "  summarise(\n",
        "    Age_Mean = mean(age, na.rm = TRUE),\n",
        "    Age_Median = median(age, na.rm = TRUE),\n",
        "    Age_SD = sd(age, na.rm = TRUE),\n",
        "    Age_Min = min(age, na.rm = TRUE),\n",
        "    Age_Max = max(age, na.rm = TRUE),\n",
        "    Age_Skewness = skewness(age, na.rm = TRUE),\n",
        "    Age_Kurtosis = kurtosis(age, na.rm = TRUE),\n",
        "    FinalWorth_Mean = mean(finalWorth, na.rm = TRUE),\n",
        "    FinalWorth_Median = median(finalWorth, na.rm = TRUE),\n",
        "    FinalWorth_SD = sd(finalWorth, na.rm = TRUE),\n",
        "    FinalWorth_Min = min(finalWorth, na.rm = TRUE),\n",
        "    FinalWorth_Max = max(finalWorth, na.rm = TRUE),\n",
        "    FinalWorth_Skewness = skewness(finalWorth, na.rm = TRUE),\n",
        "    FinalWorth_Kurtosis = kurtosis(finalWorth, na.rm = TRUE)\n",
        "  )\n"
      ],
      "metadata": {
        "id": "5Ff1FONsntY1"
      },
      "execution_count": null,
      "outputs": []
    },
    {
      "cell_type": "code",
      "source": [
        "# Crear el histograma del valor neto final\n",
        "ggplot(df, aes(x = finalWorth)) +\n",
        "  geom_histogram(aes(y = ..density..), binwidth = 1000, fill = \"skyblue\", color = \"white\") +\n",
        "  geom_density(alpha = 0.2, fill = \"skyblue\") + # Añadir una curva de densidad para visualizar mejor la distribución\n",
        "  labs(title = \"Distribución del Valor Neto Final de los Billonarios\",\n",
        "       x = \"Valor Neto Final\",\n",
        "       y = \"Densidad\") +\n",
        "  theme_minimal()\n"
      ],
      "metadata": {
        "id": "pcbe0jEOVooZ"
      },
      "execution_count": null,
      "outputs": []
    },
    {
      "cell_type": "code",
      "source": [
        "# Crear el histograma de edad\n",
        "ggplot(df, aes(x = age)) +\n",
        "  geom_histogram(aes(y = ..density..), fill = \"skyblue\", color = \"white\") +\n",
        "  geom_density(alpha = 0.2, fill = \"skyblue\") + # Añadir una curva de densidad para visualizar mejor la distribución\n",
        "  labs(title = \"Distribución de la Edad de los Billonarios\",\n",
        "       x = \"Valor Neto Final\",\n",
        "       y = \"Densidad\") +\n",
        "  theme_minimal()"
      ],
      "metadata": {
        "id": "D6oEBHY7u4WG"
      },
      "execution_count": null,
      "outputs": []
    },
    {
      "cell_type": "markdown",
      "source": [
        "## Estadísticos descriptivos de age y finalWorth por género"
      ],
      "metadata": {
        "id": "f9sqRF5N54q6"
      }
    },
    {
      "cell_type": "markdown",
      "source": [
        "La tabla de estadísticos descriptivos segmentada por género muestra que las mujeres billonarias tienen una edad promedio ligeramente menor y una distribución de edades más concentrada en comparación con sus contrapartes masculinas, reflejado en una desviación estándar menor y una curtosis y asimetría cercanas a cero, sugiriendo una distribución más simétrica y menos puntiaguda. En términos de valor neto, aunque las medias son similares entre géneros, la distribución del valor neto para las mujeres es menos variable pero también menos sesgada, como indica una menor desviación estándar y una asimetría más baja. Sin embargo, los hombres billonarios presentan una curtosis mucho mayor, lo que implica una mayor presencia de valores atípicos extremos en el valor neto final, siendo el valor máximo de los hombres considerablemente más alto que el de las mujeres. Esto sugiere que, mientras que el valor neto promedio entre hombres y mujeres billonarios puede ser similar, hay una mayor proporción de hombres con fortunas excepcionalmente grandes."
      ],
      "metadata": {
        "id": "4y6dQMcIy-JV"
      }
    },
    {
      "cell_type": "code",
      "source": [
        "# Estadísticos descriptivos de age y finalWorth por género\n",
        "df %>%\n",
        "  group_by(gender) %>%\n",
        "  summarise(\n",
        "    Age_Mean = mean(age, na.rm = TRUE),\n",
        "    Age_Median = median(age, na.rm = TRUE),\n",
        "    Age_SD = sd(age, na.rm = TRUE),\n",
        "    Age_Min = min(age, na.rm = TRUE),\n",
        "    Age_Max = max(age, na.rm = TRUE),\n",
        "    Age_Skewness = skewness(age, na.rm = TRUE),\n",
        "    Age_Kurtosis = kurtosis(age, na.rm = TRUE),\n",
        "    FinalWorth_Mean = mean(finalWorth, na.rm = TRUE),\n",
        "    FinalWorth_Median = median(finalWorth, na.rm = TRUE),\n",
        "    FinalWorth_SD = sd(finalWorth, na.rm = TRUE),\n",
        "    FinalWorth_Min = min(finalWorth, na.rm = TRUE),\n",
        "    FinalWorth_Max = max(finalWorth, na.rm = TRUE),\n",
        "    FinalWorth_Skewness = skewness(finalWorth, na.rm = TRUE),\n",
        "    FinalWorth_Kurtosis = kurtosis(finalWorth, na.rm = TRUE)\n",
        "  )\n"
      ],
      "metadata": {
        "id": "WaooJHQZqEDP"
      },
      "execution_count": null,
      "outputs": []
    },
    {
      "cell_type": "code",
      "source": [
        "# Crear el diagrama de caja para comparar el valor neto final entre géneros\n",
        "ggplot(df, aes(x = gender, y = finalWorth, fill = gender)) +\n",
        "  geom_boxplot() +\n",
        "  scale_y_log10() + # Usar escala logarítmica para manejar grandes variaciones en finalWorth\n",
        "  scale_fill_manual(values = c(\"F\" = \"skyblue\", \"M\" = \"green\")) +\n",
        "  labs(title = \"Comparación del Valor Neto Final entre Géneros\",\n",
        "       x = \"Género\",\n",
        "       y = \"Valor Neto Final (Escala Logarítmica)\",\n",
        "       fill = \"Género\") +\n",
        "  theme_minimal() +\n",
        "  theme(legend.position = \"none\") # Remover la leyenda si es necesario"
      ],
      "metadata": {
        "id": "kIUFZy5zzzSy"
      },
      "execution_count": null,
      "outputs": []
    },
    {
      "cell_type": "code",
      "source": [
        "# Crear el diagrama de caja para comparar la edad entre géneros\n",
        "ggplot(df, aes(x = gender, y = age, fill = gender)) +\n",
        "  geom_boxplot() +\n",
        "  scale_fill_manual(values = c(\"F\" = \"skyblue\", \"M\" = \"green\")) +\n",
        "  labs(title = \"Comparación de la Edad entre Géneros\",\n",
        "       x = \"Género\",\n",
        "       y = \"Edad\",\n",
        "       fill = \"Género\") +\n",
        "  theme_minimal() +\n",
        "  theme(legend.position = \"none\") # Remover la leyenda si es necesario"
      ],
      "metadata": {
        "id": "qgjmZYMRzy0U"
      },
      "execution_count": null,
      "outputs": []
    },
    {
      "cell_type": "markdown",
      "source": [
        "## Estadísticos descriptivos de age y finalWorth por Industria"
      ],
      "metadata": {
        "id": "WSipD-cY6GtM"
      }
    },
    {
      "cell_type": "code",
      "source": [
        "# Estadísticos descriptivos de age y finalWorth por Industria\n",
        "df %>%\n",
        "  group_by(industries) %>%\n",
        "  summarise(\n",
        "    Age_Mean = mean(age, na.rm = TRUE),\n",
        "    Age_Median = median(age, na.rm = TRUE),\n",
        "    Age_SD = sd(age, na.rm = TRUE),\n",
        "    Age_Min = min(age, na.rm = TRUE),\n",
        "    Age_Max = max(age, na.rm = TRUE),\n",
        "    Age_Skewness = skewness(age, na.rm = TRUE),\n",
        "    Age_Kurtosis = kurtosis(age, na.rm = TRUE),\n",
        "    FinalWorth_Mean = mean(finalWorth, na.rm = TRUE),\n",
        "    FinalWorth_Median = median(finalWorth, na.rm = TRUE),\n",
        "    FinalWorth_SD = sd(finalWorth, na.rm = TRUE),\n",
        "    FinalWorth_Min = min(finalWorth, na.rm = TRUE),\n",
        "    FinalWorth_Max = max(finalWorth, na.rm = TRUE),\n",
        "    FinalWorth_Skewness = skewness(finalWorth, na.rm = TRUE),\n",
        "    FinalWorth_Kurtosis = kurtosis(finalWorth, na.rm = TRUE)\n",
        "  )"
      ],
      "metadata": {
        "id": "7Fdg_qjmqOWw"
      },
      "execution_count": null,
      "outputs": []
    },
    {
      "cell_type": "code",
      "source": [
        "# Crear el diagrama de caja para ver la distribución de finalWorth por industria\n",
        "ggplot(df, aes(x = industries, y = finalWorth, fill = industries)) +\n",
        "  geom_boxplot() +\n",
        "  scale_y_log10() + # Usar escala logarítmica para manejar grandes variaciones en finalWorth\n",
        "  labs(title = \"Distribución del Valor Neto Final por Industria\",\n",
        "       x = \"Industria\",\n",
        "       y = \"Valor Neto Final (Escala Logarítmica)\") +\n",
        "  theme_minimal() +\n",
        "  theme(axis.text.x = element_text(angle = 45, hjust = 1), # Rotar etiquetas del eje x para mejor legibilidad\n",
        "        legend.position = \"none\") # Remover la leyenda si no es necesaria\n"
      ],
      "metadata": {
        "id": "LcJj7xO2jTiz"
      },
      "execution_count": null,
      "outputs": []
    },
    {
      "cell_type": "code",
      "source": [
        "# Crear el diagrama de caja para ver la distribución de finalWorth por industria\n",
        "ggplot(df, aes(x = industries, y = age, fill = industries)) +\n",
        "  geom_boxplot() +\n",
        "  labs(title = \"Distribución de la Edad por Industria\",\n",
        "       x = \"Industria\",\n",
        "       y = \"Edad\") +\n",
        "  theme_minimal() +\n",
        "  theme(axis.text.x = element_text(angle = 45, hjust = 1), # Rotar etiquetas del eje x para mejor legibilidad\n",
        "        legend.position = \"none\") # Remover la leyenda si no es necesaria"
      ],
      "metadata": {
        "id": "DaA3TJrCkBHZ"
      },
      "execution_count": null,
      "outputs": []
    },
    {
      "cell_type": "markdown",
      "source": [
        "## Estadísticos descriptivos de age y finalWorth por selfMade"
      ],
      "metadata": {
        "id": "CXtkSif38Xow"
      }
    },
    {
      "cell_type": "markdown",
      "source": [
        "La tabla muestra estadísticos descriptivos de la edad y el valor neto final, segmentados por si los billonarios son autodidactas o herederos. Los autodidactas tienen una edad promedio ligeramente menor (aproximadamente 65 años) y una menor mediana de edad que los herederos, lo que indica que alcanzan el estatus de billonarios un poco más temprano. Además, la distribución de la edad de los autodidactas es más simétrica y menos puntiaguda en comparación con los herederos, como se muestra en los valores de asimetría y curtosis cercanos a cero. En cuanto al valor neto final, los herederos tienen un valor medio y una mediana más altos, así como una mayor desviación estándar, lo que sugiere una variabilidad más amplia en sus fortunas. Además, ambos grupos muestran una fuerte asimetría positiva y altos valores de curtosis, aunque los herederos presentan valores ligeramente mayores, lo que implica una mayor concentración de valores netos extremadamente altos entre los herederos que entre los autodidactas."
      ],
      "metadata": {
        "id": "tXomgE3-8WEZ"
      }
    },
    {
      "cell_type": "code",
      "source": [
        "# Estadísticos descriptivos de age y finalWorth por selfMade\n",
        "df %>%\n",
        "  group_by(selfMade) %>%\n",
        "  summarise(\n",
        "    Age_Mean = mean(age, na.rm = TRUE),\n",
        "    Age_Median = median(age, na.rm = TRUE),\n",
        "    Age_SD = sd(age, na.rm = TRUE),\n",
        "    Age_Min = min(age, na.rm = TRUE),\n",
        "    Age_Max = max(age, na.rm = TRUE),\n",
        "    Age_Skewness = skewness(age, na.rm = TRUE),\n",
        "    Age_Kurtosis = kurtosis(age, na.rm = TRUE),\n",
        "    FinalWorth_Mean = mean(finalWorth, na.rm = TRUE),\n",
        "    FinalWorth_Median = median(finalWorth, na.rm = TRUE),\n",
        "    FinalWorth_SD = sd(finalWorth, na.rm = TRUE),\n",
        "    FinalWorth_Min = min(finalWorth, na.rm = TRUE),\n",
        "    FinalWorth_Max = max(finalWorth, na.rm = TRUE),\n",
        "    FinalWorth_Skewness = skewness(finalWorth, na.rm = TRUE),\n",
        "    FinalWorth_Kurtosis = kurtosis(finalWorth, na.rm = TRUE)\n",
        "  )\n"
      ],
      "metadata": {
        "id": "AOLtOmNb4sy5"
      },
      "execution_count": null,
      "outputs": []
    },
    {
      "cell_type": "code",
      "source": [
        "# Crear el diagrama de caja con ggplot aplicando escala logarítmica en el eje y\n",
        "ggplot(df, aes(x = selfMade, y = finalWorth)) +\n",
        "  geom_boxplot(aes(fill = selfMade)) +\n",
        "  scale_y_log10() + # Aplicar escala logarítmica para el eje y\n",
        "  scale_fill_manual(values = c(\"Autodidacta\" = \"skyblue\", \"Heredero\" = \"green\")) +\n",
        "  labs(title = \"Diferencia en Valor Neto entre Autodidactas y Herederos\",\n",
        "       x = \"Tipo de Riqueza\",\n",
        "       y = \"Valor Neto (Escala Logarítmica)\") + # Ajustar etiqueta del eje y para reflejar la escala logarítmica\n",
        "  theme_minimal() +\n",
        "  theme(legend.title = element_blank()) # Remover el título de la leyenda si es necesario\n"
      ],
      "metadata": {
        "id": "8GoCtyisUFsk"
      },
      "execution_count": null,
      "outputs": []
    },
    {
      "cell_type": "code",
      "source": [
        "# Crear el diagrama de caja con ggplot\n",
        "ggplot(df, aes(x = selfMade, y = age)) +\n",
        "  geom_boxplot(aes(fill = selfMade)) +\n",
        "  scale_fill_manual(values = c(\"Autodidacta\" = \"skyblue\", \"Heredero\" = \"green\")) +\n",
        "  labs(title = \"Diferencia en Edades entre Autodidactas y Herederos\",\n",
        "       x = \"Tipo de Riqueza\",\n",
        "       y = \"Edad\") + # Ajustar etiqueta del eje y\n",
        "  theme_minimal() +\n",
        "  theme(legend.title = element_blank()) # Remover el título de la leyenda si es necesario"
      ],
      "metadata": {
        "id": "TpYx3Uca8gN8"
      },
      "execution_count": null,
      "outputs": []
    },
    {
      "cell_type": "markdown",
      "source": [
        "## Estadística Inferencial: Contraste de Hipótesis\n",
        "\n",
        "Los contrastes de hipótesis, según Mood (1974), también conocidos como pruebas de hipótesis, son un método estadístico clave en la estadística inferencial, diseñado para evaluar afirmaciones sobre las características poblacionales utilizando datos muestrales. Este proceso implica comparar la hipótesis nula $H_0$ con la hipótesis alternativa $H_1$.\n",
        "\n",
        "### Propósito de los Contrastes de Hipótesis\n",
        "\n",
        "El objetivo principal de los contrastes de hipótesis, segun Walpole (1999), es determinar si la evidencia muestral es suficientemente fuerte como para rechazar $H_0$ en favor de $H_1$, dentro de un nivel de significancia $\\alpha$ preestablecido.\n",
        "\n",
        "### Ejemplo de Parámetros en los Contrastes de Hipótesis\n",
        "\n",
        "Según Montgomery (1996), los siguientes parámetros son aquellos usados con más frecuencia:\n",
        "\n",
        "- **Media $\\mu$**\n",
        "  - **Una población:** Se utiliza el test t de Student o el test z para analizar la media poblacional.\n",
        "  - **Dos poblaciones:** Se emplea el test t de Student para muestras independientes o emparejadas para comparar las medias.\n",
        "\n",
        "- **Proporción $\\pi$**\n",
        "  - **Una población:** El test z para proporciones evalúa la proporción poblacional.\n",
        "  - **Dos poblaciones:** El test z para dos proporciones compara las proporciones entre dos grupos.\n",
        "\n",
        "- **Varianza $\\sigma^2$**\n",
        "  - **Una población:** El test $\\chi^2$ para varianza examina la varianza poblacional.\n",
        "  - **Dos poblaciones:** El test F de Fisher contrasta las varianzas de dos poblaciones.\n"
      ],
      "metadata": {
        "id": "nJTXG7Rsy8Od"
      }
    },
    {
      "cell_type": "markdown",
      "source": [
        "## Pasos para Realizar un Contraste de Hipótesis\n",
        "\n",
        "1. **Formulación de Hipótesis:** Definir $H_0$ y $H_1$ basándose en la investigación o pregunta de interés.\n",
        "2. **Establecimiento del Nivel de Significancia $\\alpha$:** Seleccionar el nivel de significancia que determinará el umbral para rechazar $H_0$.\n",
        "3. **Selección de la Prueba Estadística:** Escoger la prueba adecuada según el tipo de datos y las hipótesis formuladas.\n",
        "4. **Cálculo del Valor P o del Estadístico de Prueba:** Determinar el valor P asociado al resultado de la prueba o calcular el estadístico de prueba según corresponda.\n",
        "5. **Decisión:** Tomar una decisión sobre $H_0$ basándose en el valor P o el estadístico de prueba. Se rechaza $H_0$ si el valor P es menor que $\\alpha$, o si el estadístico de prueba cae dentro de la región crítica."
      ],
      "metadata": {
        "id": "MqTrqmaxsVrq"
      }
    },
    {
      "cell_type": "markdown",
      "source": [
        "\n",
        "## Pruebas de Hipótesis Propuestas\n",
        "\n",
        "A continuación, se describen tres pruebas de hipótesis que podríamos realizar con esta base de datos:\n",
        "\n",
        "## Propuesta 1: Diferencia en el Valor Neto entre Autodidactas y Herederos\n",
        "\n",
        "En esta propuesta, nos enfocamos en analizar las diferencias en el valor neto entre los billonarios que han generado su riqueza por sí mismos (autodidactas) y aquellos que han heredado su fortuna. Este análisis busca entender cómo la forma de adquirir la riqueza puede influir en el monto total de la misma.\n",
        "\n",
        "**Parámetro de Interés:** Valor promedio ($\\mu$) neto final (`finalWorth`) de los billonarios.\n",
        "\n",
        "**Sistema de Hipótesis:**\n",
        "- $H_0$: No hay diferencia en el valor neto medio entre billonarios autodidactas y herederos.\n",
        "- $H_1$: Existe una diferencia en el valor neto medio entre billonarios autodidactas y herederos.\n",
        "\n",
        "Este análisis nos permitirá discernir si la autogeneración de riqueza tiene un impacto significativo en el valor neto de un billonario comparado con aquellos que han heredado su fortuna.\n",
        "\n",
        "\n"
      ],
      "metadata": {
        "id": "7j1TFdz78Um9"
      }
    },
    {
      "cell_type": "code",
      "source": [
        "autodidactas <- df %>% filter(selfMade == \"Autodidacta\")\n",
        "herederos <- df %>% filter(selfMade == \"Heredero\")\n",
        "t.test(autodidactas$finalWorth, herederos$finalWorth)"
      ],
      "metadata": {
        "id": "NV7P16vt8kmE"
      },
      "execution_count": null,
      "outputs": []
    },
    {
      "cell_type": "markdown",
      "source": [
        "El test t de Welch realizado para comparar el valor neto medio entre billonarios autodidactas y herederos arrojó un estadístico t de -1.1729 con 1448.5 grados de libertad y un valor p de 0.241, lo que indica que no existe una diferencia estadísticamente significativa en el valor neto medio entre ambos grupos. El intervalo de confianza del 95% (-1349.6493 a 339.6228) incluye el cero, reforzando la conclusión de que no hay evidencia suficiente para afirmar que la manera de adquirir la riqueza (autogenerada vs. heredada) afecta significativamente el monto del valor neto de los billonarios en esta muestra. Aunque las medias de valor neto para autodidactas (4465.397 millones de dólares) y herederos (4970.411 millones de dólares) difieren numéricamente, esta diferencia no es estadísticamente significativa."
      ],
      "metadata": {
        "id": "R69nlc8t-cFs"
      }
    },
    {
      "cell_type": "markdown",
      "source": [
        "## Propuesta 2: Comparación de Género en la Industria Tecnológica\n",
        "\n",
        "La segunda propuesta tiene como objetivo investigar la representación de género en la industria tecnológica en comparación con otras industrias. Este análisis es crucial para entender las dinámicas de género dentro de sectores altamente influyentes y potencialmente identificar áreas de mejora en cuanto a inclusión y diversidad.\n",
        "\n",
        "**Parámetro de Interés:** Proporción ($\\pi$) de mujeres en la industria tecnológica versus otras industrias.\n",
        "\n",
        "**Sistema de Hipótesis:**\n",
        "- $H_0$: La proporción de mujeres en la industria tecnológica es igual a la proporción de mujeres en otras industrias.\n",
        "- $H_1$: La proporción de mujeres en la industria tecnológica no es igual a la proporción de mujeres en otras industrias.\n",
        "\n",
        "Con esta propuesta, buscamos evidencia estadística que nos permita comprender si la industria tecnológica se distingue de otras en términos de diversidad de género, proporcionando así insights valiosos sobre la equidad de género en el ámbito laboral.\n",
        "\n"
      ],
      "metadata": {
        "id": "7ChJnhrW86rK"
      }
    },
    {
      "cell_type": "code",
      "source": [
        "tecnologia_mujeres <- df %>% filter(industries == \"Technology\" & gender == \"F\")\n",
        "otras_industrias_mujeres <- df %>% filter(industries != \"Technology\" & gender == \"F\")\n",
        "prop.test(c(nrow(tecnologia_mujeres), nrow(otras_industrias_mujeres)), c(nrow(df %>% filter(industries == \"Technology\")), nrow(df %>% filter(industries != \"Technology\"))))\n"
      ],
      "metadata": {
        "id": "IWrURHZM8_cU"
      },
      "execution_count": null,
      "outputs": []
    },
    {
      "cell_type": "markdown",
      "source": [
        "El test de 2 muestras para la igualdad de proporciones con corrección de continuidad se utilizó para comparar la proporción de mujeres en la industria tecnológica frente a otras industrias. El resultado del test muestra un valor de $\\chi^2$ de 2.9807 con 1 grado de libertad y un valor p de 0.08426. Esto indica que, aunque hay una diferencia en las proporciones de mujeres entre la industria tecnológica (prop 1 = 0.0955414) y otras industrias (prop 2 = 0.1319862), esta diferencia no es estadísticamente significativa al nivel común de $\\alpha$=0.05. El intervalo de confianza del 95% para la diferencia de proporciones va de -0.0735563212 a 0.0006666388, incluyendo el cero, lo que respalda la conclusión de que no hay evidencia suficiente para rechazar la hipótesis nula de igualdad de proporciones. En resumen, los resultados sugieren que no hay una diferencia significativa en la representación de género entre la industria tecnológica y otras industrias basándonos en los datos analizados."
      ],
      "metadata": {
        "id": "XYS1cwfqAHQr"
      }
    },
    {
      "cell_type": "markdown",
      "source": [
        "## Propuesta 3: Comparación de la Edad Promedio de los Billonarios con una Edad Hipotética\n",
        "\n",
        "En esta revisada propuesta, analizaremos la edad promedio de los billonarios para determinar si difiere de una edad promedio hipotética de 45 años. Este análisis nos permitirá entender si los billonarios tienden a alcanzar su riqueza antes o después de este punto de referencia etario.\n",
        "\n",
        "**Parámetro de Interés:** Edad promedio de los billonarios (`age`).\n",
        "\n",
        "**Sistema de Hipótesis:**\n",
        "- $H_0$: La edad promedio de los billonarios es igual a 45 años.\n",
        "- $H_1$: La edad promedio de los billonarios no es igual a 45 años.\n",
        "\n",
        "Este enfoque nos brinda la oportunidad de evaluar si la acumulación de riqueza significativa está asociada con una etapa particular de la vida, proporcionando así insights sobre el tiempo que generalmente toma alcanzar este nivel de éxito financiero.\n",
        "\n"
      ],
      "metadata": {
        "id": "lROLpiT39H84"
      }
    },
    {
      "cell_type": "code",
      "source": [
        "# Asegurándonos de que 'age' es numérica\n",
        "df$age <- as.numeric(df$age)\n",
        "\n",
        "# Realizando el test t de una muestra\n",
        "t_test_result <- t.test(df$age, mu = 45)\n",
        "\n",
        "# Imprimiendo los resultados\n",
        "print(t_test_result)\n"
      ],
      "metadata": {
        "id": "Si_FR5XsGWAK"
      },
      "execution_count": null,
      "outputs": []
    },
    {
      "cell_type": "markdown",
      "source": [
        "El test t de una muestra aplicado a la edad de los billonarios arrojó un estadístico t de 77.085 con 2574 grados de libertad y un valor p significativamente menor que 0.05, lo que indica una fuerte evidencia estadística para rechazar la hipótesis nula de que la edad promedio de los billonarios es de 45 años. Con un intervalo de confianza del 95% que va de aproximadamente 64.63 a 65.65 años, y una media muestral de 65.14 años, los resultados sugieren que, en promedio, los billonarios alcanzan su riqueza a una edad significativamente mayor que la hipotética de 45 años, lo que podría implicar que la acumulación de riqueza significativa está más comúnmente asociada con etapas más avanzadas de la vida, destacando la importancia de la experiencia y la madurez en el éxito financiero."
      ],
      "metadata": {
        "id": "cBFza0ZBG6kf"
      }
    },
    {
      "cell_type": "markdown",
      "source": [
        "## Conclusiones\n",
        "\n",
        "Basándonos en los resultados obtenidos:\n",
        "\n",
        "- **Valor Neto:** No se encontró una diferencia estadísticamente significativa en el valor neto entre billonarios autodidactas y herederos, sugiriendo que la manera en que se adquiere la riqueza no afecta significativamente su magnitud.\n",
        "- **Género en la Tecnología:** Aunque se observó una tendencia hacia una menor representación de mujeres en la industria tecnológica comparada con otras industrias, esta diferencia no fue estadísticamente significativa.\n",
        "- **Edad de Billonarios:** La edad promedio de los billonarios fue significativamente mayor que la hipótesis de 45 años, con una media de aproximadamente 65 años, indicando que la mayoría de los billonarios alcanzan su riqueza en etapas más avanzadas de la vida.\n",
        "\n",
        "Estos hallazgos ofrecen una visión valiosa sobre las características y dinámicas de los billonarios a nivel mundial, destacando la complejidad de los factores que contribuyen al éxito financiero extremo."
      ],
      "metadata": {
        "id": "y-futioXJTMP"
      }
    },
    {
      "cell_type": "markdown",
      "source": [
        "## Referencias\n",
        "\n",
        "- Montgomery, D. C., Runger, G. C. y Medal, E. G. U. (1996). Probabilidad y estadística aplicadas a la ingeniería. EUA, McGraw Hil.\n",
        "\n",
        "- Mood, A. M., Graybill, F. A. y Boes, D. C. (1974). Introduction to the theory of  statistics. Sigapore: McGraw-Hill\n",
        "\n",
        "- Walpole, R. E., Myers, R. H. y Myers, S. L. (1999). Probabilidad y estadística para ingenieros. EUA, Pearson Educación.\n"
      ],
      "metadata": {
        "id": "iS8cnq00Z9cq"
      }
    }
  ]
}