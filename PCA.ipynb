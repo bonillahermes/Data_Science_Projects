{
  "cells": [
    {
      "cell_type": "markdown",
      "metadata": {
        "id": "view-in-github",
        "colab_type": "text"
      },
      "source": [
        "<a href=\"https://colab.research.google.com/github/bonillahermes/Data_Science_Projects/blob/main/PCA.ipynb\" target=\"_parent\"><img src=\"https://colab.research.google.com/assets/colab-badge.svg\" alt=\"Open In Colab\"/></a>"
      ]
    },
    {
      "cell_type": "markdown",
      "source": [
        "# Hermes Yate Bonilla\n",
        "**Data Scientist**\n",
        "---\n",
        "\n",
        "**Contact:**\n",
        "- **Email:** [bonillahermes@gmail.com](mailto:bonillahermes@gmail.com)\n",
        "- **LinkedIn:** [linkedin.com/in/bonillahermes](https://www.linkedin.com/in/bonillahermes/)\n",
        "- **GitHub:** [github.com/bonillahermes](https://github.com/bonillahermes)\n",
        "- **Webpage:** [bonillahermes.com](https://bonillahermes.com/)\n",
        "---\n"
      ],
      "metadata": {
        "id": "5eUUJZJaKE9K"
      }
    },
    {
      "cell_type": "markdown",
      "metadata": {
        "id": "VjGQxzz_d9Io"
      },
      "source": [
        "# Análisis del Consumo del Servicio Público de Acueducto"
      ]
    },
    {
      "cell_type": "markdown",
      "metadata": {
        "id": "rm-Tpzdv-3cp"
      },
      "source": [
        "## Librerías"
      ]
    },
    {
      "cell_type": "code",
      "execution_count": null,
      "metadata": {
        "colab": {
          "base_uri": "https://localhost:8080/"
        },
        "id": "QCxOjf5qqR2K",
        "outputId": "4baaac08-d8c2-4c54-b634-e84c88fea137"
      },
      "outputs": [
        {
          "output_type": "stream",
          "name": "stdout",
          "text": [
            "Collecting keras_tuner\n",
            "  Downloading keras_tuner-1.4.7-py3-none-any.whl (129 kB)\n",
            "\u001b[2K     \u001b[90m━━━━━━━━━━━━━━━━━━━━━━━━━━━━━━━━━━━━━━━━\u001b[0m \u001b[32m129.1/129.1 kB\u001b[0m \u001b[31m1.7 MB/s\u001b[0m eta \u001b[36m0:00:00\u001b[0m\n",
            "\u001b[?25hRequirement already satisfied: keras in /usr/local/lib/python3.10/dist-packages (from keras_tuner) (2.15.0)\n",
            "Requirement already satisfied: packaging in /usr/local/lib/python3.10/dist-packages (from keras_tuner) (24.1)\n",
            "Requirement already satisfied: requests in /usr/local/lib/python3.10/dist-packages (from keras_tuner) (2.31.0)\n",
            "Collecting kt-legacy (from keras_tuner)\n",
            "  Downloading kt_legacy-1.0.5-py3-none-any.whl (9.6 kB)\n",
            "Requirement already satisfied: charset-normalizer<4,>=2 in /usr/local/lib/python3.10/dist-packages (from requests->keras_tuner) (3.3.2)\n",
            "Requirement already satisfied: idna<4,>=2.5 in /usr/local/lib/python3.10/dist-packages (from requests->keras_tuner) (3.7)\n",
            "Requirement already satisfied: urllib3<3,>=1.21.1 in /usr/local/lib/python3.10/dist-packages (from requests->keras_tuner) (2.0.7)\n",
            "Requirement already satisfied: certifi>=2017.4.17 in /usr/local/lib/python3.10/dist-packages (from requests->keras_tuner) (2024.6.2)\n",
            "Installing collected packages: kt-legacy, keras_tuner\n",
            "Successfully installed keras_tuner-1.4.7 kt-legacy-1.0.5\n"
          ]
        }
      ],
      "source": [
        "# Instalación de librerías\n",
        "!pip install keras_tuner"
      ]
    },
    {
      "cell_type": "code",
      "execution_count": null,
      "metadata": {
        "id": "rNFXd9dgtpUw"
      },
      "outputs": [],
      "source": [
        "# Importación de librerías generales\n",
        "import numpy as np\n",
        "import pandas as pd\n",
        "import matplotlib.pyplot as plt\n",
        "import seaborn as sns\n",
        "from mpl_toolkits.mplot3d import Axes3D\n",
        "from scipy import stats\n",
        "from scipy.cluster.hierarchy import dendrogram, linkage, fcluster\n",
        "from scipy.stats import f_oneway\n",
        "from scipy.spatial.distance import mahalanobis\n",
        "\n",
        "# Importación de bibliotecas de machine learning de scikit-learn\n",
        "from sklearn.preprocessing import StandardScaler, MinMaxScaler\n",
        "from sklearn.model_selection import train_test_split, GridSearchCV, validation_curve, cross_val_score\n",
        "from sklearn.metrics import (\n",
        "    accuracy_score, confusion_matrix, precision_score, recall_score,\n",
        "    roc_curve, roc_auc_score, classification_report, precision_recall_curve, average_precision_score,\n",
        "    mean_squared_error, r2_score, silhouette_score\n",
        ")\n",
        "from sklearn.linear_model import LogisticRegression, LinearRegression, Ridge\n",
        "from sklearn.ensemble import RandomForestClassifier, RandomForestRegressor\n",
        "from sklearn.svm import SVC\n",
        "from sklearn.neighbors import KNeighborsClassifier\n",
        "from sklearn.cluster import KMeans, DBSCAN, SpectralClustering\n",
        "from sklearn.decomposition import PCA\n",
        "from sklearn.manifold import TSNE\n",
        "from sklearn.mixture import GaussianMixture\n",
        "from sklearn.experimental import enable_iterative_imputer\n",
        "from sklearn.impute import IterativeImputer, KNNImputer\n",
        "\n",
        "# Importación de XGBoost\n",
        "import xgboost as xgb\n",
        "\n",
        "# Importación de bibliotecas para modelos y redes neuronales\n",
        "import tensorflow as tf\n",
        "from tensorflow import keras\n",
        "from tensorflow.keras import layers\n",
        "from tensorflow.keras.models import Sequential\n",
        "from tensorflow.keras.layers import LSTM, Dense, Dropout\n",
        "from tensorflow.keras.preprocessing.sequence import TimeseriesGenerator\n",
        "from tensorflow.keras.callbacks import EarlyStopping\n",
        "\n",
        "# Importación de Keras Tuner\n",
        "import keras_tuner as kt\n",
        "\n",
        "# Importación de bibliotecas para visualización interactiva\n",
        "import plotly.graph_objs as go\n",
        "import plotly.express as px\n"
      ]
    },
    {
      "cell_type": "markdown",
      "metadata": {
        "id": "gk1kFbat-6ny"
      },
      "source": [
        "### Carga de Base"
      ]
    },
    {
      "cell_type": "code",
      "execution_count": null,
      "metadata": {
        "colab": {
          "base_uri": "https://localhost:8080/"
        },
        "id": "oCEr_y5FvMp2",
        "outputId": "d1878a07-64c0-4d43-a522-351910adcb15"
      },
      "outputs": [
        {
          "output_type": "stream",
          "name": "stdout",
          "text": [
            "Mounted at /content/drive\n"
          ]
        }
      ],
      "source": [
        "from google.colab import drive\n",
        "drive.mount('/content/drive')"
      ]
    },
    {
      "cell_type": "code",
      "execution_count": null,
      "metadata": {
        "id": "r5S6E7WlvaHI"
      },
      "outputs": [],
      "source": [
        "file_path = \"/content/drive/My Drive/Acueducto/Acueducto.xlsx\"\n",
        "df = pd.read_excel(file_path)"
      ]
    },
    {
      "cell_type": "code",
      "execution_count": null,
      "metadata": {
        "colab": {
          "base_uri": "https://localhost:8080/",
          "height": 256
        },
        "id": "5FfRk3aX0Lwl",
        "outputId": "dfb9675b-1e08-4c2e-a190-bc34fde43f48"
      },
      "outputs": [
        {
          "output_type": "execute_result",
          "data": {
            "text/plain": [
              "    nuid  inf_pred_utilizada ruta_de_lectura  numero fch_exp_fact  \\\n",
              "0  10010                   2               1    6719   2018-02-28   \n",
              "1  10020                   2               1    6720   2018-02-28   \n",
              "2  10030                   2               1    6721   2018-02-28   \n",
              "3  10040                   2               1    6722   2018-02-28   \n",
              "4  10060                   2               1    6723   2018-02-28   \n",
              "\n",
              "  fch_ini_periodo_fact  cod_clase_uso  hogar_comunitario  condicion_especial  \\\n",
              "0           2018-02-01              2                  0                   0   \n",
              "1           2018-02-01              2                  0                   0   \n",
              "2           2018-02-01              2                  0                   0   \n",
              "3           2018-02-01              2                  0                   0   \n",
              "4           2018-02-01              2                  0                   0   \n",
              "\n",
              "   estado_medidor  ...  vlr_reconexion  vlr_reinstalacion  vlr_suspension  \\\n",
              "0               1  ...               0                  0               0   \n",
              "1               1  ...               0                  0               0   \n",
              "2               1  ...               0                  0               0   \n",
              "3               1  ...               0                  0               0   \n",
              "4               1  ...               0                  0               0   \n",
              "\n",
              "   dias_mora  vlr_en_mora  vlr_interes_mora  vlr_otros_cobros  \\\n",
              "0          0          0.0                 0                 0   \n",
              "1          0          0.0                 0                 0   \n",
              "2          0          0.0                 0                 0   \n",
              "3          0          0.0                 0                 0   \n",
              "4          0          0.0                 0                 0   \n",
              "\n",
              "   vlr_tot_facturado  Mes   Año  \n",
              "0            11106.0    2  2018  \n",
              "1            30162.0    2  2018  \n",
              "2             2671.0    2  2018  \n",
              "3             7357.0    2  2018  \n",
              "4            23914.0    2  2018  \n",
              "\n",
              "[5 rows x 30 columns]"
            ],
            "text/html": [
              "\n",
              "  <div id=\"df-d8271ded-07b6-449f-ae8c-e12cede9fa73\" class=\"colab-df-container\">\n",
              "    <div>\n",
              "<style scoped>\n",
              "    .dataframe tbody tr th:only-of-type {\n",
              "        vertical-align: middle;\n",
              "    }\n",
              "\n",
              "    .dataframe tbody tr th {\n",
              "        vertical-align: top;\n",
              "    }\n",
              "\n",
              "    .dataframe thead th {\n",
              "        text-align: right;\n",
              "    }\n",
              "</style>\n",
              "<table border=\"1\" class=\"dataframe\">\n",
              "  <thead>\n",
              "    <tr style=\"text-align: right;\">\n",
              "      <th></th>\n",
              "      <th>nuid</th>\n",
              "      <th>inf_pred_utilizada</th>\n",
              "      <th>ruta_de_lectura</th>\n",
              "      <th>numero</th>\n",
              "      <th>fch_exp_fact</th>\n",
              "      <th>fch_ini_periodo_fact</th>\n",
              "      <th>cod_clase_uso</th>\n",
              "      <th>hogar_comunitario</th>\n",
              "      <th>condicion_especial</th>\n",
              "      <th>estado_medidor</th>\n",
              "      <th>...</th>\n",
              "      <th>vlr_reconexion</th>\n",
              "      <th>vlr_reinstalacion</th>\n",
              "      <th>vlr_suspension</th>\n",
              "      <th>dias_mora</th>\n",
              "      <th>vlr_en_mora</th>\n",
              "      <th>vlr_interes_mora</th>\n",
              "      <th>vlr_otros_cobros</th>\n",
              "      <th>vlr_tot_facturado</th>\n",
              "      <th>Mes</th>\n",
              "      <th>Año</th>\n",
              "    </tr>\n",
              "  </thead>\n",
              "  <tbody>\n",
              "    <tr>\n",
              "      <th>0</th>\n",
              "      <td>10010</td>\n",
              "      <td>2</td>\n",
              "      <td>1</td>\n",
              "      <td>6719</td>\n",
              "      <td>2018-02-28</td>\n",
              "      <td>2018-02-01</td>\n",
              "      <td>2</td>\n",
              "      <td>0</td>\n",
              "      <td>0</td>\n",
              "      <td>1</td>\n",
              "      <td>...</td>\n",
              "      <td>0</td>\n",
              "      <td>0</td>\n",
              "      <td>0</td>\n",
              "      <td>0</td>\n",
              "      <td>0.0</td>\n",
              "      <td>0</td>\n",
              "      <td>0</td>\n",
              "      <td>11106.0</td>\n",
              "      <td>2</td>\n",
              "      <td>2018</td>\n",
              "    </tr>\n",
              "    <tr>\n",
              "      <th>1</th>\n",
              "      <td>10020</td>\n",
              "      <td>2</td>\n",
              "      <td>1</td>\n",
              "      <td>6720</td>\n",
              "      <td>2018-02-28</td>\n",
              "      <td>2018-02-01</td>\n",
              "      <td>2</td>\n",
              "      <td>0</td>\n",
              "      <td>0</td>\n",
              "      <td>1</td>\n",
              "      <td>...</td>\n",
              "      <td>0</td>\n",
              "      <td>0</td>\n",
              "      <td>0</td>\n",
              "      <td>0</td>\n",
              "      <td>0.0</td>\n",
              "      <td>0</td>\n",
              "      <td>0</td>\n",
              "      <td>30162.0</td>\n",
              "      <td>2</td>\n",
              "      <td>2018</td>\n",
              "    </tr>\n",
              "    <tr>\n",
              "      <th>2</th>\n",
              "      <td>10030</td>\n",
              "      <td>2</td>\n",
              "      <td>1</td>\n",
              "      <td>6721</td>\n",
              "      <td>2018-02-28</td>\n",
              "      <td>2018-02-01</td>\n",
              "      <td>2</td>\n",
              "      <td>0</td>\n",
              "      <td>0</td>\n",
              "      <td>1</td>\n",
              "      <td>...</td>\n",
              "      <td>0</td>\n",
              "      <td>0</td>\n",
              "      <td>0</td>\n",
              "      <td>0</td>\n",
              "      <td>0.0</td>\n",
              "      <td>0</td>\n",
              "      <td>0</td>\n",
              "      <td>2671.0</td>\n",
              "      <td>2</td>\n",
              "      <td>2018</td>\n",
              "    </tr>\n",
              "    <tr>\n",
              "      <th>3</th>\n",
              "      <td>10040</td>\n",
              "      <td>2</td>\n",
              "      <td>1</td>\n",
              "      <td>6722</td>\n",
              "      <td>2018-02-28</td>\n",
              "      <td>2018-02-01</td>\n",
              "      <td>2</td>\n",
              "      <td>0</td>\n",
              "      <td>0</td>\n",
              "      <td>1</td>\n",
              "      <td>...</td>\n",
              "      <td>0</td>\n",
              "      <td>0</td>\n",
              "      <td>0</td>\n",
              "      <td>0</td>\n",
              "      <td>0.0</td>\n",
              "      <td>0</td>\n",
              "      <td>0</td>\n",
              "      <td>7357.0</td>\n",
              "      <td>2</td>\n",
              "      <td>2018</td>\n",
              "    </tr>\n",
              "    <tr>\n",
              "      <th>4</th>\n",
              "      <td>10060</td>\n",
              "      <td>2</td>\n",
              "      <td>1</td>\n",
              "      <td>6723</td>\n",
              "      <td>2018-02-28</td>\n",
              "      <td>2018-02-01</td>\n",
              "      <td>2</td>\n",
              "      <td>0</td>\n",
              "      <td>0</td>\n",
              "      <td>1</td>\n",
              "      <td>...</td>\n",
              "      <td>0</td>\n",
              "      <td>0</td>\n",
              "      <td>0</td>\n",
              "      <td>0</td>\n",
              "      <td>0.0</td>\n",
              "      <td>0</td>\n",
              "      <td>0</td>\n",
              "      <td>23914.0</td>\n",
              "      <td>2</td>\n",
              "      <td>2018</td>\n",
              "    </tr>\n",
              "  </tbody>\n",
              "</table>\n",
              "<p>5 rows × 30 columns</p>\n",
              "</div>\n",
              "    <div class=\"colab-df-buttons\">\n",
              "\n",
              "  <div class=\"colab-df-container\">\n",
              "    <button class=\"colab-df-convert\" onclick=\"convertToInteractive('df-d8271ded-07b6-449f-ae8c-e12cede9fa73')\"\n",
              "            title=\"Convert this dataframe to an interactive table.\"\n",
              "            style=\"display:none;\">\n",
              "\n",
              "  <svg xmlns=\"http://www.w3.org/2000/svg\" height=\"24px\" viewBox=\"0 -960 960 960\">\n",
              "    <path d=\"M120-120v-720h720v720H120Zm60-500h600v-160H180v160Zm220 220h160v-160H400v160Zm0 220h160v-160H400v160ZM180-400h160v-160H180v160Zm440 0h160v-160H620v160ZM180-180h160v-160H180v160Zm440 0h160v-160H620v160Z\"/>\n",
              "  </svg>\n",
              "    </button>\n",
              "\n",
              "  <style>\n",
              "    .colab-df-container {\n",
              "      display:flex;\n",
              "      gap: 12px;\n",
              "    }\n",
              "\n",
              "    .colab-df-convert {\n",
              "      background-color: #E8F0FE;\n",
              "      border: none;\n",
              "      border-radius: 50%;\n",
              "      cursor: pointer;\n",
              "      display: none;\n",
              "      fill: #1967D2;\n",
              "      height: 32px;\n",
              "      padding: 0 0 0 0;\n",
              "      width: 32px;\n",
              "    }\n",
              "\n",
              "    .colab-df-convert:hover {\n",
              "      background-color: #E2EBFA;\n",
              "      box-shadow: 0px 1px 2px rgba(60, 64, 67, 0.3), 0px 1px 3px 1px rgba(60, 64, 67, 0.15);\n",
              "      fill: #174EA6;\n",
              "    }\n",
              "\n",
              "    .colab-df-buttons div {\n",
              "      margin-bottom: 4px;\n",
              "    }\n",
              "\n",
              "    [theme=dark] .colab-df-convert {\n",
              "      background-color: #3B4455;\n",
              "      fill: #D2E3FC;\n",
              "    }\n",
              "\n",
              "    [theme=dark] .colab-df-convert:hover {\n",
              "      background-color: #434B5C;\n",
              "      box-shadow: 0px 1px 3px 1px rgba(0, 0, 0, 0.15);\n",
              "      filter: drop-shadow(0px 1px 2px rgba(0, 0, 0, 0.3));\n",
              "      fill: #FFFFFF;\n",
              "    }\n",
              "  </style>\n",
              "\n",
              "    <script>\n",
              "      const buttonEl =\n",
              "        document.querySelector('#df-d8271ded-07b6-449f-ae8c-e12cede9fa73 button.colab-df-convert');\n",
              "      buttonEl.style.display =\n",
              "        google.colab.kernel.accessAllowed ? 'block' : 'none';\n",
              "\n",
              "      async function convertToInteractive(key) {\n",
              "        const element = document.querySelector('#df-d8271ded-07b6-449f-ae8c-e12cede9fa73');\n",
              "        const dataTable =\n",
              "          await google.colab.kernel.invokeFunction('convertToInteractive',\n",
              "                                                    [key], {});\n",
              "        if (!dataTable) return;\n",
              "\n",
              "        const docLinkHtml = 'Like what you see? Visit the ' +\n",
              "          '<a target=\"_blank\" href=https://colab.research.google.com/notebooks/data_table.ipynb>data table notebook</a>'\n",
              "          + ' to learn more about interactive tables.';\n",
              "        element.innerHTML = '';\n",
              "        dataTable['output_type'] = 'display_data';\n",
              "        await google.colab.output.renderOutput(dataTable, element);\n",
              "        const docLink = document.createElement('div');\n",
              "        docLink.innerHTML = docLinkHtml;\n",
              "        element.appendChild(docLink);\n",
              "      }\n",
              "    </script>\n",
              "  </div>\n",
              "\n",
              "\n",
              "<div id=\"df-0a779caf-151b-4104-bc84-c131c3ae5b57\">\n",
              "  <button class=\"colab-df-quickchart\" onclick=\"quickchart('df-0a779caf-151b-4104-bc84-c131c3ae5b57')\"\n",
              "            title=\"Suggest charts\"\n",
              "            style=\"display:none;\">\n",
              "\n",
              "<svg xmlns=\"http://www.w3.org/2000/svg\" height=\"24px\"viewBox=\"0 0 24 24\"\n",
              "     width=\"24px\">\n",
              "    <g>\n",
              "        <path d=\"M19 3H5c-1.1 0-2 .9-2 2v14c0 1.1.9 2 2 2h14c1.1 0 2-.9 2-2V5c0-1.1-.9-2-2-2zM9 17H7v-7h2v7zm4 0h-2V7h2v10zm4 0h-2v-4h2v4z\"/>\n",
              "    </g>\n",
              "</svg>\n",
              "  </button>\n",
              "\n",
              "<style>\n",
              "  .colab-df-quickchart {\n",
              "      --bg-color: #E8F0FE;\n",
              "      --fill-color: #1967D2;\n",
              "      --hover-bg-color: #E2EBFA;\n",
              "      --hover-fill-color: #174EA6;\n",
              "      --disabled-fill-color: #AAA;\n",
              "      --disabled-bg-color: #DDD;\n",
              "  }\n",
              "\n",
              "  [theme=dark] .colab-df-quickchart {\n",
              "      --bg-color: #3B4455;\n",
              "      --fill-color: #D2E3FC;\n",
              "      --hover-bg-color: #434B5C;\n",
              "      --hover-fill-color: #FFFFFF;\n",
              "      --disabled-bg-color: #3B4455;\n",
              "      --disabled-fill-color: #666;\n",
              "  }\n",
              "\n",
              "  .colab-df-quickchart {\n",
              "    background-color: var(--bg-color);\n",
              "    border: none;\n",
              "    border-radius: 50%;\n",
              "    cursor: pointer;\n",
              "    display: none;\n",
              "    fill: var(--fill-color);\n",
              "    height: 32px;\n",
              "    padding: 0;\n",
              "    width: 32px;\n",
              "  }\n",
              "\n",
              "  .colab-df-quickchart:hover {\n",
              "    background-color: var(--hover-bg-color);\n",
              "    box-shadow: 0 1px 2px rgba(60, 64, 67, 0.3), 0 1px 3px 1px rgba(60, 64, 67, 0.15);\n",
              "    fill: var(--button-hover-fill-color);\n",
              "  }\n",
              "\n",
              "  .colab-df-quickchart-complete:disabled,\n",
              "  .colab-df-quickchart-complete:disabled:hover {\n",
              "    background-color: var(--disabled-bg-color);\n",
              "    fill: var(--disabled-fill-color);\n",
              "    box-shadow: none;\n",
              "  }\n",
              "\n",
              "  .colab-df-spinner {\n",
              "    border: 2px solid var(--fill-color);\n",
              "    border-color: transparent;\n",
              "    border-bottom-color: var(--fill-color);\n",
              "    animation:\n",
              "      spin 1s steps(1) infinite;\n",
              "  }\n",
              "\n",
              "  @keyframes spin {\n",
              "    0% {\n",
              "      border-color: transparent;\n",
              "      border-bottom-color: var(--fill-color);\n",
              "      border-left-color: var(--fill-color);\n",
              "    }\n",
              "    20% {\n",
              "      border-color: transparent;\n",
              "      border-left-color: var(--fill-color);\n",
              "      border-top-color: var(--fill-color);\n",
              "    }\n",
              "    30% {\n",
              "      border-color: transparent;\n",
              "      border-left-color: var(--fill-color);\n",
              "      border-top-color: var(--fill-color);\n",
              "      border-right-color: var(--fill-color);\n",
              "    }\n",
              "    40% {\n",
              "      border-color: transparent;\n",
              "      border-right-color: var(--fill-color);\n",
              "      border-top-color: var(--fill-color);\n",
              "    }\n",
              "    60% {\n",
              "      border-color: transparent;\n",
              "      border-right-color: var(--fill-color);\n",
              "    }\n",
              "    80% {\n",
              "      border-color: transparent;\n",
              "      border-right-color: var(--fill-color);\n",
              "      border-bottom-color: var(--fill-color);\n",
              "    }\n",
              "    90% {\n",
              "      border-color: transparent;\n",
              "      border-bottom-color: var(--fill-color);\n",
              "    }\n",
              "  }\n",
              "</style>\n",
              "\n",
              "  <script>\n",
              "    async function quickchart(key) {\n",
              "      const quickchartButtonEl =\n",
              "        document.querySelector('#' + key + ' button');\n",
              "      quickchartButtonEl.disabled = true;  // To prevent multiple clicks.\n",
              "      quickchartButtonEl.classList.add('colab-df-spinner');\n",
              "      try {\n",
              "        const charts = await google.colab.kernel.invokeFunction(\n",
              "            'suggestCharts', [key], {});\n",
              "      } catch (error) {\n",
              "        console.error('Error during call to suggestCharts:', error);\n",
              "      }\n",
              "      quickchartButtonEl.classList.remove('colab-df-spinner');\n",
              "      quickchartButtonEl.classList.add('colab-df-quickchart-complete');\n",
              "    }\n",
              "    (() => {\n",
              "      let quickchartButtonEl =\n",
              "        document.querySelector('#df-0a779caf-151b-4104-bc84-c131c3ae5b57 button');\n",
              "      quickchartButtonEl.style.display =\n",
              "        google.colab.kernel.accessAllowed ? 'block' : 'none';\n",
              "    })();\n",
              "  </script>\n",
              "</div>\n",
              "\n",
              "    </div>\n",
              "  </div>\n"
            ],
            "application/vnd.google.colaboratory.intrinsic+json": {
              "type": "dataframe",
              "variable_name": "df"
            }
          },
          "metadata": {},
          "execution_count": 5
        }
      ],
      "source": [
        "df.head()"
      ]
    },
    {
      "cell_type": "markdown",
      "metadata": {
        "id": "43uOxIatuWeZ"
      },
      "source": [
        "## Análisis Descriptivo Multivariado"
      ]
    },
    {
      "cell_type": "markdown",
      "metadata": {
        "id": "82YiwBcHunTK"
      },
      "source": [
        "### PCA\n",
        "El Análisis de Componentes Principales (PCA, por sus siglas en inglés) es una técnica estadística de reducción de dimensionalidad que se utiliza ampliamente para simplificar la complejidad en conjuntos de datos de alta dimensión al transformarlos a un nuevo sistema de coordenadas de menor dimensión. Las nuevas dimensiones, denominadas componentes principales, se generan de tal manera que el primer componente principal captura la mayor varianza posible de los datos, y cada componente subsiguiente, en orden de extracción, tiene la mayor varianza posible bajo la restricción de ser ortogonal a los anteriores.\n",
        "\n",
        "La metodología del PCA implica un proceso matemático que transforma las variables originales correlacionadas en un conjunto de variables no correlacionadas. Este proceso comienza con la estandarización de las variables de escala para cada dimensión del conjunto de datos. Luego, se calcula la matriz de covarianza o correlación para identificar las relaciones entre ellas. A partir de esta matriz, se obtienen los autovalores y autovectores que reflejan la magnitud y la dirección de la varianza en los datos. Los autovectores se convierten en los componentes principales, y los autovalores indican la cantidad de varianza que cada componente principal retiene.\n",
        "\n",
        "La utilidad del PCA en un entorno profesional es multiforme. En el contexto del análisis exploratorio de datos, permite identificar patrones y visualizar la estructura de los datos de manera simplificada. En el ámbito de la construcción de modelos predictivos, el PCA se utiliza para mitigar problemas de multicolinealidad y reducir el tiempo computacional, seleccionando solo aquellos componentes que aportan la mayoría de la información. Además, en campos como la bioinformática y la investigación de mercado, el PCA se emplea para agrupar y clasificar datos complejos de forma intuitiva."
      ]
    },
    {
      "cell_type": "markdown",
      "metadata": {
        "id": "Ya-_qNqd_Jjw"
      },
      "source": [
        "## PCA Global"
      ]
    },
    {
      "cell_type": "code",
      "execution_count": null,
      "metadata": {
        "id": "zqfNdrGllGiX"
      },
      "outputs": [],
      "source": [
        "# Función para calcular las distancias de Mahalanobis utilizando el método de LedoitWolf para obtener una matriz de covarianza invertible\n",
        "def mahalanobis_distances(X):\n",
        "    lw = LedoitWolf()\n",
        "    cov_matrix = lw.fit(X).covariance_\n",
        "    inv_cov_matrix = np.linalg.inv(cov_matrix)\n",
        "    mean = np.mean(X, axis=0)\n",
        "    distances = [mahalanobis(x, mean, inv_cov_matrix) for x in X]\n",
        "    return np.array(distances)"
      ]
    },
    {
      "cell_type": "code",
      "source": [
        "# Separar la columna 'nuid'\n",
        "nuid_column = df['nuid']\n",
        "df_for_pca = df.drop(columns=['nuid', 'Mes', 'Año', 'ruta_de_lectura', 'fch_exp_fact', 'fch_ini_periodo_fact'])\n",
        "\n",
        "# Escalar los datos\n",
        "scaler = StandardScaler()\n",
        "df_scaled = scaler.fit_transform(df_for_pca)"
      ],
      "metadata": {
        "id": "VzZDiE28yn7L"
      },
      "execution_count": null,
      "outputs": []
    },
    {
      "cell_type": "code",
      "source": [
        "# Realizar PCA con un random_state para reproducibilidad\n",
        "pca = PCA(n_components=5, random_state=42)\n",
        "df_pca = pca.fit_transform(df_scaled)\n",
        "\n",
        "# Crear un DataFrame con los resultados del PCA\n",
        "pca_columns = [f'PC{i+1}' for i in range(df_pca.shape[1])]\n",
        "df_pca = pd.DataFrame(df_pca, columns=pca_columns)\n",
        "\n",
        "# Añadir la columna 'nuid' al DataFrame del PCA\n",
        "df_pca['nuid'] = nuid_column.values\n",
        "\n",
        "# Imprimir la varianza explicada acumulada\n",
        "print(\"Varianza explicada acumulada global:\")\n",
        "print(np.cumsum(pca.explained_variance_ratio_))"
      ],
      "metadata": {
        "id": "xs4BD3TOynpo"
      },
      "execution_count": null,
      "outputs": []
    },
    {
      "cell_type": "code",
      "source": [
        "# Visualizar los datos del PCA en un gráfico de dispersión bidimensional\n",
        "plt.figure(figsize=(12, 8))\n",
        "plt.scatter(df_pca['PC1'], df_pca['PC2'], alpha=0.7, color='blue')\n",
        "plt.xlabel('Principal Component 1')\n",
        "plt.ylabel('Principal Component 2')\n",
        "plt.title('PCA - PC1 vs PC2')\n",
        "plt.grid(True)\n",
        "plt.show()"
      ],
      "metadata": {
        "id": "-SYgSYyDy03f"
      },
      "execution_count": null,
      "outputs": []
    },
    {
      "cell_type": "code",
      "source": [
        "# Gráfico tridimensional de las primeras tres componentes principales\n",
        "fig = plt.figure(figsize=(12, 8))\n",
        "ax = fig.add_subplot(111, projection='3d')\n",
        "ax.scatter(df_pca['PC1'], df_pca['PC2'], df_pca['PC3'], alpha=0.7, color='blue')\n",
        "ax.set_xlabel('Principal Component 1')\n",
        "ax.set_ylabel('Principal Component 2')\n",
        "ax.set_zlabel('Principal Component 3')\n",
        "ax.set_title('PCA - PC1 vs PC2 vs PC3')\n",
        "plt.show()"
      ],
      "metadata": {
        "id": "CNT75ONMy0qU"
      },
      "execution_count": null,
      "outputs": []
    },
    {
      "cell_type": "code",
      "source": [
        "# Calcular distancias de Mahalanobis\n",
        "distances = mahalanobis_distances(df_scaled)\n",
        "\n",
        "# Definir un umbral (por ejemplo, percentil 95)\n",
        "threshold = np.percentile(distances, 95)\n",
        "\n",
        "# Identificar valores atípicos\n",
        "outliers = distances > threshold\n",
        "\n",
        "# Filtrar datos para obtener los valores atípicos\n",
        "outliers_data = df[outliers].copy()\n",
        "outliers_data['mahalanobis_distance'] = distances[outliers]\n",
        "outliers_data['nuid'] = nuid_column[outliers]\n",
        "\n",
        "# Ordenar los outliers por la distancia de Mahalanobis en orden descendente\n",
        "outliers_data_sorted = outliers_data.sort_values(by='mahalanobis_distance', ascending=False)\n",
        "\n",
        "# Obtener los 10 outliers más extremos\n",
        "top_10_outliers = outliers_data_sorted.head(10)\n",
        "\n",
        "# Guardar los 10 outliers más extremos en un archivo CSV\n",
        "top_10_outliers.to_csv('top_10_outliers.csv', index=False)"
      ],
      "metadata": {
        "id": "Sage_bGAzFv0"
      },
      "execution_count": null,
      "outputs": []
    },
    {
      "cell_type": "code",
      "source": [
        "# Visualizar los 10 outliers más extremos\n",
        "plt.figure(figsize=(12, 8))\n",
        "plt.scatter(range(len(outliers_data_sorted)), outliers_data_sorted['mahalanobis_distance'], color='blue', label='Outliers')\n",
        "plt.scatter(top_10_outliers.index, top_10_outliers['mahalanobis_distance'], color='red', label='Top 10 Outliers')\n",
        "\n",
        "# Anotar los 'nuid' de los 10 outliers más extremos\n",
        "for i, row in top_10_outliers.iterrows():\n",
        "    plt.text(i, row['mahalanobis_distance'], row['nuid'], fontsize=9, verticalalignment='bottom')\n",
        "\n",
        "plt.xlabel('Outliers Index')\n",
        "plt.ylabel('Mahalanobis Distance')\n",
        "plt.title('Mahalanobis Distances of Outliers with Top 10 Highlighted')\n",
        "plt.legend()\n",
        "plt.show()"
      ],
      "metadata": {
        "id": "dFZkU5npzI7a"
      },
      "execution_count": null,
      "outputs": []
    },
    {
      "cell_type": "code",
      "source": [
        "# Mostrar los 10 outliers más extremos con sus respectivos 'nuid'\n",
        "print(\"Top 10 Outliers más extremos:\")\n",
        "print(top_10_outliers[['nuid', 'mahalanobis_distance']])"
      ],
      "metadata": {
        "id": "iXeTuyo1zNcQ"
      },
      "execution_count": null,
      "outputs": []
    },
    {
      "cell_type": "code",
      "source": [
        "# Filtrar datos para eliminar valores atípicos\n",
        "df_cleaned = df[~outliers]\n",
        "\n",
        "# Realizar PCA en los datos limpiados\n",
        "nuid_column_cleaned = df_cleaned['nuid']\n",
        "df_for_pca_cleaned = df_cleaned.drop(columns=['nuid', 'Mes', 'Año', 'ruta_de_lectura', 'fch_exp_fact', 'fch_ini_periodo_fact'])\n",
        "df_scaled_cleaned = scaler.fit_transform(df_for_pca_cleaned)\n",
        "\n",
        "# Realizar PCA con un random_state para reproducibilidad\n",
        "pca = PCA(n_components=3, random_state=42)\n",
        "df_pca = pca.fit_transform(df_scaled_cleaned)\n",
        "\n",
        "# Crear un DataFrame con los resultados del PCA\n",
        "pca_columns = [f'PC{i+1}' for i in range(df_pca.shape[1])]\n",
        "df_pca = pd.DataFrame(df_pca, columns=pca_columns)\n",
        "\n",
        "# Añadir la columna 'nuid' al DataFrame del PCA\n",
        "df_pca['nuid'] = nuid_column_cleaned.values\n",
        "\n",
        "# Imprimir la varianza explicada acumulada\n",
        "print(\"Varianza explicada acumulada global:\")\n",
        "print(np.cumsum(pca.explained_variance_ratio_))"
      ],
      "metadata": {
        "id": "2n5v48C10xpb"
      },
      "execution_count": null,
      "outputs": []
    },
    {
      "cell_type": "code",
      "source": [
        "# Visualizar los datos del PCA limpios en un gráfico de dispersión bidimensional\n",
        "plt.figure(figsize=(12, 8))\n",
        "plt.scatter(df_pca['PC1'], df_pca['PC2'], alpha=0.7, color='blue')\n",
        "plt.xlabel('Principal Component 1')\n",
        "plt.ylabel('Principal Component 2')\n",
        "plt.title('PCA - PC1 vs PC2')\n",
        "plt.grid(True)\n",
        "plt.show()"
      ],
      "metadata": {
        "id": "JbvLtafP0zqe"
      },
      "execution_count": null,
      "outputs": []
    },
    {
      "cell_type": "code",
      "source": [
        "# Gráfico tridimensional de las primeras tres componentes principales\n",
        "fig = plt.figure(figsize=(12, 8))\n",
        "ax = fig.add_subplot(111, projection='3d')\n",
        "ax.scatter(df_pca['PC1'], df_pca['PC2'], df_pca['PC3'], alpha=0.7, color='blue')\n",
        "ax.set_xlabel('Principal Component 1')\n",
        "ax.set_ylabel('Principal Component 2')\n",
        "ax.set_zlabel('Principal Component 3')\n",
        "ax.set_title('PCA - PC1 vs PC2 vs PC3')\n",
        "plt.show()"
      ],
      "metadata": {
        "id": "NGEqFxoV0678"
      },
      "execution_count": null,
      "outputs": []
    },
    {
      "cell_type": "markdown",
      "source": [
        "## Cluster"
      ],
      "metadata": {
        "id": "H4jfwfK7jvnM"
      }
    },
    {
      "cell_type": "code",
      "execution_count": null,
      "metadata": {
        "colab": {
          "base_uri": "https://localhost:8080/",
          "height": 988
        },
        "id": "-TsBr7NLAs7M",
        "outputId": "48aef1c3-b746-4e37-8818-13972f40c53d"
      },
      "outputs": [
        {
          "name": "stderr",
          "output_type": "stream",
          "text": [
            "/usr/local/lib/python3.10/dist-packages/sklearn/cluster/_kmeans.py:870: FutureWarning: The default value of `n_init` will change from 10 to 'auto' in 1.4. Set the value of `n_init` explicitly to suppress the warning\n",
            "  warnings.warn(\n",
            "/usr/local/lib/python3.10/dist-packages/sklearn/cluster/_kmeans.py:870: FutureWarning: The default value of `n_init` will change from 10 to 'auto' in 1.4. Set the value of `n_init` explicitly to suppress the warning\n",
            "  warnings.warn(\n",
            "/usr/local/lib/python3.10/dist-packages/sklearn/cluster/_kmeans.py:870: FutureWarning: The default value of `n_init` will change from 10 to 'auto' in 1.4. Set the value of `n_init` explicitly to suppress the warning\n",
            "  warnings.warn(\n",
            "/usr/local/lib/python3.10/dist-packages/sklearn/cluster/_kmeans.py:870: FutureWarning: The default value of `n_init` will change from 10 to 'auto' in 1.4. Set the value of `n_init` explicitly to suppress the warning\n",
            "  warnings.warn(\n",
            "/usr/local/lib/python3.10/dist-packages/sklearn/cluster/_kmeans.py:870: FutureWarning: The default value of `n_init` will change from 10 to 'auto' in 1.4. Set the value of `n_init` explicitly to suppress the warning\n",
            "  warnings.warn(\n",
            "/usr/local/lib/python3.10/dist-packages/sklearn/cluster/_kmeans.py:870: FutureWarning: The default value of `n_init` will change from 10 to 'auto' in 1.4. Set the value of `n_init` explicitly to suppress the warning\n",
            "  warnings.warn(\n",
            "/usr/local/lib/python3.10/dist-packages/sklearn/cluster/_kmeans.py:870: FutureWarning: The default value of `n_init` will change from 10 to 'auto' in 1.4. Set the value of `n_init` explicitly to suppress the warning\n",
            "  warnings.warn(\n",
            "/usr/local/lib/python3.10/dist-packages/sklearn/cluster/_kmeans.py:870: FutureWarning: The default value of `n_init` will change from 10 to 'auto' in 1.4. Set the value of `n_init` explicitly to suppress the warning\n",
            "  warnings.warn(\n",
            "/usr/local/lib/python3.10/dist-packages/sklearn/cluster/_kmeans.py:870: FutureWarning: The default value of `n_init` will change from 10 to 'auto' in 1.4. Set the value of `n_init` explicitly to suppress the warning\n",
            "  warnings.warn(\n",
            "/usr/local/lib/python3.10/dist-packages/sklearn/cluster/_kmeans.py:870: FutureWarning: The default value of `n_init` will change from 10 to 'auto' in 1.4. Set the value of `n_init` explicitly to suppress the warning\n",
            "  warnings.warn(\n"
          ]
        },
        {
          "data": {
            "image/png": "[encoded data removed]",
            "text/plain": [
              "<Figure size 1000x700 with 1 Axes>"
            ]
          },
          "metadata": {},
          "output_type": "display_data"
        }
      ],
      "source": [
        "# Método del codo para determinar el número óptimo de clusters\n",
        "wcss = []\n",
        "for i in range(1, 11):\n",
        "    kmeans = KMeans(n_clusters=i, random_state=0)\n",
        "    kmeans.fit(df_pca[pca_columns])\n",
        "    wcss.append(kmeans.inertia_)\n",
        "\n",
        "plt.figure(figsize=(10, 7))\n",
        "plt.plot(range(1, 11), wcss, marker='o')\n",
        "plt.title('Método del codo')\n",
        "plt.xlabel('Número de clusters')\n",
        "plt.ylabel('WCSS')\n",
        "plt.show()"
      ]
    },
    {
      "cell_type": "code",
      "execution_count": null,
      "metadata": {
        "colab": {
          "base_uri": "https://localhost:8080/",
          "height": 676
        },
        "id": "eH5LQDGjBBrW",
        "outputId": "94a30d52-88a6-490f-e6a0-3acb8eea1dc4"
      },
      "outputs": [
        {
          "name": "stderr",
          "output_type": "stream",
          "text": [
            "/usr/local/lib/python3.10/dist-packages/sklearn/cluster/_kmeans.py:870: FutureWarning: The default value of `n_init` will change from 10 to 'auto' in 1.4. Set the value of `n_init` explicitly to suppress the warning\n",
            "  warnings.warn(\n"
          ]
        },
        {
          "data": {
            "image/png": "[encoded data removed]",
            "text/plain": [
              "<Figure size 1000x700 with 2 Axes>"
            ]
          },
          "metadata": {},
          "output_type": "display_data"
        }
      ],
      "source": [
        "# Aplicar K-means con el número óptimo de clusters (supongamos que son 2 según el codo)\n",
        "optimal_clusters = 5\n",
        "kmeans = KMeans(n_clusters=optimal_clusters, random_state=0)\n",
        "df_pca['Cluster'] = kmeans.fit_predict(df_pca[pca_columns])\n",
        "\n",
        "# Visualizar los clusters\n",
        "plt.figure(figsize=(10, 7))\n",
        "plt.scatter(df_pca['PC1'], df_pca['PC2'], c=df_pca['Cluster'], cmap='viridis', alpha=0.6)\n",
        "plt.xlabel('Componente Principal 1')\n",
        "plt.ylabel('Componente Principal 2')\n",
        "plt.title(f'K-means Clustering con {optimal_clusters} Clusters')\n",
        "plt.colorbar(label='Cluster')\n",
        "plt.show()"
      ]
    },
    {
      "cell_type": "markdown",
      "metadata": {
        "id": "FcTtiyQ7L7Zv"
      },
      "source": [
        "### PCA Por Mes y Año"
      ]
    },
    {
      "cell_type": "code",
      "execution_count": null,
      "metadata": {
        "colab": {
          "background_save": true,
          "base_uri": "https://localhost:8080/"
        },
        "id": "JPQIg3M_6uJG",
        "outputId": "e7bac671-ee4a-4c0d-e982-d92606bc7ada",
        "collapsed": true
      },
      "outputs": [
        {
          "name": "stdout",
          "output_type": "stream",
          "text": [
            "Varianza explicada acumulada para Mes 12 y Año 2022:\n",
            "[0.2071326  0.33716287 0.44313284 0.51752729 0.58905897]\n"
          ]
        },
        {
          "data": {
            "image/png": "[encoded data removed]",
            "text/plain": [
              "<Figure size 1000x700 with 1 Axes>"
            ]
          },
          "metadata": {},
          "output_type": "display_data"
        }
      ],
      "source": [
        "# Función para realizar el PCA\n",
        "def realizar_pca(df, mes, año):\n",
        "    # Verificar que las columnas 'Mes' y 'Año' existen en el DataFrame\n",
        "    if 'Mes' not in df.columns or 'Año' not in df.columns:\n",
        "        print(\"Advertencia: Las columnas 'Mes' o 'Año' no existen en el DataFrame.\")\n",
        "        return\n",
        "\n",
        "    # Filtrar el DataFrame por mes y año\n",
        "    df_filtrado = df[(df['Mes'] == mes) & (df['Año'] == año)]\n",
        "\n",
        "    # Verificar si hay datos después del filtrado\n",
        "    if df_filtrado.empty:\n",
        "        print(f\"Advertencia: No hay datos disponibles para el mes {mes} y el año {año}.\")\n",
        "        return\n",
        "\n",
        "    # Eliminar filas con valores NaN\n",
        "    df_filtrado = df_filtrado.dropna()\n",
        "\n",
        "    # Verificar si hay datos después de eliminar NaNs\n",
        "    if df_filtrado.empty:\n",
        "        print(f\"Advertencia: No hay datos suficientes para el mes {mes} y el año {año} después de eliminar valores NaN.\")\n",
        "        return\n",
        "\n",
        "    # Separar la columna 'nuid'\n",
        "    nuid_column = df_filtrado['nuid']\n",
        "    df_for_pca = df_filtrado.drop(columns=['nuid', 'Mes', 'Año', 'ruta_de_lectura', 'fch_exp_fact', 'fch_ini_periodo_fact'])\n",
        "\n",
        "    # Escalar los datos\n",
        "    scaler = StandardScaler()\n",
        "    df_scaled = scaler.fit_transform(df_for_pca)\n",
        "\n",
        "    # Realizar PCA\n",
        "    pca = PCA(n_components=5)\n",
        "    df_pca = pca.fit_transform(df_scaled)\n",
        "\n",
        "    # Crear un DataFrame con los resultados del PCA\n",
        "    pca_columns = [f'PC{i+1}' for i in range(df_pca.shape[1])]\n",
        "    df_pca = pd.DataFrame(df_pca, columns=pca_columns)\n",
        "\n",
        "    # Añadir la columna 'nuid' al DataFrame del PCA\n",
        "    df_pca['nuid'] = nuid_column.values\n",
        "\n",
        "    # Imprimir la varianza explicada acumulada\n",
        "    print(f\"Varianza explicada acumulada para Mes {mes} y Año {año}:\")\n",
        "    print(np.cumsum(pca.explained_variance_ratio_))\n",
        "\n",
        "    # Graficar los primeros dos componentes principales\n",
        "    plt.figure(figsize=(10, 7))\n",
        "    plt.scatter(df_pca['PC1'], df_pca['PC2'])\n",
        "    plt.xlabel('Componente Principal 1')\n",
        "    plt.ylabel('Componente Principal 2')\n",
        "    plt.title(f'PCA para el mes {mes} y el año {año}')\n",
        "    plt.show()\n",
        "\n",
        "# Solicitar al usuario el mes y el año\n",
        "mes = int(input(\"Ingrese el mes (1-12): \"))\n",
        "año = int(input(\"Ingrese el año (2016-2023): \"))\n",
        "\n",
        "# Verificar que el mes y el año estén dentro del rango permitido\n",
        "if mes < 1 or mes > 12:\n",
        "    print(\"Advertencia: El mes ingresado no es válido. Debe estar entre 1 y 12.\")\n",
        "elif año < 2016 or año > 2023:\n",
        "    print(\"Advertencia: El año ingresado no es válido. Debe estar entre 2016 y 2023.\")\n",
        "else:\n",
        "    # Realizar PCA\n",
        "    realizar_pca(df, mes, año)\n"
      ]
    }
  ],
  "metadata": {
    "colab": {
      "provenance": [],
      "include_colab_link": true
    },
    "kernelspec": {
      "display_name": "Python 3",
      "name": "python3"
    },
    "language_info": {
      "name": "python"
    }
  },
  "nbformat": 4,
  "nbformat_minor": 0
}