{
  "nbformat": 4,
  "nbformat_minor": 0,
  "metadata": {
    "colab": {
      "private_outputs": true,
      "provenance": [],
      "authorship_tag": "ABX9TyN9TX1QDqjysCi5/mcGIycq",
      "include_colab_link": true
    },
    "kernelspec": {
      "name": "python3",
      "display_name": "Python 3"
    },
    "language_info": {
      "name": "python"
    }
  },
  "cells": [
    {
      "cell_type": "markdown",
      "metadata": {
        "id": "view-in-github",
        "colab_type": "text"
      },
      "source": [
        "<a href=\"https://colab.research.google.com/github/bonillahermes/Data_Science_Projects/blob/main/Tecnicas_de_Imputacion.ipynb\" target=\"_parent\"><img src=\"https://colab.research.google.com/assets/colab-badge.svg\" alt=\"Open In Colab\"/></a>"
      ]
    },
    {
      "cell_type": "markdown",
      "source": [
        "# Hermes Yate Bonilla\n",
        "**Data Scientist**\n",
        "---\n",
        "\n",
        "**Contact:**\n",
        "- **Email:** [bonillahermes@gmail.com](mailto:bonillahermes@gmail.com)\n",
        "- **LinkedIn:** [linkedin.com/in/bonillahermes](https://www.linkedin.com/in/bonillahermes/)\n",
        "- **GitHub:** [github.com/bonillahermes](https://github.com/bonillahermes)\n",
        "- **Webpage:** [bonillahermes.com](https://bonillahermes.com/)\n",
        "---"
      ],
      "metadata": {
        "id": "O3kfpImEFmKq"
      }
    },
    {
      "cell_type": "code",
      "execution_count": null,
      "metadata": {
        "id": "wR35hEGCbNSi"
      },
      "outputs": [],
      "source": [
        "import pandas as pd\n",
        "import numpy as np\n",
        "from sklearn.preprocessing import StandardScaler\n",
        "from statsmodels.imputation import mice\n",
        "from sklearn.ensemble import RandomForestRegressor\n",
        "from sklearn.impute import SimpleImputer"
      ]
    },
    {
      "cell_type": "code",
      "source": [
        "path = \"BaseAImput.xlsx\"\n",
        "sheet_name = \"Hoja9\"\n",
        "df = pd.read_excel(path, sheet_name=sheet_name)"
      ],
      "metadata": {
        "id": "KnMaGogDb4Sw"
      },
      "execution_count": null,
      "outputs": []
    },
    {
      "cell_type": "code",
      "source": [
        "df.info()"
      ],
      "metadata": {
        "id": "UrZ6rpz4ppO4"
      },
      "execution_count": null,
      "outputs": []
    },
    {
      "cell_type": "code",
      "source": [
        "columns_to_convert = ['S5','S7', 'S10', 'S12', 'S15']\n",
        "\n",
        "for column in columns_to_convert:\n",
        "    df[column] = pd.to_numeric(df[column], errors='coerce')"
      ],
      "metadata": {
        "id": "DKbb217zqdOm"
      },
      "execution_count": null,
      "outputs": []
    },
    {
      "cell_type": "code",
      "source": [
        "df.info()"
      ],
      "metadata": {
        "id": "agCi2v5sqfeM"
      },
      "execution_count": null,
      "outputs": []
    },
    {
      "cell_type": "code",
      "source": [
        "# Preparar los datos para la imputación de 'S1'\n",
        "# Seleccionar columnas que no tienen valores faltantes y que no son 'S1'\n",
        "predictor_columns = [col for col in df.columns if col not in ['S1', 'V1', 'P7'] and not df[col].isnull().any()]\n",
        "X_train = df.loc[df['S1'].notnull(), predictor_columns]\n",
        "y_train = df.loc[df['S1'].notnull(), 'S1']\n",
        "X_test = df.loc[df['S1'].isnull(), predictor_columns]\n",
        "\n",
        "# Crear y entrenar el modelo\n",
        "model = RandomForestRegressor(n_estimators=100, random_state=42)\n",
        "model.fit(X_train, y_train)\n",
        "\n",
        "# Predecir los valores faltantes en 'S1'\n",
        "predicted_values = model.predict(X_test)\n",
        "\n",
        "# Imputar los valores faltantes en el DataFrame original\n",
        "df.loc[df['S1'].isnull(), 'S1'] = predicted_values\n"
      ],
      "metadata": {
        "id": "i3HqRY93cEre"
      },
      "execution_count": null,
      "outputs": []
    },
    {
      "cell_type": "code",
      "source": [
        "# Contar valores nulos por columna\n",
        "valores_nulos = df.isnull().sum()\n",
        "\n",
        "# Filtrar y mostrar solo las columnas que tienen datos faltantes\n",
        "columnas_con_nulos = valores_nulos[valores_nulos > 0]\n",
        "print(\"Columnas con datos faltantes y su cantidad:\")\n",
        "print(columnas_con_nulos)"
      ],
      "metadata": {
        "id": "iX1xXNEPpMoY"
      },
      "execution_count": null,
      "outputs": []
    },
    {
      "cell_type": "code",
      "source": [
        "# Preparar los datos para la imputación de 'S6'\n",
        "# Seleccionar columnas que no tienen valores faltantes y que no son 'S6'\n",
        "predictor_columns = [col for col in df.columns if col not in ['S6', 'V1', 'S1'] and not df[col].isnull().any()]\n",
        "X_train = df.loc[df['S6'].notnull(), predictor_columns]\n",
        "y_train = df.loc[df['S6'].notnull(), 'S6']\n",
        "X_test = df.loc[df['S6'].isnull(), predictor_columns]\n",
        "\n",
        "# Crear y entrenar el modelo\n",
        "model = RandomForestRegressor(n_estimators=100, random_state=42)\n",
        "model.fit(X_train, y_train)\n",
        "\n",
        "# Predecir los valores faltantes en 'S1'\n",
        "predicted_values = model.predict(X_test)\n",
        "\n",
        "# Imputar los valores faltantes en el DataFrame original\n",
        "df.loc[df['S6'].isnull(), 'S6'] = predicted_values"
      ],
      "metadata": {
        "id": "nBowl7YunqMv"
      },
      "execution_count": null,
      "outputs": []
    },
    {
      "cell_type": "code",
      "source": [
        "# Contar valores nulos por columna\n",
        "valores_nulos = df.isnull().sum()\n",
        "\n",
        "# Filtrar y mostrar solo las columnas que tienen datos faltantes\n",
        "columnas_con_nulos = valores_nulos[valores_nulos > 0]\n",
        "print(\"Columnas con datos faltantes y su cantidad:\")\n",
        "print(columnas_con_nulos)"
      ],
      "metadata": {
        "id": "yGJAJ3-VgbYi"
      },
      "execution_count": null,
      "outputs": []
    },
    {
      "cell_type": "code",
      "source": [
        "# Preparar los datos para la imputación de 'S7'\n",
        "# Seleccionar columnas que no tienen valores faltantes y que no son 'S7'\n",
        "predictor_columns = [col for col in df.columns if col not in ['S7', 'V1', 'S6'] and not df[col].isnull().any()]\n",
        "X_train = df.loc[df['S7'].notnull(), predictor_columns]\n",
        "y_train = df.loc[df['S7'].notnull(), 'S7']\n",
        "X_test = df.loc[df['S7'].isnull(), predictor_columns]\n",
        "\n",
        "# Crear y entrenar el modelo\n",
        "model = RandomForestRegressor(n_estimators=100, random_state=42)\n",
        "model.fit(X_train, y_train)\n",
        "\n",
        "# Predecir los valores faltantes en 'S1'\n",
        "predicted_values = model.predict(X_test)\n",
        "\n",
        "# Imputar los valores faltantes en el DataFrame original\n",
        "df.loc[df['S7'].isnull(), 'S7'] = predicted_values"
      ],
      "metadata": {
        "id": "9myGmA4Hn-tH"
      },
      "execution_count": null,
      "outputs": []
    },
    {
      "cell_type": "code",
      "source": [
        "# Contar valores nulos por columna\n",
        "valores_nulos = df.isnull().sum()\n",
        "\n",
        "# Filtrar y mostrar solo las columnas que tienen datos faltantes\n",
        "columnas_con_nulos = valores_nulos[valores_nulos > 0]\n",
        "print(\"Columnas con datos faltantes y su cantidad:\")\n",
        "print(columnas_con_nulos)"
      ],
      "metadata": {
        "id": "GAVAHrPcoQut"
      },
      "execution_count": null,
      "outputs": []
    },
    {
      "cell_type": "code",
      "source": [
        "# Preparar los datos para la imputación de 'S8'\n",
        "# Seleccionar columnas que no tienen valores faltantes y que no son 'S8'\n",
        "predictor_columns = [col for col in df.columns if col not in ['S8', 'V1', 'S7'] and not df[col].isnull().any()]\n",
        "X_train = df.loc[df['S8'].notnull(), predictor_columns]\n",
        "y_train = df.loc[df['S8'].notnull(), 'S8']\n",
        "X_test = df.loc[df['S8'].isnull(), predictor_columns]\n",
        "\n",
        "# Crear y entrenar el modelo\n",
        "model = RandomForestRegressor(n_estimators=100, random_state=42)\n",
        "model.fit(X_train, y_train)\n",
        "\n",
        "# Predecir los valores faltantes en 'S1'\n",
        "predicted_values = model.predict(X_test)\n",
        "\n",
        "# Imputar los valores faltantes en el DataFrame original\n",
        "df.loc[df['S8'].isnull(), 'S8'] = predicted_values"
      ],
      "metadata": {
        "id": "lBbigex0oUDc"
      },
      "execution_count": null,
      "outputs": []
    },
    {
      "cell_type": "code",
      "source": [
        "# Contar valores nulos por columna\n",
        "valores_nulos = df.isnull().sum()\n",
        "\n",
        "# Filtrar y mostrar solo las columnas que tienen datos faltantes\n",
        "columnas_con_nulos = valores_nulos[valores_nulos > 0]\n",
        "print(\"Columnas con datos faltantes y su cantidad:\")\n",
        "print(columnas_con_nulos)"
      ],
      "metadata": {
        "id": "uhv99jnQoTrX"
      },
      "execution_count": null,
      "outputs": []
    },
    {
      "cell_type": "code",
      "source": [
        "# Preparar los datos para la imputación de 'S9'\n",
        "# Seleccionar columnas que no tienen valores faltantes y que no son 'S9'\n",
        "predictor_columns = [col for col in df.columns if col not in ['S9', 'V1', 'S8'] and not df[col].isnull().any()]\n",
        "X_train = df.loc[df['S9'].notnull(), predictor_columns]\n",
        "y_train = df.loc[df['S9'].notnull(), 'S9']\n",
        "X_test = df.loc[df['S9'].isnull(), predictor_columns]\n",
        "\n",
        "# Crear y entrenar el modelo\n",
        "model = RandomForestRegressor(n_estimators=100, random_state=42)\n",
        "model.fit(X_train, y_train)\n",
        "\n",
        "# Predecir los valores faltantes en 'S1'\n",
        "predicted_values = model.predict(X_test)\n",
        "\n",
        "# Imputar los valores faltantes en el DataFrame original\n",
        "df.loc[df['S9'].isnull(), 'S9'] = predicted_values"
      ],
      "metadata": {
        "id": "rIKlpplBuq4P"
      },
      "execution_count": null,
      "outputs": []
    },
    {
      "cell_type": "code",
      "source": [
        "# Contar valores nulos por columna\n",
        "valores_nulos = df.isnull().sum()\n",
        "\n",
        "# Filtrar y mostrar solo las columnas que tienen datos faltantes\n",
        "columnas_con_nulos = valores_nulos[valores_nulos > 0]\n",
        "print(\"Columnas con datos faltantes y su cantidad:\")\n",
        "print(columnas_con_nulos)"
      ],
      "metadata": {
        "id": "eNWea87HuqnW"
      },
      "execution_count": null,
      "outputs": []
    },
    {
      "cell_type": "code",
      "source": [
        "# Preparar los datos para la imputación de 'S10'\n",
        "# Seleccionar columnas que no tienen valores faltantes y que no son 'S10'\n",
        "predictor_columns = [col for col in df.columns if col not in ['S10', 'V1', 'S9'] and not df[col].isnull().any()]\n",
        "X_train = df.loc[df['S10'].notnull(), predictor_columns]\n",
        "y_train = df.loc[df['S10'].notnull(), 'S10']\n",
        "X_test = df.loc[df['S10'].isnull(), predictor_columns]\n",
        "\n",
        "# Crear y entrenar el modelo\n",
        "model = RandomForestRegressor(n_estimators=100, random_state=42)\n",
        "model.fit(X_train, y_train)\n",
        "\n",
        "# Predecir los valores faltantes en 'S1'\n",
        "predicted_values = model.predict(X_test)\n",
        "\n",
        "# Imputar los valores faltantes en el DataFrame original\n",
        "df.loc[df['S10'].isnull(), 'S10'] = predicted_values"
      ],
      "metadata": {
        "id": "wQyndX4sv2Fx"
      },
      "execution_count": null,
      "outputs": []
    },
    {
      "cell_type": "code",
      "source": [
        "# Preparar los datos para la imputación de 'S11'\n",
        "# Seleccionar columnas que no tienen valores faltantes y que no son 'S11'\n",
        "predictor_columns = [col for col in df.columns if col not in ['S11', 'V1', 'S10'] and not df[col].isnull().any()]\n",
        "X_train = df.loc[df['S11'].notnull(), predictor_columns]\n",
        "y_train = df.loc[df['S11'].notnull(), 'S11']\n",
        "X_test = df.loc[df['S11'].isnull(), predictor_columns]\n",
        "\n",
        "# Crear y entrenar el modelo\n",
        "model = RandomForestRegressor(n_estimators=100, random_state=42)\n",
        "model.fit(X_train, y_train)\n",
        "\n",
        "# Predecir los valores faltantes en 'S11'\n",
        "predicted_values = model.predict(X_test)\n",
        "\n",
        "# Imputar los valores faltantes en el DataFrame original\n",
        "df.loc[df['S11'].isnull(), 'S11'] = predicted_values"
      ],
      "metadata": {
        "id": "AIrUNGBJv11z"
      },
      "execution_count": null,
      "outputs": []
    },
    {
      "cell_type": "code",
      "source": [
        "# Preparar los datos para la imputación de 'S12'\n",
        "# Seleccionar columnas que no tienen valores faltantes y que no son 'S12'\n",
        "predictor_columns = [col for col in df.columns if col not in ['S12', 'V1', 'S11'] and not df[col].isnull().any()]\n",
        "X_train = df.loc[df['S12'].notnull(), predictor_columns]\n",
        "y_train = df.loc[df['S12'].notnull(), 'S12']\n",
        "X_test = df.loc[df['S12'].isnull(), predictor_columns]\n",
        "\n",
        "# Crear y entrenar el modelo\n",
        "model = RandomForestRegressor(n_estimators=100, random_state=42)\n",
        "model.fit(X_train, y_train)\n",
        "\n",
        "# Predecir los valores faltantes en 'S12'\n",
        "predicted_values = model.predict(X_test)\n",
        "\n",
        "# Imputar los valores faltantes en el DataFrame original\n",
        "df.loc[df['S12'].isnull(), 'S12'] = predicted_values"
      ],
      "metadata": {
        "id": "QUz4jjlMv1XI"
      },
      "execution_count": null,
      "outputs": []
    },
    {
      "cell_type": "code",
      "source": [
        "# Preparar los datos para la imputación de 'S13'\n",
        "# Seleccionar columnas que no tienen valores faltantes y que no son 'S13'\n",
        "predictor_columns = [col for col in df.columns if col not in ['S13', 'V1', 'S12'] and not df[col].isnull().any()]\n",
        "X_train = df.loc[df['S13'].notnull(), predictor_columns]\n",
        "y_train = df.loc[df['S13'].notnull(), 'S13']\n",
        "X_test = df.loc[df['S13'].isnull(), predictor_columns]\n",
        "\n",
        "# Crear y entrenar el modelo\n",
        "model = RandomForestRegressor(n_estimators=100, random_state=42)\n",
        "model.fit(X_train, y_train)\n",
        "\n",
        "# Predecir los valores faltantes en 'S13'\n",
        "predicted_values = model.predict(X_test)\n",
        "\n",
        "# Imputar los valores faltantes en el DataFrame original\n",
        "df.loc[df['S13'].isnull(), 'S13'] = predicted_values"
      ],
      "metadata": {
        "id": "Enm2bU0sv0_Y"
      },
      "execution_count": null,
      "outputs": []
    },
    {
      "cell_type": "code",
      "source": [
        "# Preparar los datos para la imputación de 'S14'\n",
        "# Seleccionar columnas que no tienen valores faltantes y que no son 'S14'\n",
        "predictor_columns = [col for col in df.columns if col not in ['S14', 'V1', 'S13'] and not df[col].isnull().any()]\n",
        "X_train = df.loc[df['S14'].notnull(), predictor_columns]\n",
        "y_train = df.loc[df['S14'].notnull(), 'S14']\n",
        "X_test = df.loc[df['S14'].isnull(), predictor_columns]\n",
        "\n",
        "# Crear y entrenar el modelo\n",
        "model = RandomForestRegressor(n_estimators=100, random_state=42)\n",
        "model.fit(X_train, y_train)\n",
        "\n",
        "# Predecir los valores faltantes en 'S14'\n",
        "predicted_values = model.predict(X_test)\n",
        "\n",
        "# Imputar los valores faltantes en el DataFrame original\n",
        "df.loc[df['S14'].isnull(), 'S14'] = predicted_values"
      ],
      "metadata": {
        "id": "UgU_OgjJv_W5"
      },
      "execution_count": null,
      "outputs": []
    },
    {
      "cell_type": "code",
      "source": [
        "# Preparar los datos para la imputación de 'S15'\n",
        "# Seleccionar columnas que no tienen valores faltantes y que no son 'S15'\n",
        "predictor_columns = [col for col in df.columns if col not in ['S15', 'V1', 'S14'] and not df[col].isnull().any()]\n",
        "X_train = df.loc[df['S15'].notnull(), predictor_columns]\n",
        "y_train = df.loc[df['S15'].notnull(), 'S15']\n",
        "X_test = df.loc[df['S15'].isnull(), predictor_columns]\n",
        "\n",
        "# Crear y entrenar el modelo\n",
        "model = RandomForestRegressor(n_estimators=100, random_state=42)\n",
        "model.fit(X_train, y_train)\n",
        "\n",
        "# Predecir los valores faltantes en 'S15'\n",
        "predicted_values = model.predict(X_test)\n",
        "\n",
        "# Imputar los valores faltantes en el DataFrame original\n",
        "df.loc[df['S15'].isnull(), 'S15'] = predicted_values"
      ],
      "metadata": {
        "id": "Z7uvRn7dwAnr"
      },
      "execution_count": null,
      "outputs": []
    },
    {
      "cell_type": "code",
      "source": [
        "# Preparar los datos para la imputación de 'S16'\n",
        "# Seleccionar columnas que no tienen valores faltantes y que no son 'S16'\n",
        "predictor_columns = [col for col in df.columns if col not in ['S16', 'V1', 'S15'] and not df[col].isnull().any()]\n",
        "X_train = df.loc[df['S16'].notnull(), predictor_columns]\n",
        "y_train = df.loc[df['S16'].notnull(), 'S16']\n",
        "X_test = df.loc[df['S16'].isnull(), predictor_columns]\n",
        "\n",
        "# Crear y entrenar el modelo\n",
        "model = RandomForestRegressor(n_estimators=100, random_state=42)\n",
        "model.fit(X_train, y_train)\n",
        "\n",
        "# Predecir los valores faltantes en 'S16'\n",
        "predicted_values = model.predict(X_test)\n",
        "\n",
        "# Imputar los valores faltantes en el DataFrame original\n",
        "df.loc[df['S16'].isnull(), 'S16'] = predicted_values"
      ],
      "metadata": {
        "id": "JkL-rmHGwBkM"
      },
      "execution_count": null,
      "outputs": []
    },
    {
      "cell_type": "code",
      "source": [
        "# Contar valores nulos por columna\n",
        "valores_nulos = df.isnull().sum()\n",
        "\n",
        "# Filtrar y mostrar solo las columnas que tienen datos faltantes\n",
        "columnas_con_nulos = valores_nulos[valores_nulos > 0]\n",
        "print(\"Columnas con datos faltantes y su cantidad:\")\n",
        "print(columnas_con_nulos)"
      ],
      "metadata": {
        "id": "u8NRZRFfx4QF"
      },
      "execution_count": null,
      "outputs": []
    },
    {
      "cell_type": "code",
      "source": [
        "# Guardar el DataFrame en un archivo Excel\n",
        "df.to_excel('df.xlsx', index=False)"
      ],
      "metadata": {
        "id": "dR0OWjnfmSc1"
      },
      "execution_count": null,
      "outputs": []
    }
  ]
}