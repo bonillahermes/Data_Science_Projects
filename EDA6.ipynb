{
  "nbformat": 4,
  "nbformat_minor": 0,
  "metadata": {
    "colab": {
      "private_outputs": true,
      "provenance": [],
      "include_colab_link": true
    },
    "kernelspec": {
      "name": "python3",
      "display_name": "Python 3"
    },
    "language_info": {
      "name": "python"
    }
  },
  "cells": [
    {
      "cell_type": "markdown",
      "metadata": {
        "id": "view-in-github",
        "colab_type": "text"
      },
      "source": [
        "<a href=\"https://colab.research.google.com/github/bonillahermes/Data_Science_Projects/blob/main/EDA6.ipynb\" target=\"_parent\"><img src=\"https://colab.research.google.com/assets/colab-badge.svg\" alt=\"Open In Colab\"/></a>"
      ]
    },
    {
      "cell_type": "markdown",
      "source": [
        "# Hermes Yate Bonilla\n",
        "**Data Scientist**\n",
        "---\n",
        "\n",
        "**Contact:**\n",
        "- **Email:** [bonillahermes@gmail.com](mailto:bonillahermes@gmail.com)\n",
        "- **LinkedIn:** [linkedin.com/in/bonillahermes](https://www.linkedin.com/in/bonillahermes/)\n",
        "- **GitHub:** [github.com/bonillahermes](https://github.com/bonillahermes)\n",
        "- **Webpage:** [bonillahermes.com](https://bonillahermes.com/)\n",
        "---"
      ],
      "metadata": {
        "id": "jtk-OxrHJa78"
      }
    },
    {
      "cell_type": "markdown",
      "source": [
        "# Análisis Exploratorio"
      ],
      "metadata": {
        "id": "uWUah0DrJdfv"
      }
    },
    {
      "cell_type": "code",
      "source": [
        "# Instalación de librerías\n",
        "!pip install keras_tuner"
      ],
      "metadata": {
        "id": "hY9flGI_npLq"
      },
      "execution_count": null,
      "outputs": []
    },
    {
      "cell_type": "code",
      "source": [
        "# Importación de librerías generales\n",
        "import numpy as np\n",
        "import pandas as pd\n",
        "import matplotlib.pyplot as plt\n",
        "import seaborn as sns\n",
        "from mpl_toolkits.mplot3d import Axes3D\n",
        "from scipy.stats import skew, kurtosis\n",
        "from scipy import stats\n",
        "from scipy.cluster.hierarchy import dendrogram, linkage, fcluster\n",
        "from scipy.stats import f_oneway\n",
        "from scipy.spatial.distance import mahalanobis\n",
        "from scipy.stats import kruskal\n",
        "\n",
        "# Importación de bibliotecas de machine learning de scikit-learn\n",
        "from sklearn.preprocessing import StandardScaler, MinMaxScaler\n",
        "from sklearn.model_selection import train_test_split, GridSearchCV, validation_curve, cross_val_score\n",
        "from sklearn.metrics import (\n",
        "    accuracy_score, confusion_matrix, precision_score, recall_score,\n",
        "    roc_curve, roc_auc_score, classification_report, precision_recall_curve, average_precision_score,\n",
        "    mean_squared_error, r2_score, silhouette_score\n",
        ")\n",
        "from sklearn.linear_model import LogisticRegression, LinearRegression, Ridge\n",
        "from sklearn.ensemble import RandomForestClassifier, RandomForestRegressor\n",
        "from sklearn.svm import SVC\n",
        "from sklearn.neighbors import KNeighborsClassifier\n",
        "from sklearn.cluster import KMeans, DBSCAN, SpectralClustering\n",
        "from sklearn.decomposition import PCA\n",
        "from sklearn.manifold import TSNE\n",
        "from sklearn.mixture import GaussianMixture\n",
        "from sklearn.experimental import enable_iterative_imputer\n",
        "from sklearn.impute import IterativeImputer, KNNImputer\n",
        "\n",
        "# Importación de XGBoost\n",
        "import xgboost as xgb\n",
        "\n",
        "# Importación de bibliotecas para modelos y redes neuronales\n",
        "import tensorflow as tf\n",
        "from tensorflow import keras\n",
        "from tensorflow.keras import layers\n",
        "from tensorflow.keras.models import Sequential\n",
        "from tensorflow.keras.layers import LSTM, Dense, Dropout\n",
        "from tensorflow.keras.preprocessing.sequence import TimeseriesGenerator\n",
        "from tensorflow.keras.callbacks import EarlyStopping\n",
        "\n",
        "# Importación de Keras Tuner\n",
        "import keras_tuner as kt\n",
        "\n",
        "# Importación de bibliotecas para visualización interactiva\n",
        "import plotly.graph_objs as go\n",
        "import plotly.express as px"
      ],
      "metadata": {
        "id": "JrSRtGgZ7wx-"
      },
      "execution_count": null,
      "outputs": []
    },
    {
      "cell_type": "markdown",
      "source": [
        "# Análisis Descriptivo"
      ],
      "metadata": {
        "id": "LnFm8vTEYAo7"
      }
    },
    {
      "cell_type": "code",
      "source": [
        "# Cargar las hojas del archivo Excel\n",
        "file_path = 'Base_Final.xlsx'  # Asegúrate de subir el archivo a Colab o especificar la ruta correcta\n",
        "df = pd.read_excel(file_path)"
      ],
      "metadata": {
        "id": "iQkoSfgcYBDS"
      },
      "execution_count": null,
      "outputs": []
    },
    {
      "cell_type": "code",
      "source": [
        "# Recodificar la variable I2R5C1: 1 se mantiene igual, 2 y 3 se recodifican a 0\n",
        "df['I2R5C1'] = df['I2R5C1'].replace({2: 0, 3: 0})"
      ],
      "metadata": {
        "id": "DQ3QSaXwUDk0"
      },
      "execution_count": null,
      "outputs": []
    },
    {
      "cell_type": "code",
      "source": [
        "# Redondear los valores de la variable I2R5C1 a enteros\n",
        "df['I2R5C1'] = df['I2R5C1'].round().astype(int)"
      ],
      "metadata": {
        "id": "EimGC3R1Wrc1"
      },
      "execution_count": null,
      "outputs": []
    },
    {
      "cell_type": "code",
      "source": [
        "# Redondear los valores de la variable I10R7C1 a enteros\n",
        "df['I10R7C1'] = df['I10R7C1'].round().astype(int)"
      ],
      "metadata": {
        "id": "4rVLaPLQW6By"
      },
      "execution_count": null,
      "outputs": []
    },
    {
      "cell_type": "code",
      "source": [
        "# Mostrar la dimensión del Dataframe\n",
        "df.shape"
      ],
      "metadata": {
        "id": "XyYNmzaPbE-P"
      },
      "execution_count": null,
      "outputs": []
    },
    {
      "cell_type": "code",
      "source": [
        "# Mostrar el número de valores faltantes por columna\n",
        "df.isnull().sum()"
      ],
      "metadata": {
        "id": "z2IJGaA8bExo"
      },
      "execution_count": null,
      "outputs": []
    },
    {
      "cell_type": "code",
      "source": [
        "# Asegúrate de que 'df' contiene las variables necesarias\n",
        "variables_descriptivas = ['II1R3C2', 'I3R2C1']\n",
        "\n",
        "# Filtrar el DataFrame para dejar solo las variables de interés\n",
        "df_descriptivo = df[variables_descriptivas]"
      ],
      "metadata": {
        "id": "laUVr3VLLLZJ"
      },
      "execution_count": null,
      "outputs": []
    },
    {
      "cell_type": "code",
      "source": [
        "# Obtener estadísticos descriptivos básicos\n",
        "estadisticos_descriptivos = df_descriptivo.describe()\n",
        "\n",
        "# Calcular coeficiente de variación, asimetría, curtosis y rango intercuartílico\n",
        "coef_var = df_descriptivo.std() / df_descriptivo.mean()\n",
        "asimetria = df_descriptivo.apply(skew)\n",
        "curtosis = df_descriptivo.apply(kurtosis)\n",
        "iqr = df_descriptivo.quantile(0.75) - df_descriptivo.quantile(0.25)\n",
        "\n",
        "# Crear un DataFrame con los estadísticos adicionales\n",
        "estadisticos_adicionales = pd.DataFrame({\n",
        "    'Coeficiente de Variación': coef_var,\n",
        "    'Asimetría': asimetria,\n",
        "    'Curtosis': curtosis,\n",
        "    'Rango Intercuartílico': iqr\n",
        "})\n",
        "\n",
        "# Combinar los estadísticos básicos y adicionales\n",
        "estadisticos_completos = pd.concat([estadisticos_descriptivos, estadisticos_adicionales.T])\n",
        "\n",
        "# Mostrar los estadísticos descriptivos completos\n",
        "print(\"Estadísticos Descriptivos Completos:\")\n",
        "print(estadisticos_completos)"
      ],
      "metadata": {
        "id": "wgxoboYhmeNy"
      },
      "execution_count": null,
      "outputs": []
    },
    {
      "cell_type": "code",
      "source": [
        "# Función para calcular estadísticos descriptivos para cada grupo de cuartiles\n",
        "def calcular_estadisticos_por_cuartiles(df, columna):\n",
        "    cuartiles = df[columna].quantile([0.25, 0.5, 0.75])\n",
        "    grupos = {\n",
        "        'min-Q1': df[df[columna] <= cuartiles[0.25]],\n",
        "        'Q1-Q2': df[(df[columna] > cuartiles[0.25]) & (df[columna] <= cuartiles[0.5])],\n",
        "        'Q2-Q3': df[(df[columna] > cuartiles[0.5]) & (df[columna] <= cuartiles[0.75])],\n",
        "        'Q3-max': df[df[columna] > cuartiles[0.75]]\n",
        "    }\n",
        "    estadisticos = {}\n",
        "    for nombre, grupo in grupos.items():\n",
        "        descrip = grupo[columna].describe()\n",
        "        descrip['Coeficiente de Variación'] = grupo[columna].std() / grupo[columna].mean()\n",
        "        descrip['Asimetría'] = skew(grupo[columna])\n",
        "        descrip['Curtosis'] = kurtosis(grupo[columna])\n",
        "        estadisticos[nombre] = descrip\n",
        "    return pd.DataFrame(estadisticos)\n",
        "\n",
        "# Calcular los estadísticos descriptivos por cuartiles para cada variable\n",
        "estadisticos_cuartiles_II1R3C2 = calcular_estadisticos_por_cuartiles(df, 'II1R3C2')\n",
        "estadisticos_cuartiles_I3R2C1 = calcular_estadisticos_por_cuartiles(df, 'I3R2C1')\n",
        "\n",
        "# Mostrar los estadísticos descriptivos por cuartiles\n",
        "print(\"Estadísticos Descriptivos por Cuartiles para II1R3C2:\")\n",
        "print(estadisticos_cuartiles_II1R3C2)\n",
        "\n",
        "print(\"\\nEstadísticos Descriptivos por Cuartiles para I3R2C1:\")\n",
        "print(estadisticos_cuartiles_I3R2C1)"
      ],
      "metadata": {
        "id": "rNEpfaA8ZvEc"
      },
      "execution_count": null,
      "outputs": []
    },
    {
      "cell_type": "code",
      "source": [
        "# Crear boxplot para las variables II1R3C2 e I3R2C1\n",
        "plt.figure(figsize=(12, 6))\n",
        "\n",
        "plt.subplot(1, 2, 1)\n",
        "plt.boxplot(df['II1R3C2'])\n",
        "plt.title('Boxplot de II1R3C2')\n",
        "plt.ylabel('Valores')\n",
        "\n",
        "plt.subplot(1, 2, 2)\n",
        "plt.boxplot(df['I3R2C1'])\n",
        "plt.title('Boxplot de I3R2C1')\n",
        "plt.ylabel('Valores')\n",
        "\n",
        "plt.tight_layout()\n",
        "plt.show()\n"
      ],
      "metadata": {
        "id": "oLFnRVed2392"
      },
      "execution_count": null,
      "outputs": []
    },
    {
      "cell_type": "code",
      "source": [
        "# Crear histograma para las variables II1R3C2 e I3R2C1\n",
        "plt.figure(figsize=(12, 6))\n",
        "\n",
        "plt.subplot(1, 2, 1)\n",
        "plt.hist(df['II1R3C2'], bins=30, edgecolor='black')\n",
        "plt.title('Histograma de II1R3C2')\n",
        "plt.xlabel('Valores')\n",
        "plt.ylabel('Frecuencia')\n",
        "\n",
        "plt.subplot(1, 2, 2)\n",
        "plt.hist(df['I3R2C1'], bins=30, edgecolor='black')\n",
        "plt.title('Histograma de I3R2C1')\n",
        "plt.xlabel('Valores')\n",
        "plt.ylabel('Frecuencia')\n",
        "\n",
        "plt.tight_layout()\n",
        "plt.show()\n"
      ],
      "metadata": {
        "id": "15QJRzjfTz8n"
      },
      "execution_count": null,
      "outputs": []
    },
    {
      "cell_type": "code",
      "source": [
        "# Crear boxplot de II1R3C2 basado en las categorías de I2R5C1\n",
        "plt.figure(figsize=(12, 6))\n",
        "\n",
        "df.boxplot(column='II1R3C2', by='I2R5C1')\n",
        "plt.title('Boxplot de II1R3C2 por I2R5C1')\n",
        "plt.suptitle('')\n",
        "plt.xlabel('I2R5C1')\n",
        "plt.ylabel('II1R3C2')\n",
        "\n"
      ],
      "metadata": {
        "id": "ODSE1tk6VtB7"
      },
      "execution_count": null,
      "outputs": []
    },
    {
      "cell_type": "code",
      "source": [
        "# Crear boxplot de I3R2C1 basado en las categorías de I2R5C1\n",
        "df.boxplot(column='I3R2C1', by='I2R5C1')\n",
        "plt.title('Boxplot de I3R2C1 por I2R5C1')\n",
        "plt.suptitle('')\n",
        "plt.xlabel('I2R5C1')\n",
        "plt.ylabel('I3R2C1')\n",
        "\n",
        "plt.tight_layout()\n",
        "plt.show()"
      ],
      "metadata": {
        "id": "P2FyRuqVWVMh"
      },
      "execution_count": null,
      "outputs": []
    },
    {
      "cell_type": "code",
      "source": [
        "# Crear boxplot de II1R3C2 basado en las categorías de I10R7C1\n",
        "plt.figure(figsize=(12, 6))\n",
        "\n",
        "df.boxplot(column='II1R3C2', by='I10R7C1')\n",
        "plt.title('Boxplot de II1R3C2 por I10R7C1')\n",
        "plt.suptitle('')\n",
        "plt.xlabel('I10R7C1')\n",
        "plt.ylabel('II1R3C2')"
      ],
      "metadata": {
        "id": "MWXMf7tQXZ_C"
      },
      "execution_count": null,
      "outputs": []
    },
    {
      "cell_type": "code",
      "source": [
        "# Crear boxplot de I3R2C1 basado en las categorías de I10R7C1\n",
        "df.boxplot(column='I3R2C1', by='I10R7C1')\n",
        "plt.title('Boxplot de I3R2C1 por I10R7C1')\n",
        "plt.suptitle('')\n",
        "plt.xlabel('I10R7C1')\n",
        "plt.ylabel('I3R2C1')\n",
        "\n",
        "plt.tight_layout()\n",
        "plt.show()"
      ],
      "metadata": {
        "id": "NlEwm1DTXfdM"
      },
      "execution_count": null,
      "outputs": []
    },
    {
      "cell_type": "markdown",
      "source": [
        "## Análisis Inferencial"
      ],
      "metadata": {
        "id": "FrbH4ZWne1aP"
      }
    },
    {
      "cell_type": "code",
      "source": [
        "# Prueba de Kruskal-Wallis para II1R3C2 por I2R5C1\n",
        "groups_II1R3C2_I2R5C1 = [df[df['I2R5C1'] == category]['II1R3C2'] for category in df['I2R5C1'].unique()]\n",
        "kruskal_result_II1R3C2_I2R5C1 = kruskal(*groups_II1R3C2_I2R5C1)\n",
        "\n",
        "print(f'Prueba de Kruskal-Wallis para II1R3C2 por I2R5C1: H={kruskal_result_II1R3C2_I2R5C1.statistic}, p-value={kruskal_result_II1R3C2_I2R5C1.pvalue}')"
      ],
      "metadata": {
        "id": "X8ZpCyKmdslq"
      },
      "execution_count": null,
      "outputs": []
    },
    {
      "cell_type": "code",
      "source": [
        "# Prueba de Kruskal-Wallis para I3R2C1 por I2R5C1\n",
        "groups_I3R2C1_I2R5C1 = [df[df['I2R5C1'] == category]['I3R2C1'] for category in df['I2R5C1'].unique()]\n",
        "kruskal_result_I3R2C1_I2R5C1 = kruskal(*groups_I3R2C1_I2R5C1)\n",
        "\n",
        "print(f'Prueba de Kruskal-Wallis para I3R2C1 por I2R5C1: H={kruskal_result_I3R2C1_I2R5C1.statistic}, p-value={kruskal_result_I3R2C1_I2R5C1.pvalue}')"
      ],
      "metadata": {
        "id": "pRHGtEF5dxN_"
      },
      "execution_count": null,
      "outputs": []
    },
    {
      "cell_type": "code",
      "source": [
        "# Prueba de Kruskal-Wallis para II1R3C2 por I10R7C1\n",
        "groups_II1R3C2_I10R7C1 = [df[df['I10R7C1'] == category]['II1R3C2'] for category in df['I10R7C1'].unique()]\n",
        "kruskal_result_II1R3C2_I10R7C1 = kruskal(*groups_II1R3C2_I10R7C1)\n",
        "\n",
        "print(f'Prueba de Kruskal-Wallis para II1R3C2 por I10R7C1: H={kruskal_result_II1R3C2_I10R7C1.statistic}, p-value={kruskal_result_II1R3C2_I10R7C1.pvalue}')"
      ],
      "metadata": {
        "id": "BNsuy4Kid0e8"
      },
      "execution_count": null,
      "outputs": []
    },
    {
      "cell_type": "code",
      "source": [
        "# Prueba de Kruskal-Wallis para I3R2C1 por I10R7C1\n",
        "groups_I3R2C1_I10R7C1 = [df[df['I10R7C1'] == category]['I3R2C1'] for category in df['I10R7C1'].unique()]\n",
        "kruskal_result_I3R2C1_I10R7C1 = kruskal(*groups_I3R2C1_I10R7C1)\n",
        "\n",
        "print(f'Prueba de Kruskal-Wallis para I3R2C1 por I10R7C1: H={kruskal_result_I3R2C1_I10R7C1.statistic}, p-value={kruskal_result_I3R2C1_I10R7C1.pvalue}')"
      ],
      "metadata": {
        "id": "wWnlKU0yd3xu"
      },
      "execution_count": null,
      "outputs": []
    }
  ]
}