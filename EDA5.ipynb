{
  "nbformat": 4,
  "nbformat_minor": 0,
  "metadata": {
    "colab": {
      "private_outputs": true,
      "provenance": [],
      "authorship_tag": "ABX9TyOhbeOLVq6Nz7do0c0MccLX",
      "include_colab_link": true
    },
    "kernelspec": {
      "name": "python3",
      "display_name": "Python 3"
    },
    "language_info": {
      "name": "python"
    }
  },
  "cells": [
    {
      "cell_type": "markdown",
      "metadata": {
        "id": "view-in-github",
        "colab_type": "text"
      },
      "source": [
        "<a href=\"https://colab.research.google.com/github/bonillahermes/Data_Science_Projects/blob/main/EDA5.ipynb\" target=\"_parent\"><img src=\"https://colab.research.google.com/assets/colab-badge.svg\" alt=\"Open In Colab\"/></a>"
      ]
    },
    {
      "cell_type": "markdown",
      "source": [
        "# Hermes Yate Bonilla\n",
        "**Data Scientist**\n",
        "---\n",
        "\n",
        "**Contact:**\n",
        "- **Email:** [bonillahermes@gmail.com](mailto:bonillahermes@gmail.com)\n",
        "- **LinkedIn:** [linkedin.com/in/bonillahermes](https://www.linkedin.com/in/bonillahermes/)\n",
        "- **GitHub:** [github.com/bonillahermes](https://github.com/bonillahermes)\n",
        "- **Webpage:** [bonillahermes.com](https://bonillahermes.com/)\n",
        "---"
      ],
      "metadata": {
        "id": "WdGkKWkxGTCR"
      }
    },
    {
      "cell_type": "markdown",
      "source": [
        "# Aplicación de la Estadística en Estudios de Urbanismo"
      ],
      "metadata": {
        "id": "ZTv5aN2TqVSD"
      }
    },
    {
      "cell_type": "markdown",
      "source": [
        "Importación de librerías"
      ],
      "metadata": {
        "id": "VayFgJdevIUP"
      }
    },
    {
      "cell_type": "code",
      "source": [
        "pip install factor-analyzer"
      ],
      "metadata": {
        "id": "rtgldbSWM0OT"
      },
      "execution_count": null,
      "outputs": []
    },
    {
      "cell_type": "code",
      "execution_count": null,
      "metadata": {
        "id": "eGTsGuaT1yCX"
      },
      "outputs": [],
      "source": [
        "import pandas as pd\n",
        "import numpy as np\n",
        "import matplotlib.pyplot as plt\n",
        "import seaborn as sns\n",
        "from sklearn.model_selection import train_test_split\n",
        "from sklearn.linear_model import LogisticRegression\n",
        "from sklearn.metrics import classification_report, confusion_matrix\n",
        "from sklearn.decomposition import PCA\n",
        "from sklearn.preprocessing import StandardScaler\n",
        "from sklearn.impute import SimpleImputer\n",
        "from sklearn.cluster import KMeans\n",
        "from factor_analyzer import FactorAnalyzer"
      ]
    },
    {
      "cell_type": "code",
      "source": [
        "from google.colab import drive\n",
        "drive.mount('/content/drive')\n"
      ],
      "metadata": {
        "id": "_kJxDtSRVEF8"
      },
      "execution_count": null,
      "outputs": []
    },
    {
      "cell_type": "code",
      "source": [
        "# Ruta al archivo XLSX en Google Drive (proporciona la ruta correcta)\n",
        "archivo_xlsx = '/content/drive/My Drive/Bases/base.xlsx'\n",
        "\n",
        "# Leer el archivo XLSX en un DataFrame de pandas\n",
        "data = pd.read_excel(archivo_xlsx)\n"
      ],
      "metadata": {
        "id": "_yyWp2vJVGMT"
      },
      "execution_count": null,
      "outputs": []
    },
    {
      "cell_type": "code",
      "source": [
        "# Exploración inicial de los datos\n",
        "print(data.head())  # Muestra las primeras filas del DataFrame\n",
        "print(data.info())  # Muestra información sobre las columnas y los tipos de datos"
      ],
      "metadata": {
        "id": "Os03JqxB2nEi"
      },
      "execution_count": null,
      "outputs": []
    },
    {
      "cell_type": "markdown",
      "source": [
        "La estructura de la base de datos es la siguiente:\n",
        "\n",
        "**1. Demografía:**\n",
        "   - **Dirección:** La dirección de los encuestados.\n",
        "   - **Nivel de Educación:** El nivel educativo de los encuestados.\n",
        "   - **Edad:** La edad de los encuestados.\n",
        "   - **Género:** El género de los encuestados.\n",
        "   - **Evaluación Financiera Personal:** La percepción financiera personal de los encuestados.\n",
        "   - **Evaluación de Salud Personal:** La percepción de salud personal de los encuestados.\n",
        "   - **Dificultades Financieras:** Si los encuestados experimentan dificultades financieras.\n",
        "   - **Composición del Hogar:** Detalles sobre la composición del hogar de los encuestados.\n",
        "   - **Tamaño del Hogar:** El tamaño del hogar de los encuestados.\n",
        "   - **Tiempo en el Vecindario:** Cuánto tiempo han vivido en el vecindario.\n",
        "   - **Comunidad Identificada:** Si los encuestados se identifican con una comunidad en particular.\n",
        "\n",
        "**2. Atributos Ambientales Objetivos:**\n",
        "   - **Origen del Vecindario:** El origen del vecindario de los encuestados.\n",
        "   - **Tipo de Unidad:** El tipo de unidad de vivienda de los encuestados.\n",
        "\n",
        "**3. Satisfacción Residencial:**\n",
        "   - **Satisfacción con la Comunidad:** Nivel de satisfacción con la comunidad.\n",
        "   - **Satisfacción con la Unidad (Vivienda):** Nivel de satisfacción con la unidad de vivienda.\n",
        "   - **Satisfacción con el Vecindario:** Nivel de satisfacción con el vecindario.\n",
        "   - **Satisfacción con Relaciones Personales:** Nivel de satisfacción con las relaciones personales.\n",
        "   - **Satisfacción con el Equilibrio entre Trabajo y Vida Social:** Nivel de satisfacción con el equilibrio entre trabajo y vida social.\n",
        "   - **Satisfacción con la Sensación de Seguridad:** Nivel de satisfacción con la sensación de seguridad.\n",
        "\n",
        "**4. Sostenibilidad Social:**\n",
        "   - **Político:** Factores políticos relacionados con la sostenibilidad social.\n",
        "   - **Cultural:** Factores culturales relacionados con la sostenibilidad social.\n",
        "   - **Ecológico:** Factores ecológicos relacionados con la sostenibilidad social.\n",
        "   - **Económico:** Factores económicos relacionados con la sostenibilidad social.\n",
        "\n",
        "**5. Calidad Percibida de la Residencia:**\n",
        "   - **Espacial:** Percepción de aspectos espaciales del vecindario.\n",
        "   - **Humano:** Percepción de aspectos humanos y sociales del vecindario.\n",
        "   - **Funcional:** Percepción de la disponibilidad y calidad de servicios funcionales en el vecindario.\n",
        "   - **Contextual:** Percepción de factores contextuales y de salud ambiental en el vecindario.\n",
        "   - **Vinculación con el Vecindario:** Percepción de la vinculación de los residentes con el vecindario.\n",
        "\n"
      ],
      "metadata": {
        "id": "U6EuifoFruhJ"
      }
    },
    {
      "cell_type": "markdown",
      "source": [
        "## Descripción Aspecto Demográfico\n",
        "\n",
        "**Address**\n",
        "\n",
        "La variable \"D_Add\" es categórica, relacionada con la dirección física de los participantes.\n",
        "\n",
        "**Neighborhood origin**\n",
        "\n",
        "La variable \"OEA_NeOrig\" es binaria, sin una pregunta asociada, y con valores de 0 para \"Informal\" y 1 para \"Formal\". Se menciona que esta variable está predefinida por el proceso de selección del sitio para objetivos de la investigación. Esta es la variable objetivo.\n",
        "\n",
        "**Unit type**\n",
        "\n",
        "La variable \"OEA_UnType\" es categórica, relacionada con la descripción del tipo de vivienda de los encuestados. Toma valores entre 1 a 3. Los valores representan [It is an apartment, It is a house, Other].\n",
        "\n",
        "\n",
        "**Level of education**\n",
        "\n",
        "La variable \"D_LevEdu\" es categórica, relacionada con el nivel educativo alcanzado, con valores desde 1 a 7 que van desde \"No school\" hasta \"University Postgraduate\".\n",
        "\n",
        "**Age**\n",
        "\n",
        "La variable \"D_Age\" es categórica, toma valores de 1 a 10 y cada número representa un intervalo de edad [16-19, 20-29, 30-39, 40-49, 50-59, 60-69, 70-79, 80-89, 90+].\n",
        "\n",
        "**Gender**\n",
        "\n",
        "La variable \"D_Gen\" es binaria, relacionada con el género de los encuestados. Los valores son 0 para \"Male\" y 1 para \"Female\".\n",
        "\n",
        "**Financial self assessment**\n",
        "\n",
        "\n",
        "La variable \"D_FinSta\" es categórica, relacionada con la situación financiera de los hogares de los encuestados. Toma valores de 1 a 4. Los valores van desde \"Well-off\" (Acomodado) hasta \"Poverty stricken\" (En situación de pobreza).\n",
        "\n",
        "**Health self assessment**\n",
        "\n",
        "La variable \"D_HeaSta\" como categórica, relacionada con la percepción de la salud de los encuestados en comparación con personas de la misma edad. Toma valores de 1 a 4. Los valores van desde \"Generally good\" (Generalmente buena) hasta \"I don’t know\" (No lo sé).\n",
        "\n",
        "**Financial difficulties**\n",
        "\n",
        "La variable \"D_FinDiff\" como binaria, relacionada con la falta de dinero para atención médica en los últimos doce meses. Los valores son 0 para \"No\" (No) y 1 para \"Yes\" (Sí).\n",
        "\n",
        "**Household composition**\n",
        "\n",
        "La variable \"D_HouComp\" es categórica, relacionada con la composición del hogar de los encuestados. Toma valores entre 1 a 7. Los valores van desde \"Alone\" (Solo) hasta \"With extended family (including but going beyond parents and/or siblings)\" (Con familiares extendidos, incluyendo pero yendo más allá de padres y/o hermanos).\n",
        "\n",
        "**Household size**\n",
        "\n",
        "La variable \"D_HouSize\" es categórica, relacionada con el tamaño del hogar de los encuestados (cantidad de personas en el hogar). Toma valores entre 1 y 9. Los valores van desde \"1\" hasta \"More than 9\" (Más de 9).\n",
        "\n",
        "\n",
        "**Time in neighborhood**\n",
        "\n",
        "La variable \"D_TiNhood\" es categórica, relacionada con la cantidad de años que los encuestados han vivido en su localidad actual. Toma valores entre 1 a 6. Los valores representan [Less than a year, 1-5 years, 6-10 years, 11-20 years, 21-50 years, More than 51 years].\n",
        "\n",
        "**Identified community**\n",
        "\n",
        "La variable \"D_IdComm\" como categórica, relacionada con la identificación de la comunidad principal de los encuestados. Toma valores entre 1 a 6. Los valores representan diferentes opciones de identificación, como \"The place in which you live\" (El lugar en el que vives) o \"Your place of worship\" (Tu lugar de culto).\n"
      ],
      "metadata": {
        "id": "ZianMDZvu219"
      }
    },
    {
      "cell_type": "code",
      "source": [
        "# Variables de la categoría \"Demografía\"\n",
        "demographics_variables = ['OEA_UnType', 'D_LevEdu', 'D_Age', 'D_Gen', 'D_FinSta', 'D_HeaSta', 'D_FinDiff', 'D_HouComp', 'D_HouSize', 'D_TiNhood', 'D_IdComm']\n",
        "\n",
        "# Calcular estadísticas descriptivas\n",
        "demographics_stats = data[demographics_variables].describe()\n",
        "\n",
        "# Imprimir estadísticas descriptivas\n",
        "print(demographics_stats)"
      ],
      "metadata": {
        "id": "tI1IYhXNqSGd"
      },
      "execution_count": null,
      "outputs": []
    },
    {
      "cell_type": "code",
      "source": [
        "\n",
        "# Crear gráficos para variables categóricas y binarias\n",
        "for variable in ['OEA_NeOrig', 'OEA_UnType', 'D_Gen', 'D_FinSta', 'D_HeaSta', 'D_FinDiff']:\n",
        "    plt.figure(figsize=(8, 5))\n",
        "    data[variable].value_counts().plot(kind='pie', autopct='%1.1f%%', startangle=90)\n",
        "    plt.title(f'Distribución de {variable}')\n",
        "    plt.ylabel('')\n",
        "    plt.show()\n",
        "\n",
        "# Crear gráficos para variables numéricas\n",
        "for variable in ['D_LevEdu', 'D_Age', 'D_IdComm', 'D_HouComp', 'D_HouSize', 'D_TiNhood']:\n",
        "    plt.figure(figsize=(8, 5))\n",
        "    sns.histplot(data=data, x=variable, kde=True)\n",
        "    plt.title(f'Distribución de {variable}')\n",
        "    plt.xlabel(variable)\n",
        "    plt.ylabel('Frecuencia')\n",
        "    plt.show()\n"
      ],
      "metadata": {
        "id": "tn7SYmqfwpQZ"
      },
      "execution_count": null,
      "outputs": []
    },
    {
      "cell_type": "code",
      "source": [
        "# Variables de la categoría \"Demografía\" excluyendo 'OEA_UnType'\n",
        "demographics_variables2 = ['OEA_NeOrig', 'D_LevEdu', 'D_Age', 'D_Gen', 'D_FinSta', 'D_HeaSta', 'D_FinDiff', 'D_HouComp', 'D_HouSize', 'D_TiNhood', 'D_IdComm']\n",
        "\n",
        "# Calcular la matriz de correlación con el método de Spearman\n",
        "correlation_matrix = data[demographics_variables2].corr(method='spearman')\n",
        "\n",
        "# Crear la matriz de correlación como un mapa de calor\n",
        "plt.figure(figsize=(12, 8))\n",
        "sns.heatmap(correlation_matrix, annot=True, cmap='coolwarm', linewidths=0.5, fmt=\".2f\")\n",
        "plt.title('Matriz de Correlación (Spearman) - Demografía')\n",
        "plt.show()"
      ],
      "metadata": {
        "id": "gvQlFpnS3vY_"
      },
      "execution_count": null,
      "outputs": []
    },
    {
      "cell_type": "code",
      "source": [
        "from scipy.stats import kruskal\n",
        "import scipy.stats as stats\n",
        "\n",
        "# Crear una lista para almacenar los resultados\n",
        "results = []\n",
        "\n",
        "# Iterar sobre las variables de interés\n",
        "variables_of_interest = ['D_LevEdu', 'D_Age', 'D_Gen', 'D_FinSta', 'D_HeaSta', 'D_FinDiff', 'D_HouComp', 'D_HouSize', 'D_TiNhood', 'D_IdComm']\n",
        "for variable in variables_of_interest:\n",
        "    # Filtrar las filas sin NA's en la variable actual\n",
        "    data_filtered = data.dropna(subset=[variable])\n",
        "\n",
        "    # Crear listas de datos para cada grupo definido por 'OEA_NeOrig'\n",
        "    groups = [group[variable].values for name, group in data_filtered.groupby('OEA_NeOrig')]\n",
        "\n",
        "    # Realizar la prueba Kruskal-Wallis para la variable actual\n",
        "    statistic, p_value = stats.kruskal(*groups)\n",
        "\n",
        "    # Almacenar los resultados en la lista\n",
        "    results.append((variable, statistic, p_value))\n",
        "\n",
        "# Imprimir los resultados\n",
        "for variable, statistic, p_value in results:\n",
        "    print(f'Variable {variable} - Kruskal-Wallis Statistic: {statistic}')\n",
        "    print(f'Variable {variable} - p-value: {p_value}')\n"
      ],
      "metadata": {
        "id": "rGgQB5FM5czG"
      },
      "execution_count": null,
      "outputs": []
    },
    {
      "cell_type": "code",
      "source": [
        "# Configurar el estilo de seaborn\n",
        "sns.set_style(\"whitegrid\")\n",
        "\n",
        "# Iterar sobre las variables y crear boxplots separados\n",
        "for variable in variables_of_interest:\n",
        "    plt.figure(figsize=(8, 5))\n",
        "\n",
        "    # Crear un boxplot con estilo elegante\n",
        "    sns.boxplot(data=data, x='OEA_NeOrig', y=variable, palette=\"Set2\", notch=True)\n",
        "\n",
        "    plt.title(f'Boxplot de {variable} por grupos OEA_NeOrig')\n",
        "    plt.xlabel('OEA_NeOrig')\n",
        "    plt.ylabel(variable)\n",
        "    plt.xticks(rotation=45)\n",
        "\n",
        "    # Añadir líneas de estilo para un aspecto más profesional\n",
        "    sns.despine(left=True, bottom=True)\n",
        "\n",
        "    plt.show()\n",
        "\n"
      ],
      "metadata": {
        "id": "3fbVwqBq71nJ"
      },
      "execution_count": null,
      "outputs": []
    },
    {
      "cell_type": "markdown",
      "source": [
        "## Descripción Aspecto Satisfacción Residencial\n",
        "\n",
        "El aspecto de satisfacción residencial está determinado por las siguientes variables:\n",
        "\n",
        "**Satisfaction with community**\n",
        "\n",
        "La variable \"RS_SaCom\" es ordinal, relacionada con el nivel de satisfacción de los encuestados al ser parte de su comunidad. Los valores van desde \"Very Dissatisfied\" (Muy insatisfecho) hasta \"Very Satisfied\" (Muy satisfecho), con valores numéricos del 1 al 5.\n",
        "\n",
        "**Satisfaction with unit (dwelling unit)**\n",
        "\n",
        "La variable \"RS_SaUnit\" es ordinal, relacionada con el nivel de satisfacción de los encuestados con el lugar donde viven (casa, apartamento, habitación). Los valores van desde \"Very Dissatisfied\" (Muy insatisfecho) hasta \"Very Satisfied\" (Muy satisfecho), con valores numéricos del 1 al 5.\n",
        "\n",
        "**Satisfaction with neighborhood**\n",
        "\n",
        "La variable \"RS_SaNhood\" es ordinal, relacionada con el nivel de satisfacción de los encuestados con el entorno donde viven (vecindario). Los valores van desde \"Very Dissatisfied\" (Muy insatisfecho) hasta \"Very Satisfied\" (Muy satisfecho), con valores numéricos del 1 al 5.\n",
        "\n",
        "\n",
        "**Satisfaction with personal relationships**\n",
        "\n",
        "La variable \"RS_SaPeRe\" es ordinal, relacionada con el nivel de satisfacción de los encuestados con sus relaciones personales, incluyendo familiares, amigos y vecinos. Los valores van desde \"Very Dissatisfied\" (Muy insatisfecho) hasta \"Very Satisfied\" (Muy satisfecho), con valores numéricos del 1 al 5.\n",
        "\n",
        "**Satisfaction with work and social life balance**\n",
        "\n",
        "La variable \"RS_SaWoSoBa\" es ordinal, relacionada con el nivel de satisfacción de los encuestados con el equilibrio entre su trabajo y su vida social. Los valores van desde \"Very Dissatisfied\" (Muy insatisfecho) hasta \"Very Satisfied\" (Muy satisfecho), con valores numéricos del 1 al 5.\n",
        "\n",
        "**Satisfaction with feeling safe**\n",
        "\n",
        "La variable \"RS_SaSafe\" es ordinal, relacionada con el nivel de satisfacción de los encuestados con la sensación de seguridad que experimentan en su vida diaria. Los valores van desde \"Very Dissatisfied\" (Muy insatisfecho) hasta \"Very Satisfied\" (Muy satisfecho), con valores numéricos del 1 al 5.\n"
      ],
      "metadata": {
        "id": "IVW9QWmtwp2U"
      }
    },
    {
      "cell_type": "code",
      "source": [
        "# Variables de interés\n",
        "variables_rs = ['RS_SaCom', 'RS_SaUnit', 'RS_SaNhood', 'RS_SaPeRe', 'RS_SaWoSoBa', 'RS_SaSafe']\n",
        "\n",
        "# Estadísticos descriptivos\n",
        "descriptive_stats_rs = data[variables_rs].describe()\n",
        "print(descriptive_stats_rs)\n",
        "\n",
        "# Gráficos de distribución\n",
        "for variable in variables_rs:\n",
        "    plt.figure(figsize=(8, 5))\n",
        "    sns.histplot(data=data, x=variable, kde=True)\n",
        "    plt.title(f'Distribución de {variable}')\n",
        "    plt.xlabel(variable)\n",
        "    plt.ylabel('Frecuencia')\n",
        "    plt.show()\n",
        "\n",
        "# Matriz de correlación (incluyendo OEA_NeOrig)\n",
        "variables_corr = variables_rs + ['OEA_NeOrig']\n",
        "correlation_matrix_rs = data[variables_corr].corr(method='spearman')\n",
        "\n",
        "# Gráfica de matriz de correlación\n",
        "plt.figure(figsize=(10, 8))\n",
        "sns.heatmap(correlation_matrix_rs, annot=True, cmap='coolwarm', fmt=\".2f\")\n",
        "plt.title('Matriz de Correlación - Residential Satisfaction')\n",
        "plt.show()\n",
        "\n",
        "# Prueba Kruskal-Wallis agrupando por 'OEA_NeOrig'\n",
        "for variable in variables_rs:\n",
        "    statistic, p_value = stats.kruskal(*[group[variable] for name, group in data.groupby('OEA_NeOrig')], nan_policy='omit')\n",
        "    print(f'Variable: {variable}')\n",
        "    print(f'Kruskal-Wallis Statistic: {statistic}')\n",
        "    print(f'p-value: {p_value}')\n",
        "    print('---')\n",
        "\n",
        "# Boxplot por grupos 'OEA_NeOrig'\n",
        "for variable in variables_rs:\n",
        "    plt.figure(figsize=(10, 6))\n",
        "    sns.boxplot(data=data, x='OEA_NeOrig', y=variable, palette='Set2', notch=True)\n",
        "    plt.title(f'Boxplot de {variable}')\n",
        "    plt.xlabel('OEA_NeOrig')\n",
        "    plt.ylabel(variable)\n",
        "    plt.xticks(rotation=45)\n",
        "    sns.despine(left=True, bottom=True)\n",
        "    plt.show()\n"
      ],
      "metadata": {
        "id": "4MhmMNc0_QS7"
      },
      "execution_count": null,
      "outputs": []
    },
    {
      "cell_type": "code",
      "source": [
        "# Seleccionar las variables de satisfacción residencial\n",
        "selected_cols = ['RS_SaCom', 'RS_SaUnit', 'RS_SaNhood', 'RS_SaPeRe', 'RS_SaWoSoBa', 'RS_SaSafe']\n",
        "X = data[selected_cols]\n",
        "\n",
        "# Crear un imputador que use la mediana para reemplazar los valores faltantes\n",
        "imputer = SimpleImputer(strategy='median')\n",
        "\n",
        "# Imputar valores faltantes en X\n",
        "X_imputed = imputer.fit_transform(X)\n",
        "\n",
        "# Normalizar los datos\n",
        "scaler = StandardScaler()\n",
        "X_normalized = scaler.fit_transform(X_imputed)\n",
        "\n",
        "# Elegir el número óptimo de clústeres utilizando el método del codo\n",
        "inertia = []\n",
        "for i in range(1, 11):\n",
        "    kmeans = KMeans(n_clusters=i, random_state=0)\n",
        "    kmeans.fit(X_normalized)\n",
        "    inertia.append(kmeans.inertia_)\n",
        "\n",
        "# Graficar el método del codo\n",
        "plt.figure(figsize=(8, 6))\n",
        "plt.plot(range(1, 11), inertia, marker='o', linestyle='--')\n",
        "plt.xlabel('Número de Clústeres')\n",
        "plt.ylabel('Inertia')\n",
        "plt.title('Gráfica de Codo')\n",
        "plt.show()\n",
        "\n",
        "# Basado en el gráfico del método del codo, se elige un número óptimo de clústeres\n",
        "n_clusters = 2\n",
        "\n",
        "# Aplicar K-Means con el número óptimo de clústeres\n",
        "kmeans = KMeans(n_clusters=n_clusters, random_state=0)\n",
        "clusters = kmeans.fit_predict(X_normalized)\n",
        "\n",
        "# Reducir la dimensionalidad para visualizar en 2D usando PCA\n",
        "pca = PCA(n_components=2)\n",
        "X_pca = pca.fit_transform(X_normalized)\n",
        "\n",
        "# Crear un DataFrame con los resultados del clustering\n",
        "clustered_data = pd.DataFrame({'Cluster': clusters, 'PCA1': X_pca[:, 0], 'PCA2': X_pca[:, 1]})\n",
        "\n",
        "# Graficar los resultados del clustering en 2D\n",
        "plt.figure(figsize=(10, 8))\n",
        "plt.scatter(clustered_data['PCA1'], clustered_data['PCA2'], c=clustered_data['Cluster'], cmap='viridis')\n",
        "plt.xlabel('PCA1')\n",
        "plt.ylabel('PCA2')\n",
        "plt.title('Clustering')\n",
        "plt.show()"
      ],
      "metadata": {
        "id": "Tw6_VZJUIRtC"
      },
      "execution_count": null,
      "outputs": []
    },
    {
      "cell_type": "code",
      "source": [
        "# Añadimos esta información a tus datos originales.\n",
        "data['Cluster'] = clusters\n",
        "\n",
        "# Selecciona las características de satisfacción residencial\n",
        "selected_cols = ['RS_SaCom', 'RS_SaUnit', 'RS_SaNhood', 'RS_SaPeRe', 'RS_SaWoSoBa', 'RS_SaSafe']\n",
        "\n",
        "# Reinicia el índice de data\n",
        "data = data.reset_index(drop=True)\n",
        "\n",
        "# Calcula la media para cada característica dentro de cada cluster\n",
        "cluster_means = data.groupby('Cluster')[selected_cols].mean()\n",
        "\n",
        "# Calcula la mediana para cada característica dentro de cada cluster\n",
        "cluster_medians = data.groupby('Cluster')[selected_cols].median()\n",
        "\n",
        "# Muestra los resultados\n",
        "print(\"Media de características por cluster:\")\n",
        "print(cluster_means)\n",
        "\n",
        "print(\"\\nMediana de características por cluster:\")\n",
        "print(cluster_medians)\n",
        "\n"
      ],
      "metadata": {
        "id": "CnoZFwa2KjCd"
      },
      "execution_count": null,
      "outputs": []
    },
    {
      "cell_type": "code",
      "source": [
        "# Selecciona las variables relevantes para el análisis\n",
        "selected_cols = ['RS_SaCom', 'RS_SaUnit', 'RS_SaNhood', 'RS_SaPeRe', 'RS_SaWoSoBa', 'RS_SaSafe']\n",
        "X = data[selected_cols]\n",
        "\n",
        "# Imputa los valores faltantes con la mediana de cada variable\n",
        "imputer = SimpleImputer(strategy='median')\n",
        "X_imputed = imputer.fit_transform(X)\n",
        "\n",
        "# Inicializa y ajusta el modelo de análisis factorial\n",
        "n_factors = 5\n",
        "fa = FactorAnalyzer(n_factors, rotation='varimax')\n",
        "fa.fit(X_imputed)\n",
        "\n",
        "# Calcula las cargas factoriales para cada variable\n",
        "loadings = fa.loadings_\n",
        "\n",
        "# Visualiza las cargas factoriales\n",
        "plt.figure(figsize=(10, 6))\n",
        "plt.bar(range(len(selected_cols)), loadings[:, 0], tick_label=selected_cols, label='Factor 1')\n",
        "plt.bar(range(len(selected_cols)), loadings[:, 1], tick_label=selected_cols, label='Factor 2')\n",
        "plt.xlabel('Variables')\n",
        "plt.ylabel('Cargas Factoriales')\n",
        "plt.title('Cargas Factoriales por Variable')\n",
        "plt.legend()\n",
        "plt.xticks(rotation=45)\n",
        "plt.show()\n",
        "\n",
        "# Obtiene la varianza explicada por cada factor\n",
        "explained_variance = fa.get_factor_variance()\n",
        "print(\"Varianza explicada por cada factor:\", explained_variance)\n"
      ],
      "metadata": {
        "id": "GxkhKgcVL9iX"
      },
      "execution_count": null,
      "outputs": []
    },
    {
      "cell_type": "code",
      "source": [
        "# Crear un objeto FactorAnalyzer con 3 factores\n",
        "fa = FactorAnalyzer(n_factors=2, rotation='Varimax')  # Puedes ajustar la rotación según sea necesario\n",
        "\n",
        "# Ajustar el modelo de análisis factorial a tus datos\n",
        "fa.fit(X)  # X es tu matriz de datos con las variables de satisfacción residencial\n",
        "\n",
        "# Obtener las cargas factoriales\n",
        "loadings = fa.loadings_\n",
        "\n",
        "# Crear un DataFrame para visualizar las cargas factoriales\n",
        "loadings_df = pd.DataFrame(loadings, index=X.columns, columns=['Factor 1', 'Factor 2'])\n",
        "\n",
        "# Mostrar las cargas factoriales\n",
        "print(loadings_df)\n"
      ],
      "metadata": {
        "id": "oxlRJ9KCMET4"
      },
      "execution_count": null,
      "outputs": []
    },
    {
      "cell_type": "markdown",
      "source": [
        "## Tercer Aspecto"
      ],
      "metadata": {
        "id": "Zuov4mck-GLo"
      }
    },
    {
      "cell_type": "code",
      "source": [
        "# Selecciona las columnas relevantes desde 'D_LevEdu' hasta 'PRQ_Integrated'\n",
        "selected_columns = data.loc[:, 'D_LevEdu':'PRQ_Integrated']\n",
        "\n",
        "# Imputa los valores faltantes\n",
        "imputer = SimpleImputer(strategy='median')  # Puedes cambiar la estrategia según tus necesidades\n",
        "selected_columns_imputed = imputer.fit_transform(selected_columns)\n",
        "\n",
        "# Estandariza los datos\n",
        "scaler = StandardScaler()\n",
        "selected_columns_std = scaler.fit_transform(selected_columns_imputed)\n",
        "\n",
        "# Aplica PCA\n",
        "pca = PCA(n_components=8)  # Puedes ajustar el número de componentes según tus necesidades\n",
        "principal_components = pca.fit_transform(selected_columns_std)"
      ],
      "metadata": {
        "id": "-rCptaaJK43O"
      },
      "execution_count": null,
      "outputs": []
    },
    {
      "cell_type": "code",
      "source": [
        "# Accede a la información de los componentes\n",
        "components = pca.components_  # Vectores de componentes principales\n",
        "explained_variance = pca.explained_variance_  # Varianza explicada por cada componente\n",
        "explained_variance_ratio = pca.explained_variance_ratio_  # Proporción de varianza explicada por cada componente\n",
        "\n",
        "# Puedes imprimir o usar esta información según tus necesidades\n",
        "print(\"Vectores de componentes principales:\")\n",
        "print(components)\n",
        "\n",
        "print(\"\\nVarianza explicada por cada componente:\")\n",
        "print(explained_variance)\n",
        "\n",
        "print(\"\\nProporción de varianza explicada por cada componente:\")\n",
        "print(explained_variance_ratio)"
      ],
      "metadata": {
        "id": "5mCPHKfxMST9"
      },
      "execution_count": null,
      "outputs": []
    },
    {
      "cell_type": "code",
      "source": [
        "cov_matrix = np.cov(selected_columns_imputed, rowvar=False)\n",
        "\n",
        "# Calcular los valores propios y vectores propios\n",
        "eigenvalues, eigenvectors = np.linalg.eig(cov_matrix)\n",
        "\n",
        "# Obtener los índices de los valores propios ordenados de mayor a menor\n",
        "sorted_indices = np.argsort(eigenvalues)[::-1]\n",
        "\n",
        "# Ordenar los valores propios y los vectores propios en función de los índices\n",
        "sorted_eigenvalues = eigenvalues[sorted_indices]\n",
        "sorted_eigenvectors = eigenvectors[:, sorted_indices]\n",
        "\n",
        "# La matriz de carga es simplemente la matriz de vectores propios ordenados\n",
        "loading_matrix = sorted_eigenvectors\n",
        "loading_matrix"
      ],
      "metadata": {
        "id": "r91t1dspQwsI"
      },
      "execution_count": null,
      "outputs": []
    },
    {
      "cell_type": "code",
      "source": [
        "# Histogramas para variables de satisfacción\n",
        "data[['RS_SaCom', 'RS_SaUnit', 'RS_SaNhood', 'RS_SaPeRe', 'RS_SaWoSoBa', 'RS_SaSafe']].hist(figsize=(12, 8))\n",
        "plt.show()"
      ],
      "metadata": {
        "id": "0aaI90sI4cig"
      },
      "execution_count": null,
      "outputs": []
    },
    {
      "cell_type": "code",
      "source": [
        "# Análisis de correlación\n",
        "correlation_matrix = data[['RS_SaCom', 'RS_SaUnit', 'RS_SaNhood', 'RS_SaPeRe', 'RS_SaWoSoBa', 'RS_SaSafe', 'OEA_NeOrig']].corr()\n",
        "\n",
        "# Visualización de la matriz de correlación\n",
        "import seaborn as sns\n",
        "plt.figure(figsize=(10, 8))\n",
        "sns.heatmap(correlation_matrix, annot=True, cmap='coolwarm', fmt=\".2f\")\n",
        "plt.show()\n"
      ],
      "metadata": {
        "id": "YLbnimZE4jxw"
      },
      "execution_count": null,
      "outputs": []
    },
    {
      "cell_type": "code",
      "source": [
        "import statsmodels.api as sm\n",
        "from statsmodels.formula.api import ols\n",
        "\n",
        "# Realizar un ANOVA para la satisfacción comunitaria (RS_SaCom) en función del origen del barrio (OEA_NeOrig)\n",
        "model = ols('RS_SaCom ~ C(OEA_NeOrig)', data=data).fit()\n",
        "anova_table = sm.stats.anova_lm(model, typ=2)\n",
        "\n",
        "# Imprimir la tabla ANOVA\n",
        "print(anova_table)\n"
      ],
      "metadata": {
        "id": "lunAyBlP6dJ8"
      },
      "execution_count": null,
      "outputs": []
    },
    {
      "cell_type": "code",
      "source": [
        "import pandas as pd\n",
        "import seaborn as sns\n",
        "import matplotlib.pyplot as plt\n",
        "\n",
        "# Cargar los datos desde el archivo Excel\n",
        "data = pd.read_excel('base.xlsx')\n",
        "\n",
        "# Lista de variables de satisfacción residencial\n",
        "satisfaction_vars = ['RS_SaCom', 'RS_SaUnit', 'RS_SaNhood', 'RS_SaPeRe', 'RS_SaWoSoBa', 'RS_SaSafe']\n",
        "\n",
        "# Crear un subplot para cada variable de satisfacción\n",
        "plt.figure(figsize=(15, 10))\n",
        "for i, var in enumerate(satisfaction_vars, 1):\n",
        "    plt.subplot(2, 3, i)\n",
        "    sns.boxplot(x='OEA_NeOrig', y=var, data=data)\n",
        "    plt.title(f'Boxplot de {var} por Origen del Barrio')\n",
        "    plt.xlabel('Origen del Barrio (OEA_NeOrig)')\n",
        "    plt.ylabel(var)\n",
        "\n",
        "# Ajustar la disposición de los subplots\n",
        "plt.tight_layout()\n",
        "\n",
        "# Mostrar el gráfico\n",
        "plt.show()"
      ],
      "metadata": {
        "id": "GCvPrWG16yHA"
      },
      "execution_count": null,
      "outputs": []
    },
    {
      "cell_type": "code",
      "source": [
        "import pandas as pd\n",
        "from sklearn.preprocessing import StandardScaler\n",
        "from sklearn.impute import SimpleImputer\n",
        "from sklearn.decomposition import PCA\n",
        "import matplotlib.pyplot as plt\n",
        "\n",
        "# Cargar tus datos desde el archivo base.xlsx\n",
        "data = pd.read_excel('base.xlsx')\n",
        "\n",
        "# Extraer las variables relevantes para el análisis de componentes principales\n",
        "# En este caso, utilizaremos las variables de satisfacción residencial\n",
        "residential_satisfaction_vars = [\n",
        "    'RS_SaCom', 'RS_SaUnit', 'RS_SaNhood',\n",
        "    'RS_SaPeRe', 'RS_SaWoSoBa', 'RS_SaSafe'\n",
        "]\n",
        "\n",
        "X = data[residential_satisfaction_vars]\n",
        "\n",
        "# Imputar valores faltantes con la media de la columna\n",
        "imputer = SimpleImputer(strategy='mean')\n",
        "X_imputed = imputer.fit_transform(X)\n",
        "\n",
        "# Escalar los datos para que tengan media cero y varianza unitaria\n",
        "scaler = StandardScaler()\n",
        "X_scaled = scaler.fit_transform(X_imputed)\n",
        "\n",
        "# Realizar el PCA\n",
        "pca = PCA()\n",
        "principal_components = pca.fit_transform(X_scaled)\n",
        "\n",
        "# Crear un DataFrame para los componentes principales\n",
        "components_df = pd.DataFrame(data=principal_components, columns=[f'PC{i+1}' for i in range(X_scaled.shape[1])])\n",
        "\n",
        "# Agregar la variable objetivo OEA_NeOrig\n",
        "components_df['OEA_NeOrig'] = data['OEA_NeOrig']\n",
        "\n",
        "# Visualizar la varianza explicada por cada componente principal\n",
        "explained_variance_ratio = pca.explained_variance_ratio_\n",
        "plt.bar(range(1, len(explained_variance_ratio) + 1), explained_variance_ratio)\n",
        "plt.xlabel('Componente Principal')\n",
        "plt.ylabel('Varianza Explicada')\n",
        "plt.title('Varianza Explicada por Componente Principal')\n",
        "plt.show()\n",
        "\n",
        "# Mostrar estadísticas del PCA\n",
        "print(\"Varianza explicada por cada componente principal:\")\n",
        "for i, ratio in enumerate(explained_variance_ratio, 1):\n",
        "    print(f\"PC{i}: {ratio:.4f}\")\n",
        "\n"
      ],
      "metadata": {
        "id": "Cuf_riYTZ_4S"
      },
      "execution_count": null,
      "outputs": []
    },
    {
      "cell_type": "code",
      "source": [
        "# Obtener los cargos de características de los componentes principales\n",
        "componentes = pca.components_\n",
        "\n",
        "# Crear un DataFrame para visualizar los cargos\n",
        "cargas_df = pd.DataFrame(componentes, columns=X.columns)\n",
        "\n",
        "# Ver los cargos de características para cada componente principal\n",
        "print(cargas_df)\n"
      ],
      "metadata": {
        "id": "OIngS_tZbGMb"
      },
      "execution_count": null,
      "outputs": []
    }
  ]
}